{
  "nbformat": 4,
  "nbformat_minor": 0,
  "metadata": {
    "colab": {
      "provenance": [],
      "include_colab_link": true
    },
    "kernelspec": {
      "name": "python3",
      "display_name": "Python 3"
    }
  },
  "cells": [
    {
      "cell_type": "markdown",
      "metadata": {
        "id": "view-in-github",
        "colab_type": "text"
      },
      "source": [
        "<a href=\"https://colab.research.google.com/github/eduzegarra/grade_01/blob/main/proyecto_papa.ipynb\" target=\"_parent\"><img src=\"https://colab.research.google.com/assets/colab-badge.svg\" alt=\"Open In Colab\"/></a>"
      ]
    },
    {
      "cell_type": "markdown",
      "metadata": {
        "id": "yg9Q9HZ7KQxe"
      },
      "source": [
        "# **Proyecto Papa Sostenible**\n"
      ]
    },
    {
      "cell_type": "markdown",
      "metadata": {
        "id": "B26euJKsNP68"
      },
      "source": [
        "## Librerías externas necesarias"
      ]
    },
    {
      "cell_type": "code",
      "metadata": {
        "id": "Szi61mHXNTJ2"
      },
      "source": [
        "import pandas as pd\n",
        "import numpy as np\n",
        "import matplotlib.pyplot as plt"
      ],
      "execution_count": null,
      "outputs": []
    },
    {
      "cell_type": "markdown",
      "source": [
        "## **1. Lectura e integración de base de datos**"
      ],
      "metadata": {
        "id": "z8K6bNd-uDSU"
      }
    },
    {
      "cell_type": "markdown",
      "metadata": {
        "id": "ASYnymx7NFBg"
      },
      "source": [
        "## Montar el drive para leer base de datos de Drive Personal"
      ]
    },
    {
      "cell_type": "code",
      "source": [
        "from google.colab import drive\n",
        "drive.mount('/content/drive')"
      ],
      "metadata": {
        "id": "pfCl2IAlgaZS",
        "outputId": "2f20876f-7898-4f2b-eb75-53a3ad3634b4",
        "colab": {
          "base_uri": "https://localhost:8080/"
        }
      },
      "execution_count": null,
      "outputs": [
        {
          "output_type": "stream",
          "name": "stdout",
          "text": [
            "Mounted at /content/drive\n"
          ]
        }
      ]
    },
    {
      "cell_type": "markdown",
      "source": [
        "## Lectura de base de datos original en Excel"
      ],
      "metadata": {
        "id": "Vrho2zlQs0vZ"
      }
    },
    {
      "cell_type": "code",
      "metadata": {
        "id": "s1vpFKxaUwqD"
      },
      "source": [
        "ruta = 'drive/My Drive/ML/'"
      ],
      "execution_count": null,
      "outputs": []
    },
    {
      "cell_type": "markdown",
      "source": [
        "### Leemos primer libro del archivo Excel (volumen) asignado a objeto \"vol\""
      ],
      "metadata": {
        "id": "M6DW4sWCvSx5"
      }
    },
    {
      "cell_type": "code",
      "metadata": {
        "id": "NRgAostfKJOR",
        "outputId": "9a99cadf-3dfe-48b3-de91-9056e916dc3b",
        "colab": {
          "base_uri": "https://localhost:8080/",
          "height": 661
        }
      },
      "source": [
        "vol = pd.read_excel(ruta + 'base_completa_1997_2021.xls', sheet_name='volumen')\n",
        "vol"
      ],
      "execution_count": 97,
      "outputs": [
        {
          "output_type": "execute_result",
          "data": {
            "text/plain": [
              "           producto  year           Variable     m_1     m_2     m_3    m_4  \\\n",
              "0     Papa Amarilla  1997            Abancay     NaN     NaN     NaN    NaN   \n",
              "1     Papa Amarilla  1997               Ambo   97.80    30.0    26.4   12.0   \n",
              "2     Papa Amarilla  1997        Andahuaylas     NaN     NaN     NaN    NaN   \n",
              "3     Papa Amarilla  1997           Arequipa     NaN    14.4     NaN    NaN   \n",
              "4     Papa Amarilla  1997             Ascope   15.48     NaN     NaN    NaN   \n",
              "...             ...   ...                ...     ...     ...     ...    ...   \n",
              "4205    Papa Yungay  2021              Pasco   76.00   104.0   228.0  308.0   \n",
              "4206    Papa Yungay  2021    Sanchez Carrion     NaN    29.0   243.0  250.0   \n",
              "4207    Papa Yungay  2021  Santiago De Chuco     NaN    57.0    20.0  118.0   \n",
              "4208    Papa Yungay  2021              Tarma  897.00  1436.0  1012.0  995.0   \n",
              "4209    Papa Yungay  2021           Tayacaja   18.00     NaN    42.0   60.0   \n",
              "\n",
              "        m_5  m_6   m_7   m_8  m_9   m_10   m_11  m_12  \n",
              "0       NaN  NaN  16.8  22.2  NaN    NaN    NaN   NaN  \n",
              "1       NaN  NaN   NaN   NaN  NaN  10.56  10.60  51.9  \n",
              "2       NaN  NaN  89.4  87.0  NaN  96.12  20.16   NaN  \n",
              "3       NaN  NaN   NaN   NaN  NaN    NaN    NaN   NaN  \n",
              "4       NaN  NaN   NaN   NaN  NaN    NaN    NaN   NaN  \n",
              "...     ...  ...   ...   ...  ...    ...    ...   ...  \n",
              "4205   63.0  NaN   NaN   NaN  NaN    NaN    NaN   NaN  \n",
              "4206   15.0  NaN   NaN   NaN  NaN    NaN    NaN   NaN  \n",
              "4207   35.0  NaN   NaN   NaN  NaN    NaN    NaN   NaN  \n",
              "4208  256.0  NaN   NaN   NaN  NaN    NaN    NaN   NaN  \n",
              "4209    NaN  NaN   NaN   NaN  NaN    NaN    NaN   NaN  \n",
              "\n",
              "[4210 rows x 15 columns]"
            ],
            "text/html": [
              "\n",
              "  <div id=\"df-7b06df9d-07bf-4989-8aff-79b7a1166fd8\">\n",
              "    <div class=\"colab-df-container\">\n",
              "      <div>\n",
              "<style scoped>\n",
              "    .dataframe tbody tr th:only-of-type {\n",
              "        vertical-align: middle;\n",
              "    }\n",
              "\n",
              "    .dataframe tbody tr th {\n",
              "        vertical-align: top;\n",
              "    }\n",
              "\n",
              "    .dataframe thead th {\n",
              "        text-align: right;\n",
              "    }\n",
              "</style>\n",
              "<table border=\"1\" class=\"dataframe\">\n",
              "  <thead>\n",
              "    <tr style=\"text-align: right;\">\n",
              "      <th></th>\n",
              "      <th>producto</th>\n",
              "      <th>year</th>\n",
              "      <th>Variable</th>\n",
              "      <th>m_1</th>\n",
              "      <th>m_2</th>\n",
              "      <th>m_3</th>\n",
              "      <th>m_4</th>\n",
              "      <th>m_5</th>\n",
              "      <th>m_6</th>\n",
              "      <th>m_7</th>\n",
              "      <th>m_8</th>\n",
              "      <th>m_9</th>\n",
              "      <th>m_10</th>\n",
              "      <th>m_11</th>\n",
              "      <th>m_12</th>\n",
              "    </tr>\n",
              "  </thead>\n",
              "  <tbody>\n",
              "    <tr>\n",
              "      <th>0</th>\n",
              "      <td>Papa Amarilla</td>\n",
              "      <td>1997</td>\n",
              "      <td>Abancay</td>\n",
              "      <td>NaN</td>\n",
              "      <td>NaN</td>\n",
              "      <td>NaN</td>\n",
              "      <td>NaN</td>\n",
              "      <td>NaN</td>\n",
              "      <td>NaN</td>\n",
              "      <td>16.8</td>\n",
              "      <td>22.2</td>\n",
              "      <td>NaN</td>\n",
              "      <td>NaN</td>\n",
              "      <td>NaN</td>\n",
              "      <td>NaN</td>\n",
              "    </tr>\n",
              "    <tr>\n",
              "      <th>1</th>\n",
              "      <td>Papa Amarilla</td>\n",
              "      <td>1997</td>\n",
              "      <td>Ambo</td>\n",
              "      <td>97.80</td>\n",
              "      <td>30.0</td>\n",
              "      <td>26.4</td>\n",
              "      <td>12.0</td>\n",
              "      <td>NaN</td>\n",
              "      <td>NaN</td>\n",
              "      <td>NaN</td>\n",
              "      <td>NaN</td>\n",
              "      <td>NaN</td>\n",
              "      <td>10.56</td>\n",
              "      <td>10.60</td>\n",
              "      <td>51.9</td>\n",
              "    </tr>\n",
              "    <tr>\n",
              "      <th>2</th>\n",
              "      <td>Papa Amarilla</td>\n",
              "      <td>1997</td>\n",
              "      <td>Andahuaylas</td>\n",
              "      <td>NaN</td>\n",
              "      <td>NaN</td>\n",
              "      <td>NaN</td>\n",
              "      <td>NaN</td>\n",
              "      <td>NaN</td>\n",
              "      <td>NaN</td>\n",
              "      <td>89.4</td>\n",
              "      <td>87.0</td>\n",
              "      <td>NaN</td>\n",
              "      <td>96.12</td>\n",
              "      <td>20.16</td>\n",
              "      <td>NaN</td>\n",
              "    </tr>\n",
              "    <tr>\n",
              "      <th>3</th>\n",
              "      <td>Papa Amarilla</td>\n",
              "      <td>1997</td>\n",
              "      <td>Arequipa</td>\n",
              "      <td>NaN</td>\n",
              "      <td>14.4</td>\n",
              "      <td>NaN</td>\n",
              "      <td>NaN</td>\n",
              "      <td>NaN</td>\n",
              "      <td>NaN</td>\n",
              "      <td>NaN</td>\n",
              "      <td>NaN</td>\n",
              "      <td>NaN</td>\n",
              "      <td>NaN</td>\n",
              "      <td>NaN</td>\n",
              "      <td>NaN</td>\n",
              "    </tr>\n",
              "    <tr>\n",
              "      <th>4</th>\n",
              "      <td>Papa Amarilla</td>\n",
              "      <td>1997</td>\n",
              "      <td>Ascope</td>\n",
              "      <td>15.48</td>\n",
              "      <td>NaN</td>\n",
              "      <td>NaN</td>\n",
              "      <td>NaN</td>\n",
              "      <td>NaN</td>\n",
              "      <td>NaN</td>\n",
              "      <td>NaN</td>\n",
              "      <td>NaN</td>\n",
              "      <td>NaN</td>\n",
              "      <td>NaN</td>\n",
              "      <td>NaN</td>\n",
              "      <td>NaN</td>\n",
              "    </tr>\n",
              "    <tr>\n",
              "      <th>...</th>\n",
              "      <td>...</td>\n",
              "      <td>...</td>\n",
              "      <td>...</td>\n",
              "      <td>...</td>\n",
              "      <td>...</td>\n",
              "      <td>...</td>\n",
              "      <td>...</td>\n",
              "      <td>...</td>\n",
              "      <td>...</td>\n",
              "      <td>...</td>\n",
              "      <td>...</td>\n",
              "      <td>...</td>\n",
              "      <td>...</td>\n",
              "      <td>...</td>\n",
              "      <td>...</td>\n",
              "    </tr>\n",
              "    <tr>\n",
              "      <th>4205</th>\n",
              "      <td>Papa Yungay</td>\n",
              "      <td>2021</td>\n",
              "      <td>Pasco</td>\n",
              "      <td>76.00</td>\n",
              "      <td>104.0</td>\n",
              "      <td>228.0</td>\n",
              "      <td>308.0</td>\n",
              "      <td>63.0</td>\n",
              "      <td>NaN</td>\n",
              "      <td>NaN</td>\n",
              "      <td>NaN</td>\n",
              "      <td>NaN</td>\n",
              "      <td>NaN</td>\n",
              "      <td>NaN</td>\n",
              "      <td>NaN</td>\n",
              "    </tr>\n",
              "    <tr>\n",
              "      <th>4206</th>\n",
              "      <td>Papa Yungay</td>\n",
              "      <td>2021</td>\n",
              "      <td>Sanchez Carrion</td>\n",
              "      <td>NaN</td>\n",
              "      <td>29.0</td>\n",
              "      <td>243.0</td>\n",
              "      <td>250.0</td>\n",
              "      <td>15.0</td>\n",
              "      <td>NaN</td>\n",
              "      <td>NaN</td>\n",
              "      <td>NaN</td>\n",
              "      <td>NaN</td>\n",
              "      <td>NaN</td>\n",
              "      <td>NaN</td>\n",
              "      <td>NaN</td>\n",
              "    </tr>\n",
              "    <tr>\n",
              "      <th>4207</th>\n",
              "      <td>Papa Yungay</td>\n",
              "      <td>2021</td>\n",
              "      <td>Santiago De Chuco</td>\n",
              "      <td>NaN</td>\n",
              "      <td>57.0</td>\n",
              "      <td>20.0</td>\n",
              "      <td>118.0</td>\n",
              "      <td>35.0</td>\n",
              "      <td>NaN</td>\n",
              "      <td>NaN</td>\n",
              "      <td>NaN</td>\n",
              "      <td>NaN</td>\n",
              "      <td>NaN</td>\n",
              "      <td>NaN</td>\n",
              "      <td>NaN</td>\n",
              "    </tr>\n",
              "    <tr>\n",
              "      <th>4208</th>\n",
              "      <td>Papa Yungay</td>\n",
              "      <td>2021</td>\n",
              "      <td>Tarma</td>\n",
              "      <td>897.00</td>\n",
              "      <td>1436.0</td>\n",
              "      <td>1012.0</td>\n",
              "      <td>995.0</td>\n",
              "      <td>256.0</td>\n",
              "      <td>NaN</td>\n",
              "      <td>NaN</td>\n",
              "      <td>NaN</td>\n",
              "      <td>NaN</td>\n",
              "      <td>NaN</td>\n",
              "      <td>NaN</td>\n",
              "      <td>NaN</td>\n",
              "    </tr>\n",
              "    <tr>\n",
              "      <th>4209</th>\n",
              "      <td>Papa Yungay</td>\n",
              "      <td>2021</td>\n",
              "      <td>Tayacaja</td>\n",
              "      <td>18.00</td>\n",
              "      <td>NaN</td>\n",
              "      <td>42.0</td>\n",
              "      <td>60.0</td>\n",
              "      <td>NaN</td>\n",
              "      <td>NaN</td>\n",
              "      <td>NaN</td>\n",
              "      <td>NaN</td>\n",
              "      <td>NaN</td>\n",
              "      <td>NaN</td>\n",
              "      <td>NaN</td>\n",
              "      <td>NaN</td>\n",
              "    </tr>\n",
              "  </tbody>\n",
              "</table>\n",
              "<p>4210 rows × 15 columns</p>\n",
              "</div>\n",
              "      <button class=\"colab-df-convert\" onclick=\"convertToInteractive('df-7b06df9d-07bf-4989-8aff-79b7a1166fd8')\"\n",
              "              title=\"Convert this dataframe to an interactive table.\"\n",
              "              style=\"display:none;\">\n",
              "        \n",
              "  <svg xmlns=\"http://www.w3.org/2000/svg\" height=\"24px\"viewBox=\"0 0 24 24\"\n",
              "       width=\"24px\">\n",
              "    <path d=\"M0 0h24v24H0V0z\" fill=\"none\"/>\n",
              "    <path d=\"M18.56 5.44l.94 2.06.94-2.06 2.06-.94-2.06-.94-.94-2.06-.94 2.06-2.06.94zm-11 1L8.5 8.5l.94-2.06 2.06-.94-2.06-.94L8.5 2.5l-.94 2.06-2.06.94zm10 10l.94 2.06.94-2.06 2.06-.94-2.06-.94-.94-2.06-.94 2.06-2.06.94z\"/><path d=\"M17.41 7.96l-1.37-1.37c-.4-.4-.92-.59-1.43-.59-.52 0-1.04.2-1.43.59L10.3 9.45l-7.72 7.72c-.78.78-.78 2.05 0 2.83L4 21.41c.39.39.9.59 1.41.59.51 0 1.02-.2 1.41-.59l7.78-7.78 2.81-2.81c.8-.78.8-2.07 0-2.86zM5.41 20L4 18.59l7.72-7.72 1.47 1.35L5.41 20z\"/>\n",
              "  </svg>\n",
              "      </button>\n",
              "      \n",
              "  <style>\n",
              "    .colab-df-container {\n",
              "      display:flex;\n",
              "      flex-wrap:wrap;\n",
              "      gap: 12px;\n",
              "    }\n",
              "\n",
              "    .colab-df-convert {\n",
              "      background-color: #E8F0FE;\n",
              "      border: none;\n",
              "      border-radius: 50%;\n",
              "      cursor: pointer;\n",
              "      display: none;\n",
              "      fill: #1967D2;\n",
              "      height: 32px;\n",
              "      padding: 0 0 0 0;\n",
              "      width: 32px;\n",
              "    }\n",
              "\n",
              "    .colab-df-convert:hover {\n",
              "      background-color: #E2EBFA;\n",
              "      box-shadow: 0px 1px 2px rgba(60, 64, 67, 0.3), 0px 1px 3px 1px rgba(60, 64, 67, 0.15);\n",
              "      fill: #174EA6;\n",
              "    }\n",
              "\n",
              "    [theme=dark] .colab-df-convert {\n",
              "      background-color: #3B4455;\n",
              "      fill: #D2E3FC;\n",
              "    }\n",
              "\n",
              "    [theme=dark] .colab-df-convert:hover {\n",
              "      background-color: #434B5C;\n",
              "      box-shadow: 0px 1px 3px 1px rgba(0, 0, 0, 0.15);\n",
              "      filter: drop-shadow(0px 1px 2px rgba(0, 0, 0, 0.3));\n",
              "      fill: #FFFFFF;\n",
              "    }\n",
              "  </style>\n",
              "\n",
              "      <script>\n",
              "        const buttonEl =\n",
              "          document.querySelector('#df-7b06df9d-07bf-4989-8aff-79b7a1166fd8 button.colab-df-convert');\n",
              "        buttonEl.style.display =\n",
              "          google.colab.kernel.accessAllowed ? 'block' : 'none';\n",
              "\n",
              "        async function convertToInteractive(key) {\n",
              "          const element = document.querySelector('#df-7b06df9d-07bf-4989-8aff-79b7a1166fd8');\n",
              "          const dataTable =\n",
              "            await google.colab.kernel.invokeFunction('convertToInteractive',\n",
              "                                                     [key], {});\n",
              "          if (!dataTable) return;\n",
              "\n",
              "          const docLinkHtml = 'Like what you see? Visit the ' +\n",
              "            '<a target=\"_blank\" href=https://colab.research.google.com/notebooks/data_table.ipynb>data table notebook</a>'\n",
              "            + ' to learn more about interactive tables.';\n",
              "          element.innerHTML = '';\n",
              "          dataTable['output_type'] = 'display_data';\n",
              "          await google.colab.output.renderOutput(dataTable, element);\n",
              "          const docLink = document.createElement('div');\n",
              "          docLink.innerHTML = docLinkHtml;\n",
              "          element.appendChild(docLink);\n",
              "        }\n",
              "      </script>\n",
              "    </div>\n",
              "  </div>\n",
              "  "
            ]
          },
          "metadata": {},
          "execution_count": 97
        }
      ]
    },
    {
      "cell_type": "code",
      "source": [
        "vol.rename(columns={'m_1':'m_01','m_2':'m_02','m_3':'m_03','m_4':'m_04','m_5':'m_05','m_6':'m_06',\n",
        "                    'm_7':'m_07','m_8':'m_08', 'm_9':'m_09'}, inplace=True)"
      ],
      "metadata": {
        "id": "u-vPTQRdDONP"
      },
      "execution_count": 98,
      "outputs": []
    },
    {
      "cell_type": "markdown",
      "source": [
        "### Leemos segundo libro (precios) asignado a objeto \"pre\""
      ],
      "metadata": {
        "id": "yQF0NR11vfuC"
      }
    },
    {
      "cell_type": "code",
      "source": [
        "pre = pd.read_excel(ruta + 'base_completa_1997_2021.xls', sheet_name='precio')\n",
        "pre.head()"
      ],
      "metadata": {
        "colab": {
          "base_uri": "https://localhost:8080/",
          "height": 206
        },
        "id": "mcWKaOGWvMCb",
        "outputId": "89058a60-a0ad-4c40-ebf4-ad93306598be"
      },
      "execution_count": 99,
      "outputs": [
        {
          "output_type": "execute_result",
          "data": {
            "text/plain": [
              "           producto  year   m_1   m_2   m_3   m_4   m_5   m_6   m_7   m_8  \\\n",
              "0     Papa Amarilla  1997  0.90  0.87  0.80  0.71  0.78  1.01  1.10  1.20   \n",
              "1       Papa Blanca  1997  0.56  0.47  0.40  0.46  0.61  0.75  0.74  0.78   \n",
              "2      Papa Canchan  1997   NaN   NaN   NaN   NaN   NaN   NaN   NaN   NaN   \n",
              "3        Papa Color  1997  0.55  0.49  0.44  0.48  0.61  0.75  0.74  0.79   \n",
              "4  Papa Huamantanga  1997   NaN   NaN   NaN   NaN   NaN   NaN   NaN   NaN   \n",
              "\n",
              "    m_9  m_10  m_11  m_12  \n",
              "0  1.09  0.92  1.05  1.00  \n",
              "1  0.84  0.78  0.68  0.65  \n",
              "2   NaN   NaN   NaN   NaN  \n",
              "3  0.85  0.80  0.71  0.67  \n",
              "4   NaN   NaN   NaN   NaN  "
            ],
            "text/html": [
              "\n",
              "  <div id=\"df-77fe0475-e414-43c4-a3fc-dbfc52a3667e\">\n",
              "    <div class=\"colab-df-container\">\n",
              "      <div>\n",
              "<style scoped>\n",
              "    .dataframe tbody tr th:only-of-type {\n",
              "        vertical-align: middle;\n",
              "    }\n",
              "\n",
              "    .dataframe tbody tr th {\n",
              "        vertical-align: top;\n",
              "    }\n",
              "\n",
              "    .dataframe thead th {\n",
              "        text-align: right;\n",
              "    }\n",
              "</style>\n",
              "<table border=\"1\" class=\"dataframe\">\n",
              "  <thead>\n",
              "    <tr style=\"text-align: right;\">\n",
              "      <th></th>\n",
              "      <th>producto</th>\n",
              "      <th>year</th>\n",
              "      <th>m_1</th>\n",
              "      <th>m_2</th>\n",
              "      <th>m_3</th>\n",
              "      <th>m_4</th>\n",
              "      <th>m_5</th>\n",
              "      <th>m_6</th>\n",
              "      <th>m_7</th>\n",
              "      <th>m_8</th>\n",
              "      <th>m_9</th>\n",
              "      <th>m_10</th>\n",
              "      <th>m_11</th>\n",
              "      <th>m_12</th>\n",
              "    </tr>\n",
              "  </thead>\n",
              "  <tbody>\n",
              "    <tr>\n",
              "      <th>0</th>\n",
              "      <td>Papa Amarilla</td>\n",
              "      <td>1997</td>\n",
              "      <td>0.90</td>\n",
              "      <td>0.87</td>\n",
              "      <td>0.80</td>\n",
              "      <td>0.71</td>\n",
              "      <td>0.78</td>\n",
              "      <td>1.01</td>\n",
              "      <td>1.10</td>\n",
              "      <td>1.20</td>\n",
              "      <td>1.09</td>\n",
              "      <td>0.92</td>\n",
              "      <td>1.05</td>\n",
              "      <td>1.00</td>\n",
              "    </tr>\n",
              "    <tr>\n",
              "      <th>1</th>\n",
              "      <td>Papa Blanca</td>\n",
              "      <td>1997</td>\n",
              "      <td>0.56</td>\n",
              "      <td>0.47</td>\n",
              "      <td>0.40</td>\n",
              "      <td>0.46</td>\n",
              "      <td>0.61</td>\n",
              "      <td>0.75</td>\n",
              "      <td>0.74</td>\n",
              "      <td>0.78</td>\n",
              "      <td>0.84</td>\n",
              "      <td>0.78</td>\n",
              "      <td>0.68</td>\n",
              "      <td>0.65</td>\n",
              "    </tr>\n",
              "    <tr>\n",
              "      <th>2</th>\n",
              "      <td>Papa Canchan</td>\n",
              "      <td>1997</td>\n",
              "      <td>NaN</td>\n",
              "      <td>NaN</td>\n",
              "      <td>NaN</td>\n",
              "      <td>NaN</td>\n",
              "      <td>NaN</td>\n",
              "      <td>NaN</td>\n",
              "      <td>NaN</td>\n",
              "      <td>NaN</td>\n",
              "      <td>NaN</td>\n",
              "      <td>NaN</td>\n",
              "      <td>NaN</td>\n",
              "      <td>NaN</td>\n",
              "    </tr>\n",
              "    <tr>\n",
              "      <th>3</th>\n",
              "      <td>Papa Color</td>\n",
              "      <td>1997</td>\n",
              "      <td>0.55</td>\n",
              "      <td>0.49</td>\n",
              "      <td>0.44</td>\n",
              "      <td>0.48</td>\n",
              "      <td>0.61</td>\n",
              "      <td>0.75</td>\n",
              "      <td>0.74</td>\n",
              "      <td>0.79</td>\n",
              "      <td>0.85</td>\n",
              "      <td>0.80</td>\n",
              "      <td>0.71</td>\n",
              "      <td>0.67</td>\n",
              "    </tr>\n",
              "    <tr>\n",
              "      <th>4</th>\n",
              "      <td>Papa Huamantanga</td>\n",
              "      <td>1997</td>\n",
              "      <td>NaN</td>\n",
              "      <td>NaN</td>\n",
              "      <td>NaN</td>\n",
              "      <td>NaN</td>\n",
              "      <td>NaN</td>\n",
              "      <td>NaN</td>\n",
              "      <td>NaN</td>\n",
              "      <td>NaN</td>\n",
              "      <td>NaN</td>\n",
              "      <td>NaN</td>\n",
              "      <td>NaN</td>\n",
              "      <td>NaN</td>\n",
              "    </tr>\n",
              "  </tbody>\n",
              "</table>\n",
              "</div>\n",
              "      <button class=\"colab-df-convert\" onclick=\"convertToInteractive('df-77fe0475-e414-43c4-a3fc-dbfc52a3667e')\"\n",
              "              title=\"Convert this dataframe to an interactive table.\"\n",
              "              style=\"display:none;\">\n",
              "        \n",
              "  <svg xmlns=\"http://www.w3.org/2000/svg\" height=\"24px\"viewBox=\"0 0 24 24\"\n",
              "       width=\"24px\">\n",
              "    <path d=\"M0 0h24v24H0V0z\" fill=\"none\"/>\n",
              "    <path d=\"M18.56 5.44l.94 2.06.94-2.06 2.06-.94-2.06-.94-.94-2.06-.94 2.06-2.06.94zm-11 1L8.5 8.5l.94-2.06 2.06-.94-2.06-.94L8.5 2.5l-.94 2.06-2.06.94zm10 10l.94 2.06.94-2.06 2.06-.94-2.06-.94-.94-2.06-.94 2.06-2.06.94z\"/><path d=\"M17.41 7.96l-1.37-1.37c-.4-.4-.92-.59-1.43-.59-.52 0-1.04.2-1.43.59L10.3 9.45l-7.72 7.72c-.78.78-.78 2.05 0 2.83L4 21.41c.39.39.9.59 1.41.59.51 0 1.02-.2 1.41-.59l7.78-7.78 2.81-2.81c.8-.78.8-2.07 0-2.86zM5.41 20L4 18.59l7.72-7.72 1.47 1.35L5.41 20z\"/>\n",
              "  </svg>\n",
              "      </button>\n",
              "      \n",
              "  <style>\n",
              "    .colab-df-container {\n",
              "      display:flex;\n",
              "      flex-wrap:wrap;\n",
              "      gap: 12px;\n",
              "    }\n",
              "\n",
              "    .colab-df-convert {\n",
              "      background-color: #E8F0FE;\n",
              "      border: none;\n",
              "      border-radius: 50%;\n",
              "      cursor: pointer;\n",
              "      display: none;\n",
              "      fill: #1967D2;\n",
              "      height: 32px;\n",
              "      padding: 0 0 0 0;\n",
              "      width: 32px;\n",
              "    }\n",
              "\n",
              "    .colab-df-convert:hover {\n",
              "      background-color: #E2EBFA;\n",
              "      box-shadow: 0px 1px 2px rgba(60, 64, 67, 0.3), 0px 1px 3px 1px rgba(60, 64, 67, 0.15);\n",
              "      fill: #174EA6;\n",
              "    }\n",
              "\n",
              "    [theme=dark] .colab-df-convert {\n",
              "      background-color: #3B4455;\n",
              "      fill: #D2E3FC;\n",
              "    }\n",
              "\n",
              "    [theme=dark] .colab-df-convert:hover {\n",
              "      background-color: #434B5C;\n",
              "      box-shadow: 0px 1px 3px 1px rgba(0, 0, 0, 0.15);\n",
              "      filter: drop-shadow(0px 1px 2px rgba(0, 0, 0, 0.3));\n",
              "      fill: #FFFFFF;\n",
              "    }\n",
              "  </style>\n",
              "\n",
              "      <script>\n",
              "        const buttonEl =\n",
              "          document.querySelector('#df-77fe0475-e414-43c4-a3fc-dbfc52a3667e button.colab-df-convert');\n",
              "        buttonEl.style.display =\n",
              "          google.colab.kernel.accessAllowed ? 'block' : 'none';\n",
              "\n",
              "        async function convertToInteractive(key) {\n",
              "          const element = document.querySelector('#df-77fe0475-e414-43c4-a3fc-dbfc52a3667e');\n",
              "          const dataTable =\n",
              "            await google.colab.kernel.invokeFunction('convertToInteractive',\n",
              "                                                     [key], {});\n",
              "          if (!dataTable) return;\n",
              "\n",
              "          const docLinkHtml = 'Like what you see? Visit the ' +\n",
              "            '<a target=\"_blank\" href=https://colab.research.google.com/notebooks/data_table.ipynb>data table notebook</a>'\n",
              "            + ' to learn more about interactive tables.';\n",
              "          element.innerHTML = '';\n",
              "          dataTable['output_type'] = 'display_data';\n",
              "          await google.colab.output.renderOutput(dataTable, element);\n",
              "          const docLink = document.createElement('div');\n",
              "          docLink.innerHTML = docLinkHtml;\n",
              "          element.appendChild(docLink);\n",
              "        }\n",
              "      </script>\n",
              "    </div>\n",
              "  </div>\n",
              "  "
            ]
          },
          "metadata": {},
          "execution_count": 99
        }
      ]
    },
    {
      "cell_type": "code",
      "source": [
        "pre.rename(columns={'m_1':'m_01','m_2':'m_02','m_3':'m_03','m_4':'m_04','m_5':'m_05','m_6':'m_06',\n",
        "                    'm_7':'m_07','m_8':'m_08', 'm_9':'m_09'}, inplace=True)"
      ],
      "metadata": {
        "id": "YCMjpl63EF_e"
      },
      "execution_count": 100,
      "outputs": []
    },
    {
      "cell_type": "markdown",
      "source": [],
      "metadata": {
        "id": "XK1GJOwFs0Ep"
      }
    },
    {
      "cell_type": "code",
      "source": [
        "vol.columns"
      ],
      "metadata": {
        "colab": {
          "base_uri": "https://localhost:8080/"
        },
        "id": "8WkNRtI4xJGU",
        "outputId": "7d3904aa-c406-4ed0-c058-4d4ea6c64829"
      },
      "execution_count": 101,
      "outputs": [
        {
          "output_type": "execute_result",
          "data": {
            "text/plain": [
              "Index(['producto', 'year', 'Variable', 'm_01', 'm_02', 'm_03', 'm_04', 'm_05',\n",
              "       'm_06', 'm_07', 'm_08', 'm_09', 'm_10', 'm_11', 'm_12'],\n",
              "      dtype='object')"
            ]
          },
          "metadata": {},
          "execution_count": 101
        }
      ]
    },
    {
      "cell_type": "markdown",
      "source": [
        "### La columna 'Variable' identifica la provincia, cambiamos el nombre de la columna"
      ],
      "metadata": {
        "id": "cK7VYI3kxt_M"
      }
    },
    {
      "cell_type": "code",
      "source": [
        "vol.rename(columns={'Variable':'provincia'}, inplace=True)"
      ],
      "metadata": {
        "id": "bSVLpWrex2-9"
      },
      "execution_count": 102,
      "outputs": []
    },
    {
      "cell_type": "code",
      "source": [
        "vol.columns"
      ],
      "metadata": {
        "colab": {
          "base_uri": "https://localhost:8080/"
        },
        "id": "g6XI_P69yCNU",
        "outputId": "97d269f4-c8e0-41c6-b366-31055d8ceb1c"
      },
      "execution_count": 103,
      "outputs": [
        {
          "output_type": "execute_result",
          "data": {
            "text/plain": [
              "Index(['producto', 'year', 'provincia', 'm_01', 'm_02', 'm_03', 'm_04', 'm_05',\n",
              "       'm_06', 'm_07', 'm_08', 'm_09', 'm_10', 'm_11', 'm_12'],\n",
              "      dtype='object')"
            ]
          },
          "metadata": {},
          "execution_count": 103
        }
      ]
    },
    {
      "cell_type": "code",
      "source": [
        "pre.columns"
      ],
      "metadata": {
        "colab": {
          "base_uri": "https://localhost:8080/"
        },
        "id": "mnGBeYkSxmn2",
        "outputId": "1abcda8a-f8f8-4ab5-9cc0-7ce2f33016ad"
      },
      "execution_count": 104,
      "outputs": [
        {
          "output_type": "execute_result",
          "data": {
            "text/plain": [
              "Index(['producto', 'year', 'm_01', 'm_02', 'm_03', 'm_04', 'm_05', 'm_06',\n",
              "       'm_07', 'm_08', 'm_09', 'm_10', 'm_11', 'm_12'],\n",
              "      dtype='object')"
            ]
          },
          "metadata": {},
          "execution_count": 104
        }
      ]
    },
    {
      "cell_type": "code",
      "source": [
        "vol_long=pd.melt(vol,id_vars=['producto','year','provincia'], \n",
        "                var_name='mes', value_name='volumen')\n",
        "vol_long"
      ],
      "metadata": {
        "colab": {
          "base_uri": "https://localhost:8080/",
          "height": 423
        },
        "id": "shDIIsM5yOSL",
        "outputId": "5c255aa8-3143-446f-887e-a146c06e797e"
      },
      "execution_count": null,
      "outputs": [
        {
          "output_type": "execute_result",
          "data": {
            "text/plain": [
              "            producto  year          provincia   mes  volumen\n",
              "0      Papa Amarilla  1997            Abancay  m_01      NaN\n",
              "1      Papa Amarilla  1997               Ambo  m_01    97.80\n",
              "2      Papa Amarilla  1997        Andahuaylas  m_01      NaN\n",
              "3      Papa Amarilla  1997           Arequipa  m_01      NaN\n",
              "4      Papa Amarilla  1997             Ascope  m_01    15.48\n",
              "...              ...   ...                ...   ...      ...\n",
              "50515    Papa Yungay  2021              Pasco  m_12      NaN\n",
              "50516    Papa Yungay  2021    Sanchez Carrion  m_12      NaN\n",
              "50517    Papa Yungay  2021  Santiago De Chuco  m_12      NaN\n",
              "50518    Papa Yungay  2021              Tarma  m_12      NaN\n",
              "50519    Papa Yungay  2021           Tayacaja  m_12      NaN\n",
              "\n",
              "[50520 rows x 5 columns]"
            ],
            "text/html": [
              "\n",
              "  <div id=\"df-0421dc8c-1cbd-4847-bf40-04ea9d2b603c\">\n",
              "    <div class=\"colab-df-container\">\n",
              "      <div>\n",
              "<style scoped>\n",
              "    .dataframe tbody tr th:only-of-type {\n",
              "        vertical-align: middle;\n",
              "    }\n",
              "\n",
              "    .dataframe tbody tr th {\n",
              "        vertical-align: top;\n",
              "    }\n",
              "\n",
              "    .dataframe thead th {\n",
              "        text-align: right;\n",
              "    }\n",
              "</style>\n",
              "<table border=\"1\" class=\"dataframe\">\n",
              "  <thead>\n",
              "    <tr style=\"text-align: right;\">\n",
              "      <th></th>\n",
              "      <th>producto</th>\n",
              "      <th>year</th>\n",
              "      <th>provincia</th>\n",
              "      <th>mes</th>\n",
              "      <th>volumen</th>\n",
              "    </tr>\n",
              "  </thead>\n",
              "  <tbody>\n",
              "    <tr>\n",
              "      <th>0</th>\n",
              "      <td>Papa Amarilla</td>\n",
              "      <td>1997</td>\n",
              "      <td>Abancay</td>\n",
              "      <td>m_01</td>\n",
              "      <td>NaN</td>\n",
              "    </tr>\n",
              "    <tr>\n",
              "      <th>1</th>\n",
              "      <td>Papa Amarilla</td>\n",
              "      <td>1997</td>\n",
              "      <td>Ambo</td>\n",
              "      <td>m_01</td>\n",
              "      <td>97.80</td>\n",
              "    </tr>\n",
              "    <tr>\n",
              "      <th>2</th>\n",
              "      <td>Papa Amarilla</td>\n",
              "      <td>1997</td>\n",
              "      <td>Andahuaylas</td>\n",
              "      <td>m_01</td>\n",
              "      <td>NaN</td>\n",
              "    </tr>\n",
              "    <tr>\n",
              "      <th>3</th>\n",
              "      <td>Papa Amarilla</td>\n",
              "      <td>1997</td>\n",
              "      <td>Arequipa</td>\n",
              "      <td>m_01</td>\n",
              "      <td>NaN</td>\n",
              "    </tr>\n",
              "    <tr>\n",
              "      <th>4</th>\n",
              "      <td>Papa Amarilla</td>\n",
              "      <td>1997</td>\n",
              "      <td>Ascope</td>\n",
              "      <td>m_01</td>\n",
              "      <td>15.48</td>\n",
              "    </tr>\n",
              "    <tr>\n",
              "      <th>...</th>\n",
              "      <td>...</td>\n",
              "      <td>...</td>\n",
              "      <td>...</td>\n",
              "      <td>...</td>\n",
              "      <td>...</td>\n",
              "    </tr>\n",
              "    <tr>\n",
              "      <th>50515</th>\n",
              "      <td>Papa Yungay</td>\n",
              "      <td>2021</td>\n",
              "      <td>Pasco</td>\n",
              "      <td>m_12</td>\n",
              "      <td>NaN</td>\n",
              "    </tr>\n",
              "    <tr>\n",
              "      <th>50516</th>\n",
              "      <td>Papa Yungay</td>\n",
              "      <td>2021</td>\n",
              "      <td>Sanchez Carrion</td>\n",
              "      <td>m_12</td>\n",
              "      <td>NaN</td>\n",
              "    </tr>\n",
              "    <tr>\n",
              "      <th>50517</th>\n",
              "      <td>Papa Yungay</td>\n",
              "      <td>2021</td>\n",
              "      <td>Santiago De Chuco</td>\n",
              "      <td>m_12</td>\n",
              "      <td>NaN</td>\n",
              "    </tr>\n",
              "    <tr>\n",
              "      <th>50518</th>\n",
              "      <td>Papa Yungay</td>\n",
              "      <td>2021</td>\n",
              "      <td>Tarma</td>\n",
              "      <td>m_12</td>\n",
              "      <td>NaN</td>\n",
              "    </tr>\n",
              "    <tr>\n",
              "      <th>50519</th>\n",
              "      <td>Papa Yungay</td>\n",
              "      <td>2021</td>\n",
              "      <td>Tayacaja</td>\n",
              "      <td>m_12</td>\n",
              "      <td>NaN</td>\n",
              "    </tr>\n",
              "  </tbody>\n",
              "</table>\n",
              "<p>50520 rows × 5 columns</p>\n",
              "</div>\n",
              "      <button class=\"colab-df-convert\" onclick=\"convertToInteractive('df-0421dc8c-1cbd-4847-bf40-04ea9d2b603c')\"\n",
              "              title=\"Convert this dataframe to an interactive table.\"\n",
              "              style=\"display:none;\">\n",
              "        \n",
              "  <svg xmlns=\"http://www.w3.org/2000/svg\" height=\"24px\"viewBox=\"0 0 24 24\"\n",
              "       width=\"24px\">\n",
              "    <path d=\"M0 0h24v24H0V0z\" fill=\"none\"/>\n",
              "    <path d=\"M18.56 5.44l.94 2.06.94-2.06 2.06-.94-2.06-.94-.94-2.06-.94 2.06-2.06.94zm-11 1L8.5 8.5l.94-2.06 2.06-.94-2.06-.94L8.5 2.5l-.94 2.06-2.06.94zm10 10l.94 2.06.94-2.06 2.06-.94-2.06-.94-.94-2.06-.94 2.06-2.06.94z\"/><path d=\"M17.41 7.96l-1.37-1.37c-.4-.4-.92-.59-1.43-.59-.52 0-1.04.2-1.43.59L10.3 9.45l-7.72 7.72c-.78.78-.78 2.05 0 2.83L4 21.41c.39.39.9.59 1.41.59.51 0 1.02-.2 1.41-.59l7.78-7.78 2.81-2.81c.8-.78.8-2.07 0-2.86zM5.41 20L4 18.59l7.72-7.72 1.47 1.35L5.41 20z\"/>\n",
              "  </svg>\n",
              "      </button>\n",
              "      \n",
              "  <style>\n",
              "    .colab-df-container {\n",
              "      display:flex;\n",
              "      flex-wrap:wrap;\n",
              "      gap: 12px;\n",
              "    }\n",
              "\n",
              "    .colab-df-convert {\n",
              "      background-color: #E8F0FE;\n",
              "      border: none;\n",
              "      border-radius: 50%;\n",
              "      cursor: pointer;\n",
              "      display: none;\n",
              "      fill: #1967D2;\n",
              "      height: 32px;\n",
              "      padding: 0 0 0 0;\n",
              "      width: 32px;\n",
              "    }\n",
              "\n",
              "    .colab-df-convert:hover {\n",
              "      background-color: #E2EBFA;\n",
              "      box-shadow: 0px 1px 2px rgba(60, 64, 67, 0.3), 0px 1px 3px 1px rgba(60, 64, 67, 0.15);\n",
              "      fill: #174EA6;\n",
              "    }\n",
              "\n",
              "    [theme=dark] .colab-df-convert {\n",
              "      background-color: #3B4455;\n",
              "      fill: #D2E3FC;\n",
              "    }\n",
              "\n",
              "    [theme=dark] .colab-df-convert:hover {\n",
              "      background-color: #434B5C;\n",
              "      box-shadow: 0px 1px 3px 1px rgba(0, 0, 0, 0.15);\n",
              "      filter: drop-shadow(0px 1px 2px rgba(0, 0, 0, 0.3));\n",
              "      fill: #FFFFFF;\n",
              "    }\n",
              "  </style>\n",
              "\n",
              "      <script>\n",
              "        const buttonEl =\n",
              "          document.querySelector('#df-0421dc8c-1cbd-4847-bf40-04ea9d2b603c button.colab-df-convert');\n",
              "        buttonEl.style.display =\n",
              "          google.colab.kernel.accessAllowed ? 'block' : 'none';\n",
              "\n",
              "        async function convertToInteractive(key) {\n",
              "          const element = document.querySelector('#df-0421dc8c-1cbd-4847-bf40-04ea9d2b603c');\n",
              "          const dataTable =\n",
              "            await google.colab.kernel.invokeFunction('convertToInteractive',\n",
              "                                                     [key], {});\n",
              "          if (!dataTable) return;\n",
              "\n",
              "          const docLinkHtml = 'Like what you see? Visit the ' +\n",
              "            '<a target=\"_blank\" href=https://colab.research.google.com/notebooks/data_table.ipynb>data table notebook</a>'\n",
              "            + ' to learn more about interactive tables.';\n",
              "          element.innerHTML = '';\n",
              "          dataTable['output_type'] = 'display_data';\n",
              "          await google.colab.output.renderOutput(dataTable, element);\n",
              "          const docLink = document.createElement('div');\n",
              "          docLink.innerHTML = docLinkHtml;\n",
              "          element.appendChild(docLink);\n",
              "        }\n",
              "      </script>\n",
              "    </div>\n",
              "  </div>\n",
              "  "
            ]
          },
          "metadata": {},
          "execution_count": 14
        }
      ]
    },
    {
      "cell_type": "markdown",
      "source": [
        "### Las columnas m_01 a m_12 denotan meses\n",
        "Necesitamos convertir al mes como una variable, para tener en cada fila una observacion, pasar base en formato ancho a largo (wide to long) usando el método **melt**"
      ],
      "metadata": {
        "id": "pcNDR3q5yVFq"
      }
    },
    {
      "cell_type": "markdown",
      "source": [
        "Lo mismo con la base de precios"
      ],
      "metadata": {
        "id": "FskgpqnQzHMo"
      }
    },
    {
      "cell_type": "code",
      "source": [
        "pre_long=pd.melt(pre,id_vars=['producto','year'], \n",
        "                var_name='mes', value_name='precio')\n",
        "pre_long"
      ],
      "metadata": {
        "colab": {
          "base_uri": "https://localhost:8080/",
          "height": 423
        },
        "id": "xVmW7svSzCfi",
        "outputId": "01617769-3f0e-4d50-e416-4fe97f3507cb"
      },
      "execution_count": null,
      "outputs": [
        {
          "output_type": "execute_result",
          "data": {
            "text/plain": [
              "               producto  year   mes  precio\n",
              "0         Papa Amarilla  1997  m_01    0.90\n",
              "1           Papa Blanca  1997  m_01    0.56\n",
              "2          Papa Canchan  1997  m_01     NaN\n",
              "3            Papa Color  1997  m_01    0.55\n",
              "4      Papa Huamantanga  1997  m_01     NaN\n",
              "...                 ...   ...   ...     ...\n",
              "3295  Papa Negra Andina  2021  m_12     NaN\n",
              "3296    Papa Perricholi  2021  m_12     NaN\n",
              "3297     Papa Peruanita  2021  m_12     NaN\n",
              "3298         Papa Unica  2021  m_12     NaN\n",
              "3299        Papa Yungay  2021  m_12     NaN\n",
              "\n",
              "[3300 rows x 4 columns]"
            ],
            "text/html": [
              "\n",
              "  <div id=\"df-783b8ec7-5744-44d4-8549-fef619af6cdb\">\n",
              "    <div class=\"colab-df-container\">\n",
              "      <div>\n",
              "<style scoped>\n",
              "    .dataframe tbody tr th:only-of-type {\n",
              "        vertical-align: middle;\n",
              "    }\n",
              "\n",
              "    .dataframe tbody tr th {\n",
              "        vertical-align: top;\n",
              "    }\n",
              "\n",
              "    .dataframe thead th {\n",
              "        text-align: right;\n",
              "    }\n",
              "</style>\n",
              "<table border=\"1\" class=\"dataframe\">\n",
              "  <thead>\n",
              "    <tr style=\"text-align: right;\">\n",
              "      <th></th>\n",
              "      <th>producto</th>\n",
              "      <th>year</th>\n",
              "      <th>mes</th>\n",
              "      <th>precio</th>\n",
              "    </tr>\n",
              "  </thead>\n",
              "  <tbody>\n",
              "    <tr>\n",
              "      <th>0</th>\n",
              "      <td>Papa Amarilla</td>\n",
              "      <td>1997</td>\n",
              "      <td>m_01</td>\n",
              "      <td>0.90</td>\n",
              "    </tr>\n",
              "    <tr>\n",
              "      <th>1</th>\n",
              "      <td>Papa Blanca</td>\n",
              "      <td>1997</td>\n",
              "      <td>m_01</td>\n",
              "      <td>0.56</td>\n",
              "    </tr>\n",
              "    <tr>\n",
              "      <th>2</th>\n",
              "      <td>Papa Canchan</td>\n",
              "      <td>1997</td>\n",
              "      <td>m_01</td>\n",
              "      <td>NaN</td>\n",
              "    </tr>\n",
              "    <tr>\n",
              "      <th>3</th>\n",
              "      <td>Papa Color</td>\n",
              "      <td>1997</td>\n",
              "      <td>m_01</td>\n",
              "      <td>0.55</td>\n",
              "    </tr>\n",
              "    <tr>\n",
              "      <th>4</th>\n",
              "      <td>Papa Huamantanga</td>\n",
              "      <td>1997</td>\n",
              "      <td>m_01</td>\n",
              "      <td>NaN</td>\n",
              "    </tr>\n",
              "    <tr>\n",
              "      <th>...</th>\n",
              "      <td>...</td>\n",
              "      <td>...</td>\n",
              "      <td>...</td>\n",
              "      <td>...</td>\n",
              "    </tr>\n",
              "    <tr>\n",
              "      <th>3295</th>\n",
              "      <td>Papa Negra Andina</td>\n",
              "      <td>2021</td>\n",
              "      <td>m_12</td>\n",
              "      <td>NaN</td>\n",
              "    </tr>\n",
              "    <tr>\n",
              "      <th>3296</th>\n",
              "      <td>Papa Perricholi</td>\n",
              "      <td>2021</td>\n",
              "      <td>m_12</td>\n",
              "      <td>NaN</td>\n",
              "    </tr>\n",
              "    <tr>\n",
              "      <th>3297</th>\n",
              "      <td>Papa Peruanita</td>\n",
              "      <td>2021</td>\n",
              "      <td>m_12</td>\n",
              "      <td>NaN</td>\n",
              "    </tr>\n",
              "    <tr>\n",
              "      <th>3298</th>\n",
              "      <td>Papa Unica</td>\n",
              "      <td>2021</td>\n",
              "      <td>m_12</td>\n",
              "      <td>NaN</td>\n",
              "    </tr>\n",
              "    <tr>\n",
              "      <th>3299</th>\n",
              "      <td>Papa Yungay</td>\n",
              "      <td>2021</td>\n",
              "      <td>m_12</td>\n",
              "      <td>NaN</td>\n",
              "    </tr>\n",
              "  </tbody>\n",
              "</table>\n",
              "<p>3300 rows × 4 columns</p>\n",
              "</div>\n",
              "      <button class=\"colab-df-convert\" onclick=\"convertToInteractive('df-783b8ec7-5744-44d4-8549-fef619af6cdb')\"\n",
              "              title=\"Convert this dataframe to an interactive table.\"\n",
              "              style=\"display:none;\">\n",
              "        \n",
              "  <svg xmlns=\"http://www.w3.org/2000/svg\" height=\"24px\"viewBox=\"0 0 24 24\"\n",
              "       width=\"24px\">\n",
              "    <path d=\"M0 0h24v24H0V0z\" fill=\"none\"/>\n",
              "    <path d=\"M18.56 5.44l.94 2.06.94-2.06 2.06-.94-2.06-.94-.94-2.06-.94 2.06-2.06.94zm-11 1L8.5 8.5l.94-2.06 2.06-.94-2.06-.94L8.5 2.5l-.94 2.06-2.06.94zm10 10l.94 2.06.94-2.06 2.06-.94-2.06-.94-.94-2.06-.94 2.06-2.06.94z\"/><path d=\"M17.41 7.96l-1.37-1.37c-.4-.4-.92-.59-1.43-.59-.52 0-1.04.2-1.43.59L10.3 9.45l-7.72 7.72c-.78.78-.78 2.05 0 2.83L4 21.41c.39.39.9.59 1.41.59.51 0 1.02-.2 1.41-.59l7.78-7.78 2.81-2.81c.8-.78.8-2.07 0-2.86zM5.41 20L4 18.59l7.72-7.72 1.47 1.35L5.41 20z\"/>\n",
              "  </svg>\n",
              "      </button>\n",
              "      \n",
              "  <style>\n",
              "    .colab-df-container {\n",
              "      display:flex;\n",
              "      flex-wrap:wrap;\n",
              "      gap: 12px;\n",
              "    }\n",
              "\n",
              "    .colab-df-convert {\n",
              "      background-color: #E8F0FE;\n",
              "      border: none;\n",
              "      border-radius: 50%;\n",
              "      cursor: pointer;\n",
              "      display: none;\n",
              "      fill: #1967D2;\n",
              "      height: 32px;\n",
              "      padding: 0 0 0 0;\n",
              "      width: 32px;\n",
              "    }\n",
              "\n",
              "    .colab-df-convert:hover {\n",
              "      background-color: #E2EBFA;\n",
              "      box-shadow: 0px 1px 2px rgba(60, 64, 67, 0.3), 0px 1px 3px 1px rgba(60, 64, 67, 0.15);\n",
              "      fill: #174EA6;\n",
              "    }\n",
              "\n",
              "    [theme=dark] .colab-df-convert {\n",
              "      background-color: #3B4455;\n",
              "      fill: #D2E3FC;\n",
              "    }\n",
              "\n",
              "    [theme=dark] .colab-df-convert:hover {\n",
              "      background-color: #434B5C;\n",
              "      box-shadow: 0px 1px 3px 1px rgba(0, 0, 0, 0.15);\n",
              "      filter: drop-shadow(0px 1px 2px rgba(0, 0, 0, 0.3));\n",
              "      fill: #FFFFFF;\n",
              "    }\n",
              "  </style>\n",
              "\n",
              "      <script>\n",
              "        const buttonEl =\n",
              "          document.querySelector('#df-783b8ec7-5744-44d4-8549-fef619af6cdb button.colab-df-convert');\n",
              "        buttonEl.style.display =\n",
              "          google.colab.kernel.accessAllowed ? 'block' : 'none';\n",
              "\n",
              "        async function convertToInteractive(key) {\n",
              "          const element = document.querySelector('#df-783b8ec7-5744-44d4-8549-fef619af6cdb');\n",
              "          const dataTable =\n",
              "            await google.colab.kernel.invokeFunction('convertToInteractive',\n",
              "                                                     [key], {});\n",
              "          if (!dataTable) return;\n",
              "\n",
              "          const docLinkHtml = 'Like what you see? Visit the ' +\n",
              "            '<a target=\"_blank\" href=https://colab.research.google.com/notebooks/data_table.ipynb>data table notebook</a>'\n",
              "            + ' to learn more about interactive tables.';\n",
              "          element.innerHTML = '';\n",
              "          dataTable['output_type'] = 'display_data';\n",
              "          await google.colab.output.renderOutput(dataTable, element);\n",
              "          const docLink = document.createElement('div');\n",
              "          docLink.innerHTML = docLinkHtml;\n",
              "          element.appendChild(docLink);\n",
              "        }\n",
              "      </script>\n",
              "    </div>\n",
              "  </div>\n",
              "  "
            ]
          },
          "metadata": {},
          "execution_count": 15
        }
      ]
    },
    {
      "cell_type": "markdown",
      "source": [
        "### Ahora bases 'vol_long' y 'pre_long' tienen una estructura similar y pueden ser integradas (usando método **merge**)"
      ],
      "metadata": {
        "id": "RilO3fD9zSj4"
      }
    },
    {
      "cell_type": "code",
      "source": [
        "df_base=vol_long.merge(pre_long, on=['producto','year','mes'], how='outer')\n",
        "df_base"
      ],
      "metadata": {
        "colab": {
          "base_uri": "https://localhost:8080/",
          "height": 423
        },
        "id": "XDggS3jA0Dyu",
        "outputId": "f94c97c2-71f6-44ea-8f76-008774b7cb47"
      },
      "execution_count": null,
      "outputs": [
        {
          "output_type": "execute_result",
          "data": {
            "text/plain": [
              "                producto  year    provincia   mes  volumen  precio\n",
              "0          Papa Amarilla  1997      Abancay  m_01      NaN    0.90\n",
              "1          Papa Amarilla  1997         Ambo  m_01    97.80    0.90\n",
              "2          Papa Amarilla  1997  Andahuaylas  m_01      NaN    0.90\n",
              "3          Papa Amarilla  1997     Arequipa  m_01      NaN    0.90\n",
              "4          Papa Amarilla  1997       Ascope  m_01    15.48    0.90\n",
              "...                  ...   ...          ...   ...      ...     ...\n",
              "51499       Papa Canchan  2010          NaN  m_12      NaN    0.49\n",
              "51500       Papa Canchan  2011          NaN  m_12      NaN    0.87\n",
              "51501   Papa Huamantanga  2011          NaN  m_12      NaN    0.89\n",
              "51502  Papa Negra Andina  2011          NaN  m_12      NaN    0.81\n",
              "51503    Papa Perricholi  2021          NaN  m_12      NaN     NaN\n",
              "\n",
              "[51504 rows x 6 columns]"
            ],
            "text/html": [
              "\n",
              "  <div id=\"df-9de67620-0c89-4f42-a2e6-dd3ce6b8f167\">\n",
              "    <div class=\"colab-df-container\">\n",
              "      <div>\n",
              "<style scoped>\n",
              "    .dataframe tbody tr th:only-of-type {\n",
              "        vertical-align: middle;\n",
              "    }\n",
              "\n",
              "    .dataframe tbody tr th {\n",
              "        vertical-align: top;\n",
              "    }\n",
              "\n",
              "    .dataframe thead th {\n",
              "        text-align: right;\n",
              "    }\n",
              "</style>\n",
              "<table border=\"1\" class=\"dataframe\">\n",
              "  <thead>\n",
              "    <tr style=\"text-align: right;\">\n",
              "      <th></th>\n",
              "      <th>producto</th>\n",
              "      <th>year</th>\n",
              "      <th>provincia</th>\n",
              "      <th>mes</th>\n",
              "      <th>volumen</th>\n",
              "      <th>precio</th>\n",
              "    </tr>\n",
              "  </thead>\n",
              "  <tbody>\n",
              "    <tr>\n",
              "      <th>0</th>\n",
              "      <td>Papa Amarilla</td>\n",
              "      <td>1997</td>\n",
              "      <td>Abancay</td>\n",
              "      <td>m_01</td>\n",
              "      <td>NaN</td>\n",
              "      <td>0.90</td>\n",
              "    </tr>\n",
              "    <tr>\n",
              "      <th>1</th>\n",
              "      <td>Papa Amarilla</td>\n",
              "      <td>1997</td>\n",
              "      <td>Ambo</td>\n",
              "      <td>m_01</td>\n",
              "      <td>97.80</td>\n",
              "      <td>0.90</td>\n",
              "    </tr>\n",
              "    <tr>\n",
              "      <th>2</th>\n",
              "      <td>Papa Amarilla</td>\n",
              "      <td>1997</td>\n",
              "      <td>Andahuaylas</td>\n",
              "      <td>m_01</td>\n",
              "      <td>NaN</td>\n",
              "      <td>0.90</td>\n",
              "    </tr>\n",
              "    <tr>\n",
              "      <th>3</th>\n",
              "      <td>Papa Amarilla</td>\n",
              "      <td>1997</td>\n",
              "      <td>Arequipa</td>\n",
              "      <td>m_01</td>\n",
              "      <td>NaN</td>\n",
              "      <td>0.90</td>\n",
              "    </tr>\n",
              "    <tr>\n",
              "      <th>4</th>\n",
              "      <td>Papa Amarilla</td>\n",
              "      <td>1997</td>\n",
              "      <td>Ascope</td>\n",
              "      <td>m_01</td>\n",
              "      <td>15.48</td>\n",
              "      <td>0.90</td>\n",
              "    </tr>\n",
              "    <tr>\n",
              "      <th>...</th>\n",
              "      <td>...</td>\n",
              "      <td>...</td>\n",
              "      <td>...</td>\n",
              "      <td>...</td>\n",
              "      <td>...</td>\n",
              "      <td>...</td>\n",
              "    </tr>\n",
              "    <tr>\n",
              "      <th>51499</th>\n",
              "      <td>Papa Canchan</td>\n",
              "      <td>2010</td>\n",
              "      <td>NaN</td>\n",
              "      <td>m_12</td>\n",
              "      <td>NaN</td>\n",
              "      <td>0.49</td>\n",
              "    </tr>\n",
              "    <tr>\n",
              "      <th>51500</th>\n",
              "      <td>Papa Canchan</td>\n",
              "      <td>2011</td>\n",
              "      <td>NaN</td>\n",
              "      <td>m_12</td>\n",
              "      <td>NaN</td>\n",
              "      <td>0.87</td>\n",
              "    </tr>\n",
              "    <tr>\n",
              "      <th>51501</th>\n",
              "      <td>Papa Huamantanga</td>\n",
              "      <td>2011</td>\n",
              "      <td>NaN</td>\n",
              "      <td>m_12</td>\n",
              "      <td>NaN</td>\n",
              "      <td>0.89</td>\n",
              "    </tr>\n",
              "    <tr>\n",
              "      <th>51502</th>\n",
              "      <td>Papa Negra Andina</td>\n",
              "      <td>2011</td>\n",
              "      <td>NaN</td>\n",
              "      <td>m_12</td>\n",
              "      <td>NaN</td>\n",
              "      <td>0.81</td>\n",
              "    </tr>\n",
              "    <tr>\n",
              "      <th>51503</th>\n",
              "      <td>Papa Perricholi</td>\n",
              "      <td>2021</td>\n",
              "      <td>NaN</td>\n",
              "      <td>m_12</td>\n",
              "      <td>NaN</td>\n",
              "      <td>NaN</td>\n",
              "    </tr>\n",
              "  </tbody>\n",
              "</table>\n",
              "<p>51504 rows × 6 columns</p>\n",
              "</div>\n",
              "      <button class=\"colab-df-convert\" onclick=\"convertToInteractive('df-9de67620-0c89-4f42-a2e6-dd3ce6b8f167')\"\n",
              "              title=\"Convert this dataframe to an interactive table.\"\n",
              "              style=\"display:none;\">\n",
              "        \n",
              "  <svg xmlns=\"http://www.w3.org/2000/svg\" height=\"24px\"viewBox=\"0 0 24 24\"\n",
              "       width=\"24px\">\n",
              "    <path d=\"M0 0h24v24H0V0z\" fill=\"none\"/>\n",
              "    <path d=\"M18.56 5.44l.94 2.06.94-2.06 2.06-.94-2.06-.94-.94-2.06-.94 2.06-2.06.94zm-11 1L8.5 8.5l.94-2.06 2.06-.94-2.06-.94L8.5 2.5l-.94 2.06-2.06.94zm10 10l.94 2.06.94-2.06 2.06-.94-2.06-.94-.94-2.06-.94 2.06-2.06.94z\"/><path d=\"M17.41 7.96l-1.37-1.37c-.4-.4-.92-.59-1.43-.59-.52 0-1.04.2-1.43.59L10.3 9.45l-7.72 7.72c-.78.78-.78 2.05 0 2.83L4 21.41c.39.39.9.59 1.41.59.51 0 1.02-.2 1.41-.59l7.78-7.78 2.81-2.81c.8-.78.8-2.07 0-2.86zM5.41 20L4 18.59l7.72-7.72 1.47 1.35L5.41 20z\"/>\n",
              "  </svg>\n",
              "      </button>\n",
              "      \n",
              "  <style>\n",
              "    .colab-df-container {\n",
              "      display:flex;\n",
              "      flex-wrap:wrap;\n",
              "      gap: 12px;\n",
              "    }\n",
              "\n",
              "    .colab-df-convert {\n",
              "      background-color: #E8F0FE;\n",
              "      border: none;\n",
              "      border-radius: 50%;\n",
              "      cursor: pointer;\n",
              "      display: none;\n",
              "      fill: #1967D2;\n",
              "      height: 32px;\n",
              "      padding: 0 0 0 0;\n",
              "      width: 32px;\n",
              "    }\n",
              "\n",
              "    .colab-df-convert:hover {\n",
              "      background-color: #E2EBFA;\n",
              "      box-shadow: 0px 1px 2px rgba(60, 64, 67, 0.3), 0px 1px 3px 1px rgba(60, 64, 67, 0.15);\n",
              "      fill: #174EA6;\n",
              "    }\n",
              "\n",
              "    [theme=dark] .colab-df-convert {\n",
              "      background-color: #3B4455;\n",
              "      fill: #D2E3FC;\n",
              "    }\n",
              "\n",
              "    [theme=dark] .colab-df-convert:hover {\n",
              "      background-color: #434B5C;\n",
              "      box-shadow: 0px 1px 3px 1px rgba(0, 0, 0, 0.15);\n",
              "      filter: drop-shadow(0px 1px 2px rgba(0, 0, 0, 0.3));\n",
              "      fill: #FFFFFF;\n",
              "    }\n",
              "  </style>\n",
              "\n",
              "      <script>\n",
              "        const buttonEl =\n",
              "          document.querySelector('#df-9de67620-0c89-4f42-a2e6-dd3ce6b8f167 button.colab-df-convert');\n",
              "        buttonEl.style.display =\n",
              "          google.colab.kernel.accessAllowed ? 'block' : 'none';\n",
              "\n",
              "        async function convertToInteractive(key) {\n",
              "          const element = document.querySelector('#df-9de67620-0c89-4f42-a2e6-dd3ce6b8f167');\n",
              "          const dataTable =\n",
              "            await google.colab.kernel.invokeFunction('convertToInteractive',\n",
              "                                                     [key], {});\n",
              "          if (!dataTable) return;\n",
              "\n",
              "          const docLinkHtml = 'Like what you see? Visit the ' +\n",
              "            '<a target=\"_blank\" href=https://colab.research.google.com/notebooks/data_table.ipynb>data table notebook</a>'\n",
              "            + ' to learn more about interactive tables.';\n",
              "          element.innerHTML = '';\n",
              "          dataTable['output_type'] = 'display_data';\n",
              "          await google.colab.output.renderOutput(dataTable, element);\n",
              "          const docLink = document.createElement('div');\n",
              "          docLink.innerHTML = docLinkHtml;\n",
              "          element.appendChild(docLink);\n",
              "        }\n",
              "      </script>\n",
              "    </div>\n",
              "  </div>\n",
              "  "
            ]
          },
          "metadata": {},
          "execution_count": 16
        }
      ]
    },
    {
      "cell_type": "markdown",
      "source": [
        "### En objeto **df_base** en cada fila tenemos una observación que identifica la variedad, el año, la provincia, el mes así como el volumen y precio"
      ],
      "metadata": {
        "id": "i9A9m5-a0Vqm"
      }
    },
    {
      "cell_type": "markdown",
      "source": [
        "### Creamos variable 'ym' que identifica año y mes por observacion"
      ],
      "metadata": {
        "id": "pClbSlQcH1MS"
      }
    },
    {
      "cell_type": "code",
      "source": [
        "df_base['ym']=df_base['year'].astype(str)+df_base['mes']"
      ],
      "metadata": {
        "id": "hq0JP_cxG7h1"
      },
      "execution_count": null,
      "outputs": []
    },
    {
      "cell_type": "code",
      "source": [
        "df_base.sort_values('ym', ascending=True)"
      ],
      "metadata": {
        "colab": {
          "base_uri": "https://localhost:8080/",
          "height": 423
        },
        "id": "HxEsNwnTHkDl",
        "outputId": "3b8e4e51-f533-45a5-ea75-1a3188bd2b9b"
      },
      "execution_count": null,
      "outputs": [
        {
          "output_type": "execute_result",
          "data": {
            "text/plain": [
              "              producto  year    provincia   mes  volumen  precio        ym\n",
              "0        Papa Amarilla  1997      Abancay  m_01      NaN    0.90  1997m_01\n",
              "102         Papa Color  1997        Jauja  m_01    96.00    0.55  1997m_01\n",
              "101         Papa Color  1997          Ica  m_01    45.60    0.55  1997m_01\n",
              "100         Papa Color  1997       Huaura  m_01   167.52    0.55  1997m_01\n",
              "99          Papa Color  1997      Huarmey  m_01      NaN    0.55  1997m_01\n",
              "...                ...   ...          ...   ...      ...     ...       ...\n",
              "50420     Papa Canchan  2021  Andahuaylas  m_12      NaN     NaN  2021m_12\n",
              "50421     Papa Canchan  2021     Arequipa  m_12      NaN     NaN  2021m_12\n",
              "50422     Papa Canchan  2021     Barranca  m_12      NaN     NaN  2021m_12\n",
              "50424     Papa Canchan  2021     Huamanga  m_12      NaN     NaN  2021m_12\n",
              "51503  Papa Perricholi  2021          NaN  m_12      NaN     NaN  2021m_12\n",
              "\n",
              "[51504 rows x 7 columns]"
            ],
            "text/html": [
              "\n",
              "  <div id=\"df-efe09324-40f3-4bda-bf74-ca0e6112c6c2\">\n",
              "    <div class=\"colab-df-container\">\n",
              "      <div>\n",
              "<style scoped>\n",
              "    .dataframe tbody tr th:only-of-type {\n",
              "        vertical-align: middle;\n",
              "    }\n",
              "\n",
              "    .dataframe tbody tr th {\n",
              "        vertical-align: top;\n",
              "    }\n",
              "\n",
              "    .dataframe thead th {\n",
              "        text-align: right;\n",
              "    }\n",
              "</style>\n",
              "<table border=\"1\" class=\"dataframe\">\n",
              "  <thead>\n",
              "    <tr style=\"text-align: right;\">\n",
              "      <th></th>\n",
              "      <th>producto</th>\n",
              "      <th>year</th>\n",
              "      <th>provincia</th>\n",
              "      <th>mes</th>\n",
              "      <th>volumen</th>\n",
              "      <th>precio</th>\n",
              "      <th>ym</th>\n",
              "    </tr>\n",
              "  </thead>\n",
              "  <tbody>\n",
              "    <tr>\n",
              "      <th>0</th>\n",
              "      <td>Papa Amarilla</td>\n",
              "      <td>1997</td>\n",
              "      <td>Abancay</td>\n",
              "      <td>m_01</td>\n",
              "      <td>NaN</td>\n",
              "      <td>0.90</td>\n",
              "      <td>1997m_01</td>\n",
              "    </tr>\n",
              "    <tr>\n",
              "      <th>102</th>\n",
              "      <td>Papa Color</td>\n",
              "      <td>1997</td>\n",
              "      <td>Jauja</td>\n",
              "      <td>m_01</td>\n",
              "      <td>96.00</td>\n",
              "      <td>0.55</td>\n",
              "      <td>1997m_01</td>\n",
              "    </tr>\n",
              "    <tr>\n",
              "      <th>101</th>\n",
              "      <td>Papa Color</td>\n",
              "      <td>1997</td>\n",
              "      <td>Ica</td>\n",
              "      <td>m_01</td>\n",
              "      <td>45.60</td>\n",
              "      <td>0.55</td>\n",
              "      <td>1997m_01</td>\n",
              "    </tr>\n",
              "    <tr>\n",
              "      <th>100</th>\n",
              "      <td>Papa Color</td>\n",
              "      <td>1997</td>\n",
              "      <td>Huaura</td>\n",
              "      <td>m_01</td>\n",
              "      <td>167.52</td>\n",
              "      <td>0.55</td>\n",
              "      <td>1997m_01</td>\n",
              "    </tr>\n",
              "    <tr>\n",
              "      <th>99</th>\n",
              "      <td>Papa Color</td>\n",
              "      <td>1997</td>\n",
              "      <td>Huarmey</td>\n",
              "      <td>m_01</td>\n",
              "      <td>NaN</td>\n",
              "      <td>0.55</td>\n",
              "      <td>1997m_01</td>\n",
              "    </tr>\n",
              "    <tr>\n",
              "      <th>...</th>\n",
              "      <td>...</td>\n",
              "      <td>...</td>\n",
              "      <td>...</td>\n",
              "      <td>...</td>\n",
              "      <td>...</td>\n",
              "      <td>...</td>\n",
              "      <td>...</td>\n",
              "    </tr>\n",
              "    <tr>\n",
              "      <th>50420</th>\n",
              "      <td>Papa Canchan</td>\n",
              "      <td>2021</td>\n",
              "      <td>Andahuaylas</td>\n",
              "      <td>m_12</td>\n",
              "      <td>NaN</td>\n",
              "      <td>NaN</td>\n",
              "      <td>2021m_12</td>\n",
              "    </tr>\n",
              "    <tr>\n",
              "      <th>50421</th>\n",
              "      <td>Papa Canchan</td>\n",
              "      <td>2021</td>\n",
              "      <td>Arequipa</td>\n",
              "      <td>m_12</td>\n",
              "      <td>NaN</td>\n",
              "      <td>NaN</td>\n",
              "      <td>2021m_12</td>\n",
              "    </tr>\n",
              "    <tr>\n",
              "      <th>50422</th>\n",
              "      <td>Papa Canchan</td>\n",
              "      <td>2021</td>\n",
              "      <td>Barranca</td>\n",
              "      <td>m_12</td>\n",
              "      <td>NaN</td>\n",
              "      <td>NaN</td>\n",
              "      <td>2021m_12</td>\n",
              "    </tr>\n",
              "    <tr>\n",
              "      <th>50424</th>\n",
              "      <td>Papa Canchan</td>\n",
              "      <td>2021</td>\n",
              "      <td>Huamanga</td>\n",
              "      <td>m_12</td>\n",
              "      <td>NaN</td>\n",
              "      <td>NaN</td>\n",
              "      <td>2021m_12</td>\n",
              "    </tr>\n",
              "    <tr>\n",
              "      <th>51503</th>\n",
              "      <td>Papa Perricholi</td>\n",
              "      <td>2021</td>\n",
              "      <td>NaN</td>\n",
              "      <td>m_12</td>\n",
              "      <td>NaN</td>\n",
              "      <td>NaN</td>\n",
              "      <td>2021m_12</td>\n",
              "    </tr>\n",
              "  </tbody>\n",
              "</table>\n",
              "<p>51504 rows × 7 columns</p>\n",
              "</div>\n",
              "      <button class=\"colab-df-convert\" onclick=\"convertToInteractive('df-efe09324-40f3-4bda-bf74-ca0e6112c6c2')\"\n",
              "              title=\"Convert this dataframe to an interactive table.\"\n",
              "              style=\"display:none;\">\n",
              "        \n",
              "  <svg xmlns=\"http://www.w3.org/2000/svg\" height=\"24px\"viewBox=\"0 0 24 24\"\n",
              "       width=\"24px\">\n",
              "    <path d=\"M0 0h24v24H0V0z\" fill=\"none\"/>\n",
              "    <path d=\"M18.56 5.44l.94 2.06.94-2.06 2.06-.94-2.06-.94-.94-2.06-.94 2.06-2.06.94zm-11 1L8.5 8.5l.94-2.06 2.06-.94-2.06-.94L8.5 2.5l-.94 2.06-2.06.94zm10 10l.94 2.06.94-2.06 2.06-.94-2.06-.94-.94-2.06-.94 2.06-2.06.94z\"/><path d=\"M17.41 7.96l-1.37-1.37c-.4-.4-.92-.59-1.43-.59-.52 0-1.04.2-1.43.59L10.3 9.45l-7.72 7.72c-.78.78-.78 2.05 0 2.83L4 21.41c.39.39.9.59 1.41.59.51 0 1.02-.2 1.41-.59l7.78-7.78 2.81-2.81c.8-.78.8-2.07 0-2.86zM5.41 20L4 18.59l7.72-7.72 1.47 1.35L5.41 20z\"/>\n",
              "  </svg>\n",
              "      </button>\n",
              "      \n",
              "  <style>\n",
              "    .colab-df-container {\n",
              "      display:flex;\n",
              "      flex-wrap:wrap;\n",
              "      gap: 12px;\n",
              "    }\n",
              "\n",
              "    .colab-df-convert {\n",
              "      background-color: #E8F0FE;\n",
              "      border: none;\n",
              "      border-radius: 50%;\n",
              "      cursor: pointer;\n",
              "      display: none;\n",
              "      fill: #1967D2;\n",
              "      height: 32px;\n",
              "      padding: 0 0 0 0;\n",
              "      width: 32px;\n",
              "    }\n",
              "\n",
              "    .colab-df-convert:hover {\n",
              "      background-color: #E2EBFA;\n",
              "      box-shadow: 0px 1px 2px rgba(60, 64, 67, 0.3), 0px 1px 3px 1px rgba(60, 64, 67, 0.15);\n",
              "      fill: #174EA6;\n",
              "    }\n",
              "\n",
              "    [theme=dark] .colab-df-convert {\n",
              "      background-color: #3B4455;\n",
              "      fill: #D2E3FC;\n",
              "    }\n",
              "\n",
              "    [theme=dark] .colab-df-convert:hover {\n",
              "      background-color: #434B5C;\n",
              "      box-shadow: 0px 1px 3px 1px rgba(0, 0, 0, 0.15);\n",
              "      filter: drop-shadow(0px 1px 2px rgba(0, 0, 0, 0.3));\n",
              "      fill: #FFFFFF;\n",
              "    }\n",
              "  </style>\n",
              "\n",
              "      <script>\n",
              "        const buttonEl =\n",
              "          document.querySelector('#df-efe09324-40f3-4bda-bf74-ca0e6112c6c2 button.colab-df-convert');\n",
              "        buttonEl.style.display =\n",
              "          google.colab.kernel.accessAllowed ? 'block' : 'none';\n",
              "\n",
              "        async function convertToInteractive(key) {\n",
              "          const element = document.querySelector('#df-efe09324-40f3-4bda-bf74-ca0e6112c6c2');\n",
              "          const dataTable =\n",
              "            await google.colab.kernel.invokeFunction('convertToInteractive',\n",
              "                                                     [key], {});\n",
              "          if (!dataTable) return;\n",
              "\n",
              "          const docLinkHtml = 'Like what you see? Visit the ' +\n",
              "            '<a target=\"_blank\" href=https://colab.research.google.com/notebooks/data_table.ipynb>data table notebook</a>'\n",
              "            + ' to learn more about interactive tables.';\n",
              "          element.innerHTML = '';\n",
              "          dataTable['output_type'] = 'display_data';\n",
              "          await google.colab.output.renderOutput(dataTable, element);\n",
              "          const docLink = document.createElement('div');\n",
              "          docLink.innerHTML = docLinkHtml;\n",
              "          element.appendChild(docLink);\n",
              "        }\n",
              "      </script>\n",
              "    </div>\n",
              "  </div>\n",
              "  "
            ]
          },
          "metadata": {},
          "execution_count": 18
        }
      ]
    },
    {
      "cell_type": "code",
      "source": [
        "df_base.describe(include='all')"
      ],
      "metadata": {
        "colab": {
          "base_uri": "https://localhost:8080/",
          "height": 394
        },
        "id": "3n-wazIJHSUK",
        "outputId": "506f52dc-6d70-4511-b106-f5ad0b56378a"
      },
      "execution_count": null,
      "outputs": [
        {
          "output_type": "execute_result",
          "data": {
            "text/plain": [
              "           producto          year provincia    mes       volumen  \\\n",
              "count         51504  51504.000000     50520  51504  21333.000000   \n",
              "unique           11           NaN       121     12           NaN   \n",
              "top     Papa Blanca           NaN  Huancayo   m_01           NaN   \n",
              "freq          16524           NaN      2064   4292           NaN   \n",
              "mean            NaN   2010.492777       NaN    NaN    575.086887   \n",
              "std             NaN      7.112873       NaN    NaN   1413.341052   \n",
              "min             NaN   1997.000000       NaN    NaN      0.090000   \n",
              "25%             NaN   2005.000000       NaN    NaN     20.000000   \n",
              "50%             NaN   2012.000000       NaN    NaN     69.000000   \n",
              "75%             NaN   2017.000000       NaN    NaN    384.000000   \n",
              "max             NaN   2021.000000       NaN    NaN  16033.000000   \n",
              "\n",
              "              precio        ym  \n",
              "count   49313.000000     51504  \n",
              "unique           NaN       300  \n",
              "top              NaN  2019m_06  \n",
              "freq             NaN       257  \n",
              "mean        0.888341       NaN  \n",
              "std         0.426560       NaN  \n",
              "min         0.280000       NaN  \n",
              "25%         0.610000       NaN  \n",
              "50%         0.770000       NaN  \n",
              "75%         1.060000       NaN  \n",
              "max         3.320000       NaN  "
            ],
            "text/html": [
              "\n",
              "  <div id=\"df-a1657721-bfc5-4e7f-8e1a-d41576e78c38\">\n",
              "    <div class=\"colab-df-container\">\n",
              "      <div>\n",
              "<style scoped>\n",
              "    .dataframe tbody tr th:only-of-type {\n",
              "        vertical-align: middle;\n",
              "    }\n",
              "\n",
              "    .dataframe tbody tr th {\n",
              "        vertical-align: top;\n",
              "    }\n",
              "\n",
              "    .dataframe thead th {\n",
              "        text-align: right;\n",
              "    }\n",
              "</style>\n",
              "<table border=\"1\" class=\"dataframe\">\n",
              "  <thead>\n",
              "    <tr style=\"text-align: right;\">\n",
              "      <th></th>\n",
              "      <th>producto</th>\n",
              "      <th>year</th>\n",
              "      <th>provincia</th>\n",
              "      <th>mes</th>\n",
              "      <th>volumen</th>\n",
              "      <th>precio</th>\n",
              "      <th>ym</th>\n",
              "    </tr>\n",
              "  </thead>\n",
              "  <tbody>\n",
              "    <tr>\n",
              "      <th>count</th>\n",
              "      <td>51504</td>\n",
              "      <td>51504.000000</td>\n",
              "      <td>50520</td>\n",
              "      <td>51504</td>\n",
              "      <td>21333.000000</td>\n",
              "      <td>49313.000000</td>\n",
              "      <td>51504</td>\n",
              "    </tr>\n",
              "    <tr>\n",
              "      <th>unique</th>\n",
              "      <td>11</td>\n",
              "      <td>NaN</td>\n",
              "      <td>121</td>\n",
              "      <td>12</td>\n",
              "      <td>NaN</td>\n",
              "      <td>NaN</td>\n",
              "      <td>300</td>\n",
              "    </tr>\n",
              "    <tr>\n",
              "      <th>top</th>\n",
              "      <td>Papa Blanca</td>\n",
              "      <td>NaN</td>\n",
              "      <td>Huancayo</td>\n",
              "      <td>m_01</td>\n",
              "      <td>NaN</td>\n",
              "      <td>NaN</td>\n",
              "      <td>2019m_06</td>\n",
              "    </tr>\n",
              "    <tr>\n",
              "      <th>freq</th>\n",
              "      <td>16524</td>\n",
              "      <td>NaN</td>\n",
              "      <td>2064</td>\n",
              "      <td>4292</td>\n",
              "      <td>NaN</td>\n",
              "      <td>NaN</td>\n",
              "      <td>257</td>\n",
              "    </tr>\n",
              "    <tr>\n",
              "      <th>mean</th>\n",
              "      <td>NaN</td>\n",
              "      <td>2010.492777</td>\n",
              "      <td>NaN</td>\n",
              "      <td>NaN</td>\n",
              "      <td>575.086887</td>\n",
              "      <td>0.888341</td>\n",
              "      <td>NaN</td>\n",
              "    </tr>\n",
              "    <tr>\n",
              "      <th>std</th>\n",
              "      <td>NaN</td>\n",
              "      <td>7.112873</td>\n",
              "      <td>NaN</td>\n",
              "      <td>NaN</td>\n",
              "      <td>1413.341052</td>\n",
              "      <td>0.426560</td>\n",
              "      <td>NaN</td>\n",
              "    </tr>\n",
              "    <tr>\n",
              "      <th>min</th>\n",
              "      <td>NaN</td>\n",
              "      <td>1997.000000</td>\n",
              "      <td>NaN</td>\n",
              "      <td>NaN</td>\n",
              "      <td>0.090000</td>\n",
              "      <td>0.280000</td>\n",
              "      <td>NaN</td>\n",
              "    </tr>\n",
              "    <tr>\n",
              "      <th>25%</th>\n",
              "      <td>NaN</td>\n",
              "      <td>2005.000000</td>\n",
              "      <td>NaN</td>\n",
              "      <td>NaN</td>\n",
              "      <td>20.000000</td>\n",
              "      <td>0.610000</td>\n",
              "      <td>NaN</td>\n",
              "    </tr>\n",
              "    <tr>\n",
              "      <th>50%</th>\n",
              "      <td>NaN</td>\n",
              "      <td>2012.000000</td>\n",
              "      <td>NaN</td>\n",
              "      <td>NaN</td>\n",
              "      <td>69.000000</td>\n",
              "      <td>0.770000</td>\n",
              "      <td>NaN</td>\n",
              "    </tr>\n",
              "    <tr>\n",
              "      <th>75%</th>\n",
              "      <td>NaN</td>\n",
              "      <td>2017.000000</td>\n",
              "      <td>NaN</td>\n",
              "      <td>NaN</td>\n",
              "      <td>384.000000</td>\n",
              "      <td>1.060000</td>\n",
              "      <td>NaN</td>\n",
              "    </tr>\n",
              "    <tr>\n",
              "      <th>max</th>\n",
              "      <td>NaN</td>\n",
              "      <td>2021.000000</td>\n",
              "      <td>NaN</td>\n",
              "      <td>NaN</td>\n",
              "      <td>16033.000000</td>\n",
              "      <td>3.320000</td>\n",
              "      <td>NaN</td>\n",
              "    </tr>\n",
              "  </tbody>\n",
              "</table>\n",
              "</div>\n",
              "      <button class=\"colab-df-convert\" onclick=\"convertToInteractive('df-a1657721-bfc5-4e7f-8e1a-d41576e78c38')\"\n",
              "              title=\"Convert this dataframe to an interactive table.\"\n",
              "              style=\"display:none;\">\n",
              "        \n",
              "  <svg xmlns=\"http://www.w3.org/2000/svg\" height=\"24px\"viewBox=\"0 0 24 24\"\n",
              "       width=\"24px\">\n",
              "    <path d=\"M0 0h24v24H0V0z\" fill=\"none\"/>\n",
              "    <path d=\"M18.56 5.44l.94 2.06.94-2.06 2.06-.94-2.06-.94-.94-2.06-.94 2.06-2.06.94zm-11 1L8.5 8.5l.94-2.06 2.06-.94-2.06-.94L8.5 2.5l-.94 2.06-2.06.94zm10 10l.94 2.06.94-2.06 2.06-.94-2.06-.94-.94-2.06-.94 2.06-2.06.94z\"/><path d=\"M17.41 7.96l-1.37-1.37c-.4-.4-.92-.59-1.43-.59-.52 0-1.04.2-1.43.59L10.3 9.45l-7.72 7.72c-.78.78-.78 2.05 0 2.83L4 21.41c.39.39.9.59 1.41.59.51 0 1.02-.2 1.41-.59l7.78-7.78 2.81-2.81c.8-.78.8-2.07 0-2.86zM5.41 20L4 18.59l7.72-7.72 1.47 1.35L5.41 20z\"/>\n",
              "  </svg>\n",
              "      </button>\n",
              "      \n",
              "  <style>\n",
              "    .colab-df-container {\n",
              "      display:flex;\n",
              "      flex-wrap:wrap;\n",
              "      gap: 12px;\n",
              "    }\n",
              "\n",
              "    .colab-df-convert {\n",
              "      background-color: #E8F0FE;\n",
              "      border: none;\n",
              "      border-radius: 50%;\n",
              "      cursor: pointer;\n",
              "      display: none;\n",
              "      fill: #1967D2;\n",
              "      height: 32px;\n",
              "      padding: 0 0 0 0;\n",
              "      width: 32px;\n",
              "    }\n",
              "\n",
              "    .colab-df-convert:hover {\n",
              "      background-color: #E2EBFA;\n",
              "      box-shadow: 0px 1px 2px rgba(60, 64, 67, 0.3), 0px 1px 3px 1px rgba(60, 64, 67, 0.15);\n",
              "      fill: #174EA6;\n",
              "    }\n",
              "\n",
              "    [theme=dark] .colab-df-convert {\n",
              "      background-color: #3B4455;\n",
              "      fill: #D2E3FC;\n",
              "    }\n",
              "\n",
              "    [theme=dark] .colab-df-convert:hover {\n",
              "      background-color: #434B5C;\n",
              "      box-shadow: 0px 1px 3px 1px rgba(0, 0, 0, 0.15);\n",
              "      filter: drop-shadow(0px 1px 2px rgba(0, 0, 0, 0.3));\n",
              "      fill: #FFFFFF;\n",
              "    }\n",
              "  </style>\n",
              "\n",
              "      <script>\n",
              "        const buttonEl =\n",
              "          document.querySelector('#df-a1657721-bfc5-4e7f-8e1a-d41576e78c38 button.colab-df-convert');\n",
              "        buttonEl.style.display =\n",
              "          google.colab.kernel.accessAllowed ? 'block' : 'none';\n",
              "\n",
              "        async function convertToInteractive(key) {\n",
              "          const element = document.querySelector('#df-a1657721-bfc5-4e7f-8e1a-d41576e78c38');\n",
              "          const dataTable =\n",
              "            await google.colab.kernel.invokeFunction('convertToInteractive',\n",
              "                                                     [key], {});\n",
              "          if (!dataTable) return;\n",
              "\n",
              "          const docLinkHtml = 'Like what you see? Visit the ' +\n",
              "            '<a target=\"_blank\" href=https://colab.research.google.com/notebooks/data_table.ipynb>data table notebook</a>'\n",
              "            + ' to learn more about interactive tables.';\n",
              "          element.innerHTML = '';\n",
              "          dataTable['output_type'] = 'display_data';\n",
              "          await google.colab.output.renderOutput(dataTable, element);\n",
              "          const docLink = document.createElement('div');\n",
              "          docLink.innerHTML = docLinkHtml;\n",
              "          element.appendChild(docLink);\n",
              "        }\n",
              "      </script>\n",
              "    </div>\n",
              "  </div>\n",
              "  "
            ]
          },
          "metadata": {},
          "execution_count": 19
        }
      ]
    },
    {
      "cell_type": "code",
      "source": [
        "df_base1.info()"
      ],
      "metadata": {
        "colab": {
          "base_uri": "https://localhost:8080/"
        },
        "id": "7r-Mpa0soiKs",
        "outputId": "c6fee8d2-8279-45eb-9b42-882c19f7ffc5"
      },
      "execution_count": 105,
      "outputs": [
        {
          "output_type": "stream",
          "name": "stdout",
          "text": [
            "<class 'pandas.core.frame.DataFrame'>\n",
            "Int64Index: 49181 entries, 0 to 51502\n",
            "Data columns (total 8 columns):\n",
            " #   Column     Non-Null Count  Dtype  \n",
            "---  ------     --------------  -----  \n",
            " 0   variedad   49181 non-null  object \n",
            " 1   year       49181 non-null  int64  \n",
            " 2   provincia  49059 non-null  object \n",
            " 3   mes        49181 non-null  object \n",
            " 4   volumen    49181 non-null  float64\n",
            " 5   precio     49181 non-null  float64\n",
            " 6   ym         49181 non-null  object \n",
            " 7   valor      49181 non-null  float64\n",
            "dtypes: float64(3), int64(1), object(4)\n",
            "memory usage: 3.4+ MB\n"
          ]
        }
      ]
    },
    {
      "cell_type": "markdown",
      "source": [
        "## **2. Evaluación y limpieza de la base de datos**"
      ],
      "metadata": {
        "id": "Jr3mJg_pwBc_"
      }
    },
    {
      "cell_type": "markdown",
      "source": [
        "### Creamos un objeto con el numero de observaciones con valor en el volumen transado por mes, uso del método **groupby** en Pandas"
      ],
      "metadata": {
        "id": "ZIoX8Ht0GFvq"
      }
    },
    {
      "cell_type": "code",
      "source": [
        "observ=df_base.groupby(df_base.ym)['volumen'].count()"
      ],
      "metadata": {
        "id": "63FOKKQ5Frjy"
      },
      "execution_count": 106,
      "outputs": []
    },
    {
      "cell_type": "code",
      "source": [
        "observ.plot()"
      ],
      "metadata": {
        "colab": {
          "base_uri": "https://localhost:8080/",
          "height": 298
        },
        "id": "m8NMqJNLwWqB",
        "outputId": "fb191bcf-9edf-4448-abfd-e4bac6f92c3b"
      },
      "execution_count": 109,
      "outputs": [
        {
          "output_type": "execute_result",
          "data": {
            "text/plain": [
              "<matplotlib.axes._subplots.AxesSubplot at 0x7f2054f8a490>"
            ]
          },
          "metadata": {},
          "execution_count": 109
        },
        {
          "output_type": "display_data",
          "data": {
            "text/plain": [
              "<Figure size 432x288 with 1 Axes>"
            ],
            "image/png": "[encoded data removed]"
          },
          "metadata": {
            "needs_background": "light"
          }
        }
      ]
    },
    {
      "cell_type": "code",
      "source": [
        "observ[observ==0]"
      ],
      "metadata": {
        "colab": {
          "base_uri": "https://localhost:8080/"
        },
        "id": "mrJpMe0Qwo0_",
        "outputId": "bd79e5ad-8a53-4aa5-f1d0-09678ad5b02b"
      },
      "execution_count": null,
      "outputs": [
        {
          "output_type": "execute_result",
          "data": {
            "text/plain": [
              "ym\n",
              "1997m_09    0\n",
              "2014m_12    0\n",
              "2021m_06    0\n",
              "2021m_07    0\n",
              "2021m_08    0\n",
              "2021m_09    0\n",
              "2021m_10    0\n",
              "2021m_11    0\n",
              "2021m_12    0\n",
              "Name: volumen, dtype: int64"
            ]
          },
          "metadata": {},
          "execution_count": 22
        }
      ]
    },
    {
      "cell_type": "markdown",
      "source": [
        "## Hay 9 meses con ninguna observación para volumen: set 1997, dic 2014 y junio-diciembre 2021"
      ],
      "metadata": {
        "id": "6h78OFQkxH5H"
      }
    },
    {
      "cell_type": "code",
      "source": [
        "plt.scatter(observ.index, observ, marker='.')"
      ],
      "metadata": {
        "colab": {
          "base_uri": "https://localhost:8080/",
          "height": 284
        },
        "id": "UYuW_C-RH_69",
        "outputId": "c1d8fcf1-1fc4-46fa-de5f-0813cb6bc3cc"
      },
      "execution_count": null,
      "outputs": [
        {
          "output_type": "execute_result",
          "data": {
            "text/plain": [
              "<matplotlib.collections.PathCollection at 0x7f206d39b490>"
            ]
          },
          "metadata": {},
          "execution_count": 23
        },
        {
          "output_type": "display_data",
          "data": {
            "text/plain": [
              "<Figure size 432x288 with 1 Axes>"
            ],
            "image/png": "[encoded data removed]"
          },
          "metadata": {
            "needs_background": "light"
          }
        }
      ]
    },
    {
      "cell_type": "markdown",
      "source": [
        "## Atención a meses sin observaciones (NaN). \n",
        "No es razonable que no haya ninguna transacción de papa durante todo un mes. Para junio-dic 2021 el tema es que los datos obtenidos de la web sólo llegaban a mayo 2021. Estos meses se pueden eliminar. Para los otros dos meses de la serie debemos tomar decisión. Decidimos, ya que no hay información sobre transacciones (sin saber la causa de dicha situación), eliminar estos dos meses de la serie. "
      ],
      "metadata": {
        "id": "BUlqh6GCxyON"
      }
    },
    {
      "cell_type": "markdown",
      "source": [],
      "metadata": {
        "id": "EvGZiSOzxt7W"
      }
    },
    {
      "cell_type": "code",
      "source": [
        "df_base1 = df_base[(df_base['ym'] != '1997m_09') & (df_base['ym'] != '2014m_12') &\n",
        "                    (df_base['ym'] != '2021m_06') & (df_base['ym'] != '2021m_07') & \n",
        "                    (df_base['ym'] != '2021m_08') & (df_base['ym'] != '2021m_09') & \n",
        "                    (df_base['ym'] != '2021m_10') & (df_base['ym'] != '2021m_11') & \n",
        "                    (df_base['ym'] != '2021m_12')]\n"
      ],
      "metadata": {
        "id": "3eK1IwbiWlSF"
      },
      "execution_count": 110,
      "outputs": []
    },
    {
      "cell_type": "code",
      "source": [
        "df_base1.sort_values('ym')"
      ],
      "metadata": {
        "colab": {
          "base_uri": "https://localhost:8080/",
          "height": 423
        },
        "id": "Fz7clvV-WWQn",
        "outputId": "414a5550-d9cb-4b86-82c6-d33d10e0fcc0"
      },
      "execution_count": 111,
      "outputs": [
        {
          "output_type": "execute_result",
          "data": {
            "text/plain": [
              "            producto  year     provincia   mes  volumen  precio        ym\n",
              "0      Papa Amarilla  1997       Abancay  m_01      NaN    0.90  1997m_01\n",
              "102       Papa Color  1997         Jauja  m_01    96.00    0.55  1997m_01\n",
              "101       Papa Color  1997           Ica  m_01    45.60    0.55  1997m_01\n",
              "100       Papa Color  1997        Huaura  m_01   167.52    0.55  1997m_01\n",
              "99        Papa Color  1997       Huarmey  m_01      NaN    0.55  1997m_01\n",
              "...              ...   ...           ...   ...      ...     ...       ...\n",
              "21000    Papa Huayro  2021         Pasco  m_05      NaN    0.85  2021m_05\n",
              "20999    Papa Huayro  2021          Lima  m_05    22.00    0.85  2021m_05\n",
              "20998    Papa Huayro  2021       Huanuco  m_05    85.00    0.85  2021m_05\n",
              "20996    Papa Huayro  2021  Huancavelica  m_05      NaN    0.85  2021m_05\n",
              "21022     Papa Unica  2021          Lima  m_05    45.00    1.37  2021m_05\n",
              "\n",
              "[50109 rows x 7 columns]"
            ],
            "text/html": [
              "\n",
              "  <div id=\"df-baeffff9-ed43-4364-8477-cbc61d9916a2\">\n",
              "    <div class=\"colab-df-container\">\n",
              "      <div>\n",
              "<style scoped>\n",
              "    .dataframe tbody tr th:only-of-type {\n",
              "        vertical-align: middle;\n",
              "    }\n",
              "\n",
              "    .dataframe tbody tr th {\n",
              "        vertical-align: top;\n",
              "    }\n",
              "\n",
              "    .dataframe thead th {\n",
              "        text-align: right;\n",
              "    }\n",
              "</style>\n",
              "<table border=\"1\" class=\"dataframe\">\n",
              "  <thead>\n",
              "    <tr style=\"text-align: right;\">\n",
              "      <th></th>\n",
              "      <th>producto</th>\n",
              "      <th>year</th>\n",
              "      <th>provincia</th>\n",
              "      <th>mes</th>\n",
              "      <th>volumen</th>\n",
              "      <th>precio</th>\n",
              "      <th>ym</th>\n",
              "    </tr>\n",
              "  </thead>\n",
              "  <tbody>\n",
              "    <tr>\n",
              "      <th>0</th>\n",
              "      <td>Papa Amarilla</td>\n",
              "      <td>1997</td>\n",
              "      <td>Abancay</td>\n",
              "      <td>m_01</td>\n",
              "      <td>NaN</td>\n",
              "      <td>0.90</td>\n",
              "      <td>1997m_01</td>\n",
              "    </tr>\n",
              "    <tr>\n",
              "      <th>102</th>\n",
              "      <td>Papa Color</td>\n",
              "      <td>1997</td>\n",
              "      <td>Jauja</td>\n",
              "      <td>m_01</td>\n",
              "      <td>96.00</td>\n",
              "      <td>0.55</td>\n",
              "      <td>1997m_01</td>\n",
              "    </tr>\n",
              "    <tr>\n",
              "      <th>101</th>\n",
              "      <td>Papa Color</td>\n",
              "      <td>1997</td>\n",
              "      <td>Ica</td>\n",
              "      <td>m_01</td>\n",
              "      <td>45.60</td>\n",
              "      <td>0.55</td>\n",
              "      <td>1997m_01</td>\n",
              "    </tr>\n",
              "    <tr>\n",
              "      <th>100</th>\n",
              "      <td>Papa Color</td>\n",
              "      <td>1997</td>\n",
              "      <td>Huaura</td>\n",
              "      <td>m_01</td>\n",
              "      <td>167.52</td>\n",
              "      <td>0.55</td>\n",
              "      <td>1997m_01</td>\n",
              "    </tr>\n",
              "    <tr>\n",
              "      <th>99</th>\n",
              "      <td>Papa Color</td>\n",
              "      <td>1997</td>\n",
              "      <td>Huarmey</td>\n",
              "      <td>m_01</td>\n",
              "      <td>NaN</td>\n",
              "      <td>0.55</td>\n",
              "      <td>1997m_01</td>\n",
              "    </tr>\n",
              "    <tr>\n",
              "      <th>...</th>\n",
              "      <td>...</td>\n",
              "      <td>...</td>\n",
              "      <td>...</td>\n",
              "      <td>...</td>\n",
              "      <td>...</td>\n",
              "      <td>...</td>\n",
              "      <td>...</td>\n",
              "    </tr>\n",
              "    <tr>\n",
              "      <th>21000</th>\n",
              "      <td>Papa Huayro</td>\n",
              "      <td>2021</td>\n",
              "      <td>Pasco</td>\n",
              "      <td>m_05</td>\n",
              "      <td>NaN</td>\n",
              "      <td>0.85</td>\n",
              "      <td>2021m_05</td>\n",
              "    </tr>\n",
              "    <tr>\n",
              "      <th>20999</th>\n",
              "      <td>Papa Huayro</td>\n",
              "      <td>2021</td>\n",
              "      <td>Lima</td>\n",
              "      <td>m_05</td>\n",
              "      <td>22.00</td>\n",
              "      <td>0.85</td>\n",
              "      <td>2021m_05</td>\n",
              "    </tr>\n",
              "    <tr>\n",
              "      <th>20998</th>\n",
              "      <td>Papa Huayro</td>\n",
              "      <td>2021</td>\n",
              "      <td>Huanuco</td>\n",
              "      <td>m_05</td>\n",
              "      <td>85.00</td>\n",
              "      <td>0.85</td>\n",
              "      <td>2021m_05</td>\n",
              "    </tr>\n",
              "    <tr>\n",
              "      <th>20996</th>\n",
              "      <td>Papa Huayro</td>\n",
              "      <td>2021</td>\n",
              "      <td>Huancavelica</td>\n",
              "      <td>m_05</td>\n",
              "      <td>NaN</td>\n",
              "      <td>0.85</td>\n",
              "      <td>2021m_05</td>\n",
              "    </tr>\n",
              "    <tr>\n",
              "      <th>21022</th>\n",
              "      <td>Papa Unica</td>\n",
              "      <td>2021</td>\n",
              "      <td>Lima</td>\n",
              "      <td>m_05</td>\n",
              "      <td>45.00</td>\n",
              "      <td>1.37</td>\n",
              "      <td>2021m_05</td>\n",
              "    </tr>\n",
              "  </tbody>\n",
              "</table>\n",
              "<p>50109 rows × 7 columns</p>\n",
              "</div>\n",
              "      <button class=\"colab-df-convert\" onclick=\"convertToInteractive('df-baeffff9-ed43-4364-8477-cbc61d9916a2')\"\n",
              "              title=\"Convert this dataframe to an interactive table.\"\n",
              "              style=\"display:none;\">\n",
              "        \n",
              "  <svg xmlns=\"http://www.w3.org/2000/svg\" height=\"24px\"viewBox=\"0 0 24 24\"\n",
              "       width=\"24px\">\n",
              "    <path d=\"M0 0h24v24H0V0z\" fill=\"none\"/>\n",
              "    <path d=\"M18.56 5.44l.94 2.06.94-2.06 2.06-.94-2.06-.94-.94-2.06-.94 2.06-2.06.94zm-11 1L8.5 8.5l.94-2.06 2.06-.94-2.06-.94L8.5 2.5l-.94 2.06-2.06.94zm10 10l.94 2.06.94-2.06 2.06-.94-2.06-.94-.94-2.06-.94 2.06-2.06.94z\"/><path d=\"M17.41 7.96l-1.37-1.37c-.4-.4-.92-.59-1.43-.59-.52 0-1.04.2-1.43.59L10.3 9.45l-7.72 7.72c-.78.78-.78 2.05 0 2.83L4 21.41c.39.39.9.59 1.41.59.51 0 1.02-.2 1.41-.59l7.78-7.78 2.81-2.81c.8-.78.8-2.07 0-2.86zM5.41 20L4 18.59l7.72-7.72 1.47 1.35L5.41 20z\"/>\n",
              "  </svg>\n",
              "      </button>\n",
              "      \n",
              "  <style>\n",
              "    .colab-df-container {\n",
              "      display:flex;\n",
              "      flex-wrap:wrap;\n",
              "      gap: 12px;\n",
              "    }\n",
              "\n",
              "    .colab-df-convert {\n",
              "      background-color: #E8F0FE;\n",
              "      border: none;\n",
              "      border-radius: 50%;\n",
              "      cursor: pointer;\n",
              "      display: none;\n",
              "      fill: #1967D2;\n",
              "      height: 32px;\n",
              "      padding: 0 0 0 0;\n",
              "      width: 32px;\n",
              "    }\n",
              "\n",
              "    .colab-df-convert:hover {\n",
              "      background-color: #E2EBFA;\n",
              "      box-shadow: 0px 1px 2px rgba(60, 64, 67, 0.3), 0px 1px 3px 1px rgba(60, 64, 67, 0.15);\n",
              "      fill: #174EA6;\n",
              "    }\n",
              "\n",
              "    [theme=dark] .colab-df-convert {\n",
              "      background-color: #3B4455;\n",
              "      fill: #D2E3FC;\n",
              "    }\n",
              "\n",
              "    [theme=dark] .colab-df-convert:hover {\n",
              "      background-color: #434B5C;\n",
              "      box-shadow: 0px 1px 3px 1px rgba(0, 0, 0, 0.15);\n",
              "      filter: drop-shadow(0px 1px 2px rgba(0, 0, 0, 0.3));\n",
              "      fill: #FFFFFF;\n",
              "    }\n",
              "  </style>\n",
              "\n",
              "      <script>\n",
              "        const buttonEl =\n",
              "          document.querySelector('#df-baeffff9-ed43-4364-8477-cbc61d9916a2 button.colab-df-convert');\n",
              "        buttonEl.style.display =\n",
              "          google.colab.kernel.accessAllowed ? 'block' : 'none';\n",
              "\n",
              "        async function convertToInteractive(key) {\n",
              "          const element = document.querySelector('#df-baeffff9-ed43-4364-8477-cbc61d9916a2');\n",
              "          const dataTable =\n",
              "            await google.colab.kernel.invokeFunction('convertToInteractive',\n",
              "                                                     [key], {});\n",
              "          if (!dataTable) return;\n",
              "\n",
              "          const docLinkHtml = 'Like what you see? Visit the ' +\n",
              "            '<a target=\"_blank\" href=https://colab.research.google.com/notebooks/data_table.ipynb>data table notebook</a>'\n",
              "            + ' to learn more about interactive tables.';\n",
              "          element.innerHTML = '';\n",
              "          dataTable['output_type'] = 'display_data';\n",
              "          await google.colab.output.renderOutput(dataTable, element);\n",
              "          const docLink = document.createElement('div');\n",
              "          docLink.innerHTML = docLinkHtml;\n",
              "          element.appendChild(docLink);\n",
              "        }\n",
              "      </script>\n",
              "    </div>\n",
              "  </div>\n",
              "  "
            ]
          },
          "metadata": {},
          "execution_count": 111
        }
      ]
    },
    {
      "cell_type": "code",
      "source": [
        "observ1=df_base1.groupby(df_base.ym)['volumen'].count()"
      ],
      "metadata": {
        "id": "Labt8ovIYJ0C"
      },
      "execution_count": 112,
      "outputs": []
    },
    {
      "cell_type": "code",
      "source": [
        "plt.figure(figsize=(10,5))\n",
        "plt.scatter(observ1.index, observ1, marker='.')\n",
        "plt.show()"
      ],
      "metadata": {
        "colab": {
          "base_uri": "https://localhost:8080/",
          "height": 321
        },
        "id": "eTeFvC1YYW_J",
        "outputId": "1addf003-c28c-4d18-b954-0ee5eaf5bdba"
      },
      "execution_count": 115,
      "outputs": [
        {
          "output_type": "display_data",
          "data": {
            "text/plain": [
              "<Figure size 720x360 with 1 Axes>"
            ],
            "image/png": "[encoded data removed]"
          },
          "metadata": {
            "needs_background": "light"
          }
        }
      ]
    },
    {
      "cell_type": "code",
      "source": [
        "df_base1.volumen.isna().sum()"
      ],
      "metadata": {
        "colab": {
          "base_uri": "https://localhost:8080/"
        },
        "id": "P_gXWRbgdZMy",
        "outputId": "5db1f2cb-870a-4641-842c-c90ea0d886a8"
      },
      "execution_count": 116,
      "outputs": [
        {
          "output_type": "execute_result",
          "data": {
            "text/plain": [
              "28776"
            ]
          },
          "metadata": {},
          "execution_count": 116
        }
      ]
    },
    {
      "cell_type": "markdown",
      "source": [
        "## La variable volumen tiene muchos valores como NaN. En este caso le asignaremos el valor de 0 porque en dicho mes en la provincia no hubo oferta pese a que sí se formó precio"
      ],
      "metadata": {
        "id": "ZqvtdnPEiEd1"
      }
    },
    {
      "cell_type": "code",
      "source": [
        "df_base1.volumen.fillna(0, inplace=True)\n",
        "df_base1.describe()"
      ],
      "metadata": {
        "colab": {
          "base_uri": "https://localhost:8080/",
          "height": 411
        },
        "id": "JowhIJMPiOgF",
        "outputId": "fe5c3c80-6989-4d3a-c60b-00ebb209a21e"
      },
      "execution_count": 117,
      "outputs": [
        {
          "output_type": "stream",
          "name": "stderr",
          "text": [
            "/usr/local/lib/python3.8/dist-packages/pandas/core/generic.py:6392: SettingWithCopyWarning: \n",
            "A value is trying to be set on a copy of a slice from a DataFrame\n",
            "\n",
            "See the caveats in the documentation: https://pandas.pydata.org/pandas-docs/stable/user_guide/indexing.html#returning-a-view-versus-a-copy\n",
            "  return self._update_inplace(result)\n"
          ]
        },
        {
          "output_type": "execute_result",
          "data": {
            "text/plain": [
              "               year       volumen        precio\n",
              "count  50109.000000  50109.000000  49181.000000\n",
              "mean    2010.293660    244.832836      0.888293\n",
              "std        7.004668    965.012567      0.427099\n",
              "min     1997.000000      0.000000      0.280000\n",
              "25%     2004.000000      0.000000      0.610000\n",
              "50%     2011.000000      0.000000      0.770000\n",
              "75%     2016.000000     42.560000      1.060000\n",
              "max     2021.000000  16033.000000      3.320000"
            ],
            "text/html": [
              "\n",
              "  <div id=\"df-f844df49-9cce-43e2-aa61-ea51218c117e\">\n",
              "    <div class=\"colab-df-container\">\n",
              "      <div>\n",
              "<style scoped>\n",
              "    .dataframe tbody tr th:only-of-type {\n",
              "        vertical-align: middle;\n",
              "    }\n",
              "\n",
              "    .dataframe tbody tr th {\n",
              "        vertical-align: top;\n",
              "    }\n",
              "\n",
              "    .dataframe thead th {\n",
              "        text-align: right;\n",
              "    }\n",
              "</style>\n",
              "<table border=\"1\" class=\"dataframe\">\n",
              "  <thead>\n",
              "    <tr style=\"text-align: right;\">\n",
              "      <th></th>\n",
              "      <th>year</th>\n",
              "      <th>volumen</th>\n",
              "      <th>precio</th>\n",
              "    </tr>\n",
              "  </thead>\n",
              "  <tbody>\n",
              "    <tr>\n",
              "      <th>count</th>\n",
              "      <td>50109.000000</td>\n",
              "      <td>50109.000000</td>\n",
              "      <td>49181.000000</td>\n",
              "    </tr>\n",
              "    <tr>\n",
              "      <th>mean</th>\n",
              "      <td>2010.293660</td>\n",
              "      <td>244.832836</td>\n",
              "      <td>0.888293</td>\n",
              "    </tr>\n",
              "    <tr>\n",
              "      <th>std</th>\n",
              "      <td>7.004668</td>\n",
              "      <td>965.012567</td>\n",
              "      <td>0.427099</td>\n",
              "    </tr>\n",
              "    <tr>\n",
              "      <th>min</th>\n",
              "      <td>1997.000000</td>\n",
              "      <td>0.000000</td>\n",
              "      <td>0.280000</td>\n",
              "    </tr>\n",
              "    <tr>\n",
              "      <th>25%</th>\n",
              "      <td>2004.000000</td>\n",
              "      <td>0.000000</td>\n",
              "      <td>0.610000</td>\n",
              "    </tr>\n",
              "    <tr>\n",
              "      <th>50%</th>\n",
              "      <td>2011.000000</td>\n",
              "      <td>0.000000</td>\n",
              "      <td>0.770000</td>\n",
              "    </tr>\n",
              "    <tr>\n",
              "      <th>75%</th>\n",
              "      <td>2016.000000</td>\n",
              "      <td>42.560000</td>\n",
              "      <td>1.060000</td>\n",
              "    </tr>\n",
              "    <tr>\n",
              "      <th>max</th>\n",
              "      <td>2021.000000</td>\n",
              "      <td>16033.000000</td>\n",
              "      <td>3.320000</td>\n",
              "    </tr>\n",
              "  </tbody>\n",
              "</table>\n",
              "</div>\n",
              "      <button class=\"colab-df-convert\" onclick=\"convertToInteractive('df-f844df49-9cce-43e2-aa61-ea51218c117e')\"\n",
              "              title=\"Convert this dataframe to an interactive table.\"\n",
              "              style=\"display:none;\">\n",
              "        \n",
              "  <svg xmlns=\"http://www.w3.org/2000/svg\" height=\"24px\"viewBox=\"0 0 24 24\"\n",
              "       width=\"24px\">\n",
              "    <path d=\"M0 0h24v24H0V0z\" fill=\"none\"/>\n",
              "    <path d=\"M18.56 5.44l.94 2.06.94-2.06 2.06-.94-2.06-.94-.94-2.06-.94 2.06-2.06.94zm-11 1L8.5 8.5l.94-2.06 2.06-.94-2.06-.94L8.5 2.5l-.94 2.06-2.06.94zm10 10l.94 2.06.94-2.06 2.06-.94-2.06-.94-.94-2.06-.94 2.06-2.06.94z\"/><path d=\"M17.41 7.96l-1.37-1.37c-.4-.4-.92-.59-1.43-.59-.52 0-1.04.2-1.43.59L10.3 9.45l-7.72 7.72c-.78.78-.78 2.05 0 2.83L4 21.41c.39.39.9.59 1.41.59.51 0 1.02-.2 1.41-.59l7.78-7.78 2.81-2.81c.8-.78.8-2.07 0-2.86zM5.41 20L4 18.59l7.72-7.72 1.47 1.35L5.41 20z\"/>\n",
              "  </svg>\n",
              "      </button>\n",
              "      \n",
              "  <style>\n",
              "    .colab-df-container {\n",
              "      display:flex;\n",
              "      flex-wrap:wrap;\n",
              "      gap: 12px;\n",
              "    }\n",
              "\n",
              "    .colab-df-convert {\n",
              "      background-color: #E8F0FE;\n",
              "      border: none;\n",
              "      border-radius: 50%;\n",
              "      cursor: pointer;\n",
              "      display: none;\n",
              "      fill: #1967D2;\n",
              "      height: 32px;\n",
              "      padding: 0 0 0 0;\n",
              "      width: 32px;\n",
              "    }\n",
              "\n",
              "    .colab-df-convert:hover {\n",
              "      background-color: #E2EBFA;\n",
              "      box-shadow: 0px 1px 2px rgba(60, 64, 67, 0.3), 0px 1px 3px 1px rgba(60, 64, 67, 0.15);\n",
              "      fill: #174EA6;\n",
              "    }\n",
              "\n",
              "    [theme=dark] .colab-df-convert {\n",
              "      background-color: #3B4455;\n",
              "      fill: #D2E3FC;\n",
              "    }\n",
              "\n",
              "    [theme=dark] .colab-df-convert:hover {\n",
              "      background-color: #434B5C;\n",
              "      box-shadow: 0px 1px 3px 1px rgba(0, 0, 0, 0.15);\n",
              "      filter: drop-shadow(0px 1px 2px rgba(0, 0, 0, 0.3));\n",
              "      fill: #FFFFFF;\n",
              "    }\n",
              "  </style>\n",
              "\n",
              "      <script>\n",
              "        const buttonEl =\n",
              "          document.querySelector('#df-f844df49-9cce-43e2-aa61-ea51218c117e button.colab-df-convert');\n",
              "        buttonEl.style.display =\n",
              "          google.colab.kernel.accessAllowed ? 'block' : 'none';\n",
              "\n",
              "        async function convertToInteractive(key) {\n",
              "          const element = document.querySelector('#df-f844df49-9cce-43e2-aa61-ea51218c117e');\n",
              "          const dataTable =\n",
              "            await google.colab.kernel.invokeFunction('convertToInteractive',\n",
              "                                                     [key], {});\n",
              "          if (!dataTable) return;\n",
              "\n",
              "          const docLinkHtml = 'Like what you see? Visit the ' +\n",
              "            '<a target=\"_blank\" href=https://colab.research.google.com/notebooks/data_table.ipynb>data table notebook</a>'\n",
              "            + ' to learn more about interactive tables.';\n",
              "          element.innerHTML = '';\n",
              "          dataTable['output_type'] = 'display_data';\n",
              "          await google.colab.output.renderOutput(dataTable, element);\n",
              "          const docLink = document.createElement('div');\n",
              "          docLink.innerHTML = docLinkHtml;\n",
              "          element.appendChild(docLink);\n",
              "        }\n",
              "      </script>\n",
              "    </div>\n",
              "  </div>\n",
              "  "
            ]
          },
          "metadata": {},
          "execution_count": 117
        }
      ]
    },
    {
      "cell_type": "code",
      "source": [
        "df_base1.precio.isna().sum()"
      ],
      "metadata": {
        "colab": {
          "base_uri": "https://localhost:8080/"
        },
        "id": "Gb3FVd83d2-3",
        "outputId": "a19351cb-114c-48eb-f979-66fe110566a4"
      },
      "execution_count": 118,
      "outputs": [
        {
          "output_type": "execute_result",
          "data": {
            "text/plain": [
              "928"
            ]
          },
          "metadata": {},
          "execution_count": 118
        }
      ]
    },
    {
      "cell_type": "markdown",
      "source": [
        "## La variable precio tiene observaciones con NaN.  Vemos de qué se trata"
      ],
      "metadata": {
        "id": "LaHF0XIpd8Zn"
      }
    },
    {
      "cell_type": "code",
      "source": [
        "bb_pna=df_base1[df_base1.precio.isna()]"
      ],
      "metadata": {
        "id": "q560R_S7eJfj"
      },
      "execution_count": 119,
      "outputs": []
    },
    {
      "cell_type": "code",
      "source": [
        "bb_pna.producto.unique()"
      ],
      "metadata": {
        "colab": {
          "base_uri": "https://localhost:8080/"
        },
        "id": "qgFFEs3Deii2",
        "outputId": "ca8f254c-aa55-4b44-88bf-c5428f8f25b4"
      },
      "execution_count": 120,
      "outputs": [
        {
          "output_type": "execute_result",
          "data": {
            "text/plain": [
              "array(['Papa Huamantanga', 'Papa Perricholi', 'Papa Peruanita',\n",
              "       'Papa Negra Andina', 'Papa Canchan', 'Papa Unica', 'Papa Yungay'],\n",
              "      dtype=object)"
            ]
          },
          "metadata": {},
          "execution_count": 120
        }
      ]
    },
    {
      "cell_type": "code",
      "source": [
        "observ2=bb_pna.groupby(bb_pna.year)['volumen'].sum()\n",
        "plt.scatter(observ2.index, observ2, marker='.')"
      ],
      "metadata": {
        "colab": {
          "base_uri": "https://localhost:8080/",
          "height": 283
        },
        "id": "_SnlovFde0zN",
        "outputId": "7f661885-29c9-4e8e-bc4c-3b3af6974e03"
      },
      "execution_count": 121,
      "outputs": [
        {
          "output_type": "execute_result",
          "data": {
            "text/plain": [
              "<matplotlib.collections.PathCollection at 0x7f205476d7f0>"
            ]
          },
          "metadata": {},
          "execution_count": 121
        },
        {
          "output_type": "display_data",
          "data": {
            "text/plain": [
              "<Figure size 432x288 with 1 Axes>"
            ],
            "image/png": "[encoded data removed]"
          },
          "metadata": {
            "needs_background": "light"
          }
        }
      ]
    },
    {
      "cell_type": "code",
      "source": [
        "df_base1.dropna(subset=['precio'], inplace=True)"
      ],
      "metadata": {
        "colab": {
          "base_uri": "https://localhost:8080/"
        },
        "id": "7tnyapTsawTr",
        "outputId": "6f229936-7557-410b-9ba0-a2c6c6ecb497"
      },
      "execution_count": 122,
      "outputs": [
        {
          "output_type": "stream",
          "name": "stderr",
          "text": [
            "/usr/local/lib/python3.8/dist-packages/pandas/util/_decorators.py:311: SettingWithCopyWarning: \n",
            "A value is trying to be set on a copy of a slice from a DataFrame\n",
            "\n",
            "See the caveats in the documentation: https://pandas.pydata.org/pandas-docs/stable/user_guide/indexing.html#returning-a-view-versus-a-copy\n",
            "  return func(*args, **kwargs)\n"
          ]
        }
      ]
    },
    {
      "cell_type": "markdown",
      "source": [
        "## La base df_base1 ha pasado por una primera limpieza donde se han hecho los siguientes ajustes: (i) eliminamos meses sin observaciones; (ii) asignamos 0 a observaciones con volumen=NaN; (iii) eliminamos observaciones donde precio=NaN"
      ],
      "metadata": {
        "id": "lFcxtg28ykm2"
      }
    },
    {
      "cell_type": "code",
      "source": [
        "df_base1.describe(include='all')"
      ],
      "metadata": {
        "colab": {
          "base_uri": "https://localhost:8080/",
          "height": 394
        },
        "id": "CCXOdOv5MxPb",
        "outputId": "a0784f96-4bc7-406f-94e8-a1a995175fc2"
      },
      "execution_count": null,
      "outputs": [
        {
          "output_type": "execute_result",
          "data": {
            "text/plain": [
              "           producto          year provincia    mes       volumen  \\\n",
              "count         49181  49181.000000     49059  49181  49181.000000   \n",
              "unique           11           NaN       121     12           NaN   \n",
              "top     Papa Blanca           NaN  Huancayo   m_05           NaN   \n",
              "freq          16169           NaN      1993   4221           NaN   \n",
              "mean            NaN   2010.433521       NaN    NaN    249.452605   \n",
              "std             NaN      6.958589       NaN    NaN    973.482916   \n",
              "min             NaN   1997.000000       NaN    NaN      0.000000   \n",
              "25%             NaN   2005.000000       NaN    NaN      0.000000   \n",
              "50%             NaN   2012.000000       NaN    NaN      0.000000   \n",
              "75%             NaN   2016.000000       NaN    NaN     45.000000   \n",
              "max             NaN   2021.000000       NaN    NaN  16033.000000   \n",
              "\n",
              "              precio        ym  \n",
              "count   49181.000000     49181  \n",
              "unique           NaN       291  \n",
              "top              NaN  2019m_09  \n",
              "freq             NaN       257  \n",
              "mean        0.888293       NaN  \n",
              "std         0.427099       NaN  \n",
              "min         0.280000       NaN  \n",
              "25%         0.610000       NaN  \n",
              "50%         0.770000       NaN  \n",
              "75%         1.060000       NaN  \n",
              "max         3.320000       NaN  "
            ],
            "text/html": [
              "\n",
              "  <div id=\"df-1e979cfc-8577-4fa8-b64f-1a0e95eac66b\">\n",
              "    <div class=\"colab-df-container\">\n",
              "      <div>\n",
              "<style scoped>\n",
              "    .dataframe tbody tr th:only-of-type {\n",
              "        vertical-align: middle;\n",
              "    }\n",
              "\n",
              "    .dataframe tbody tr th {\n",
              "        vertical-align: top;\n",
              "    }\n",
              "\n",
              "    .dataframe thead th {\n",
              "        text-align: right;\n",
              "    }\n",
              "</style>\n",
              "<table border=\"1\" class=\"dataframe\">\n",
              "  <thead>\n",
              "    <tr style=\"text-align: right;\">\n",
              "      <th></th>\n",
              "      <th>producto</th>\n",
              "      <th>year</th>\n",
              "      <th>provincia</th>\n",
              "      <th>mes</th>\n",
              "      <th>volumen</th>\n",
              "      <th>precio</th>\n",
              "      <th>ym</th>\n",
              "    </tr>\n",
              "  </thead>\n",
              "  <tbody>\n",
              "    <tr>\n",
              "      <th>count</th>\n",
              "      <td>49181</td>\n",
              "      <td>49181.000000</td>\n",
              "      <td>49059</td>\n",
              "      <td>49181</td>\n",
              "      <td>49181.000000</td>\n",
              "      <td>49181.000000</td>\n",
              "      <td>49181</td>\n",
              "    </tr>\n",
              "    <tr>\n",
              "      <th>unique</th>\n",
              "      <td>11</td>\n",
              "      <td>NaN</td>\n",
              "      <td>121</td>\n",
              "      <td>12</td>\n",
              "      <td>NaN</td>\n",
              "      <td>NaN</td>\n",
              "      <td>291</td>\n",
              "    </tr>\n",
              "    <tr>\n",
              "      <th>top</th>\n",
              "      <td>Papa Blanca</td>\n",
              "      <td>NaN</td>\n",
              "      <td>Huancayo</td>\n",
              "      <td>m_05</td>\n",
              "      <td>NaN</td>\n",
              "      <td>NaN</td>\n",
              "      <td>2019m_09</td>\n",
              "    </tr>\n",
              "    <tr>\n",
              "      <th>freq</th>\n",
              "      <td>16169</td>\n",
              "      <td>NaN</td>\n",
              "      <td>1993</td>\n",
              "      <td>4221</td>\n",
              "      <td>NaN</td>\n",
              "      <td>NaN</td>\n",
              "      <td>257</td>\n",
              "    </tr>\n",
              "    <tr>\n",
              "      <th>mean</th>\n",
              "      <td>NaN</td>\n",
              "      <td>2010.433521</td>\n",
              "      <td>NaN</td>\n",
              "      <td>NaN</td>\n",
              "      <td>249.452605</td>\n",
              "      <td>0.888293</td>\n",
              "      <td>NaN</td>\n",
              "    </tr>\n",
              "    <tr>\n",
              "      <th>std</th>\n",
              "      <td>NaN</td>\n",
              "      <td>6.958589</td>\n",
              "      <td>NaN</td>\n",
              "      <td>NaN</td>\n",
              "      <td>973.482916</td>\n",
              "      <td>0.427099</td>\n",
              "      <td>NaN</td>\n",
              "    </tr>\n",
              "    <tr>\n",
              "      <th>min</th>\n",
              "      <td>NaN</td>\n",
              "      <td>1997.000000</td>\n",
              "      <td>NaN</td>\n",
              "      <td>NaN</td>\n",
              "      <td>0.000000</td>\n",
              "      <td>0.280000</td>\n",
              "      <td>NaN</td>\n",
              "    </tr>\n",
              "    <tr>\n",
              "      <th>25%</th>\n",
              "      <td>NaN</td>\n",
              "      <td>2005.000000</td>\n",
              "      <td>NaN</td>\n",
              "      <td>NaN</td>\n",
              "      <td>0.000000</td>\n",
              "      <td>0.610000</td>\n",
              "      <td>NaN</td>\n",
              "    </tr>\n",
              "    <tr>\n",
              "      <th>50%</th>\n",
              "      <td>NaN</td>\n",
              "      <td>2012.000000</td>\n",
              "      <td>NaN</td>\n",
              "      <td>NaN</td>\n",
              "      <td>0.000000</td>\n",
              "      <td>0.770000</td>\n",
              "      <td>NaN</td>\n",
              "    </tr>\n",
              "    <tr>\n",
              "      <th>75%</th>\n",
              "      <td>NaN</td>\n",
              "      <td>2016.000000</td>\n",
              "      <td>NaN</td>\n",
              "      <td>NaN</td>\n",
              "      <td>45.000000</td>\n",
              "      <td>1.060000</td>\n",
              "      <td>NaN</td>\n",
              "    </tr>\n",
              "    <tr>\n",
              "      <th>max</th>\n",
              "      <td>NaN</td>\n",
              "      <td>2021.000000</td>\n",
              "      <td>NaN</td>\n",
              "      <td>NaN</td>\n",
              "      <td>16033.000000</td>\n",
              "      <td>3.320000</td>\n",
              "      <td>NaN</td>\n",
              "    </tr>\n",
              "  </tbody>\n",
              "</table>\n",
              "</div>\n",
              "      <button class=\"colab-df-convert\" onclick=\"convertToInteractive('df-1e979cfc-8577-4fa8-b64f-1a0e95eac66b')\"\n",
              "              title=\"Convert this dataframe to an interactive table.\"\n",
              "              style=\"display:none;\">\n",
              "        \n",
              "  <svg xmlns=\"http://www.w3.org/2000/svg\" height=\"24px\"viewBox=\"0 0 24 24\"\n",
              "       width=\"24px\">\n",
              "    <path d=\"M0 0h24v24H0V0z\" fill=\"none\"/>\n",
              "    <path d=\"M18.56 5.44l.94 2.06.94-2.06 2.06-.94-2.06-.94-.94-2.06-.94 2.06-2.06.94zm-11 1L8.5 8.5l.94-2.06 2.06-.94-2.06-.94L8.5 2.5l-.94 2.06-2.06.94zm10 10l.94 2.06.94-2.06 2.06-.94-2.06-.94-.94-2.06-.94 2.06-2.06.94z\"/><path d=\"M17.41 7.96l-1.37-1.37c-.4-.4-.92-.59-1.43-.59-.52 0-1.04.2-1.43.59L10.3 9.45l-7.72 7.72c-.78.78-.78 2.05 0 2.83L4 21.41c.39.39.9.59 1.41.59.51 0 1.02-.2 1.41-.59l7.78-7.78 2.81-2.81c.8-.78.8-2.07 0-2.86zM5.41 20L4 18.59l7.72-7.72 1.47 1.35L5.41 20z\"/>\n",
              "  </svg>\n",
              "      </button>\n",
              "      \n",
              "  <style>\n",
              "    .colab-df-container {\n",
              "      display:flex;\n",
              "      flex-wrap:wrap;\n",
              "      gap: 12px;\n",
              "    }\n",
              "\n",
              "    .colab-df-convert {\n",
              "      background-color: #E8F0FE;\n",
              "      border: none;\n",
              "      border-radius: 50%;\n",
              "      cursor: pointer;\n",
              "      display: none;\n",
              "      fill: #1967D2;\n",
              "      height: 32px;\n",
              "      padding: 0 0 0 0;\n",
              "      width: 32px;\n",
              "    }\n",
              "\n",
              "    .colab-df-convert:hover {\n",
              "      background-color: #E2EBFA;\n",
              "      box-shadow: 0px 1px 2px rgba(60, 64, 67, 0.3), 0px 1px 3px 1px rgba(60, 64, 67, 0.15);\n",
              "      fill: #174EA6;\n",
              "    }\n",
              "\n",
              "    [theme=dark] .colab-df-convert {\n",
              "      background-color: #3B4455;\n",
              "      fill: #D2E3FC;\n",
              "    }\n",
              "\n",
              "    [theme=dark] .colab-df-convert:hover {\n",
              "      background-color: #434B5C;\n",
              "      box-shadow: 0px 1px 3px 1px rgba(0, 0, 0, 0.15);\n",
              "      filter: drop-shadow(0px 1px 2px rgba(0, 0, 0, 0.3));\n",
              "      fill: #FFFFFF;\n",
              "    }\n",
              "  </style>\n",
              "\n",
              "      <script>\n",
              "        const buttonEl =\n",
              "          document.querySelector('#df-1e979cfc-8577-4fa8-b64f-1a0e95eac66b button.colab-df-convert');\n",
              "        buttonEl.style.display =\n",
              "          google.colab.kernel.accessAllowed ? 'block' : 'none';\n",
              "\n",
              "        async function convertToInteractive(key) {\n",
              "          const element = document.querySelector('#df-1e979cfc-8577-4fa8-b64f-1a0e95eac66b');\n",
              "          const dataTable =\n",
              "            await google.colab.kernel.invokeFunction('convertToInteractive',\n",
              "                                                     [key], {});\n",
              "          if (!dataTable) return;\n",
              "\n",
              "          const docLinkHtml = 'Like what you see? Visit the ' +\n",
              "            '<a target=\"_blank\" href=https://colab.research.google.com/notebooks/data_table.ipynb>data table notebook</a>'\n",
              "            + ' to learn more about interactive tables.';\n",
              "          element.innerHTML = '';\n",
              "          dataTable['output_type'] = 'display_data';\n",
              "          await google.colab.output.renderOutput(dataTable, element);\n",
              "          const docLink = document.createElement('div');\n",
              "          docLink.innerHTML = docLinkHtml;\n",
              "          element.appendChild(docLink);\n",
              "        }\n",
              "      </script>\n",
              "    </div>\n",
              "  </div>\n",
              "  "
            ]
          },
          "metadata": {},
          "execution_count": 57
        }
      ]
    },
    {
      "cell_type": "markdown",
      "source": [
        "## Esta es una primera base \"limpia\" y \"ordenada\" con la que se puede iniciar el análisis exploratorio."
      ],
      "metadata": {
        "id": "X6tF89tynlCp"
      }
    },
    {
      "cell_type": "markdown",
      "source": [
        "## **3. Primer análisis exploratorio**"
      ],
      "metadata": {
        "id": "tIaA-k7EmVnM"
      }
    },
    {
      "cell_type": "markdown",
      "source": [
        "## Veremos el comportamiento de las variedades (su dinámica), primero cambiamos el nombre de la columna 'producto' por 'variedad'"
      ],
      "metadata": {
        "id": "TOx_7TwEzI4C"
      }
    },
    {
      "cell_type": "code",
      "source": [
        "df_base1.rename(columns={'producto':'variedad'}, inplace=True)"
      ],
      "metadata": {
        "colab": {
          "base_uri": "https://localhost:8080/"
        },
        "id": "v27Fq620zTPZ",
        "outputId": "dc8d4e2b-7d44-4572-9681-b7e3e0c13d64"
      },
      "execution_count": 123,
      "outputs": [
        {
          "output_type": "stream",
          "name": "stderr",
          "text": [
            "/usr/local/lib/python3.8/dist-packages/pandas/core/frame.py:5039: SettingWithCopyWarning: \n",
            "A value is trying to be set on a copy of a slice from a DataFrame\n",
            "\n",
            "See the caveats in the documentation: https://pandas.pydata.org/pandas-docs/stable/user_guide/indexing.html#returning-a-view-versus-a-copy\n",
            "  return super().rename(\n"
          ]
        }
      ]
    },
    {
      "cell_type": "code",
      "source": [
        "df_base1.columns"
      ],
      "metadata": {
        "colab": {
          "base_uri": "https://localhost:8080/"
        },
        "id": "t_EmJfT_zcdg",
        "outputId": "9191c09a-dca2-48a7-8e36-b260c85f9a4a"
      },
      "execution_count": null,
      "outputs": [
        {
          "output_type": "execute_result",
          "data": {
            "text/plain": [
              "Index(['variedad', 'year', 'provincia', 'mes', 'volumen', 'precio', 'ym'], dtype='object')"
            ]
          },
          "metadata": {},
          "execution_count": 59
        }
      ]
    },
    {
      "cell_type": "markdown",
      "source": [
        "## Creamos un objeto **groupby** con el número de variedades registradas por año"
      ],
      "metadata": {
        "id": "bPqB4e621KjQ"
      }
    },
    {
      "cell_type": "markdown",
      "source": [],
      "metadata": {
        "id": "KkJcV9ZLzG89"
      }
    },
    {
      "cell_type": "code",
      "source": [
        "nvar=df_base1.groupby(df_base1.year)['variedad'].nunique()"
      ],
      "metadata": {
        "id": "nh--JMMUm8js"
      },
      "execution_count": 124,
      "outputs": []
    },
    {
      "cell_type": "code",
      "source": [
        "plt.bar(nvar.index,nvar)"
      ],
      "metadata": {
        "colab": {
          "base_uri": "https://localhost:8080/",
          "height": 283
        },
        "id": "QQdB9mDL0hSg",
        "outputId": "b3c3bc34-abd7-43aa-a5f8-acc6085c76a1"
      },
      "execution_count": 125,
      "outputs": [
        {
          "output_type": "execute_result",
          "data": {
            "text/plain": [
              "<BarContainer object of 25 artists>"
            ]
          },
          "metadata": {},
          "execution_count": 125
        },
        {
          "output_type": "display_data",
          "data": {
            "text/plain": [
              "<Figure size 432x288 with 1 Axes>"
            ],
            "image/png": "[encoded data removed]"
          },
          "metadata": {
            "needs_background": "light"
          }
        }
      ]
    },
    {
      "cell_type": "markdown",
      "source": [
        "## En el año 2006 se incrementa el número de variedades de 4 a 10, luego a 11 en 2007.  No sabemos si esto es un fenómeno de la realidad (nuevas variedades están entrando al mercado) o es un tema de cambios en el registro, es decir, se empiezan a registrar las variedades de otra manera, o ambas cosas."
      ],
      "metadata": {
        "id": "U7uXI2a91iK7"
      }
    },
    {
      "cell_type": "code",
      "source": [
        "df_base1[df_base1.year==2005]['variedad'].unique()"
      ],
      "metadata": {
        "colab": {
          "base_uri": "https://localhost:8080/"
        },
        "id": "KZ7qnkDz2O_T",
        "outputId": "db143ea0-9c14-44c9-97a8-1eb4ff4f0f48"
      },
      "execution_count": null,
      "outputs": [
        {
          "output_type": "execute_result",
          "data": {
            "text/plain": [
              "array(['Papa Amarilla', 'Papa Blanca', 'Papa Color', 'Papa Huayro'],\n",
              "      dtype=object)"
            ]
          },
          "metadata": {},
          "execution_count": 62
        }
      ]
    },
    {
      "cell_type": "code",
      "source": [
        "df_base1[df_base1.year==2006]['variedad'].unique()"
      ],
      "metadata": {
        "colab": {
          "base_uri": "https://localhost:8080/"
        },
        "id": "mvfGMnhk29bw",
        "outputId": "e9f06483-5f82-4d5c-a07c-f30e46c0309b"
      },
      "execution_count": null,
      "outputs": [
        {
          "output_type": "execute_result",
          "data": {
            "text/plain": [
              "array(['Papa Amarilla', 'Papa Blanca', 'Papa Color', 'Papa Huayro',\n",
              "       'Papa Huamantanga', 'Papa Negra Andina', 'Papa Perricholi',\n",
              "       'Papa Peruanita', 'Papa Unica', 'Papa Yungay'], dtype=object)"
            ]
          },
          "metadata": {},
          "execution_count": 63
        }
      ]
    },
    {
      "cell_type": "code",
      "source": [
        "df_base1[df_base1.year==2007]['variedad'].unique()"
      ],
      "metadata": {
        "colab": {
          "base_uri": "https://localhost:8080/"
        },
        "id": "46kDtYWZ3DL2",
        "outputId": "891e235c-3db3-47a2-82ce-f58301f448be"
      },
      "execution_count": null,
      "outputs": [
        {
          "output_type": "execute_result",
          "data": {
            "text/plain": [
              "array(['Papa Amarilla', 'Papa Blanca', 'Papa Color', 'Papa Huayro',\n",
              "       'Papa Huamantanga', 'Papa Perricholi', 'Papa Peruanita',\n",
              "       'Papa Canchan', 'Papa Negra Andina', 'Papa Unica', 'Papa Yungay'],\n",
              "      dtype=object)"
            ]
          },
          "metadata": {},
          "execution_count": 64
        }
      ]
    },
    {
      "cell_type": "markdown",
      "source": [
        "## Hay 4 variedades donde la serie es completa entre 1997 y mayo 2021 (Amarilla, Blanca, Color y Huayro).  Para las otras variedades la serie recién se inicia en 2006 ó 2007 (Canchan).  Importante tener esto en cuenta para análisis de variedades específicas"
      ],
      "metadata": {
        "id": "jOr7Xw7I3UG8"
      }
    },
    {
      "cell_type": "markdown",
      "source": [
        "## Miramos las variables de precio y volumen por variedad usando **groupby**"
      ],
      "metadata": {
        "id": "XeUAKJW2Arwy"
      }
    },
    {
      "cell_type": "code",
      "source": [
        "df_base1.groupby(df_base1['variedad']).agg({'precio':['count','mean','min','max'], 'year':'min'})"
      ],
      "metadata": {
        "colab": {
          "base_uri": "https://localhost:8080/",
          "height": 457
        },
        "id": "qkyURgXQ5SRj",
        "outputId": "a53fefad-7374-4a39-93bb-1bebf7784012"
      },
      "execution_count": null,
      "outputs": [
        {
          "output_type": "execute_result",
          "data": {
            "text/plain": [
              "                  precio                        year\n",
              "                   count      mean   min   max   min\n",
              "variedad                                            \n",
              "Papa Amarilla       5934  1.300104  0.58  3.32  1997\n",
              "Papa Blanca        16169  0.705430  0.30  2.09  1997\n",
              "Papa Canchan        2955  0.995898  0.37  2.26  2007\n",
              "Papa Color         10950  0.737363  0.28  2.22  1997\n",
              "Papa Huamantanga     501  1.283214  0.71  2.63  2006\n",
              "Papa Huayro         2913  1.116382  0.48  2.56  1997\n",
              "Papa Negra Andina    670  0.995746  0.57  2.24  2006\n",
              "Papa Perricholi     1686  0.873950  0.28  2.02  2006\n",
              "Papa Peruanita      1692  1.490077  0.73  2.93  2006\n",
              "Papa Unica          2432  0.892693  0.29  2.18  2006\n",
              "Papa Yungay         3279  0.860448  0.43  2.19  2006"
            ],
            "text/html": [
              "\n",
              "  <div id=\"df-949ff7cd-8987-41c8-9f85-74ee784221f6\">\n",
              "    <div class=\"colab-df-container\">\n",
              "      <div>\n",
              "<style scoped>\n",
              "    .dataframe tbody tr th:only-of-type {\n",
              "        vertical-align: middle;\n",
              "    }\n",
              "\n",
              "    .dataframe tbody tr th {\n",
              "        vertical-align: top;\n",
              "    }\n",
              "\n",
              "    .dataframe thead tr th {\n",
              "        text-align: left;\n",
              "    }\n",
              "\n",
              "    .dataframe thead tr:last-of-type th {\n",
              "        text-align: right;\n",
              "    }\n",
              "</style>\n",
              "<table border=\"1\" class=\"dataframe\">\n",
              "  <thead>\n",
              "    <tr>\n",
              "      <th></th>\n",
              "      <th colspan=\"4\" halign=\"left\">precio</th>\n",
              "      <th>year</th>\n",
              "    </tr>\n",
              "    <tr>\n",
              "      <th></th>\n",
              "      <th>count</th>\n",
              "      <th>mean</th>\n",
              "      <th>min</th>\n",
              "      <th>max</th>\n",
              "      <th>min</th>\n",
              "    </tr>\n",
              "    <tr>\n",
              "      <th>variedad</th>\n",
              "      <th></th>\n",
              "      <th></th>\n",
              "      <th></th>\n",
              "      <th></th>\n",
              "      <th></th>\n",
              "    </tr>\n",
              "  </thead>\n",
              "  <tbody>\n",
              "    <tr>\n",
              "      <th>Papa Amarilla</th>\n",
              "      <td>5934</td>\n",
              "      <td>1.300104</td>\n",
              "      <td>0.58</td>\n",
              "      <td>3.32</td>\n",
              "      <td>1997</td>\n",
              "    </tr>\n",
              "    <tr>\n",
              "      <th>Papa Blanca</th>\n",
              "      <td>16169</td>\n",
              "      <td>0.705430</td>\n",
              "      <td>0.30</td>\n",
              "      <td>2.09</td>\n",
              "      <td>1997</td>\n",
              "    </tr>\n",
              "    <tr>\n",
              "      <th>Papa Canchan</th>\n",
              "      <td>2955</td>\n",
              "      <td>0.995898</td>\n",
              "      <td>0.37</td>\n",
              "      <td>2.26</td>\n",
              "      <td>2007</td>\n",
              "    </tr>\n",
              "    <tr>\n",
              "      <th>Papa Color</th>\n",
              "      <td>10950</td>\n",
              "      <td>0.737363</td>\n",
              "      <td>0.28</td>\n",
              "      <td>2.22</td>\n",
              "      <td>1997</td>\n",
              "    </tr>\n",
              "    <tr>\n",
              "      <th>Papa Huamantanga</th>\n",
              "      <td>501</td>\n",
              "      <td>1.283214</td>\n",
              "      <td>0.71</td>\n",
              "      <td>2.63</td>\n",
              "      <td>2006</td>\n",
              "    </tr>\n",
              "    <tr>\n",
              "      <th>Papa Huayro</th>\n",
              "      <td>2913</td>\n",
              "      <td>1.116382</td>\n",
              "      <td>0.48</td>\n",
              "      <td>2.56</td>\n",
              "      <td>1997</td>\n",
              "    </tr>\n",
              "    <tr>\n",
              "      <th>Papa Negra Andina</th>\n",
              "      <td>670</td>\n",
              "      <td>0.995746</td>\n",
              "      <td>0.57</td>\n",
              "      <td>2.24</td>\n",
              "      <td>2006</td>\n",
              "    </tr>\n",
              "    <tr>\n",
              "      <th>Papa Perricholi</th>\n",
              "      <td>1686</td>\n",
              "      <td>0.873950</td>\n",
              "      <td>0.28</td>\n",
              "      <td>2.02</td>\n",
              "      <td>2006</td>\n",
              "    </tr>\n",
              "    <tr>\n",
              "      <th>Papa Peruanita</th>\n",
              "      <td>1692</td>\n",
              "      <td>1.490077</td>\n",
              "      <td>0.73</td>\n",
              "      <td>2.93</td>\n",
              "      <td>2006</td>\n",
              "    </tr>\n",
              "    <tr>\n",
              "      <th>Papa Unica</th>\n",
              "      <td>2432</td>\n",
              "      <td>0.892693</td>\n",
              "      <td>0.29</td>\n",
              "      <td>2.18</td>\n",
              "      <td>2006</td>\n",
              "    </tr>\n",
              "    <tr>\n",
              "      <th>Papa Yungay</th>\n",
              "      <td>3279</td>\n",
              "      <td>0.860448</td>\n",
              "      <td>0.43</td>\n",
              "      <td>2.19</td>\n",
              "      <td>2006</td>\n",
              "    </tr>\n",
              "  </tbody>\n",
              "</table>\n",
              "</div>\n",
              "      <button class=\"colab-df-convert\" onclick=\"convertToInteractive('df-949ff7cd-8987-41c8-9f85-74ee784221f6')\"\n",
              "              title=\"Convert this dataframe to an interactive table.\"\n",
              "              style=\"display:none;\">\n",
              "        \n",
              "  <svg xmlns=\"http://www.w3.org/2000/svg\" height=\"24px\"viewBox=\"0 0 24 24\"\n",
              "       width=\"24px\">\n",
              "    <path d=\"M0 0h24v24H0V0z\" fill=\"none\"/>\n",
              "    <path d=\"M18.56 5.44l.94 2.06.94-2.06 2.06-.94-2.06-.94-.94-2.06-.94 2.06-2.06.94zm-11 1L8.5 8.5l.94-2.06 2.06-.94-2.06-.94L8.5 2.5l-.94 2.06-2.06.94zm10 10l.94 2.06.94-2.06 2.06-.94-2.06-.94-.94-2.06-.94 2.06-2.06.94z\"/><path d=\"M17.41 7.96l-1.37-1.37c-.4-.4-.92-.59-1.43-.59-.52 0-1.04.2-1.43.59L10.3 9.45l-7.72 7.72c-.78.78-.78 2.05 0 2.83L4 21.41c.39.39.9.59 1.41.59.51 0 1.02-.2 1.41-.59l7.78-7.78 2.81-2.81c.8-.78.8-2.07 0-2.86zM5.41 20L4 18.59l7.72-7.72 1.47 1.35L5.41 20z\"/>\n",
              "  </svg>\n",
              "      </button>\n",
              "      \n",
              "  <style>\n",
              "    .colab-df-container {\n",
              "      display:flex;\n",
              "      flex-wrap:wrap;\n",
              "      gap: 12px;\n",
              "    }\n",
              "\n",
              "    .colab-df-convert {\n",
              "      background-color: #E8F0FE;\n",
              "      border: none;\n",
              "      border-radius: 50%;\n",
              "      cursor: pointer;\n",
              "      display: none;\n",
              "      fill: #1967D2;\n",
              "      height: 32px;\n",
              "      padding: 0 0 0 0;\n",
              "      width: 32px;\n",
              "    }\n",
              "\n",
              "    .colab-df-convert:hover {\n",
              "      background-color: #E2EBFA;\n",
              "      box-shadow: 0px 1px 2px rgba(60, 64, 67, 0.3), 0px 1px 3px 1px rgba(60, 64, 67, 0.15);\n",
              "      fill: #174EA6;\n",
              "    }\n",
              "\n",
              "    [theme=dark] .colab-df-convert {\n",
              "      background-color: #3B4455;\n",
              "      fill: #D2E3FC;\n",
              "    }\n",
              "\n",
              "    [theme=dark] .colab-df-convert:hover {\n",
              "      background-color: #434B5C;\n",
              "      box-shadow: 0px 1px 3px 1px rgba(0, 0, 0, 0.15);\n",
              "      filter: drop-shadow(0px 1px 2px rgba(0, 0, 0, 0.3));\n",
              "      fill: #FFFFFF;\n",
              "    }\n",
              "  </style>\n",
              "\n",
              "      <script>\n",
              "        const buttonEl =\n",
              "          document.querySelector('#df-949ff7cd-8987-41c8-9f85-74ee784221f6 button.colab-df-convert');\n",
              "        buttonEl.style.display =\n",
              "          google.colab.kernel.accessAllowed ? 'block' : 'none';\n",
              "\n",
              "        async function convertToInteractive(key) {\n",
              "          const element = document.querySelector('#df-949ff7cd-8987-41c8-9f85-74ee784221f6');\n",
              "          const dataTable =\n",
              "            await google.colab.kernel.invokeFunction('convertToInteractive',\n",
              "                                                     [key], {});\n",
              "          if (!dataTable) return;\n",
              "\n",
              "          const docLinkHtml = 'Like what you see? Visit the ' +\n",
              "            '<a target=\"_blank\" href=https://colab.research.google.com/notebooks/data_table.ipynb>data table notebook</a>'\n",
              "            + ' to learn more about interactive tables.';\n",
              "          element.innerHTML = '';\n",
              "          dataTable['output_type'] = 'display_data';\n",
              "          await google.colab.output.renderOutput(dataTable, element);\n",
              "          const docLink = document.createElement('div');\n",
              "          docLink.innerHTML = docLinkHtml;\n",
              "          element.appendChild(docLink);\n",
              "        }\n",
              "      </script>\n",
              "    </div>\n",
              "  </div>\n",
              "  "
            ]
          },
          "metadata": {},
          "execution_count": 189
        }
      ]
    },
    {
      "cell_type": "code",
      "source": [
        "df_base1.groupby(df_base1['variedad']).agg({'volumen':['count','mean','min','max'], 'year':'min'})"
      ],
      "metadata": {
        "colab": {
          "base_uri": "https://localhost:8080/",
          "height": 457
        },
        "id": "5-kjiyLKAZf-",
        "outputId": "c24b4081-2eb6-4247-859b-c0eb30f9722c"
      },
      "execution_count": null,
      "outputs": [
        {
          "output_type": "execute_result",
          "data": {
            "text/plain": [
              "                  volumen                             year\n",
              "                    count        mean  min       max   min\n",
              "variedad                                                  \n",
              "Papa Amarilla        5934   95.559961  0.0   4080.00  1997\n",
              "Papa Blanca         16169  551.838563  0.0  16033.00  1997\n",
              "Papa Canchan         2955  107.594585  0.0   5632.00  2007\n",
              "Papa Color          10950  160.764616  0.0   9316.01  1997\n",
              "Papa Huamantanga      501    2.385230  0.0     76.00  2006\n",
              "Papa Huayro          2913   20.643831  0.0   1690.00  1997\n",
              "Papa Negra Andina     670    3.737313  0.0     93.00  2006\n",
              "Papa Perricholi      1686   10.087189  0.0    460.00  2006\n",
              "Papa Peruanita       1692   13.674941  0.0    441.00  2006\n",
              "Papa Unica           2432   64.594572  0.0   3225.00  2006\n",
              "Papa Yungay          3279  133.946325  0.0   4876.00  2006"
            ],
            "text/html": [
              "\n",
              "  <div id=\"df-52d26f14-6c8f-4c15-8b8d-9b31b228a373\">\n",
              "    <div class=\"colab-df-container\">\n",
              "      <div>\n",
              "<style scoped>\n",
              "    .dataframe tbody tr th:only-of-type {\n",
              "        vertical-align: middle;\n",
              "    }\n",
              "\n",
              "    .dataframe tbody tr th {\n",
              "        vertical-align: top;\n",
              "    }\n",
              "\n",
              "    .dataframe thead tr th {\n",
              "        text-align: left;\n",
              "    }\n",
              "\n",
              "    .dataframe thead tr:last-of-type th {\n",
              "        text-align: right;\n",
              "    }\n",
              "</style>\n",
              "<table border=\"1\" class=\"dataframe\">\n",
              "  <thead>\n",
              "    <tr>\n",
              "      <th></th>\n",
              "      <th colspan=\"4\" halign=\"left\">volumen</th>\n",
              "      <th>year</th>\n",
              "    </tr>\n",
              "    <tr>\n",
              "      <th></th>\n",
              "      <th>count</th>\n",
              "      <th>mean</th>\n",
              "      <th>min</th>\n",
              "      <th>max</th>\n",
              "      <th>min</th>\n",
              "    </tr>\n",
              "    <tr>\n",
              "      <th>variedad</th>\n",
              "      <th></th>\n",
              "      <th></th>\n",
              "      <th></th>\n",
              "      <th></th>\n",
              "      <th></th>\n",
              "    </tr>\n",
              "  </thead>\n",
              "  <tbody>\n",
              "    <tr>\n",
              "      <th>Papa Amarilla</th>\n",
              "      <td>5934</td>\n",
              "      <td>95.559961</td>\n",
              "      <td>0.0</td>\n",
              "      <td>4080.00</td>\n",
              "      <td>1997</td>\n",
              "    </tr>\n",
              "    <tr>\n",
              "      <th>Papa Blanca</th>\n",
              "      <td>16169</td>\n",
              "      <td>551.838563</td>\n",
              "      <td>0.0</td>\n",
              "      <td>16033.00</td>\n",
              "      <td>1997</td>\n",
              "    </tr>\n",
              "    <tr>\n",
              "      <th>Papa Canchan</th>\n",
              "      <td>2955</td>\n",
              "      <td>107.594585</td>\n",
              "      <td>0.0</td>\n",
              "      <td>5632.00</td>\n",
              "      <td>2007</td>\n",
              "    </tr>\n",
              "    <tr>\n",
              "      <th>Papa Color</th>\n",
              "      <td>10950</td>\n",
              "      <td>160.764616</td>\n",
              "      <td>0.0</td>\n",
              "      <td>9316.01</td>\n",
              "      <td>1997</td>\n",
              "    </tr>\n",
              "    <tr>\n",
              "      <th>Papa Huamantanga</th>\n",
              "      <td>501</td>\n",
              "      <td>2.385230</td>\n",
              "      <td>0.0</td>\n",
              "      <td>76.00</td>\n",
              "      <td>2006</td>\n",
              "    </tr>\n",
              "    <tr>\n",
              "      <th>Papa Huayro</th>\n",
              "      <td>2913</td>\n",
              "      <td>20.643831</td>\n",
              "      <td>0.0</td>\n",
              "      <td>1690.00</td>\n",
              "      <td>1997</td>\n",
              "    </tr>\n",
              "    <tr>\n",
              "      <th>Papa Negra Andina</th>\n",
              "      <td>670</td>\n",
              "      <td>3.737313</td>\n",
              "      <td>0.0</td>\n",
              "      <td>93.00</td>\n",
              "      <td>2006</td>\n",
              "    </tr>\n",
              "    <tr>\n",
              "      <th>Papa Perricholi</th>\n",
              "      <td>1686</td>\n",
              "      <td>10.087189</td>\n",
              "      <td>0.0</td>\n",
              "      <td>460.00</td>\n",
              "      <td>2006</td>\n",
              "    </tr>\n",
              "    <tr>\n",
              "      <th>Papa Peruanita</th>\n",
              "      <td>1692</td>\n",
              "      <td>13.674941</td>\n",
              "      <td>0.0</td>\n",
              "      <td>441.00</td>\n",
              "      <td>2006</td>\n",
              "    </tr>\n",
              "    <tr>\n",
              "      <th>Papa Unica</th>\n",
              "      <td>2432</td>\n",
              "      <td>64.594572</td>\n",
              "      <td>0.0</td>\n",
              "      <td>3225.00</td>\n",
              "      <td>2006</td>\n",
              "    </tr>\n",
              "    <tr>\n",
              "      <th>Papa Yungay</th>\n",
              "      <td>3279</td>\n",
              "      <td>133.946325</td>\n",
              "      <td>0.0</td>\n",
              "      <td>4876.00</td>\n",
              "      <td>2006</td>\n",
              "    </tr>\n",
              "  </tbody>\n",
              "</table>\n",
              "</div>\n",
              "      <button class=\"colab-df-convert\" onclick=\"convertToInteractive('df-52d26f14-6c8f-4c15-8b8d-9b31b228a373')\"\n",
              "              title=\"Convert this dataframe to an interactive table.\"\n",
              "              style=\"display:none;\">\n",
              "        \n",
              "  <svg xmlns=\"http://www.w3.org/2000/svg\" height=\"24px\"viewBox=\"0 0 24 24\"\n",
              "       width=\"24px\">\n",
              "    <path d=\"M0 0h24v24H0V0z\" fill=\"none\"/>\n",
              "    <path d=\"M18.56 5.44l.94 2.06.94-2.06 2.06-.94-2.06-.94-.94-2.06-.94 2.06-2.06.94zm-11 1L8.5 8.5l.94-2.06 2.06-.94-2.06-.94L8.5 2.5l-.94 2.06-2.06.94zm10 10l.94 2.06.94-2.06 2.06-.94-2.06-.94-.94-2.06-.94 2.06-2.06.94z\"/><path d=\"M17.41 7.96l-1.37-1.37c-.4-.4-.92-.59-1.43-.59-.52 0-1.04.2-1.43.59L10.3 9.45l-7.72 7.72c-.78.78-.78 2.05 0 2.83L4 21.41c.39.39.9.59 1.41.59.51 0 1.02-.2 1.41-.59l7.78-7.78 2.81-2.81c.8-.78.8-2.07 0-2.86zM5.41 20L4 18.59l7.72-7.72 1.47 1.35L5.41 20z\"/>\n",
              "  </svg>\n",
              "      </button>\n",
              "      \n",
              "  <style>\n",
              "    .colab-df-container {\n",
              "      display:flex;\n",
              "      flex-wrap:wrap;\n",
              "      gap: 12px;\n",
              "    }\n",
              "\n",
              "    .colab-df-convert {\n",
              "      background-color: #E8F0FE;\n",
              "      border: none;\n",
              "      border-radius: 50%;\n",
              "      cursor: pointer;\n",
              "      display: none;\n",
              "      fill: #1967D2;\n",
              "      height: 32px;\n",
              "      padding: 0 0 0 0;\n",
              "      width: 32px;\n",
              "    }\n",
              "\n",
              "    .colab-df-convert:hover {\n",
              "      background-color: #E2EBFA;\n",
              "      box-shadow: 0px 1px 2px rgba(60, 64, 67, 0.3), 0px 1px 3px 1px rgba(60, 64, 67, 0.15);\n",
              "      fill: #174EA6;\n",
              "    }\n",
              "\n",
              "    [theme=dark] .colab-df-convert {\n",
              "      background-color: #3B4455;\n",
              "      fill: #D2E3FC;\n",
              "    }\n",
              "\n",
              "    [theme=dark] .colab-df-convert:hover {\n",
              "      background-color: #434B5C;\n",
              "      box-shadow: 0px 1px 3px 1px rgba(0, 0, 0, 0.15);\n",
              "      filter: drop-shadow(0px 1px 2px rgba(0, 0, 0, 0.3));\n",
              "      fill: #FFFFFF;\n",
              "    }\n",
              "  </style>\n",
              "\n",
              "      <script>\n",
              "        const buttonEl =\n",
              "          document.querySelector('#df-52d26f14-6c8f-4c15-8b8d-9b31b228a373 button.colab-df-convert');\n",
              "        buttonEl.style.display =\n",
              "          google.colab.kernel.accessAllowed ? 'block' : 'none';\n",
              "\n",
              "        async function convertToInteractive(key) {\n",
              "          const element = document.querySelector('#df-52d26f14-6c8f-4c15-8b8d-9b31b228a373');\n",
              "          const dataTable =\n",
              "            await google.colab.kernel.invokeFunction('convertToInteractive',\n",
              "                                                     [key], {});\n",
              "          if (!dataTable) return;\n",
              "\n",
              "          const docLinkHtml = 'Like what you see? Visit the ' +\n",
              "            '<a target=\"_blank\" href=https://colab.research.google.com/notebooks/data_table.ipynb>data table notebook</a>'\n",
              "            + ' to learn more about interactive tables.';\n",
              "          element.innerHTML = '';\n",
              "          dataTable['output_type'] = 'display_data';\n",
              "          await google.colab.output.renderOutput(dataTable, element);\n",
              "          const docLink = document.createElement('div');\n",
              "          docLink.innerHTML = docLinkHtml;\n",
              "          element.appendChild(docLink);\n",
              "        }\n",
              "      </script>\n",
              "    </div>\n",
              "  </div>\n",
              "  "
            ]
          },
          "metadata": {},
          "execution_count": 65
        }
      ]
    },
    {
      "cell_type": "markdown",
      "source": [
        "## Miramos la evolución de la oferta anual de algunas variedades"
      ],
      "metadata": {
        "id": "jEihF1rWFmST"
      }
    },
    {
      "cell_type": "code",
      "source": [
        "vol_huayro=df_base1[['year','volumen']][df_base1.variedad==\"Papa Huayro\"].groupby('year').sum()\n",
        "plt.bar(vol_huayro.index,vol_huayro.volumen)\n",
        "plt.title(\"Papa Huayro: Volumen\")"
      ],
      "metadata": {
        "colab": {
          "base_uri": "https://localhost:8080/",
          "height": 299
        },
        "id": "IvVtHJx3A45S",
        "outputId": "9458b46c-2b64-419b-c295-817f06d3b3e2"
      },
      "execution_count": null,
      "outputs": [
        {
          "output_type": "execute_result",
          "data": {
            "text/plain": [
              "Text(0.5, 1.0, 'Papa Huayro: Volumen')"
            ]
          },
          "metadata": {},
          "execution_count": 68
        },
        {
          "output_type": "display_data",
          "data": {
            "text/plain": [
              "<Figure size 432x288 with 1 Axes>"
            ],
            "image/png": "[encoded data removed]"
          },
          "metadata": {
            "needs_background": "light"
          }
        }
      ]
    },
    {
      "cell_type": "code",
      "source": [
        "pre_huayro=df_base1[['year','precio']][df_base1.variedad==\"Papa Huayro\"].groupby('year').mean()\n",
        "pre_huayro.plot.line()\n",
        "plt.title(\"Papa Huayro: Precio\")"
      ],
      "metadata": {
        "colab": {
          "base_uri": "https://localhost:8080/",
          "height": 313
        },
        "id": "4J6yQlA0HCTy",
        "outputId": "700e9261-5cfb-47fc-8402-706d420ae58f"
      },
      "execution_count": null,
      "outputs": [
        {
          "output_type": "execute_result",
          "data": {
            "text/plain": [
              "Text(0.5, 1.0, 'Papa Huayro: Precio')"
            ]
          },
          "metadata": {},
          "execution_count": 70
        },
        {
          "output_type": "display_data",
          "data": {
            "text/plain": [
              "<Figure size 432x288 with 1 Axes>"
            ],
            "image/png": "[encoded data removed]"
          },
          "metadata": {
            "needs_background": "light"
          }
        }
      ]
    },
    {
      "cell_type": "code",
      "source": [
        "vol_yungay=df_base1[['year','volumen']][df_base1.variedad==\"Papa Yungay\"].groupby('year').sum()\n",
        "plt.bar(vol_yungay.index,vol_yungay.volumen)"
      ],
      "metadata": {
        "colab": {
          "base_uri": "https://localhost:8080/",
          "height": 283
        },
        "id": "mcIFwtSODaku",
        "outputId": "71d79bc5-16f6-41be-c1ab-b4ae95ab91e7"
      },
      "execution_count": null,
      "outputs": [
        {
          "output_type": "execute_result",
          "data": {
            "text/plain": [
              "<BarContainer object of 16 artists>"
            ]
          },
          "metadata": {},
          "execution_count": 71
        },
        {
          "output_type": "display_data",
          "data": {
            "text/plain": [
              "<Figure size 432x288 with 1 Axes>"
            ],
            "image/png": "[encoded data removed]"
          },
          "metadata": {
            "needs_background": "light"
          }
        }
      ]
    },
    {
      "cell_type": "code",
      "source": [
        "pre_yungay=df_base1[['year','precio']][df_base1.variedad==\"Papa Yungay\"].groupby('year').mean()\n",
        "pre_yungay.plot.line()"
      ],
      "metadata": {
        "colab": {
          "base_uri": "https://localhost:8080/",
          "height": 298
        },
        "id": "WkXmKkSPHKrC",
        "outputId": "7bf911f2-182d-4ba3-d49b-acc2a83ea987"
      },
      "execution_count": null,
      "outputs": [
        {
          "output_type": "execute_result",
          "data": {
            "text/plain": [
              "<matplotlib.axes._subplots.AxesSubplot at 0x7f20556d5c40>"
            ]
          },
          "metadata": {},
          "execution_count": 72
        },
        {
          "output_type": "display_data",
          "data": {
            "text/plain": [
              "<Figure size 432x288 with 1 Axes>"
            ],
            "image/png": "[encoded data removed]"
          },
          "metadata": {
            "needs_background": "light"
          }
        }
      ]
    },
    {
      "cell_type": "code",
      "source": [
        "vol_canchan=df_base1[['year','volumen']][df_base1.variedad==\"Papa Canchan\"].groupby('year').sum()\n",
        "plt.bar(vol_canchan.index,vol_canchan.volumen)"
      ],
      "metadata": {
        "colab": {
          "base_uri": "https://localhost:8080/",
          "height": 283
        },
        "id": "euH-Ni2hj7g6",
        "outputId": "d5c0e449-b29a-4926-a813-b09fb0f698ed"
      },
      "execution_count": null,
      "outputs": [
        {
          "output_type": "execute_result",
          "data": {
            "text/plain": [
              "<BarContainer object of 15 artists>"
            ]
          },
          "metadata": {},
          "execution_count": 73
        },
        {
          "output_type": "display_data",
          "data": {
            "text/plain": [
              "<Figure size 432x288 with 1 Axes>"
            ],
            "image/png": "[encoded data removed]"
          },
          "metadata": {
            "needs_background": "light"
          }
        }
      ]
    },
    {
      "cell_type": "code",
      "source": [
        "pre_canchan=df_base1[['year','precio']][df_base1.variedad==\"Papa Canchan\"].groupby('year').mean()\n",
        "pre_canchan.plot.line()\n",
        "plt.show"
      ],
      "metadata": {
        "colab": {
          "base_uri": "https://localhost:8080/",
          "height": 297
        },
        "id": "TwswG-yMjvEy",
        "outputId": "2521ab73-f26b-4b6a-f129-eb9724c35f20"
      },
      "execution_count": null,
      "outputs": [
        {
          "output_type": "execute_result",
          "data": {
            "text/plain": [
              "<function matplotlib.pyplot.show(*args, **kw)>"
            ]
          },
          "metadata": {},
          "execution_count": 74
        },
        {
          "output_type": "display_data",
          "data": {
            "text/plain": [
              "<Figure size 432x288 with 1 Axes>"
            ],
            "image/png": "[encoded data removed]"
          },
          "metadata": {
            "needs_background": "light"
          }
        }
      ]
    },
    {
      "cell_type": "code",
      "source": [
        "vol_blanca=df_base1[['year','volumen']][df_base1.variedad==\"Papa Blanca\"].groupby('year').sum()\n",
        "plt.bar(vol_blanca.index,vol_blanca.volumen)"
      ],
      "metadata": {
        "colab": {
          "base_uri": "https://localhost:8080/",
          "height": 283
        },
        "id": "7qKO_Xe5D5La",
        "outputId": "84e2625f-b0d2-4a11-b510-3f450f48e947"
      },
      "execution_count": null,
      "outputs": [
        {
          "output_type": "execute_result",
          "data": {
            "text/plain": [
              "<BarContainer object of 25 artists>"
            ]
          },
          "metadata": {},
          "execution_count": 75
        },
        {
          "output_type": "display_data",
          "data": {
            "text/plain": [
              "<Figure size 432x288 with 1 Axes>"
            ],
            "image/png": "[encoded data removed]"
          },
          "metadata": {
            "needs_background": "light"
          }
        }
      ]
    },
    {
      "cell_type": "code",
      "source": [
        "pre_blanca=df_base1[['year','precio']][df_base1.variedad==\"Papa Blanca\"].groupby('year').mean()\n",
        "pre_blanca.plot.line()"
      ],
      "metadata": {
        "colab": {
          "base_uri": "https://localhost:8080/",
          "height": 297
        },
        "id": "EbUG1U_RG62u",
        "outputId": "77373d87-9674-4068-f409-49a065b55e32"
      },
      "execution_count": null,
      "outputs": [
        {
          "output_type": "execute_result",
          "data": {
            "text/plain": [
              "<matplotlib.axes._subplots.AxesSubplot at 0x7f2055b36610>"
            ]
          },
          "metadata": {},
          "execution_count": 76
        },
        {
          "output_type": "display_data",
          "data": {
            "text/plain": [
              "<Figure size 432x288 with 1 Axes>"
            ],
            "image/png": "[encoded data removed]"
          },
          "metadata": {
            "needs_background": "light"
          }
        }
      ]
    },
    {
      "cell_type": "code",
      "source": [
        "vol_amarilla=df_base1[['year','volumen']][df_base1.variedad==\"Papa Amarilla\"].groupby('year').sum()\n",
        "plt.bar(vol_amarilla.index,vol_amarilla.volumen)"
      ],
      "metadata": {
        "colab": {
          "base_uri": "https://localhost:8080/",
          "height": 283
        },
        "id": "r9uIKBLZEa_9",
        "outputId": "8a8cbf69-b678-4df7-b25e-3a274d5a20a1"
      },
      "execution_count": null,
      "outputs": [
        {
          "output_type": "execute_result",
          "data": {
            "text/plain": [
              "<BarContainer object of 25 artists>"
            ]
          },
          "metadata": {},
          "execution_count": 77
        },
        {
          "output_type": "display_data",
          "data": {
            "text/plain": [
              "<Figure size 432x288 with 1 Axes>"
            ],
            "image/png": "[encoded data removed]"
          },
          "metadata": {
            "needs_background": "light"
          }
        }
      ]
    },
    {
      "cell_type": "code",
      "source": [
        "pre_amarilla=df_base1[['year','precio']][df_base1.variedad==\"Papa Amarilla\"].groupby('year').mean()\n",
        "pre_amarilla.plot.line()"
      ],
      "metadata": {
        "colab": {
          "base_uri": "https://localhost:8080/",
          "height": 297
        },
        "id": "Fpbf320gGzjO",
        "outputId": "73b60c08-4460-410a-b7bd-fcf95ce012ae"
      },
      "execution_count": null,
      "outputs": [
        {
          "output_type": "execute_result",
          "data": {
            "text/plain": [
              "<matplotlib.axes._subplots.AxesSubplot at 0x7f20555a1f40>"
            ]
          },
          "metadata": {},
          "execution_count": 78
        },
        {
          "output_type": "display_data",
          "data": {
            "text/plain": [
              "<Figure size 432x288 with 1 Axes>"
            ],
            "image/png": "[encoded data removed]"
          },
          "metadata": {
            "needs_background": "light"
          }
        }
      ]
    },
    {
      "cell_type": "code",
      "source": [
        "vol_color=df_base1[['year','volumen']][df_base1.variedad==\"Papa Color\"].groupby('year').sum()\n",
        "plt.bar(vol_color.index,vol_color.volumen)"
      ],
      "metadata": {
        "colab": {
          "base_uri": "https://localhost:8080/",
          "height": 283
        },
        "id": "yYM0cCDQErfB",
        "outputId": "c09b5df8-a60f-4b76-c18c-592151d0ab63"
      },
      "execution_count": null,
      "outputs": [
        {
          "output_type": "execute_result",
          "data": {
            "text/plain": [
              "<BarContainer object of 25 artists>"
            ]
          },
          "metadata": {},
          "execution_count": 79
        },
        {
          "output_type": "display_data",
          "data": {
            "text/plain": [
              "<Figure size 432x288 with 1 Axes>"
            ],
            "image/png": "[encoded data removed]"
          },
          "metadata": {
            "needs_background": "light"
          }
        }
      ]
    },
    {
      "cell_type": "code",
      "source": [
        "pre_color=df_base1[['year','precio']][df_base1.variedad==\"Papa Color\"].groupby('year').mean()\n",
        "pre_color.plot.line()"
      ],
      "metadata": {
        "colab": {
          "base_uri": "https://localhost:8080/",
          "height": 297
        },
        "id": "N_kOVL_8GMUT",
        "outputId": "6abda2f0-1e17-4ff9-a3e6-f02356408411"
      },
      "execution_count": null,
      "outputs": [
        {
          "output_type": "execute_result",
          "data": {
            "text/plain": [
              "<matplotlib.axes._subplots.AxesSubplot at 0x7f20554258b0>"
            ]
          },
          "metadata": {},
          "execution_count": 80
        },
        {
          "output_type": "display_data",
          "data": {
            "text/plain": [
              "<Figure size 432x288 with 1 Axes>"
            ],
            "image/png": "[encoded data removed]"
          },
          "metadata": {
            "needs_background": "light"
          }
        }
      ]
    },
    {
      "cell_type": "markdown",
      "source": [
        "## Análisis de provincias de origen"
      ],
      "metadata": {
        "id": "Cjkx3ZHeeMFM"
      }
    },
    {
      "cell_type": "code",
      "source": [
        "prv_amarilla=df_base1[['provincia','volumen']][df_base1.variedad==\"Papa Amarilla\"].groupby('provincia').sum()\n",
        "prv_amarilla.sort_values(by='volumen', ascending=False).head(20)"
      ],
      "metadata": {
        "colab": {
          "base_uri": "https://localhost:8080/",
          "height": 707
        },
        "id": "tO1iXH9MHcXK",
        "outputId": "e0a2a1c6-6125-46be-9a76-aaa62874edc1"
      },
      "execution_count": null,
      "outputs": [
        {
          "output_type": "execute_result",
          "data": {
            "text/plain": [
              "                           volumen\n",
              "provincia                         \n",
              "Huanuco                  267630.58\n",
              "Ambo                     180330.73\n",
              "Pasco                     23203.96\n",
              "Huancayo                  22528.25\n",
              "Andahuaylas               22086.03\n",
              "Huamanga                  16293.65\n",
              "Tarma                      9092.56\n",
              "Procedencia Desconocida    6303.80\n",
              "Jauja                      3459.60\n",
              "Pachitea                   3407.96\n",
              "Otuzco                     1701.00\n",
              "Junin                      1563.94\n",
              "Huancavelica               1515.12\n",
              "Tayacaja                   1059.68\n",
              "Cangallo                    930.00\n",
              "Abancay                     839.28\n",
              "Dos De Mayo                 590.28\n",
              "Oxapampa                    508.67\n",
              "Huanta                      499.03\n",
              "Sin Especificacion          496.59"
            ],
            "text/html": [
              "\n",
              "  <div id=\"df-447454ea-db93-4b33-98cc-ba95e56b3577\">\n",
              "    <div class=\"colab-df-container\">\n",
              "      <div>\n",
              "<style scoped>\n",
              "    .dataframe tbody tr th:only-of-type {\n",
              "        vertical-align: middle;\n",
              "    }\n",
              "\n",
              "    .dataframe tbody tr th {\n",
              "        vertical-align: top;\n",
              "    }\n",
              "\n",
              "    .dataframe thead th {\n",
              "        text-align: right;\n",
              "    }\n",
              "</style>\n",
              "<table border=\"1\" class=\"dataframe\">\n",
              "  <thead>\n",
              "    <tr style=\"text-align: right;\">\n",
              "      <th></th>\n",
              "      <th>volumen</th>\n",
              "    </tr>\n",
              "    <tr>\n",
              "      <th>provincia</th>\n",
              "      <th></th>\n",
              "    </tr>\n",
              "  </thead>\n",
              "  <tbody>\n",
              "    <tr>\n",
              "      <th>Huanuco</th>\n",
              "      <td>267630.58</td>\n",
              "    </tr>\n",
              "    <tr>\n",
              "      <th>Ambo</th>\n",
              "      <td>180330.73</td>\n",
              "    </tr>\n",
              "    <tr>\n",
              "      <th>Pasco</th>\n",
              "      <td>23203.96</td>\n",
              "    </tr>\n",
              "    <tr>\n",
              "      <th>Huancayo</th>\n",
              "      <td>22528.25</td>\n",
              "    </tr>\n",
              "    <tr>\n",
              "      <th>Andahuaylas</th>\n",
              "      <td>22086.03</td>\n",
              "    </tr>\n",
              "    <tr>\n",
              "      <th>Huamanga</th>\n",
              "      <td>16293.65</td>\n",
              "    </tr>\n",
              "    <tr>\n",
              "      <th>Tarma</th>\n",
              "      <td>9092.56</td>\n",
              "    </tr>\n",
              "    <tr>\n",
              "      <th>Procedencia Desconocida</th>\n",
              "      <td>6303.80</td>\n",
              "    </tr>\n",
              "    <tr>\n",
              "      <th>Jauja</th>\n",
              "      <td>3459.60</td>\n",
              "    </tr>\n",
              "    <tr>\n",
              "      <th>Pachitea</th>\n",
              "      <td>3407.96</td>\n",
              "    </tr>\n",
              "    <tr>\n",
              "      <th>Otuzco</th>\n",
              "      <td>1701.00</td>\n",
              "    </tr>\n",
              "    <tr>\n",
              "      <th>Junin</th>\n",
              "      <td>1563.94</td>\n",
              "    </tr>\n",
              "    <tr>\n",
              "      <th>Huancavelica</th>\n",
              "      <td>1515.12</td>\n",
              "    </tr>\n",
              "    <tr>\n",
              "      <th>Tayacaja</th>\n",
              "      <td>1059.68</td>\n",
              "    </tr>\n",
              "    <tr>\n",
              "      <th>Cangallo</th>\n",
              "      <td>930.00</td>\n",
              "    </tr>\n",
              "    <tr>\n",
              "      <th>Abancay</th>\n",
              "      <td>839.28</td>\n",
              "    </tr>\n",
              "    <tr>\n",
              "      <th>Dos De Mayo</th>\n",
              "      <td>590.28</td>\n",
              "    </tr>\n",
              "    <tr>\n",
              "      <th>Oxapampa</th>\n",
              "      <td>508.67</td>\n",
              "    </tr>\n",
              "    <tr>\n",
              "      <th>Huanta</th>\n",
              "      <td>499.03</td>\n",
              "    </tr>\n",
              "    <tr>\n",
              "      <th>Sin Especificacion</th>\n",
              "      <td>496.59</td>\n",
              "    </tr>\n",
              "  </tbody>\n",
              "</table>\n",
              "</div>\n",
              "      <button class=\"colab-df-convert\" onclick=\"convertToInteractive('df-447454ea-db93-4b33-98cc-ba95e56b3577')\"\n",
              "              title=\"Convert this dataframe to an interactive table.\"\n",
              "              style=\"display:none;\">\n",
              "        \n",
              "  <svg xmlns=\"http://www.w3.org/2000/svg\" height=\"24px\"viewBox=\"0 0 24 24\"\n",
              "       width=\"24px\">\n",
              "    <path d=\"M0 0h24v24H0V0z\" fill=\"none\"/>\n",
              "    <path d=\"M18.56 5.44l.94 2.06.94-2.06 2.06-.94-2.06-.94-.94-2.06-.94 2.06-2.06.94zm-11 1L8.5 8.5l.94-2.06 2.06-.94-2.06-.94L8.5 2.5l-.94 2.06-2.06.94zm10 10l.94 2.06.94-2.06 2.06-.94-2.06-.94-.94-2.06-.94 2.06-2.06.94z\"/><path d=\"M17.41 7.96l-1.37-1.37c-.4-.4-.92-.59-1.43-.59-.52 0-1.04.2-1.43.59L10.3 9.45l-7.72 7.72c-.78.78-.78 2.05 0 2.83L4 21.41c.39.39.9.59 1.41.59.51 0 1.02-.2 1.41-.59l7.78-7.78 2.81-2.81c.8-.78.8-2.07 0-2.86zM5.41 20L4 18.59l7.72-7.72 1.47 1.35L5.41 20z\"/>\n",
              "  </svg>\n",
              "      </button>\n",
              "      \n",
              "  <style>\n",
              "    .colab-df-container {\n",
              "      display:flex;\n",
              "      flex-wrap:wrap;\n",
              "      gap: 12px;\n",
              "    }\n",
              "\n",
              "    .colab-df-convert {\n",
              "      background-color: #E8F0FE;\n",
              "      border: none;\n",
              "      border-radius: 50%;\n",
              "      cursor: pointer;\n",
              "      display: none;\n",
              "      fill: #1967D2;\n",
              "      height: 32px;\n",
              "      padding: 0 0 0 0;\n",
              "      width: 32px;\n",
              "    }\n",
              "\n",
              "    .colab-df-convert:hover {\n",
              "      background-color: #E2EBFA;\n",
              "      box-shadow: 0px 1px 2px rgba(60, 64, 67, 0.3), 0px 1px 3px 1px rgba(60, 64, 67, 0.15);\n",
              "      fill: #174EA6;\n",
              "    }\n",
              "\n",
              "    [theme=dark] .colab-df-convert {\n",
              "      background-color: #3B4455;\n",
              "      fill: #D2E3FC;\n",
              "    }\n",
              "\n",
              "    [theme=dark] .colab-df-convert:hover {\n",
              "      background-color: #434B5C;\n",
              "      box-shadow: 0px 1px 3px 1px rgba(0, 0, 0, 0.15);\n",
              "      filter: drop-shadow(0px 1px 2px rgba(0, 0, 0, 0.3));\n",
              "      fill: #FFFFFF;\n",
              "    }\n",
              "  </style>\n",
              "\n",
              "      <script>\n",
              "        const buttonEl =\n",
              "          document.querySelector('#df-447454ea-db93-4b33-98cc-ba95e56b3577 button.colab-df-convert');\n",
              "        buttonEl.style.display =\n",
              "          google.colab.kernel.accessAllowed ? 'block' : 'none';\n",
              "\n",
              "        async function convertToInteractive(key) {\n",
              "          const element = document.querySelector('#df-447454ea-db93-4b33-98cc-ba95e56b3577');\n",
              "          const dataTable =\n",
              "            await google.colab.kernel.invokeFunction('convertToInteractive',\n",
              "                                                     [key], {});\n",
              "          if (!dataTable) return;\n",
              "\n",
              "          const docLinkHtml = 'Like what you see? Visit the ' +\n",
              "            '<a target=\"_blank\" href=https://colab.research.google.com/notebooks/data_table.ipynb>data table notebook</a>'\n",
              "            + ' to learn more about interactive tables.';\n",
              "          element.innerHTML = '';\n",
              "          dataTable['output_type'] = 'display_data';\n",
              "          await google.colab.output.renderOutput(dataTable, element);\n",
              "          const docLink = document.createElement('div');\n",
              "          docLink.innerHTML = docLinkHtml;\n",
              "          element.appendChild(docLink);\n",
              "        }\n",
              "      </script>\n",
              "    </div>\n",
              "  </div>\n",
              "  "
            ]
          },
          "metadata": {},
          "execution_count": 81
        }
      ]
    },
    {
      "cell_type": "code",
      "source": [
        "prv_blanca=df_base1[['provincia','volumen']][df_base1.variedad==\"Papa Blanca\"].groupby('provincia').sum()\n",
        "prv_blanca.sort_values(by='volumen', ascending=False).head(20)"
      ],
      "metadata": {
        "colab": {
          "base_uri": "https://localhost:8080/",
          "height": 707
        },
        "id": "jzNQ1F4aI1HP",
        "outputId": "d3b3fee2-86e1-4a05-87d3-d6f8d9d7863d"
      },
      "execution_count": null,
      "outputs": [
        {
          "output_type": "execute_result",
          "data": {
            "text/plain": [
              "                            volumen\n",
              "provincia                          \n",
              "Huanuco                  1505347.33\n",
              "Huamanga                 1090051.81\n",
              "Huancayo                 1068481.70\n",
              "Tarma                     570348.69\n",
              "Huaral                    566592.05\n",
              "Jauja                     563047.24\n",
              "Barranca                  493371.74\n",
              "Pasco                     468714.82\n",
              "Ica                       330128.92\n",
              "Arequipa                  322502.61\n",
              "Nazca                     317647.56\n",
              "Canete                    253914.52\n",
              "Ambo                      250633.49\n",
              "Andahuaylas               219960.65\n",
              "Huaura                    184748.96\n",
              "Lima                      111069.36\n",
              "Huancavelica              105276.90\n",
              "Tayacaja                   88507.87\n",
              "Junin                      73487.99\n",
              "Procedencia Desconocida    64184.78"
            ],
            "text/html": [
              "\n",
              "  <div id=\"df-8e405a7e-7234-44db-a99c-8183febe4ac8\">\n",
              "    <div class=\"colab-df-container\">\n",
              "      <div>\n",
              "<style scoped>\n",
              "    .dataframe tbody tr th:only-of-type {\n",
              "        vertical-align: middle;\n",
              "    }\n",
              "\n",
              "    .dataframe tbody tr th {\n",
              "        vertical-align: top;\n",
              "    }\n",
              "\n",
              "    .dataframe thead th {\n",
              "        text-align: right;\n",
              "    }\n",
              "</style>\n",
              "<table border=\"1\" class=\"dataframe\">\n",
              "  <thead>\n",
              "    <tr style=\"text-align: right;\">\n",
              "      <th></th>\n",
              "      <th>volumen</th>\n",
              "    </tr>\n",
              "    <tr>\n",
              "      <th>provincia</th>\n",
              "      <th></th>\n",
              "    </tr>\n",
              "  </thead>\n",
              "  <tbody>\n",
              "    <tr>\n",
              "      <th>Huanuco</th>\n",
              "      <td>1505347.33</td>\n",
              "    </tr>\n",
              "    <tr>\n",
              "      <th>Huamanga</th>\n",
              "      <td>1090051.81</td>\n",
              "    </tr>\n",
              "    <tr>\n",
              "      <th>Huancayo</th>\n",
              "      <td>1068481.70</td>\n",
              "    </tr>\n",
              "    <tr>\n",
              "      <th>Tarma</th>\n",
              "      <td>570348.69</td>\n",
              "    </tr>\n",
              "    <tr>\n",
              "      <th>Huaral</th>\n",
              "      <td>566592.05</td>\n",
              "    </tr>\n",
              "    <tr>\n",
              "      <th>Jauja</th>\n",
              "      <td>563047.24</td>\n",
              "    </tr>\n",
              "    <tr>\n",
              "      <th>Barranca</th>\n",
              "      <td>493371.74</td>\n",
              "    </tr>\n",
              "    <tr>\n",
              "      <th>Pasco</th>\n",
              "      <td>468714.82</td>\n",
              "    </tr>\n",
              "    <tr>\n",
              "      <th>Ica</th>\n",
              "      <td>330128.92</td>\n",
              "    </tr>\n",
              "    <tr>\n",
              "      <th>Arequipa</th>\n",
              "      <td>322502.61</td>\n",
              "    </tr>\n",
              "    <tr>\n",
              "      <th>Nazca</th>\n",
              "      <td>317647.56</td>\n",
              "    </tr>\n",
              "    <tr>\n",
              "      <th>Canete</th>\n",
              "      <td>253914.52</td>\n",
              "    </tr>\n",
              "    <tr>\n",
              "      <th>Ambo</th>\n",
              "      <td>250633.49</td>\n",
              "    </tr>\n",
              "    <tr>\n",
              "      <th>Andahuaylas</th>\n",
              "      <td>219960.65</td>\n",
              "    </tr>\n",
              "    <tr>\n",
              "      <th>Huaura</th>\n",
              "      <td>184748.96</td>\n",
              "    </tr>\n",
              "    <tr>\n",
              "      <th>Lima</th>\n",
              "      <td>111069.36</td>\n",
              "    </tr>\n",
              "    <tr>\n",
              "      <th>Huancavelica</th>\n",
              "      <td>105276.90</td>\n",
              "    </tr>\n",
              "    <tr>\n",
              "      <th>Tayacaja</th>\n",
              "      <td>88507.87</td>\n",
              "    </tr>\n",
              "    <tr>\n",
              "      <th>Junin</th>\n",
              "      <td>73487.99</td>\n",
              "    </tr>\n",
              "    <tr>\n",
              "      <th>Procedencia Desconocida</th>\n",
              "      <td>64184.78</td>\n",
              "    </tr>\n",
              "  </tbody>\n",
              "</table>\n",
              "</div>\n",
              "      <button class=\"colab-df-convert\" onclick=\"convertToInteractive('df-8e405a7e-7234-44db-a99c-8183febe4ac8')\"\n",
              "              title=\"Convert this dataframe to an interactive table.\"\n",
              "              style=\"display:none;\">\n",
              "        \n",
              "  <svg xmlns=\"http://www.w3.org/2000/svg\" height=\"24px\"viewBox=\"0 0 24 24\"\n",
              "       width=\"24px\">\n",
              "    <path d=\"M0 0h24v24H0V0z\" fill=\"none\"/>\n",
              "    <path d=\"M18.56 5.44l.94 2.06.94-2.06 2.06-.94-2.06-.94-.94-2.06-.94 2.06-2.06.94zm-11 1L8.5 8.5l.94-2.06 2.06-.94-2.06-.94L8.5 2.5l-.94 2.06-2.06.94zm10 10l.94 2.06.94-2.06 2.06-.94-2.06-.94-.94-2.06-.94 2.06-2.06.94z\"/><path d=\"M17.41 7.96l-1.37-1.37c-.4-.4-.92-.59-1.43-.59-.52 0-1.04.2-1.43.59L10.3 9.45l-7.72 7.72c-.78.78-.78 2.05 0 2.83L4 21.41c.39.39.9.59 1.41.59.51 0 1.02-.2 1.41-.59l7.78-7.78 2.81-2.81c.8-.78.8-2.07 0-2.86zM5.41 20L4 18.59l7.72-7.72 1.47 1.35L5.41 20z\"/>\n",
              "  </svg>\n",
              "      </button>\n",
              "      \n",
              "  <style>\n",
              "    .colab-df-container {\n",
              "      display:flex;\n",
              "      flex-wrap:wrap;\n",
              "      gap: 12px;\n",
              "    }\n",
              "\n",
              "    .colab-df-convert {\n",
              "      background-color: #E8F0FE;\n",
              "      border: none;\n",
              "      border-radius: 50%;\n",
              "      cursor: pointer;\n",
              "      display: none;\n",
              "      fill: #1967D2;\n",
              "      height: 32px;\n",
              "      padding: 0 0 0 0;\n",
              "      width: 32px;\n",
              "    }\n",
              "\n",
              "    .colab-df-convert:hover {\n",
              "      background-color: #E2EBFA;\n",
              "      box-shadow: 0px 1px 2px rgba(60, 64, 67, 0.3), 0px 1px 3px 1px rgba(60, 64, 67, 0.15);\n",
              "      fill: #174EA6;\n",
              "    }\n",
              "\n",
              "    [theme=dark] .colab-df-convert {\n",
              "      background-color: #3B4455;\n",
              "      fill: #D2E3FC;\n",
              "    }\n",
              "\n",
              "    [theme=dark] .colab-df-convert:hover {\n",
              "      background-color: #434B5C;\n",
              "      box-shadow: 0px 1px 3px 1px rgba(0, 0, 0, 0.15);\n",
              "      filter: drop-shadow(0px 1px 2px rgba(0, 0, 0, 0.3));\n",
              "      fill: #FFFFFF;\n",
              "    }\n",
              "  </style>\n",
              "\n",
              "      <script>\n",
              "        const buttonEl =\n",
              "          document.querySelector('#df-8e405a7e-7234-44db-a99c-8183febe4ac8 button.colab-df-convert');\n",
              "        buttonEl.style.display =\n",
              "          google.colab.kernel.accessAllowed ? 'block' : 'none';\n",
              "\n",
              "        async function convertToInteractive(key) {\n",
              "          const element = document.querySelector('#df-8e405a7e-7234-44db-a99c-8183febe4ac8');\n",
              "          const dataTable =\n",
              "            await google.colab.kernel.invokeFunction('convertToInteractive',\n",
              "                                                     [key], {});\n",
              "          if (!dataTable) return;\n",
              "\n",
              "          const docLinkHtml = 'Like what you see? Visit the ' +\n",
              "            '<a target=\"_blank\" href=https://colab.research.google.com/notebooks/data_table.ipynb>data table notebook</a>'\n",
              "            + ' to learn more about interactive tables.';\n",
              "          element.innerHTML = '';\n",
              "          dataTable['output_type'] = 'display_data';\n",
              "          await google.colab.output.renderOutput(dataTable, element);\n",
              "          const docLink = document.createElement('div');\n",
              "          docLink.innerHTML = docLinkHtml;\n",
              "          element.appendChild(docLink);\n",
              "        }\n",
              "      </script>\n",
              "    </div>\n",
              "  </div>\n",
              "  "
            ]
          },
          "metadata": {},
          "execution_count": 82
        }
      ]
    },
    {
      "cell_type": "code",
      "source": [
        "prv_yungay=df_base1[['provincia','volumen']][df_base1.variedad==\"Papa Yungay\"].groupby('provincia').sum()\n",
        "prv_yungay.sort_values(by='volumen', ascending=False).head(20)"
      ],
      "metadata": {
        "colab": {
          "base_uri": "https://localhost:8080/",
          "height": 707
        },
        "id": "Il5kqoeoI-ie",
        "outputId": "6adca470-aec8-46c5-d529-4b96a0db3cd4"
      },
      "execution_count": null,
      "outputs": [
        {
          "output_type": "execute_result",
          "data": {
            "text/plain": [
              "                    volumen\n",
              "provincia                  \n",
              "Huanuco            146601.0\n",
              "Tarma               78764.0\n",
              "Huancayo            53188.0\n",
              "Huamanga            44934.0\n",
              "Jauja               29073.0\n",
              "Pasco               13757.0\n",
              "Barranca            12204.0\n",
              "Ica                  9150.0\n",
              "Arequipa             6864.0\n",
              "Huancavelica         5930.0\n",
              "Nazca                5788.0\n",
              "Andahuaylas          4932.0\n",
              "Huaral               4330.0\n",
              "Lima                 3794.0\n",
              "Ambo                 3716.0\n",
              "Tayacaja             3536.0\n",
              "Canete               3390.0\n",
              "Santiago De Chuco    2016.0\n",
              "Huaura               1934.0\n",
              "Sanchez Carrion      1169.0"
            ],
            "text/html": [
              "\n",
              "  <div id=\"df-58f55403-b107-45b3-9e8f-99323aac3d24\">\n",
              "    <div class=\"colab-df-container\">\n",
              "      <div>\n",
              "<style scoped>\n",
              "    .dataframe tbody tr th:only-of-type {\n",
              "        vertical-align: middle;\n",
              "    }\n",
              "\n",
              "    .dataframe tbody tr th {\n",
              "        vertical-align: top;\n",
              "    }\n",
              "\n",
              "    .dataframe thead th {\n",
              "        text-align: right;\n",
              "    }\n",
              "</style>\n",
              "<table border=\"1\" class=\"dataframe\">\n",
              "  <thead>\n",
              "    <tr style=\"text-align: right;\">\n",
              "      <th></th>\n",
              "      <th>volumen</th>\n",
              "    </tr>\n",
              "    <tr>\n",
              "      <th>provincia</th>\n",
              "      <th></th>\n",
              "    </tr>\n",
              "  </thead>\n",
              "  <tbody>\n",
              "    <tr>\n",
              "      <th>Huanuco</th>\n",
              "      <td>146601.0</td>\n",
              "    </tr>\n",
              "    <tr>\n",
              "      <th>Tarma</th>\n",
              "      <td>78764.0</td>\n",
              "    </tr>\n",
              "    <tr>\n",
              "      <th>Huancayo</th>\n",
              "      <td>53188.0</td>\n",
              "    </tr>\n",
              "    <tr>\n",
              "      <th>Huamanga</th>\n",
              "      <td>44934.0</td>\n",
              "    </tr>\n",
              "    <tr>\n",
              "      <th>Jauja</th>\n",
              "      <td>29073.0</td>\n",
              "    </tr>\n",
              "    <tr>\n",
              "      <th>Pasco</th>\n",
              "      <td>13757.0</td>\n",
              "    </tr>\n",
              "    <tr>\n",
              "      <th>Barranca</th>\n",
              "      <td>12204.0</td>\n",
              "    </tr>\n",
              "    <tr>\n",
              "      <th>Ica</th>\n",
              "      <td>9150.0</td>\n",
              "    </tr>\n",
              "    <tr>\n",
              "      <th>Arequipa</th>\n",
              "      <td>6864.0</td>\n",
              "    </tr>\n",
              "    <tr>\n",
              "      <th>Huancavelica</th>\n",
              "      <td>5930.0</td>\n",
              "    </tr>\n",
              "    <tr>\n",
              "      <th>Nazca</th>\n",
              "      <td>5788.0</td>\n",
              "    </tr>\n",
              "    <tr>\n",
              "      <th>Andahuaylas</th>\n",
              "      <td>4932.0</td>\n",
              "    </tr>\n",
              "    <tr>\n",
              "      <th>Huaral</th>\n",
              "      <td>4330.0</td>\n",
              "    </tr>\n",
              "    <tr>\n",
              "      <th>Lima</th>\n",
              "      <td>3794.0</td>\n",
              "    </tr>\n",
              "    <tr>\n",
              "      <th>Ambo</th>\n",
              "      <td>3716.0</td>\n",
              "    </tr>\n",
              "    <tr>\n",
              "      <th>Tayacaja</th>\n",
              "      <td>3536.0</td>\n",
              "    </tr>\n",
              "    <tr>\n",
              "      <th>Canete</th>\n",
              "      <td>3390.0</td>\n",
              "    </tr>\n",
              "    <tr>\n",
              "      <th>Santiago De Chuco</th>\n",
              "      <td>2016.0</td>\n",
              "    </tr>\n",
              "    <tr>\n",
              "      <th>Huaura</th>\n",
              "      <td>1934.0</td>\n",
              "    </tr>\n",
              "    <tr>\n",
              "      <th>Sanchez Carrion</th>\n",
              "      <td>1169.0</td>\n",
              "    </tr>\n",
              "  </tbody>\n",
              "</table>\n",
              "</div>\n",
              "      <button class=\"colab-df-convert\" onclick=\"convertToInteractive('df-58f55403-b107-45b3-9e8f-99323aac3d24')\"\n",
              "              title=\"Convert this dataframe to an interactive table.\"\n",
              "              style=\"display:none;\">\n",
              "        \n",
              "  <svg xmlns=\"http://www.w3.org/2000/svg\" height=\"24px\"viewBox=\"0 0 24 24\"\n",
              "       width=\"24px\">\n",
              "    <path d=\"M0 0h24v24H0V0z\" fill=\"none\"/>\n",
              "    <path d=\"M18.56 5.44l.94 2.06.94-2.06 2.06-.94-2.06-.94-.94-2.06-.94 2.06-2.06.94zm-11 1L8.5 8.5l.94-2.06 2.06-.94-2.06-.94L8.5 2.5l-.94 2.06-2.06.94zm10 10l.94 2.06.94-2.06 2.06-.94-2.06-.94-.94-2.06-.94 2.06-2.06.94z\"/><path d=\"M17.41 7.96l-1.37-1.37c-.4-.4-.92-.59-1.43-.59-.52 0-1.04.2-1.43.59L10.3 9.45l-7.72 7.72c-.78.78-.78 2.05 0 2.83L4 21.41c.39.39.9.59 1.41.59.51 0 1.02-.2 1.41-.59l7.78-7.78 2.81-2.81c.8-.78.8-2.07 0-2.86zM5.41 20L4 18.59l7.72-7.72 1.47 1.35L5.41 20z\"/>\n",
              "  </svg>\n",
              "      </button>\n",
              "      \n",
              "  <style>\n",
              "    .colab-df-container {\n",
              "      display:flex;\n",
              "      flex-wrap:wrap;\n",
              "      gap: 12px;\n",
              "    }\n",
              "\n",
              "    .colab-df-convert {\n",
              "      background-color: #E8F0FE;\n",
              "      border: none;\n",
              "      border-radius: 50%;\n",
              "      cursor: pointer;\n",
              "      display: none;\n",
              "      fill: #1967D2;\n",
              "      height: 32px;\n",
              "      padding: 0 0 0 0;\n",
              "      width: 32px;\n",
              "    }\n",
              "\n",
              "    .colab-df-convert:hover {\n",
              "      background-color: #E2EBFA;\n",
              "      box-shadow: 0px 1px 2px rgba(60, 64, 67, 0.3), 0px 1px 3px 1px rgba(60, 64, 67, 0.15);\n",
              "      fill: #174EA6;\n",
              "    }\n",
              "\n",
              "    [theme=dark] .colab-df-convert {\n",
              "      background-color: #3B4455;\n",
              "      fill: #D2E3FC;\n",
              "    }\n",
              "\n",
              "    [theme=dark] .colab-df-convert:hover {\n",
              "      background-color: #434B5C;\n",
              "      box-shadow: 0px 1px 3px 1px rgba(0, 0, 0, 0.15);\n",
              "      filter: drop-shadow(0px 1px 2px rgba(0, 0, 0, 0.3));\n",
              "      fill: #FFFFFF;\n",
              "    }\n",
              "  </style>\n",
              "\n",
              "      <script>\n",
              "        const buttonEl =\n",
              "          document.querySelector('#df-58f55403-b107-45b3-9e8f-99323aac3d24 button.colab-df-convert');\n",
              "        buttonEl.style.display =\n",
              "          google.colab.kernel.accessAllowed ? 'block' : 'none';\n",
              "\n",
              "        async function convertToInteractive(key) {\n",
              "          const element = document.querySelector('#df-58f55403-b107-45b3-9e8f-99323aac3d24');\n",
              "          const dataTable =\n",
              "            await google.colab.kernel.invokeFunction('convertToInteractive',\n",
              "                                                     [key], {});\n",
              "          if (!dataTable) return;\n",
              "\n",
              "          const docLinkHtml = 'Like what you see? Visit the ' +\n",
              "            '<a target=\"_blank\" href=https://colab.research.google.com/notebooks/data_table.ipynb>data table notebook</a>'\n",
              "            + ' to learn more about interactive tables.';\n",
              "          element.innerHTML = '';\n",
              "          dataTable['output_type'] = 'display_data';\n",
              "          await google.colab.output.renderOutput(dataTable, element);\n",
              "          const docLink = document.createElement('div');\n",
              "          docLink.innerHTML = docLinkHtml;\n",
              "          element.appendChild(docLink);\n",
              "        }\n",
              "      </script>\n",
              "    </div>\n",
              "  </div>\n",
              "  "
            ]
          },
          "metadata": {},
          "execution_count": 83
        }
      ]
    },
    {
      "cell_type": "code",
      "source": [
        "prv_canchan=df_base1[['provincia','volumen']][df_base1.variedad==\"Papa Canchan\"].groupby('provincia').sum()\n",
        "prv_canchan.sort_values(by='volumen', ascending=False).head(20)"
      ],
      "metadata": {
        "colab": {
          "base_uri": "https://localhost:8080/",
          "height": 707
        },
        "id": "HLNrQNQokTCg",
        "outputId": "98ff2278-42a8-43b4-8143-d9e220f9a644"
      },
      "execution_count": null,
      "outputs": [
        {
          "output_type": "execute_result",
          "data": {
            "text/plain": [
              "               volumen\n",
              "provincia             \n",
              "Huamanga      107584.0\n",
              "Huanuco        37006.0\n",
              "Barranca       27276.0\n",
              "Ica            26439.0\n",
              "Huancayo       25109.0\n",
              "Nazca          21901.0\n",
              "Jauja          14912.0\n",
              "Arequipa       14776.0\n",
              "Tarma          13929.0\n",
              "Pasco           5875.0\n",
              "Canete          5131.0\n",
              "Andahuaylas     3893.0\n",
              "Huaral          2990.0\n",
              "Lima            1896.0\n",
              "Huaura          1228.0\n",
              "Huanta          1053.0\n",
              "Ambo            1013.0\n",
              "Huancavelica     813.0\n",
              "Cangallo         798.0\n",
              "Junin            555.0"
            ],
            "text/html": [
              "\n",
              "  <div id=\"df-f911cee3-8381-46ae-a8c4-6ba28ca2a899\">\n",
              "    <div class=\"colab-df-container\">\n",
              "      <div>\n",
              "<style scoped>\n",
              "    .dataframe tbody tr th:only-of-type {\n",
              "        vertical-align: middle;\n",
              "    }\n",
              "\n",
              "    .dataframe tbody tr th {\n",
              "        vertical-align: top;\n",
              "    }\n",
              "\n",
              "    .dataframe thead th {\n",
              "        text-align: right;\n",
              "    }\n",
              "</style>\n",
              "<table border=\"1\" class=\"dataframe\">\n",
              "  <thead>\n",
              "    <tr style=\"text-align: right;\">\n",
              "      <th></th>\n",
              "      <th>volumen</th>\n",
              "    </tr>\n",
              "    <tr>\n",
              "      <th>provincia</th>\n",
              "      <th></th>\n",
              "    </tr>\n",
              "  </thead>\n",
              "  <tbody>\n",
              "    <tr>\n",
              "      <th>Huamanga</th>\n",
              "      <td>107584.0</td>\n",
              "    </tr>\n",
              "    <tr>\n",
              "      <th>Huanuco</th>\n",
              "      <td>37006.0</td>\n",
              "    </tr>\n",
              "    <tr>\n",
              "      <th>Barranca</th>\n",
              "      <td>27276.0</td>\n",
              "    </tr>\n",
              "    <tr>\n",
              "      <th>Ica</th>\n",
              "      <td>26439.0</td>\n",
              "    </tr>\n",
              "    <tr>\n",
              "      <th>Huancayo</th>\n",
              "      <td>25109.0</td>\n",
              "    </tr>\n",
              "    <tr>\n",
              "      <th>Nazca</th>\n",
              "      <td>21901.0</td>\n",
              "    </tr>\n",
              "    <tr>\n",
              "      <th>Jauja</th>\n",
              "      <td>14912.0</td>\n",
              "    </tr>\n",
              "    <tr>\n",
              "      <th>Arequipa</th>\n",
              "      <td>14776.0</td>\n",
              "    </tr>\n",
              "    <tr>\n",
              "      <th>Tarma</th>\n",
              "      <td>13929.0</td>\n",
              "    </tr>\n",
              "    <tr>\n",
              "      <th>Pasco</th>\n",
              "      <td>5875.0</td>\n",
              "    </tr>\n",
              "    <tr>\n",
              "      <th>Canete</th>\n",
              "      <td>5131.0</td>\n",
              "    </tr>\n",
              "    <tr>\n",
              "      <th>Andahuaylas</th>\n",
              "      <td>3893.0</td>\n",
              "    </tr>\n",
              "    <tr>\n",
              "      <th>Huaral</th>\n",
              "      <td>2990.0</td>\n",
              "    </tr>\n",
              "    <tr>\n",
              "      <th>Lima</th>\n",
              "      <td>1896.0</td>\n",
              "    </tr>\n",
              "    <tr>\n",
              "      <th>Huaura</th>\n",
              "      <td>1228.0</td>\n",
              "    </tr>\n",
              "    <tr>\n",
              "      <th>Huanta</th>\n",
              "      <td>1053.0</td>\n",
              "    </tr>\n",
              "    <tr>\n",
              "      <th>Ambo</th>\n",
              "      <td>1013.0</td>\n",
              "    </tr>\n",
              "    <tr>\n",
              "      <th>Huancavelica</th>\n",
              "      <td>813.0</td>\n",
              "    </tr>\n",
              "    <tr>\n",
              "      <th>Cangallo</th>\n",
              "      <td>798.0</td>\n",
              "    </tr>\n",
              "    <tr>\n",
              "      <th>Junin</th>\n",
              "      <td>555.0</td>\n",
              "    </tr>\n",
              "  </tbody>\n",
              "</table>\n",
              "</div>\n",
              "      <button class=\"colab-df-convert\" onclick=\"convertToInteractive('df-f911cee3-8381-46ae-a8c4-6ba28ca2a899')\"\n",
              "              title=\"Convert this dataframe to an interactive table.\"\n",
              "              style=\"display:none;\">\n",
              "        \n",
              "  <svg xmlns=\"http://www.w3.org/2000/svg\" height=\"24px\"viewBox=\"0 0 24 24\"\n",
              "       width=\"24px\">\n",
              "    <path d=\"M0 0h24v24H0V0z\" fill=\"none\"/>\n",
              "    <path d=\"M18.56 5.44l.94 2.06.94-2.06 2.06-.94-2.06-.94-.94-2.06-.94 2.06-2.06.94zm-11 1L8.5 8.5l.94-2.06 2.06-.94-2.06-.94L8.5 2.5l-.94 2.06-2.06.94zm10 10l.94 2.06.94-2.06 2.06-.94-2.06-.94-.94-2.06-.94 2.06-2.06.94z\"/><path d=\"M17.41 7.96l-1.37-1.37c-.4-.4-.92-.59-1.43-.59-.52 0-1.04.2-1.43.59L10.3 9.45l-7.72 7.72c-.78.78-.78 2.05 0 2.83L4 21.41c.39.39.9.59 1.41.59.51 0 1.02-.2 1.41-.59l7.78-7.78 2.81-2.81c.8-.78.8-2.07 0-2.86zM5.41 20L4 18.59l7.72-7.72 1.47 1.35L5.41 20z\"/>\n",
              "  </svg>\n",
              "      </button>\n",
              "      \n",
              "  <style>\n",
              "    .colab-df-container {\n",
              "      display:flex;\n",
              "      flex-wrap:wrap;\n",
              "      gap: 12px;\n",
              "    }\n",
              "\n",
              "    .colab-df-convert {\n",
              "      background-color: #E8F0FE;\n",
              "      border: none;\n",
              "      border-radius: 50%;\n",
              "      cursor: pointer;\n",
              "      display: none;\n",
              "      fill: #1967D2;\n",
              "      height: 32px;\n",
              "      padding: 0 0 0 0;\n",
              "      width: 32px;\n",
              "    }\n",
              "\n",
              "    .colab-df-convert:hover {\n",
              "      background-color: #E2EBFA;\n",
              "      box-shadow: 0px 1px 2px rgba(60, 64, 67, 0.3), 0px 1px 3px 1px rgba(60, 64, 67, 0.15);\n",
              "      fill: #174EA6;\n",
              "    }\n",
              "\n",
              "    [theme=dark] .colab-df-convert {\n",
              "      background-color: #3B4455;\n",
              "      fill: #D2E3FC;\n",
              "    }\n",
              "\n",
              "    [theme=dark] .colab-df-convert:hover {\n",
              "      background-color: #434B5C;\n",
              "      box-shadow: 0px 1px 3px 1px rgba(0, 0, 0, 0.15);\n",
              "      filter: drop-shadow(0px 1px 2px rgba(0, 0, 0, 0.3));\n",
              "      fill: #FFFFFF;\n",
              "    }\n",
              "  </style>\n",
              "\n",
              "      <script>\n",
              "        const buttonEl =\n",
              "          document.querySelector('#df-f911cee3-8381-46ae-a8c4-6ba28ca2a899 button.colab-df-convert');\n",
              "        buttonEl.style.display =\n",
              "          google.colab.kernel.accessAllowed ? 'block' : 'none';\n",
              "\n",
              "        async function convertToInteractive(key) {\n",
              "          const element = document.querySelector('#df-f911cee3-8381-46ae-a8c4-6ba28ca2a899');\n",
              "          const dataTable =\n",
              "            await google.colab.kernel.invokeFunction('convertToInteractive',\n",
              "                                                     [key], {});\n",
              "          if (!dataTable) return;\n",
              "\n",
              "          const docLinkHtml = 'Like what you see? Visit the ' +\n",
              "            '<a target=\"_blank\" href=https://colab.research.google.com/notebooks/data_table.ipynb>data table notebook</a>'\n",
              "            + ' to learn more about interactive tables.';\n",
              "          element.innerHTML = '';\n",
              "          dataTable['output_type'] = 'display_data';\n",
              "          await google.colab.output.renderOutput(dataTable, element);\n",
              "          const docLink = document.createElement('div');\n",
              "          docLink.innerHTML = docLinkHtml;\n",
              "          element.appendChild(docLink);\n",
              "        }\n",
              "      </script>\n",
              "    </div>\n",
              "  </div>\n",
              "  "
            ]
          },
          "metadata": {},
          "execution_count": 84
        }
      ]
    },
    {
      "cell_type": "code",
      "source": [
        "prv_huayro=df_base1[['provincia','volumen']][df_base1.variedad==\"Papa Huayro\"].groupby('provincia').sum()\n",
        "prv_huayro.sort_values(by='volumen', ascending=False).head(20)"
      ],
      "metadata": {
        "colab": {
          "base_uri": "https://localhost:8080/",
          "height": 707
        },
        "id": "deeTzGeWJR_c",
        "outputId": "b67259a5-9eb9-4f00-8755-480d591ce476"
      },
      "execution_count": null,
      "outputs": [
        {
          "output_type": "execute_result",
          "data": {
            "text/plain": [
              "                          volumen\n",
              "provincia                        \n",
              "Huanuco                  25659.19\n",
              "Andahuaylas              13443.85\n",
              "Pasco                     9153.10\n",
              "Huancayo                  3097.21\n",
              "Ambo                      2335.40\n",
              "Procedencia Desconocida   1779.01\n",
              "Huamanga                  1276.44\n",
              "Junin                     1066.58\n",
              "Tarma                      355.51\n",
              "Jauja                      339.34\n",
              "Huancavelica               300.70\n",
              "Daniel Alcides Carrion     191.00\n",
              "Pachitea                   150.00\n",
              "Abancay                    132.90\n",
              "Concepcion                 106.68\n",
              "Tayacaja                   105.98\n",
              "Barranca                    95.00\n",
              "Lima                        80.00\n",
              "Nazca                       74.00\n",
              "Cangallo                    51.00"
            ],
            "text/html": [
              "\n",
              "  <div id=\"df-b75d0c66-a38f-4aee-89fc-ce335443d590\">\n",
              "    <div class=\"colab-df-container\">\n",
              "      <div>\n",
              "<style scoped>\n",
              "    .dataframe tbody tr th:only-of-type {\n",
              "        vertical-align: middle;\n",
              "    }\n",
              "\n",
              "    .dataframe tbody tr th {\n",
              "        vertical-align: top;\n",
              "    }\n",
              "\n",
              "    .dataframe thead th {\n",
              "        text-align: right;\n",
              "    }\n",
              "</style>\n",
              "<table border=\"1\" class=\"dataframe\">\n",
              "  <thead>\n",
              "    <tr style=\"text-align: right;\">\n",
              "      <th></th>\n",
              "      <th>volumen</th>\n",
              "    </tr>\n",
              "    <tr>\n",
              "      <th>provincia</th>\n",
              "      <th></th>\n",
              "    </tr>\n",
              "  </thead>\n",
              "  <tbody>\n",
              "    <tr>\n",
              "      <th>Huanuco</th>\n",
              "      <td>25659.19</td>\n",
              "    </tr>\n",
              "    <tr>\n",
              "      <th>Andahuaylas</th>\n",
              "      <td>13443.85</td>\n",
              "    </tr>\n",
              "    <tr>\n",
              "      <th>Pasco</th>\n",
              "      <td>9153.10</td>\n",
              "    </tr>\n",
              "    <tr>\n",
              "      <th>Huancayo</th>\n",
              "      <td>3097.21</td>\n",
              "    </tr>\n",
              "    <tr>\n",
              "      <th>Ambo</th>\n",
              "      <td>2335.40</td>\n",
              "    </tr>\n",
              "    <tr>\n",
              "      <th>Procedencia Desconocida</th>\n",
              "      <td>1779.01</td>\n",
              "    </tr>\n",
              "    <tr>\n",
              "      <th>Huamanga</th>\n",
              "      <td>1276.44</td>\n",
              "    </tr>\n",
              "    <tr>\n",
              "      <th>Junin</th>\n",
              "      <td>1066.58</td>\n",
              "    </tr>\n",
              "    <tr>\n",
              "      <th>Tarma</th>\n",
              "      <td>355.51</td>\n",
              "    </tr>\n",
              "    <tr>\n",
              "      <th>Jauja</th>\n",
              "      <td>339.34</td>\n",
              "    </tr>\n",
              "    <tr>\n",
              "      <th>Huancavelica</th>\n",
              "      <td>300.70</td>\n",
              "    </tr>\n",
              "    <tr>\n",
              "      <th>Daniel Alcides Carrion</th>\n",
              "      <td>191.00</td>\n",
              "    </tr>\n",
              "    <tr>\n",
              "      <th>Pachitea</th>\n",
              "      <td>150.00</td>\n",
              "    </tr>\n",
              "    <tr>\n",
              "      <th>Abancay</th>\n",
              "      <td>132.90</td>\n",
              "    </tr>\n",
              "    <tr>\n",
              "      <th>Concepcion</th>\n",
              "      <td>106.68</td>\n",
              "    </tr>\n",
              "    <tr>\n",
              "      <th>Tayacaja</th>\n",
              "      <td>105.98</td>\n",
              "    </tr>\n",
              "    <tr>\n",
              "      <th>Barranca</th>\n",
              "      <td>95.00</td>\n",
              "    </tr>\n",
              "    <tr>\n",
              "      <th>Lima</th>\n",
              "      <td>80.00</td>\n",
              "    </tr>\n",
              "    <tr>\n",
              "      <th>Nazca</th>\n",
              "      <td>74.00</td>\n",
              "    </tr>\n",
              "    <tr>\n",
              "      <th>Cangallo</th>\n",
              "      <td>51.00</td>\n",
              "    </tr>\n",
              "  </tbody>\n",
              "</table>\n",
              "</div>\n",
              "      <button class=\"colab-df-convert\" onclick=\"convertToInteractive('df-b75d0c66-a38f-4aee-89fc-ce335443d590')\"\n",
              "              title=\"Convert this dataframe to an interactive table.\"\n",
              "              style=\"display:none;\">\n",
              "        \n",
              "  <svg xmlns=\"http://www.w3.org/2000/svg\" height=\"24px\"viewBox=\"0 0 24 24\"\n",
              "       width=\"24px\">\n",
              "    <path d=\"M0 0h24v24H0V0z\" fill=\"none\"/>\n",
              "    <path d=\"M18.56 5.44l.94 2.06.94-2.06 2.06-.94-2.06-.94-.94-2.06-.94 2.06-2.06.94zm-11 1L8.5 8.5l.94-2.06 2.06-.94-2.06-.94L8.5 2.5l-.94 2.06-2.06.94zm10 10l.94 2.06.94-2.06 2.06-.94-2.06-.94-.94-2.06-.94 2.06-2.06.94z\"/><path d=\"M17.41 7.96l-1.37-1.37c-.4-.4-.92-.59-1.43-.59-.52 0-1.04.2-1.43.59L10.3 9.45l-7.72 7.72c-.78.78-.78 2.05 0 2.83L4 21.41c.39.39.9.59 1.41.59.51 0 1.02-.2 1.41-.59l7.78-7.78 2.81-2.81c.8-.78.8-2.07 0-2.86zM5.41 20L4 18.59l7.72-7.72 1.47 1.35L5.41 20z\"/>\n",
              "  </svg>\n",
              "      </button>\n",
              "      \n",
              "  <style>\n",
              "    .colab-df-container {\n",
              "      display:flex;\n",
              "      flex-wrap:wrap;\n",
              "      gap: 12px;\n",
              "    }\n",
              "\n",
              "    .colab-df-convert {\n",
              "      background-color: #E8F0FE;\n",
              "      border: none;\n",
              "      border-radius: 50%;\n",
              "      cursor: pointer;\n",
              "      display: none;\n",
              "      fill: #1967D2;\n",
              "      height: 32px;\n",
              "      padding: 0 0 0 0;\n",
              "      width: 32px;\n",
              "    }\n",
              "\n",
              "    .colab-df-convert:hover {\n",
              "      background-color: #E2EBFA;\n",
              "      box-shadow: 0px 1px 2px rgba(60, 64, 67, 0.3), 0px 1px 3px 1px rgba(60, 64, 67, 0.15);\n",
              "      fill: #174EA6;\n",
              "    }\n",
              "\n",
              "    [theme=dark] .colab-df-convert {\n",
              "      background-color: #3B4455;\n",
              "      fill: #D2E3FC;\n",
              "    }\n",
              "\n",
              "    [theme=dark] .colab-df-convert:hover {\n",
              "      background-color: #434B5C;\n",
              "      box-shadow: 0px 1px 3px 1px rgba(0, 0, 0, 0.15);\n",
              "      filter: drop-shadow(0px 1px 2px rgba(0, 0, 0, 0.3));\n",
              "      fill: #FFFFFF;\n",
              "    }\n",
              "  </style>\n",
              "\n",
              "      <script>\n",
              "        const buttonEl =\n",
              "          document.querySelector('#df-b75d0c66-a38f-4aee-89fc-ce335443d590 button.colab-df-convert');\n",
              "        buttonEl.style.display =\n",
              "          google.colab.kernel.accessAllowed ? 'block' : 'none';\n",
              "\n",
              "        async function convertToInteractive(key) {\n",
              "          const element = document.querySelector('#df-b75d0c66-a38f-4aee-89fc-ce335443d590');\n",
              "          const dataTable =\n",
              "            await google.colab.kernel.invokeFunction('convertToInteractive',\n",
              "                                                     [key], {});\n",
              "          if (!dataTable) return;\n",
              "\n",
              "          const docLinkHtml = 'Like what you see? Visit the ' +\n",
              "            '<a target=\"_blank\" href=https://colab.research.google.com/notebooks/data_table.ipynb>data table notebook</a>'\n",
              "            + ' to learn more about interactive tables.';\n",
              "          element.innerHTML = '';\n",
              "          dataTable['output_type'] = 'display_data';\n",
              "          await google.colab.output.renderOutput(dataTable, element);\n",
              "          const docLink = document.createElement('div');\n",
              "          docLink.innerHTML = docLinkHtml;\n",
              "          element.appendChild(docLink);\n",
              "        }\n",
              "      </script>\n",
              "    </div>\n",
              "  </div>\n",
              "  "
            ]
          },
          "metadata": {},
          "execution_count": 85
        }
      ]
    },
    {
      "cell_type": "code",
      "source": [
        "prv_color=df_base1[['provincia','volumen']][df_base1.variedad==\"Papa Color\"].groupby('provincia').sum()\n",
        "prv_color.sort_values(by='volumen', ascending=False).head(20)"
      ],
      "metadata": {
        "colab": {
          "base_uri": "https://localhost:8080/",
          "height": 707
        },
        "id": "5E_mrgdiJ_It",
        "outputId": "25817844-5e47-4e26-e37b-14439e6dd097"
      },
      "execution_count": null,
      "outputs": [
        {
          "output_type": "execute_result",
          "data": {
            "text/plain": [
              "                volumen\n",
              "provincia              \n",
              "Huanuco       504661.90\n",
              "Pasco         227303.03\n",
              "Huamanga      159766.66\n",
              "Huancayo      140268.71\n",
              "Andahuaylas   102378.62\n",
              "Barranca       81029.10\n",
              "Tarma          71427.46\n",
              "Ica            63855.36\n",
              "Jauja          62850.24\n",
              "Ambo           50789.32\n",
              "Nazca          47683.17\n",
              "Huaral         37784.96\n",
              "Arequipa       30975.68\n",
              "Canete         25965.56\n",
              "Junin          21790.10\n",
              "Huancavelica   19058.68\n",
              "Huaura         16130.04\n",
              "Trujillo       14956.29\n",
              "Tayacaja       13551.59\n",
              "Lima           12002.45"
            ],
            "text/html": [
              "\n",
              "  <div id=\"df-c7364e40-eb35-41b0-98f5-2e5c1c298408\">\n",
              "    <div class=\"colab-df-container\">\n",
              "      <div>\n",
              "<style scoped>\n",
              "    .dataframe tbody tr th:only-of-type {\n",
              "        vertical-align: middle;\n",
              "    }\n",
              "\n",
              "    .dataframe tbody tr th {\n",
              "        vertical-align: top;\n",
              "    }\n",
              "\n",
              "    .dataframe thead th {\n",
              "        text-align: right;\n",
              "    }\n",
              "</style>\n",
              "<table border=\"1\" class=\"dataframe\">\n",
              "  <thead>\n",
              "    <tr style=\"text-align: right;\">\n",
              "      <th></th>\n",
              "      <th>volumen</th>\n",
              "    </tr>\n",
              "    <tr>\n",
              "      <th>provincia</th>\n",
              "      <th></th>\n",
              "    </tr>\n",
              "  </thead>\n",
              "  <tbody>\n",
              "    <tr>\n",
              "      <th>Huanuco</th>\n",
              "      <td>504661.90</td>\n",
              "    </tr>\n",
              "    <tr>\n",
              "      <th>Pasco</th>\n",
              "      <td>227303.03</td>\n",
              "    </tr>\n",
              "    <tr>\n",
              "      <th>Huamanga</th>\n",
              "      <td>159766.66</td>\n",
              "    </tr>\n",
              "    <tr>\n",
              "      <th>Huancayo</th>\n",
              "      <td>140268.71</td>\n",
              "    </tr>\n",
              "    <tr>\n",
              "      <th>Andahuaylas</th>\n",
              "      <td>102378.62</td>\n",
              "    </tr>\n",
              "    <tr>\n",
              "      <th>Barranca</th>\n",
              "      <td>81029.10</td>\n",
              "    </tr>\n",
              "    <tr>\n",
              "      <th>Tarma</th>\n",
              "      <td>71427.46</td>\n",
              "    </tr>\n",
              "    <tr>\n",
              "      <th>Ica</th>\n",
              "      <td>63855.36</td>\n",
              "    </tr>\n",
              "    <tr>\n",
              "      <th>Jauja</th>\n",
              "      <td>62850.24</td>\n",
              "    </tr>\n",
              "    <tr>\n",
              "      <th>Ambo</th>\n",
              "      <td>50789.32</td>\n",
              "    </tr>\n",
              "    <tr>\n",
              "      <th>Nazca</th>\n",
              "      <td>47683.17</td>\n",
              "    </tr>\n",
              "    <tr>\n",
              "      <th>Huaral</th>\n",
              "      <td>37784.96</td>\n",
              "    </tr>\n",
              "    <tr>\n",
              "      <th>Arequipa</th>\n",
              "      <td>30975.68</td>\n",
              "    </tr>\n",
              "    <tr>\n",
              "      <th>Canete</th>\n",
              "      <td>25965.56</td>\n",
              "    </tr>\n",
              "    <tr>\n",
              "      <th>Junin</th>\n",
              "      <td>21790.10</td>\n",
              "    </tr>\n",
              "    <tr>\n",
              "      <th>Huancavelica</th>\n",
              "      <td>19058.68</td>\n",
              "    </tr>\n",
              "    <tr>\n",
              "      <th>Huaura</th>\n",
              "      <td>16130.04</td>\n",
              "    </tr>\n",
              "    <tr>\n",
              "      <th>Trujillo</th>\n",
              "      <td>14956.29</td>\n",
              "    </tr>\n",
              "    <tr>\n",
              "      <th>Tayacaja</th>\n",
              "      <td>13551.59</td>\n",
              "    </tr>\n",
              "    <tr>\n",
              "      <th>Lima</th>\n",
              "      <td>12002.45</td>\n",
              "    </tr>\n",
              "  </tbody>\n",
              "</table>\n",
              "</div>\n",
              "      <button class=\"colab-df-convert\" onclick=\"convertToInteractive('df-c7364e40-eb35-41b0-98f5-2e5c1c298408')\"\n",
              "              title=\"Convert this dataframe to an interactive table.\"\n",
              "              style=\"display:none;\">\n",
              "        \n",
              "  <svg xmlns=\"http://www.w3.org/2000/svg\" height=\"24px\"viewBox=\"0 0 24 24\"\n",
              "       width=\"24px\">\n",
              "    <path d=\"M0 0h24v24H0V0z\" fill=\"none\"/>\n",
              "    <path d=\"M18.56 5.44l.94 2.06.94-2.06 2.06-.94-2.06-.94-.94-2.06-.94 2.06-2.06.94zm-11 1L8.5 8.5l.94-2.06 2.06-.94-2.06-.94L8.5 2.5l-.94 2.06-2.06.94zm10 10l.94 2.06.94-2.06 2.06-.94-2.06-.94-.94-2.06-.94 2.06-2.06.94z\"/><path d=\"M17.41 7.96l-1.37-1.37c-.4-.4-.92-.59-1.43-.59-.52 0-1.04.2-1.43.59L10.3 9.45l-7.72 7.72c-.78.78-.78 2.05 0 2.83L4 21.41c.39.39.9.59 1.41.59.51 0 1.02-.2 1.41-.59l7.78-7.78 2.81-2.81c.8-.78.8-2.07 0-2.86zM5.41 20L4 18.59l7.72-7.72 1.47 1.35L5.41 20z\"/>\n",
              "  </svg>\n",
              "      </button>\n",
              "      \n",
              "  <style>\n",
              "    .colab-df-container {\n",
              "      display:flex;\n",
              "      flex-wrap:wrap;\n",
              "      gap: 12px;\n",
              "    }\n",
              "\n",
              "    .colab-df-convert {\n",
              "      background-color: #E8F0FE;\n",
              "      border: none;\n",
              "      border-radius: 50%;\n",
              "      cursor: pointer;\n",
              "      display: none;\n",
              "      fill: #1967D2;\n",
              "      height: 32px;\n",
              "      padding: 0 0 0 0;\n",
              "      width: 32px;\n",
              "    }\n",
              "\n",
              "    .colab-df-convert:hover {\n",
              "      background-color: #E2EBFA;\n",
              "      box-shadow: 0px 1px 2px rgba(60, 64, 67, 0.3), 0px 1px 3px 1px rgba(60, 64, 67, 0.15);\n",
              "      fill: #174EA6;\n",
              "    }\n",
              "\n",
              "    [theme=dark] .colab-df-convert {\n",
              "      background-color: #3B4455;\n",
              "      fill: #D2E3FC;\n",
              "    }\n",
              "\n",
              "    [theme=dark] .colab-df-convert:hover {\n",
              "      background-color: #434B5C;\n",
              "      box-shadow: 0px 1px 3px 1px rgba(0, 0, 0, 0.15);\n",
              "      filter: drop-shadow(0px 1px 2px rgba(0, 0, 0, 0.3));\n",
              "      fill: #FFFFFF;\n",
              "    }\n",
              "  </style>\n",
              "\n",
              "      <script>\n",
              "        const buttonEl =\n",
              "          document.querySelector('#df-c7364e40-eb35-41b0-98f5-2e5c1c298408 button.colab-df-convert');\n",
              "        buttonEl.style.display =\n",
              "          google.colab.kernel.accessAllowed ? 'block' : 'none';\n",
              "\n",
              "        async function convertToInteractive(key) {\n",
              "          const element = document.querySelector('#df-c7364e40-eb35-41b0-98f5-2e5c1c298408');\n",
              "          const dataTable =\n",
              "            await google.colab.kernel.invokeFunction('convertToInteractive',\n",
              "                                                     [key], {});\n",
              "          if (!dataTable) return;\n",
              "\n",
              "          const docLinkHtml = 'Like what you see? Visit the ' +\n",
              "            '<a target=\"_blank\" href=https://colab.research.google.com/notebooks/data_table.ipynb>data table notebook</a>'\n",
              "            + ' to learn more about interactive tables.';\n",
              "          element.innerHTML = '';\n",
              "          dataTable['output_type'] = 'display_data';\n",
              "          await google.colab.output.renderOutput(dataTable, element);\n",
              "          const docLink = document.createElement('div');\n",
              "          docLink.innerHTML = docLinkHtml;\n",
              "          element.appendChild(docLink);\n",
              "        }\n",
              "      </script>\n",
              "    </div>\n",
              "  </div>\n",
              "  "
            ]
          },
          "metadata": {},
          "execution_count": 86
        }
      ]
    },
    {
      "cell_type": "markdown",
      "source": [
        "## Vemos que en las variedades Blanca, Yungay, Canchan y Color la sierra compite con la costa.  En resto de variedades la oferta sólo viene de la sierra"
      ],
      "metadata": {
        "id": "o4U3ugb_kfFH"
      }
    },
    {
      "cell_type": "markdown",
      "source": [
        "## Evaluamos el peso de las 121 provincias en el valor total de papa. Creamos variable \"valor\" en la base"
      ],
      "metadata": {
        "id": "p1986stZeuyx"
      }
    },
    {
      "cell_type": "markdown",
      "source": [],
      "metadata": {
        "id": "3JqgNB-YetWh"
      }
    },
    {
      "cell_type": "code",
      "source": [
        "df_base1['valor']=df_base1['volumen']*df_base1['precio']"
      ],
      "metadata": {
        "colab": {
          "base_uri": "https://localhost:8080/"
        },
        "id": "Hw4LBHQ6e4Fg",
        "outputId": "4c082bb8-699f-4dca-a9c7-54cd7e788b53"
      },
      "execution_count": null,
      "outputs": [
        {
          "output_type": "stream",
          "name": "stderr",
          "text": [
            "<ipython-input-87-debbb182376f>:1: SettingWithCopyWarning: \n",
            "A value is trying to be set on a copy of a slice from a DataFrame.\n",
            "Try using .loc[row_indexer,col_indexer] = value instead\n",
            "\n",
            "See the caveats in the documentation: https://pandas.pydata.org/pandas-docs/stable/user_guide/indexing.html#returning-a-view-versus-a-copy\n",
            "  df_base1['valor']=df_base1['volumen']*df_base1['precio']\n"
          ]
        }
      ]
    },
    {
      "cell_type": "code",
      "source": [
        "df_base1"
      ],
      "metadata": {
        "colab": {
          "base_uri": "https://localhost:8080/",
          "height": 423
        },
        "id": "buR5kft0fJSP",
        "outputId": "5a447eee-c8f4-478f-d69f-51d37dc2580c"
      },
      "execution_count": null,
      "outputs": [
        {
          "output_type": "execute_result",
          "data": {
            "text/plain": [
              "                variedad  year    provincia   mes  volumen  precio        ym  \\\n",
              "0          Papa Amarilla  1997      Abancay  m_01     0.00    0.90  1997m_01   \n",
              "1          Papa Amarilla  1997         Ambo  m_01    97.80    0.90  1997m_01   \n",
              "2          Papa Amarilla  1997  Andahuaylas  m_01     0.00    0.90  1997m_01   \n",
              "3          Papa Amarilla  1997     Arequipa  m_01     0.00    0.90  1997m_01   \n",
              "4          Papa Amarilla  1997       Ascope  m_01    15.48    0.90  1997m_01   \n",
              "...                  ...   ...          ...   ...      ...     ...       ...   \n",
              "51498       Papa Canchan  2009          NaN  m_12     0.00    0.68  2009m_12   \n",
              "51499       Papa Canchan  2010          NaN  m_12     0.00    0.49  2010m_12   \n",
              "51500       Papa Canchan  2011          NaN  m_12     0.00    0.87  2011m_12   \n",
              "51501   Papa Huamantanga  2011          NaN  m_12     0.00    0.89  2011m_12   \n",
              "51502  Papa Negra Andina  2011          NaN  m_12     0.00    0.81  2011m_12   \n",
              "\n",
              "        valor  \n",
              "0       0.000  \n",
              "1      88.020  \n",
              "2       0.000  \n",
              "3       0.000  \n",
              "4      13.932  \n",
              "...       ...  \n",
              "51498   0.000  \n",
              "51499   0.000  \n",
              "51500   0.000  \n",
              "51501   0.000  \n",
              "51502   0.000  \n",
              "\n",
              "[49181 rows x 8 columns]"
            ],
            "text/html": [
              "\n",
              "  <div id=\"df-5db5898b-6c43-4954-bd89-dcd360ca8b95\">\n",
              "    <div class=\"colab-df-container\">\n",
              "      <div>\n",
              "<style scoped>\n",
              "    .dataframe tbody tr th:only-of-type {\n",
              "        vertical-align: middle;\n",
              "    }\n",
              "\n",
              "    .dataframe tbody tr th {\n",
              "        vertical-align: top;\n",
              "    }\n",
              "\n",
              "    .dataframe thead th {\n",
              "        text-align: right;\n",
              "    }\n",
              "</style>\n",
              "<table border=\"1\" class=\"dataframe\">\n",
              "  <thead>\n",
              "    <tr style=\"text-align: right;\">\n",
              "      <th></th>\n",
              "      <th>variedad</th>\n",
              "      <th>year</th>\n",
              "      <th>provincia</th>\n",
              "      <th>mes</th>\n",
              "      <th>volumen</th>\n",
              "      <th>precio</th>\n",
              "      <th>ym</th>\n",
              "      <th>valor</th>\n",
              "    </tr>\n",
              "  </thead>\n",
              "  <tbody>\n",
              "    <tr>\n",
              "      <th>0</th>\n",
              "      <td>Papa Amarilla</td>\n",
              "      <td>1997</td>\n",
              "      <td>Abancay</td>\n",
              "      <td>m_01</td>\n",
              "      <td>0.00</td>\n",
              "      <td>0.90</td>\n",
              "      <td>1997m_01</td>\n",
              "      <td>0.000</td>\n",
              "    </tr>\n",
              "    <tr>\n",
              "      <th>1</th>\n",
              "      <td>Papa Amarilla</td>\n",
              "      <td>1997</td>\n",
              "      <td>Ambo</td>\n",
              "      <td>m_01</td>\n",
              "      <td>97.80</td>\n",
              "      <td>0.90</td>\n",
              "      <td>1997m_01</td>\n",
              "      <td>88.020</td>\n",
              "    </tr>\n",
              "    <tr>\n",
              "      <th>2</th>\n",
              "      <td>Papa Amarilla</td>\n",
              "      <td>1997</td>\n",
              "      <td>Andahuaylas</td>\n",
              "      <td>m_01</td>\n",
              "      <td>0.00</td>\n",
              "      <td>0.90</td>\n",
              "      <td>1997m_01</td>\n",
              "      <td>0.000</td>\n",
              "    </tr>\n",
              "    <tr>\n",
              "      <th>3</th>\n",
              "      <td>Papa Amarilla</td>\n",
              "      <td>1997</td>\n",
              "      <td>Arequipa</td>\n",
              "      <td>m_01</td>\n",
              "      <td>0.00</td>\n",
              "      <td>0.90</td>\n",
              "      <td>1997m_01</td>\n",
              "      <td>0.000</td>\n",
              "    </tr>\n",
              "    <tr>\n",
              "      <th>4</th>\n",
              "      <td>Papa Amarilla</td>\n",
              "      <td>1997</td>\n",
              "      <td>Ascope</td>\n",
              "      <td>m_01</td>\n",
              "      <td>15.48</td>\n",
              "      <td>0.90</td>\n",
              "      <td>1997m_01</td>\n",
              "      <td>13.932</td>\n",
              "    </tr>\n",
              "    <tr>\n",
              "      <th>...</th>\n",
              "      <td>...</td>\n",
              "      <td>...</td>\n",
              "      <td>...</td>\n",
              "      <td>...</td>\n",
              "      <td>...</td>\n",
              "      <td>...</td>\n",
              "      <td>...</td>\n",
              "      <td>...</td>\n",
              "    </tr>\n",
              "    <tr>\n",
              "      <th>51498</th>\n",
              "      <td>Papa Canchan</td>\n",
              "      <td>2009</td>\n",
              "      <td>NaN</td>\n",
              "      <td>m_12</td>\n",
              "      <td>0.00</td>\n",
              "      <td>0.68</td>\n",
              "      <td>2009m_12</td>\n",
              "      <td>0.000</td>\n",
              "    </tr>\n",
              "    <tr>\n",
              "      <th>51499</th>\n",
              "      <td>Papa Canchan</td>\n",
              "      <td>2010</td>\n",
              "      <td>NaN</td>\n",
              "      <td>m_12</td>\n",
              "      <td>0.00</td>\n",
              "      <td>0.49</td>\n",
              "      <td>2010m_12</td>\n",
              "      <td>0.000</td>\n",
              "    </tr>\n",
              "    <tr>\n",
              "      <th>51500</th>\n",
              "      <td>Papa Canchan</td>\n",
              "      <td>2011</td>\n",
              "      <td>NaN</td>\n",
              "      <td>m_12</td>\n",
              "      <td>0.00</td>\n",
              "      <td>0.87</td>\n",
              "      <td>2011m_12</td>\n",
              "      <td>0.000</td>\n",
              "    </tr>\n",
              "    <tr>\n",
              "      <th>51501</th>\n",
              "      <td>Papa Huamantanga</td>\n",
              "      <td>2011</td>\n",
              "      <td>NaN</td>\n",
              "      <td>m_12</td>\n",
              "      <td>0.00</td>\n",
              "      <td>0.89</td>\n",
              "      <td>2011m_12</td>\n",
              "      <td>0.000</td>\n",
              "    </tr>\n",
              "    <tr>\n",
              "      <th>51502</th>\n",
              "      <td>Papa Negra Andina</td>\n",
              "      <td>2011</td>\n",
              "      <td>NaN</td>\n",
              "      <td>m_12</td>\n",
              "      <td>0.00</td>\n",
              "      <td>0.81</td>\n",
              "      <td>2011m_12</td>\n",
              "      <td>0.000</td>\n",
              "    </tr>\n",
              "  </tbody>\n",
              "</table>\n",
              "<p>49181 rows × 8 columns</p>\n",
              "</div>\n",
              "      <button class=\"colab-df-convert\" onclick=\"convertToInteractive('df-5db5898b-6c43-4954-bd89-dcd360ca8b95')\"\n",
              "              title=\"Convert this dataframe to an interactive table.\"\n",
              "              style=\"display:none;\">\n",
              "        \n",
              "  <svg xmlns=\"http://www.w3.org/2000/svg\" height=\"24px\"viewBox=\"0 0 24 24\"\n",
              "       width=\"24px\">\n",
              "    <path d=\"M0 0h24v24H0V0z\" fill=\"none\"/>\n",
              "    <path d=\"M18.56 5.44l.94 2.06.94-2.06 2.06-.94-2.06-.94-.94-2.06-.94 2.06-2.06.94zm-11 1L8.5 8.5l.94-2.06 2.06-.94-2.06-.94L8.5 2.5l-.94 2.06-2.06.94zm10 10l.94 2.06.94-2.06 2.06-.94-2.06-.94-.94-2.06-.94 2.06-2.06.94z\"/><path d=\"M17.41 7.96l-1.37-1.37c-.4-.4-.92-.59-1.43-.59-.52 0-1.04.2-1.43.59L10.3 9.45l-7.72 7.72c-.78.78-.78 2.05 0 2.83L4 21.41c.39.39.9.59 1.41.59.51 0 1.02-.2 1.41-.59l7.78-7.78 2.81-2.81c.8-.78.8-2.07 0-2.86zM5.41 20L4 18.59l7.72-7.72 1.47 1.35L5.41 20z\"/>\n",
              "  </svg>\n",
              "      </button>\n",
              "      \n",
              "  <style>\n",
              "    .colab-df-container {\n",
              "      display:flex;\n",
              "      flex-wrap:wrap;\n",
              "      gap: 12px;\n",
              "    }\n",
              "\n",
              "    .colab-df-convert {\n",
              "      background-color: #E8F0FE;\n",
              "      border: none;\n",
              "      border-radius: 50%;\n",
              "      cursor: pointer;\n",
              "      display: none;\n",
              "      fill: #1967D2;\n",
              "      height: 32px;\n",
              "      padding: 0 0 0 0;\n",
              "      width: 32px;\n",
              "    }\n",
              "\n",
              "    .colab-df-convert:hover {\n",
              "      background-color: #E2EBFA;\n",
              "      box-shadow: 0px 1px 2px rgba(60, 64, 67, 0.3), 0px 1px 3px 1px rgba(60, 64, 67, 0.15);\n",
              "      fill: #174EA6;\n",
              "    }\n",
              "\n",
              "    [theme=dark] .colab-df-convert {\n",
              "      background-color: #3B4455;\n",
              "      fill: #D2E3FC;\n",
              "    }\n",
              "\n",
              "    [theme=dark] .colab-df-convert:hover {\n",
              "      background-color: #434B5C;\n",
              "      box-shadow: 0px 1px 3px 1px rgba(0, 0, 0, 0.15);\n",
              "      filter: drop-shadow(0px 1px 2px rgba(0, 0, 0, 0.3));\n",
              "      fill: #FFFFFF;\n",
              "    }\n",
              "  </style>\n",
              "\n",
              "      <script>\n",
              "        const buttonEl =\n",
              "          document.querySelector('#df-5db5898b-6c43-4954-bd89-dcd360ca8b95 button.colab-df-convert');\n",
              "        buttonEl.style.display =\n",
              "          google.colab.kernel.accessAllowed ? 'block' : 'none';\n",
              "\n",
              "        async function convertToInteractive(key) {\n",
              "          const element = document.querySelector('#df-5db5898b-6c43-4954-bd89-dcd360ca8b95');\n",
              "          const dataTable =\n",
              "            await google.colab.kernel.invokeFunction('convertToInteractive',\n",
              "                                                     [key], {});\n",
              "          if (!dataTable) return;\n",
              "\n",
              "          const docLinkHtml = 'Like what you see? Visit the ' +\n",
              "            '<a target=\"_blank\" href=https://colab.research.google.com/notebooks/data_table.ipynb>data table notebook</a>'\n",
              "            + ' to learn more about interactive tables.';\n",
              "          element.innerHTML = '';\n",
              "          dataTable['output_type'] = 'display_data';\n",
              "          await google.colab.output.renderOutput(dataTable, element);\n",
              "          const docLink = document.createElement('div');\n",
              "          docLink.innerHTML = docLinkHtml;\n",
              "          element.appendChild(docLink);\n",
              "        }\n",
              "      </script>\n",
              "    </div>\n",
              "  </div>\n",
              "  "
            ]
          },
          "metadata": {},
          "execution_count": 88
        }
      ]
    },
    {
      "cell_type": "markdown",
      "source": [
        "## Generamos ranking de provincias de acuerdo a valor total de papa enviada a Lima entre 1997 y mayo 2021"
      ],
      "metadata": {
        "id": "DJpmspLlfNe4"
      }
    },
    {
      "cell_type": "code",
      "source": [
        "rank_prov=df_base1.groupby(df_base.provincia)['valor'].sum()"
      ],
      "metadata": {
        "id": "EyiQq2dBfWP3"
      },
      "execution_count": null,
      "outputs": []
    },
    {
      "cell_type": "code",
      "source": [
        "rank_prov.sort_values(ascending=False)[0:19].sum()"
      ],
      "metadata": {
        "colab": {
          "base_uri": "https://localhost:8080/"
        },
        "id": "vcC9Qd-Df8Fr",
        "outputId": "2dd179f4-4e23-4e16-953b-070312220840"
      },
      "execution_count": null,
      "outputs": [
        {
          "output_type": "execute_result",
          "data": {
            "text/plain": [
              "8920295.131"
            ]
          },
          "metadata": {},
          "execution_count": 90
        }
      ]
    },
    {
      "cell_type": "code",
      "source": [
        "rank_prov.sort_values(ascending=False)[19:121].sum()"
      ],
      "metadata": {
        "colab": {
          "base_uri": "https://localhost:8080/"
        },
        "id": "Djud9xjUgg8L",
        "outputId": "46483d4e-c5fa-4282-a59b-c9674a5c0b6e"
      },
      "execution_count": 126,
      "outputs": [
        {
          "output_type": "execute_result",
          "data": {
            "text/plain": [
              "332057.81090000004"
            ]
          },
          "metadata": {},
          "execution_count": 126
        }
      ]
    },
    {
      "cell_type": "code",
      "source": [
        "332057.81090000004/8920295.131\n"
      ],
      "metadata": {
        "colab": {
          "base_uri": "https://localhost:8080/"
        },
        "id": "PviqgXGygmea",
        "outputId": "5ab18a12-81d8-48bc-96bd-8db29e6b58c4"
      },
      "execution_count": 128,
      "outputs": [
        {
          "output_type": "execute_result",
          "data": {
            "text/plain": [
              "0.0372249803424133"
            ]
          },
          "metadata": {},
          "execution_count": 128
        }
      ]
    },
    {
      "cell_type": "markdown",
      "source": [
        "19 provincias generan el 97% del valor de la papa enviada a Lima, entonces tiene sentido acotar la base solamente a esas 20 provincias"
      ],
      "metadata": {
        "id": "goz7lBgWg0GQ"
      }
    },
    {
      "cell_type": "code",
      "source": [
        "rank_prov.sort_values(ascending=False)[0:19]"
      ],
      "metadata": {
        "colab": {
          "base_uri": "https://localhost:8080/"
        },
        "id": "WOYmnh7-hIs9",
        "outputId": "0890433f-dd5a-4b4b-cb63-32c89daeaefb"
      },
      "execution_count": 129,
      "outputs": [
        {
          "output_type": "execute_result",
          "data": {
            "text/plain": [
              "provincia\n",
              "Huanuco         1.960775e+06\n",
              "Huamanga        1.026134e+06\n",
              "Huancayo        9.884414e+05\n",
              "Tarma           5.858969e+05\n",
              "Ambo            5.507842e+05\n",
              "Pasco           5.187838e+05\n",
              "Jauja           4.588733e+05\n",
              "Barranca        4.561237e+05\n",
              "Huaral          4.039059e+05\n",
              "Ica             3.602197e+05\n",
              "Nazca           3.202457e+05\n",
              "Arequipa        3.084198e+05\n",
              "Andahuaylas     3.021730e+05\n",
              "Canete          2.199754e+05\n",
              "Huaura          1.376588e+05\n",
              "Lima            9.196012e+04\n",
              "Huancavelica    8.912434e+04\n",
              "Tayacaja        7.277189e+04\n",
              "Junin           6.802733e+04\n",
              "Name: valor, dtype: float64"
            ]
          },
          "metadata": {},
          "execution_count": 129
        }
      ]
    },
    {
      "cell_type": "code",
      "source": [
        "df_base2=df_base1[df_base1[\"provincia\"].isin(['Huanuco','Huamanga','Huancayo','Tarma','Ambo','Pasco','Jauja',\n",
        "          'Barranca','Huaral','Ica','Nazca','Arequipa','Andahuaylas','Canete', 'Huaura', 'Lima', \n",
        "          'Huancavelica', 'Tayacaja', 'Junin'])]"
      ],
      "metadata": {
        "id": "Xroq36dQh6Ej"
      },
      "execution_count": 130,
      "outputs": []
    },
    {
      "cell_type": "code",
      "source": [
        "df_base2.provincia.unique()"
      ],
      "metadata": {
        "colab": {
          "base_uri": "https://localhost:8080/"
        },
        "id": "Kvv7RDatlnnh",
        "outputId": "b3943efe-2b22-47bc-a1b0-cfcc6a469e73"
      },
      "execution_count": 131,
      "outputs": [
        {
          "output_type": "execute_result",
          "data": {
            "text/plain": [
              "array(['Ambo', 'Andahuaylas', 'Arequipa', 'Canete', 'Huamanga',\n",
              "       'Huancavelica', 'Huancayo', 'Huanuco', 'Jauja', 'Junin', 'Lima',\n",
              "       'Pasco', 'Tarma', 'Tayacaja', 'Barranca', 'Huaral', 'Huaura',\n",
              "       'Ica', 'Nazca'], dtype=object)"
            ]
          },
          "metadata": {},
          "execution_count": 131
        }
      ]
    },
    {
      "cell_type": "code",
      "source": [
        "df_base2.describe(include='all')"
      ],
      "metadata": {
        "colab": {
          "base_uri": "https://localhost:8080/",
          "height": 394
        },
        "id": "7WAu4JUkkmmM",
        "outputId": "9ef26667-03a6-4128-83e4-c5a0764f3c5f"
      },
      "execution_count": 132,
      "outputs": [
        {
          "output_type": "execute_result",
          "data": {
            "text/plain": [
              "           variedad          year provincia    mes       volumen  \\\n",
              "count         27038  27038.000000     27038  27038  27038.000000   \n",
              "unique           11           NaN        19     12           NaN   \n",
              "top     Papa Blanca           NaN  Huancayo   m_05           NaN   \n",
              "freq           5524           NaN      1993   2338           NaN   \n",
              "mean            NaN   2011.343960       NaN    NaN    437.335518   \n",
              "std             NaN      6.808921       NaN    NaN   1279.957867   \n",
              "min             NaN   1997.000000       NaN    NaN      0.000000   \n",
              "25%             NaN   2006.000000       NaN    NaN      0.000000   \n",
              "50%             NaN   2013.000000       NaN    NaN     14.400000   \n",
              "75%             NaN   2017.000000       NaN    NaN    193.000000   \n",
              "max             NaN   2021.000000       NaN    NaN  16033.000000   \n",
              "\n",
              "              precio        ym  \n",
              "count   27038.000000     27038  \n",
              "unique           NaN       291  \n",
              "top              NaN  2019m_02  \n",
              "freq             NaN       154  \n",
              "mean        0.943954       NaN  \n",
              "std         0.449100       NaN  \n",
              "min         0.280000       NaN  \n",
              "25%         0.630000       NaN  \n",
              "50%         0.820000       NaN  \n",
              "75%         1.150000       NaN  \n",
              "max         3.320000       NaN  "
            ],
            "text/html": [
              "\n",
              "  <div id=\"df-35a8c8f7-b23a-4053-b668-a7765e2f0991\">\n",
              "    <div class=\"colab-df-container\">\n",
              "      <div>\n",
              "<style scoped>\n",
              "    .dataframe tbody tr th:only-of-type {\n",
              "        vertical-align: middle;\n",
              "    }\n",
              "\n",
              "    .dataframe tbody tr th {\n",
              "        vertical-align: top;\n",
              "    }\n",
              "\n",
              "    .dataframe thead th {\n",
              "        text-align: right;\n",
              "    }\n",
              "</style>\n",
              "<table border=\"1\" class=\"dataframe\">\n",
              "  <thead>\n",
              "    <tr style=\"text-align: right;\">\n",
              "      <th></th>\n",
              "      <th>variedad</th>\n",
              "      <th>year</th>\n",
              "      <th>provincia</th>\n",
              "      <th>mes</th>\n",
              "      <th>volumen</th>\n",
              "      <th>precio</th>\n",
              "      <th>ym</th>\n",
              "    </tr>\n",
              "  </thead>\n",
              "  <tbody>\n",
              "    <tr>\n",
              "      <th>count</th>\n",
              "      <td>27038</td>\n",
              "      <td>27038.000000</td>\n",
              "      <td>27038</td>\n",
              "      <td>27038</td>\n",
              "      <td>27038.000000</td>\n",
              "      <td>27038.000000</td>\n",
              "      <td>27038</td>\n",
              "    </tr>\n",
              "    <tr>\n",
              "      <th>unique</th>\n",
              "      <td>11</td>\n",
              "      <td>NaN</td>\n",
              "      <td>19</td>\n",
              "      <td>12</td>\n",
              "      <td>NaN</td>\n",
              "      <td>NaN</td>\n",
              "      <td>291</td>\n",
              "    </tr>\n",
              "    <tr>\n",
              "      <th>top</th>\n",
              "      <td>Papa Blanca</td>\n",
              "      <td>NaN</td>\n",
              "      <td>Huancayo</td>\n",
              "      <td>m_05</td>\n",
              "      <td>NaN</td>\n",
              "      <td>NaN</td>\n",
              "      <td>2019m_02</td>\n",
              "    </tr>\n",
              "    <tr>\n",
              "      <th>freq</th>\n",
              "      <td>5524</td>\n",
              "      <td>NaN</td>\n",
              "      <td>1993</td>\n",
              "      <td>2338</td>\n",
              "      <td>NaN</td>\n",
              "      <td>NaN</td>\n",
              "      <td>154</td>\n",
              "    </tr>\n",
              "    <tr>\n",
              "      <th>mean</th>\n",
              "      <td>NaN</td>\n",
              "      <td>2011.343960</td>\n",
              "      <td>NaN</td>\n",
              "      <td>NaN</td>\n",
              "      <td>437.335518</td>\n",
              "      <td>0.943954</td>\n",
              "      <td>NaN</td>\n",
              "    </tr>\n",
              "    <tr>\n",
              "      <th>std</th>\n",
              "      <td>NaN</td>\n",
              "      <td>6.808921</td>\n",
              "      <td>NaN</td>\n",
              "      <td>NaN</td>\n",
              "      <td>1279.957867</td>\n",
              "      <td>0.449100</td>\n",
              "      <td>NaN</td>\n",
              "    </tr>\n",
              "    <tr>\n",
              "      <th>min</th>\n",
              "      <td>NaN</td>\n",
              "      <td>1997.000000</td>\n",
              "      <td>NaN</td>\n",
              "      <td>NaN</td>\n",
              "      <td>0.000000</td>\n",
              "      <td>0.280000</td>\n",
              "      <td>NaN</td>\n",
              "    </tr>\n",
              "    <tr>\n",
              "      <th>25%</th>\n",
              "      <td>NaN</td>\n",
              "      <td>2006.000000</td>\n",
              "      <td>NaN</td>\n",
              "      <td>NaN</td>\n",
              "      <td>0.000000</td>\n",
              "      <td>0.630000</td>\n",
              "      <td>NaN</td>\n",
              "    </tr>\n",
              "    <tr>\n",
              "      <th>50%</th>\n",
              "      <td>NaN</td>\n",
              "      <td>2013.000000</td>\n",
              "      <td>NaN</td>\n",
              "      <td>NaN</td>\n",
              "      <td>14.400000</td>\n",
              "      <td>0.820000</td>\n",
              "      <td>NaN</td>\n",
              "    </tr>\n",
              "    <tr>\n",
              "      <th>75%</th>\n",
              "      <td>NaN</td>\n",
              "      <td>2017.000000</td>\n",
              "      <td>NaN</td>\n",
              "      <td>NaN</td>\n",
              "      <td>193.000000</td>\n",
              "      <td>1.150000</td>\n",
              "      <td>NaN</td>\n",
              "    </tr>\n",
              "    <tr>\n",
              "      <th>max</th>\n",
              "      <td>NaN</td>\n",
              "      <td>2021.000000</td>\n",
              "      <td>NaN</td>\n",
              "      <td>NaN</td>\n",
              "      <td>16033.000000</td>\n",
              "      <td>3.320000</td>\n",
              "      <td>NaN</td>\n",
              "    </tr>\n",
              "  </tbody>\n",
              "</table>\n",
              "</div>\n",
              "      <button class=\"colab-df-convert\" onclick=\"convertToInteractive('df-35a8c8f7-b23a-4053-b668-a7765e2f0991')\"\n",
              "              title=\"Convert this dataframe to an interactive table.\"\n",
              "              style=\"display:none;\">\n",
              "        \n",
              "  <svg xmlns=\"http://www.w3.org/2000/svg\" height=\"24px\"viewBox=\"0 0 24 24\"\n",
              "       width=\"24px\">\n",
              "    <path d=\"M0 0h24v24H0V0z\" fill=\"none\"/>\n",
              "    <path d=\"M18.56 5.44l.94 2.06.94-2.06 2.06-.94-2.06-.94-.94-2.06-.94 2.06-2.06.94zm-11 1L8.5 8.5l.94-2.06 2.06-.94-2.06-.94L8.5 2.5l-.94 2.06-2.06.94zm10 10l.94 2.06.94-2.06 2.06-.94-2.06-.94-.94-2.06-.94 2.06-2.06.94z\"/><path d=\"M17.41 7.96l-1.37-1.37c-.4-.4-.92-.59-1.43-.59-.52 0-1.04.2-1.43.59L10.3 9.45l-7.72 7.72c-.78.78-.78 2.05 0 2.83L4 21.41c.39.39.9.59 1.41.59.51 0 1.02-.2 1.41-.59l7.78-7.78 2.81-2.81c.8-.78.8-2.07 0-2.86zM5.41 20L4 18.59l7.72-7.72 1.47 1.35L5.41 20z\"/>\n",
              "  </svg>\n",
              "      </button>\n",
              "      \n",
              "  <style>\n",
              "    .colab-df-container {\n",
              "      display:flex;\n",
              "      flex-wrap:wrap;\n",
              "      gap: 12px;\n",
              "    }\n",
              "\n",
              "    .colab-df-convert {\n",
              "      background-color: #E8F0FE;\n",
              "      border: none;\n",
              "      border-radius: 50%;\n",
              "      cursor: pointer;\n",
              "      display: none;\n",
              "      fill: #1967D2;\n",
              "      height: 32px;\n",
              "      padding: 0 0 0 0;\n",
              "      width: 32px;\n",
              "    }\n",
              "\n",
              "    .colab-df-convert:hover {\n",
              "      background-color: #E2EBFA;\n",
              "      box-shadow: 0px 1px 2px rgba(60, 64, 67, 0.3), 0px 1px 3px 1px rgba(60, 64, 67, 0.15);\n",
              "      fill: #174EA6;\n",
              "    }\n",
              "\n",
              "    [theme=dark] .colab-df-convert {\n",
              "      background-color: #3B4455;\n",
              "      fill: #D2E3FC;\n",
              "    }\n",
              "\n",
              "    [theme=dark] .colab-df-convert:hover {\n",
              "      background-color: #434B5C;\n",
              "      box-shadow: 0px 1px 3px 1px rgba(0, 0, 0, 0.15);\n",
              "      filter: drop-shadow(0px 1px 2px rgba(0, 0, 0, 0.3));\n",
              "      fill: #FFFFFF;\n",
              "    }\n",
              "  </style>\n",
              "\n",
              "      <script>\n",
              "        const buttonEl =\n",
              "          document.querySelector('#df-35a8c8f7-b23a-4053-b668-a7765e2f0991 button.colab-df-convert');\n",
              "        buttonEl.style.display =\n",
              "          google.colab.kernel.accessAllowed ? 'block' : 'none';\n",
              "\n",
              "        async function convertToInteractive(key) {\n",
              "          const element = document.querySelector('#df-35a8c8f7-b23a-4053-b668-a7765e2f0991');\n",
              "          const dataTable =\n",
              "            await google.colab.kernel.invokeFunction('convertToInteractive',\n",
              "                                                     [key], {});\n",
              "          if (!dataTable) return;\n",
              "\n",
              "          const docLinkHtml = 'Like what you see? Visit the ' +\n",
              "            '<a target=\"_blank\" href=https://colab.research.google.com/notebooks/data_table.ipynb>data table notebook</a>'\n",
              "            + ' to learn more about interactive tables.';\n",
              "          element.innerHTML = '';\n",
              "          dataTable['output_type'] = 'display_data';\n",
              "          await google.colab.output.renderOutput(dataTable, element);\n",
              "          const docLink = document.createElement('div');\n",
              "          docLink.innerHTML = docLinkHtml;\n",
              "          element.appendChild(docLink);\n",
              "        }\n",
              "      </script>\n",
              "    </div>\n",
              "  </div>\n",
              "  "
            ]
          },
          "metadata": {},
          "execution_count": 132
        }
      ]
    },
    {
      "cell_type": "markdown",
      "source": [
        "## La base **df_base2** puede ser utilizada para el modelamiento y análisis del mercado de papa (en sus distintas variedades) de Lima Metropolitana."
      ],
      "metadata": {
        "id": "4q472PfQiQdf"
      }
    },
    {
      "cell_type": "code",
      "source": [
        "df_base2.to_excel('df_base2.xlsx')"
      ],
      "metadata": {
        "id": "PzNtzNV32zIR"
      },
      "execution_count": 133,
      "outputs": []
    }
  ]
}