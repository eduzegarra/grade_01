{
  "nbformat": 4,
  "nbformat_minor": 0,
  "metadata": {
    "colab": {
      "provenance": [],
      "include_colab_link": true
    },
    "kernelspec": {
      "name": "python3",
      "display_name": "Python 3"
    }
  },
  "cells": [
    {
      "cell_type": "markdown",
      "metadata": {
        "id": "view-in-github",
        "colab_type": "text"
      },
      "source": [
        "<a href=\"https://colab.research.google.com/github/eduzegarra/grade_01/blob/main/proyecto_papa.ipynb\" target=\"_parent\"><img src=\"https://colab.research.google.com/assets/colab-badge.svg\" alt=\"Open In Colab\"/></a>"
      ]
    },
    {
      "cell_type": "markdown",
      "metadata": {
        "id": "yg9Q9HZ7KQxe"
      },
      "source": [
        "# **Proyecto Papa Sostenible: Integración, Limpieza y Análisis Exploratorio**\n"
      ]
    },
    {
      "cell_type": "markdown",
      "metadata": {
        "id": "B26euJKsNP68"
      },
      "source": [
        "Librerías externas necesarias"
      ]
    },
    {
      "cell_type": "code",
      "metadata": {
        "id": "Szi61mHXNTJ2"
      },
      "source": [
        "import pandas as pd\n",
        "import numpy as np\n",
        "import matplotlib.pyplot as plt"
      ],
      "execution_count": 1,
      "outputs": []
    },
    {
      "cell_type": "markdown",
      "source": [
        "## **1. Lectura e integración de base de datos**"
      ],
      "metadata": {
        "id": "z8K6bNd-uDSU"
      }
    },
    {
      "cell_type": "markdown",
      "metadata": {
        "id": "ASYnymx7NFBg"
      },
      "source": [
        "Montar el drive para leer base de datos de Drive Personal"
      ]
    },
    {
      "cell_type": "code",
      "source": [
        "from google.colab import drive\n",
        "drive.mount('/content/drive')"
      ],
      "metadata": {
        "id": "pfCl2IAlgaZS",
        "outputId": "00e6787f-dae0-4205-a231-f8d6a6fb2245",
        "colab": {
          "base_uri": "https://localhost:8080/"
        }
      },
      "execution_count": 2,
      "outputs": [
        {
          "output_type": "stream",
          "name": "stdout",
          "text": [
            "Mounted at /content/drive\n"
          ]
        }
      ]
    },
    {
      "cell_type": "markdown",
      "source": [
        "Lectura de base de datos original en Excel"
      ],
      "metadata": {
        "id": "Vrho2zlQs0vZ"
      }
    },
    {
      "cell_type": "code",
      "metadata": {
        "id": "s1vpFKxaUwqD"
      },
      "source": [
        "ruta = 'drive/My Drive/ML/'"
      ],
      "execution_count": 3,
      "outputs": []
    },
    {
      "cell_type": "markdown",
      "source": [
        "Leemos primer libro del archivo Excel (volumen) asignado a objeto \"vol\""
      ],
      "metadata": {
        "id": "M6DW4sWCvSx5"
      }
    },
    {
      "cell_type": "code",
      "metadata": {
        "id": "NRgAostfKJOR",
        "outputId": "e354578b-30eb-48e9-edaa-d7ba4534e518",
        "colab": {
          "base_uri": "https://localhost:8080/",
          "height": 661
        }
      },
      "source": [
        "vol = pd.read_excel(ruta + 'base_completa_1997_2021.xls', sheet_name='volumen')\n",
        "vol"
      ],
      "execution_count": 4,
      "outputs": [
        {
          "output_type": "execute_result",
          "data": {
            "text/plain": [
              "           producto  year           Variable     m_1     m_2     m_3    m_4  \\\n",
              "0     Papa Amarilla  1997            Abancay     NaN     NaN     NaN    NaN   \n",
              "1     Papa Amarilla  1997               Ambo   97.80    30.0    26.4   12.0   \n",
              "2     Papa Amarilla  1997        Andahuaylas     NaN     NaN     NaN    NaN   \n",
              "3     Papa Amarilla  1997           Arequipa     NaN    14.4     NaN    NaN   \n",
              "4     Papa Amarilla  1997             Ascope   15.48     NaN     NaN    NaN   \n",
              "...             ...   ...                ...     ...     ...     ...    ...   \n",
              "4205    Papa Yungay  2021              Pasco   76.00   104.0   228.0  308.0   \n",
              "4206    Papa Yungay  2021    Sanchez Carrion     NaN    29.0   243.0  250.0   \n",
              "4207    Papa Yungay  2021  Santiago De Chuco     NaN    57.0    20.0  118.0   \n",
              "4208    Papa Yungay  2021              Tarma  897.00  1436.0  1012.0  995.0   \n",
              "4209    Papa Yungay  2021           Tayacaja   18.00     NaN    42.0   60.0   \n",
              "\n",
              "        m_5  m_6   m_7   m_8  m_9   m_10   m_11  m_12  \n",
              "0       NaN  NaN  16.8  22.2  NaN    NaN    NaN   NaN  \n",
              "1       NaN  NaN   NaN   NaN  NaN  10.56  10.60  51.9  \n",
              "2       NaN  NaN  89.4  87.0  NaN  96.12  20.16   NaN  \n",
              "3       NaN  NaN   NaN   NaN  NaN    NaN    NaN   NaN  \n",
              "4       NaN  NaN   NaN   NaN  NaN    NaN    NaN   NaN  \n",
              "...     ...  ...   ...   ...  ...    ...    ...   ...  \n",
              "4205   63.0  NaN   NaN   NaN  NaN    NaN    NaN   NaN  \n",
              "4206   15.0  NaN   NaN   NaN  NaN    NaN    NaN   NaN  \n",
              "4207   35.0  NaN   NaN   NaN  NaN    NaN    NaN   NaN  \n",
              "4208  256.0  NaN   NaN   NaN  NaN    NaN    NaN   NaN  \n",
              "4209    NaN  NaN   NaN   NaN  NaN    NaN    NaN   NaN  \n",
              "\n",
              "[4210 rows x 15 columns]"
            ],
            "text/html": [
              "\n",
              "  <div id=\"df-e03a281a-e5bd-4ab1-9c08-712ef2e8ac29\">\n",
              "    <div class=\"colab-df-container\">\n",
              "      <div>\n",
              "<style scoped>\n",
              "    .dataframe tbody tr th:only-of-type {\n",
              "        vertical-align: middle;\n",
              "    }\n",
              "\n",
              "    .dataframe tbody tr th {\n",
              "        vertical-align: top;\n",
              "    }\n",
              "\n",
              "    .dataframe thead th {\n",
              "        text-align: right;\n",
              "    }\n",
              "</style>\n",
              "<table border=\"1\" class=\"dataframe\">\n",
              "  <thead>\n",
              "    <tr style=\"text-align: right;\">\n",
              "      <th></th>\n",
              "      <th>producto</th>\n",
              "      <th>year</th>\n",
              "      <th>Variable</th>\n",
              "      <th>m_1</th>\n",
              "      <th>m_2</th>\n",
              "      <th>m_3</th>\n",
              "      <th>m_4</th>\n",
              "      <th>m_5</th>\n",
              "      <th>m_6</th>\n",
              "      <th>m_7</th>\n",
              "      <th>m_8</th>\n",
              "      <th>m_9</th>\n",
              "      <th>m_10</th>\n",
              "      <th>m_11</th>\n",
              "      <th>m_12</th>\n",
              "    </tr>\n",
              "  </thead>\n",
              "  <tbody>\n",
              "    <tr>\n",
              "      <th>0</th>\n",
              "      <td>Papa Amarilla</td>\n",
              "      <td>1997</td>\n",
              "      <td>Abancay</td>\n",
              "      <td>NaN</td>\n",
              "      <td>NaN</td>\n",
              "      <td>NaN</td>\n",
              "      <td>NaN</td>\n",
              "      <td>NaN</td>\n",
              "      <td>NaN</td>\n",
              "      <td>16.8</td>\n",
              "      <td>22.2</td>\n",
              "      <td>NaN</td>\n",
              "      <td>NaN</td>\n",
              "      <td>NaN</td>\n",
              "      <td>NaN</td>\n",
              "    </tr>\n",
              "    <tr>\n",
              "      <th>1</th>\n",
              "      <td>Papa Amarilla</td>\n",
              "      <td>1997</td>\n",
              "      <td>Ambo</td>\n",
              "      <td>97.80</td>\n",
              "      <td>30.0</td>\n",
              "      <td>26.4</td>\n",
              "      <td>12.0</td>\n",
              "      <td>NaN</td>\n",
              "      <td>NaN</td>\n",
              "      <td>NaN</td>\n",
              "      <td>NaN</td>\n",
              "      <td>NaN</td>\n",
              "      <td>10.56</td>\n",
              "      <td>10.60</td>\n",
              "      <td>51.9</td>\n",
              "    </tr>\n",
              "    <tr>\n",
              "      <th>2</th>\n",
              "      <td>Papa Amarilla</td>\n",
              "      <td>1997</td>\n",
              "      <td>Andahuaylas</td>\n",
              "      <td>NaN</td>\n",
              "      <td>NaN</td>\n",
              "      <td>NaN</td>\n",
              "      <td>NaN</td>\n",
              "      <td>NaN</td>\n",
              "      <td>NaN</td>\n",
              "      <td>89.4</td>\n",
              "      <td>87.0</td>\n",
              "      <td>NaN</td>\n",
              "      <td>96.12</td>\n",
              "      <td>20.16</td>\n",
              "      <td>NaN</td>\n",
              "    </tr>\n",
              "    <tr>\n",
              "      <th>3</th>\n",
              "      <td>Papa Amarilla</td>\n",
              "      <td>1997</td>\n",
              "      <td>Arequipa</td>\n",
              "      <td>NaN</td>\n",
              "      <td>14.4</td>\n",
              "      <td>NaN</td>\n",
              "      <td>NaN</td>\n",
              "      <td>NaN</td>\n",
              "      <td>NaN</td>\n",
              "      <td>NaN</td>\n",
              "      <td>NaN</td>\n",
              "      <td>NaN</td>\n",
              "      <td>NaN</td>\n",
              "      <td>NaN</td>\n",
              "      <td>NaN</td>\n",
              "    </tr>\n",
              "    <tr>\n",
              "      <th>4</th>\n",
              "      <td>Papa Amarilla</td>\n",
              "      <td>1997</td>\n",
              "      <td>Ascope</td>\n",
              "      <td>15.48</td>\n",
              "      <td>NaN</td>\n",
              "      <td>NaN</td>\n",
              "      <td>NaN</td>\n",
              "      <td>NaN</td>\n",
              "      <td>NaN</td>\n",
              "      <td>NaN</td>\n",
              "      <td>NaN</td>\n",
              "      <td>NaN</td>\n",
              "      <td>NaN</td>\n",
              "      <td>NaN</td>\n",
              "      <td>NaN</td>\n",
              "    </tr>\n",
              "    <tr>\n",
              "      <th>...</th>\n",
              "      <td>...</td>\n",
              "      <td>...</td>\n",
              "      <td>...</td>\n",
              "      <td>...</td>\n",
              "      <td>...</td>\n",
              "      <td>...</td>\n",
              "      <td>...</td>\n",
              "      <td>...</td>\n",
              "      <td>...</td>\n",
              "      <td>...</td>\n",
              "      <td>...</td>\n",
              "      <td>...</td>\n",
              "      <td>...</td>\n",
              "      <td>...</td>\n",
              "      <td>...</td>\n",
              "    </tr>\n",
              "    <tr>\n",
              "      <th>4205</th>\n",
              "      <td>Papa Yungay</td>\n",
              "      <td>2021</td>\n",
              "      <td>Pasco</td>\n",
              "      <td>76.00</td>\n",
              "      <td>104.0</td>\n",
              "      <td>228.0</td>\n",
              "      <td>308.0</td>\n",
              "      <td>63.0</td>\n",
              "      <td>NaN</td>\n",
              "      <td>NaN</td>\n",
              "      <td>NaN</td>\n",
              "      <td>NaN</td>\n",
              "      <td>NaN</td>\n",
              "      <td>NaN</td>\n",
              "      <td>NaN</td>\n",
              "    </tr>\n",
              "    <tr>\n",
              "      <th>4206</th>\n",
              "      <td>Papa Yungay</td>\n",
              "      <td>2021</td>\n",
              "      <td>Sanchez Carrion</td>\n",
              "      <td>NaN</td>\n",
              "      <td>29.0</td>\n",
              "      <td>243.0</td>\n",
              "      <td>250.0</td>\n",
              "      <td>15.0</td>\n",
              "      <td>NaN</td>\n",
              "      <td>NaN</td>\n",
              "      <td>NaN</td>\n",
              "      <td>NaN</td>\n",
              "      <td>NaN</td>\n",
              "      <td>NaN</td>\n",
              "      <td>NaN</td>\n",
              "    </tr>\n",
              "    <tr>\n",
              "      <th>4207</th>\n",
              "      <td>Papa Yungay</td>\n",
              "      <td>2021</td>\n",
              "      <td>Santiago De Chuco</td>\n",
              "      <td>NaN</td>\n",
              "      <td>57.0</td>\n",
              "      <td>20.0</td>\n",
              "      <td>118.0</td>\n",
              "      <td>35.0</td>\n",
              "      <td>NaN</td>\n",
              "      <td>NaN</td>\n",
              "      <td>NaN</td>\n",
              "      <td>NaN</td>\n",
              "      <td>NaN</td>\n",
              "      <td>NaN</td>\n",
              "      <td>NaN</td>\n",
              "    </tr>\n",
              "    <tr>\n",
              "      <th>4208</th>\n",
              "      <td>Papa Yungay</td>\n",
              "      <td>2021</td>\n",
              "      <td>Tarma</td>\n",
              "      <td>897.00</td>\n",
              "      <td>1436.0</td>\n",
              "      <td>1012.0</td>\n",
              "      <td>995.0</td>\n",
              "      <td>256.0</td>\n",
              "      <td>NaN</td>\n",
              "      <td>NaN</td>\n",
              "      <td>NaN</td>\n",
              "      <td>NaN</td>\n",
              "      <td>NaN</td>\n",
              "      <td>NaN</td>\n",
              "      <td>NaN</td>\n",
              "    </tr>\n",
              "    <tr>\n",
              "      <th>4209</th>\n",
              "      <td>Papa Yungay</td>\n",
              "      <td>2021</td>\n",
              "      <td>Tayacaja</td>\n",
              "      <td>18.00</td>\n",
              "      <td>NaN</td>\n",
              "      <td>42.0</td>\n",
              "      <td>60.0</td>\n",
              "      <td>NaN</td>\n",
              "      <td>NaN</td>\n",
              "      <td>NaN</td>\n",
              "      <td>NaN</td>\n",
              "      <td>NaN</td>\n",
              "      <td>NaN</td>\n",
              "      <td>NaN</td>\n",
              "      <td>NaN</td>\n",
              "    </tr>\n",
              "  </tbody>\n",
              "</table>\n",
              "<p>4210 rows × 15 columns</p>\n",
              "</div>\n",
              "      <button class=\"colab-df-convert\" onclick=\"convertToInteractive('df-e03a281a-e5bd-4ab1-9c08-712ef2e8ac29')\"\n",
              "              title=\"Convert this dataframe to an interactive table.\"\n",
              "              style=\"display:none;\">\n",
              "        \n",
              "  <svg xmlns=\"http://www.w3.org/2000/svg\" height=\"24px\"viewBox=\"0 0 24 24\"\n",
              "       width=\"24px\">\n",
              "    <path d=\"M0 0h24v24H0V0z\" fill=\"none\"/>\n",
              "    <path d=\"M18.56 5.44l.94 2.06.94-2.06 2.06-.94-2.06-.94-.94-2.06-.94 2.06-2.06.94zm-11 1L8.5 8.5l.94-2.06 2.06-.94-2.06-.94L8.5 2.5l-.94 2.06-2.06.94zm10 10l.94 2.06.94-2.06 2.06-.94-2.06-.94-.94-2.06-.94 2.06-2.06.94z\"/><path d=\"M17.41 7.96l-1.37-1.37c-.4-.4-.92-.59-1.43-.59-.52 0-1.04.2-1.43.59L10.3 9.45l-7.72 7.72c-.78.78-.78 2.05 0 2.83L4 21.41c.39.39.9.59 1.41.59.51 0 1.02-.2 1.41-.59l7.78-7.78 2.81-2.81c.8-.78.8-2.07 0-2.86zM5.41 20L4 18.59l7.72-7.72 1.47 1.35L5.41 20z\"/>\n",
              "  </svg>\n",
              "      </button>\n",
              "      \n",
              "  <style>\n",
              "    .colab-df-container {\n",
              "      display:flex;\n",
              "      flex-wrap:wrap;\n",
              "      gap: 12px;\n",
              "    }\n",
              "\n",
              "    .colab-df-convert {\n",
              "      background-color: #E8F0FE;\n",
              "      border: none;\n",
              "      border-radius: 50%;\n",
              "      cursor: pointer;\n",
              "      display: none;\n",
              "      fill: #1967D2;\n",
              "      height: 32px;\n",
              "      padding: 0 0 0 0;\n",
              "      width: 32px;\n",
              "    }\n",
              "\n",
              "    .colab-df-convert:hover {\n",
              "      background-color: #E2EBFA;\n",
              "      box-shadow: 0px 1px 2px rgba(60, 64, 67, 0.3), 0px 1px 3px 1px rgba(60, 64, 67, 0.15);\n",
              "      fill: #174EA6;\n",
              "    }\n",
              "\n",
              "    [theme=dark] .colab-df-convert {\n",
              "      background-color: #3B4455;\n",
              "      fill: #D2E3FC;\n",
              "    }\n",
              "\n",
              "    [theme=dark] .colab-df-convert:hover {\n",
              "      background-color: #434B5C;\n",
              "      box-shadow: 0px 1px 3px 1px rgba(0, 0, 0, 0.15);\n",
              "      filter: drop-shadow(0px 1px 2px rgba(0, 0, 0, 0.3));\n",
              "      fill: #FFFFFF;\n",
              "    }\n",
              "  </style>\n",
              "\n",
              "      <script>\n",
              "        const buttonEl =\n",
              "          document.querySelector('#df-e03a281a-e5bd-4ab1-9c08-712ef2e8ac29 button.colab-df-convert');\n",
              "        buttonEl.style.display =\n",
              "          google.colab.kernel.accessAllowed ? 'block' : 'none';\n",
              "\n",
              "        async function convertToInteractive(key) {\n",
              "          const element = document.querySelector('#df-e03a281a-e5bd-4ab1-9c08-712ef2e8ac29');\n",
              "          const dataTable =\n",
              "            await google.colab.kernel.invokeFunction('convertToInteractive',\n",
              "                                                     [key], {});\n",
              "          if (!dataTable) return;\n",
              "\n",
              "          const docLinkHtml = 'Like what you see? Visit the ' +\n",
              "            '<a target=\"_blank\" href=https://colab.research.google.com/notebooks/data_table.ipynb>data table notebook</a>'\n",
              "            + ' to learn more about interactive tables.';\n",
              "          element.innerHTML = '';\n",
              "          dataTable['output_type'] = 'display_data';\n",
              "          await google.colab.output.renderOutput(dataTable, element);\n",
              "          const docLink = document.createElement('div');\n",
              "          docLink.innerHTML = docLinkHtml;\n",
              "          element.appendChild(docLink);\n",
              "        }\n",
              "      </script>\n",
              "    </div>\n",
              "  </div>\n",
              "  "
            ]
          },
          "metadata": {},
          "execution_count": 4
        }
      ]
    },
    {
      "cell_type": "code",
      "source": [
        "vol.rename(columns={'m_1':'m_01','m_2':'m_02','m_3':'m_03','m_4':'m_04','m_5':'m_05','m_6':'m_06',\n",
        "                    'm_7':'m_07','m_8':'m_08', 'm_9':'m_09'}, inplace=True)"
      ],
      "metadata": {
        "id": "u-vPTQRdDONP"
      },
      "execution_count": 5,
      "outputs": []
    },
    {
      "cell_type": "markdown",
      "source": [
        "Leemos segundo libro (precios) asignado a objeto \"pre\""
      ],
      "metadata": {
        "id": "yQF0NR11vfuC"
      }
    },
    {
      "cell_type": "code",
      "source": [
        "pre = pd.read_excel(ruta + 'base_completa_1997_2021.xls', sheet_name='precio')\n",
        "pre.head()"
      ],
      "metadata": {
        "colab": {
          "base_uri": "https://localhost:8080/",
          "height": 206
        },
        "id": "mcWKaOGWvMCb",
        "outputId": "25f597d5-b1e3-4d0d-d7a1-e359cecca27c"
      },
      "execution_count": 6,
      "outputs": [
        {
          "output_type": "execute_result",
          "data": {
            "text/plain": [
              "           producto  year   m_1   m_2   m_3   m_4   m_5   m_6   m_7   m_8  \\\n",
              "0     Papa Amarilla  1997  0.90  0.87  0.80  0.71  0.78  1.01  1.10  1.20   \n",
              "1       Papa Blanca  1997  0.56  0.47  0.40  0.46  0.61  0.75  0.74  0.78   \n",
              "2      Papa Canchan  1997   NaN   NaN   NaN   NaN   NaN   NaN   NaN   NaN   \n",
              "3        Papa Color  1997  0.55  0.49  0.44  0.48  0.61  0.75  0.74  0.79   \n",
              "4  Papa Huamantanga  1997   NaN   NaN   NaN   NaN   NaN   NaN   NaN   NaN   \n",
              "\n",
              "    m_9  m_10  m_11  m_12  \n",
              "0  1.09  0.92  1.05  1.00  \n",
              "1  0.84  0.78  0.68  0.65  \n",
              "2   NaN   NaN   NaN   NaN  \n",
              "3  0.85  0.80  0.71  0.67  \n",
              "4   NaN   NaN   NaN   NaN  "
            ],
            "text/html": [
              "\n",
              "  <div id=\"df-1a542775-2099-483c-89d6-9ca0534298ad\">\n",
              "    <div class=\"colab-df-container\">\n",
              "      <div>\n",
              "<style scoped>\n",
              "    .dataframe tbody tr th:only-of-type {\n",
              "        vertical-align: middle;\n",
              "    }\n",
              "\n",
              "    .dataframe tbody tr th {\n",
              "        vertical-align: top;\n",
              "    }\n",
              "\n",
              "    .dataframe thead th {\n",
              "        text-align: right;\n",
              "    }\n",
              "</style>\n",
              "<table border=\"1\" class=\"dataframe\">\n",
              "  <thead>\n",
              "    <tr style=\"text-align: right;\">\n",
              "      <th></th>\n",
              "      <th>producto</th>\n",
              "      <th>year</th>\n",
              "      <th>m_1</th>\n",
              "      <th>m_2</th>\n",
              "      <th>m_3</th>\n",
              "      <th>m_4</th>\n",
              "      <th>m_5</th>\n",
              "      <th>m_6</th>\n",
              "      <th>m_7</th>\n",
              "      <th>m_8</th>\n",
              "      <th>m_9</th>\n",
              "      <th>m_10</th>\n",
              "      <th>m_11</th>\n",
              "      <th>m_12</th>\n",
              "    </tr>\n",
              "  </thead>\n",
              "  <tbody>\n",
              "    <tr>\n",
              "      <th>0</th>\n",
              "      <td>Papa Amarilla</td>\n",
              "      <td>1997</td>\n",
              "      <td>0.90</td>\n",
              "      <td>0.87</td>\n",
              "      <td>0.80</td>\n",
              "      <td>0.71</td>\n",
              "      <td>0.78</td>\n",
              "      <td>1.01</td>\n",
              "      <td>1.10</td>\n",
              "      <td>1.20</td>\n",
              "      <td>1.09</td>\n",
              "      <td>0.92</td>\n",
              "      <td>1.05</td>\n",
              "      <td>1.00</td>\n",
              "    </tr>\n",
              "    <tr>\n",
              "      <th>1</th>\n",
              "      <td>Papa Blanca</td>\n",
              "      <td>1997</td>\n",
              "      <td>0.56</td>\n",
              "      <td>0.47</td>\n",
              "      <td>0.40</td>\n",
              "      <td>0.46</td>\n",
              "      <td>0.61</td>\n",
              "      <td>0.75</td>\n",
              "      <td>0.74</td>\n",
              "      <td>0.78</td>\n",
              "      <td>0.84</td>\n",
              "      <td>0.78</td>\n",
              "      <td>0.68</td>\n",
              "      <td>0.65</td>\n",
              "    </tr>\n",
              "    <tr>\n",
              "      <th>2</th>\n",
              "      <td>Papa Canchan</td>\n",
              "      <td>1997</td>\n",
              "      <td>NaN</td>\n",
              "      <td>NaN</td>\n",
              "      <td>NaN</td>\n",
              "      <td>NaN</td>\n",
              "      <td>NaN</td>\n",
              "      <td>NaN</td>\n",
              "      <td>NaN</td>\n",
              "      <td>NaN</td>\n",
              "      <td>NaN</td>\n",
              "      <td>NaN</td>\n",
              "      <td>NaN</td>\n",
              "      <td>NaN</td>\n",
              "    </tr>\n",
              "    <tr>\n",
              "      <th>3</th>\n",
              "      <td>Papa Color</td>\n",
              "      <td>1997</td>\n",
              "      <td>0.55</td>\n",
              "      <td>0.49</td>\n",
              "      <td>0.44</td>\n",
              "      <td>0.48</td>\n",
              "      <td>0.61</td>\n",
              "      <td>0.75</td>\n",
              "      <td>0.74</td>\n",
              "      <td>0.79</td>\n",
              "      <td>0.85</td>\n",
              "      <td>0.80</td>\n",
              "      <td>0.71</td>\n",
              "      <td>0.67</td>\n",
              "    </tr>\n",
              "    <tr>\n",
              "      <th>4</th>\n",
              "      <td>Papa Huamantanga</td>\n",
              "      <td>1997</td>\n",
              "      <td>NaN</td>\n",
              "      <td>NaN</td>\n",
              "      <td>NaN</td>\n",
              "      <td>NaN</td>\n",
              "      <td>NaN</td>\n",
              "      <td>NaN</td>\n",
              "      <td>NaN</td>\n",
              "      <td>NaN</td>\n",
              "      <td>NaN</td>\n",
              "      <td>NaN</td>\n",
              "      <td>NaN</td>\n",
              "      <td>NaN</td>\n",
              "    </tr>\n",
              "  </tbody>\n",
              "</table>\n",
              "</div>\n",
              "      <button class=\"colab-df-convert\" onclick=\"convertToInteractive('df-1a542775-2099-483c-89d6-9ca0534298ad')\"\n",
              "              title=\"Convert this dataframe to an interactive table.\"\n",
              "              style=\"display:none;\">\n",
              "        \n",
              "  <svg xmlns=\"http://www.w3.org/2000/svg\" height=\"24px\"viewBox=\"0 0 24 24\"\n",
              "       width=\"24px\">\n",
              "    <path d=\"M0 0h24v24H0V0z\" fill=\"none\"/>\n",
              "    <path d=\"M18.56 5.44l.94 2.06.94-2.06 2.06-.94-2.06-.94-.94-2.06-.94 2.06-2.06.94zm-11 1L8.5 8.5l.94-2.06 2.06-.94-2.06-.94L8.5 2.5l-.94 2.06-2.06.94zm10 10l.94 2.06.94-2.06 2.06-.94-2.06-.94-.94-2.06-.94 2.06-2.06.94z\"/><path d=\"M17.41 7.96l-1.37-1.37c-.4-.4-.92-.59-1.43-.59-.52 0-1.04.2-1.43.59L10.3 9.45l-7.72 7.72c-.78.78-.78 2.05 0 2.83L4 21.41c.39.39.9.59 1.41.59.51 0 1.02-.2 1.41-.59l7.78-7.78 2.81-2.81c.8-.78.8-2.07 0-2.86zM5.41 20L4 18.59l7.72-7.72 1.47 1.35L5.41 20z\"/>\n",
              "  </svg>\n",
              "      </button>\n",
              "      \n",
              "  <style>\n",
              "    .colab-df-container {\n",
              "      display:flex;\n",
              "      flex-wrap:wrap;\n",
              "      gap: 12px;\n",
              "    }\n",
              "\n",
              "    .colab-df-convert {\n",
              "      background-color: #E8F0FE;\n",
              "      border: none;\n",
              "      border-radius: 50%;\n",
              "      cursor: pointer;\n",
              "      display: none;\n",
              "      fill: #1967D2;\n",
              "      height: 32px;\n",
              "      padding: 0 0 0 0;\n",
              "      width: 32px;\n",
              "    }\n",
              "\n",
              "    .colab-df-convert:hover {\n",
              "      background-color: #E2EBFA;\n",
              "      box-shadow: 0px 1px 2px rgba(60, 64, 67, 0.3), 0px 1px 3px 1px rgba(60, 64, 67, 0.15);\n",
              "      fill: #174EA6;\n",
              "    }\n",
              "\n",
              "    [theme=dark] .colab-df-convert {\n",
              "      background-color: #3B4455;\n",
              "      fill: #D2E3FC;\n",
              "    }\n",
              "\n",
              "    [theme=dark] .colab-df-convert:hover {\n",
              "      background-color: #434B5C;\n",
              "      box-shadow: 0px 1px 3px 1px rgba(0, 0, 0, 0.15);\n",
              "      filter: drop-shadow(0px 1px 2px rgba(0, 0, 0, 0.3));\n",
              "      fill: #FFFFFF;\n",
              "    }\n",
              "  </style>\n",
              "\n",
              "      <script>\n",
              "        const buttonEl =\n",
              "          document.querySelector('#df-1a542775-2099-483c-89d6-9ca0534298ad button.colab-df-convert');\n",
              "        buttonEl.style.display =\n",
              "          google.colab.kernel.accessAllowed ? 'block' : 'none';\n",
              "\n",
              "        async function convertToInteractive(key) {\n",
              "          const element = document.querySelector('#df-1a542775-2099-483c-89d6-9ca0534298ad');\n",
              "          const dataTable =\n",
              "            await google.colab.kernel.invokeFunction('convertToInteractive',\n",
              "                                                     [key], {});\n",
              "          if (!dataTable) return;\n",
              "\n",
              "          const docLinkHtml = 'Like what you see? Visit the ' +\n",
              "            '<a target=\"_blank\" href=https://colab.research.google.com/notebooks/data_table.ipynb>data table notebook</a>'\n",
              "            + ' to learn more about interactive tables.';\n",
              "          element.innerHTML = '';\n",
              "          dataTable['output_type'] = 'display_data';\n",
              "          await google.colab.output.renderOutput(dataTable, element);\n",
              "          const docLink = document.createElement('div');\n",
              "          docLink.innerHTML = docLinkHtml;\n",
              "          element.appendChild(docLink);\n",
              "        }\n",
              "      </script>\n",
              "    </div>\n",
              "  </div>\n",
              "  "
            ]
          },
          "metadata": {},
          "execution_count": 6
        }
      ]
    },
    {
      "cell_type": "code",
      "source": [
        "pre.rename(columns={'m_1':'m_01','m_2':'m_02','m_3':'m_03','m_4':'m_04','m_5':'m_05','m_6':'m_06',\n",
        "                    'm_7':'m_07','m_8':'m_08', 'm_9':'m_09'}, inplace=True)"
      ],
      "metadata": {
        "id": "YCMjpl63EF_e"
      },
      "execution_count": 7,
      "outputs": []
    },
    {
      "cell_type": "markdown",
      "source": [
        "La columna 'Variable' identifica la provincia, cambiamos el nombre de la columna"
      ],
      "metadata": {
        "id": "cK7VYI3kxt_M"
      }
    },
    {
      "cell_type": "code",
      "source": [
        "vol.rename(columns={'Variable':'provincia'}, inplace=True)"
      ],
      "metadata": {
        "id": "bSVLpWrex2-9"
      },
      "execution_count": 8,
      "outputs": []
    },
    {
      "cell_type": "markdown",
      "source": [
        "Las columnas m_01 a m_12 denotan meses. Necesitamos convertir al mes como una variable, para tener en cada fila una observacion, pasar base en formato ancho a largo (wide to long) usando el método **melt**"
      ],
      "metadata": {
        "id": "pcNDR3q5yVFq"
      }
    },
    {
      "cell_type": "code",
      "source": [
        "vol_long=pd.melt(vol,id_vars=['producto','year','provincia'], \n",
        "                var_name='mes', value_name='volumen')"
      ],
      "metadata": {
        "id": "shDIIsM5yOSL"
      },
      "execution_count": 9,
      "outputs": []
    },
    {
      "cell_type": "markdown",
      "source": [
        "Lo mismo con la base de precios"
      ],
      "metadata": {
        "id": "FskgpqnQzHMo"
      }
    },
    {
      "cell_type": "code",
      "source": [
        "pre_long=pd.melt(pre,id_vars=['producto','year'], \n",
        "                var_name='mes', value_name='precio')"
      ],
      "metadata": {
        "id": "xVmW7svSzCfi"
      },
      "execution_count": 25,
      "outputs": []
    },
    {
      "cell_type": "markdown",
      "source": [
        "Damos una mirada a cada una de estas bases de datos"
      ],
      "metadata": {
        "id": "jtzyXMhOHhZE"
      }
    },
    {
      "cell_type": "code",
      "source": [
        "plt.figure(figsize=(9,5))\n",
        "vol_long.groupby(vol_long.year)['volumen'].count().plot()\n",
        "rr=np.arange(1997,2022,1)\n",
        "plt.xticks(rr,rotation=45, fontsize='small')\n",
        "plt.show()"
      ],
      "metadata": {
        "colab": {
          "base_uri": "https://localhost:8080/",
          "height": 345
        },
        "id": "PmrRn7G5FSDe",
        "outputId": "f7fccb9d-0228-4cb2-a6c1-92f4e4a96655"
      },
      "execution_count": 11,
      "outputs": [
        {
          "output_type": "display_data",
          "data": {
            "text/plain": [
              "<Figure size 648x360 with 1 Axes>"
            ],
            "image/png": "[encoded data removed]"
          },
          "metadata": {
            "needs_background": "light"
          }
        }
      ]
    },
    {
      "cell_type": "code",
      "source": [
        "plt.figure(figsize=(9,5))\n",
        "vol_long.groupby(vol_long.year)['provincia'].nunique().plot()\n",
        "rr=np.arange(1997,2022,1)\n",
        "plt.xticks(rr,rotation=45, fontsize='small')\n",
        "plt.show()"
      ],
      "metadata": {
        "colab": {
          "base_uri": "https://localhost:8080/",
          "height": 345
        },
        "id": "aWZFfINjIfpF",
        "outputId": "958e8cfa-937d-4c9b-b998-8dc4596eadc7"
      },
      "execution_count": 12,
      "outputs": [
        {
          "output_type": "display_data",
          "data": {
            "text/plain": [
              "<Figure size 648x360 with 1 Axes>"
            ],
            "image/png": "[encoded data removed]"
          },
          "metadata": {
            "needs_background": "light"
          }
        }
      ]
    },
    {
      "cell_type": "code",
      "source": [
        "vol_long.groupby(vol_long.year)['producto'].nunique()"
      ],
      "metadata": {
        "colab": {
          "base_uri": "https://localhost:8080/"
        },
        "id": "iPj4sUCpI_cD",
        "outputId": "fa66719d-9d89-4298-e51e-575067f6cf36"
      },
      "execution_count": null,
      "outputs": [
        {
          "output_type": "execute_result",
          "data": {
            "text/plain": [
              "year\n",
              "1997     4\n",
              "1998     4\n",
              "1999     4\n",
              "2000     4\n",
              "2001     4\n",
              "2002     4\n",
              "2003     4\n",
              "2004     4\n",
              "2005     4\n",
              "2006     4\n",
              "2007     7\n",
              "2008     9\n",
              "2009    10\n",
              "2010    10\n",
              "2011     8\n",
              "2012    11\n",
              "2013    11\n",
              "2014    11\n",
              "2015    11\n",
              "2016    11\n",
              "2017    11\n",
              "2018    11\n",
              "2019    11\n",
              "2020    11\n",
              "2021    10\n",
              "Name: producto, dtype: int64"
            ]
          },
          "metadata": {},
          "execution_count": 167
        }
      ]
    },
    {
      "cell_type": "code",
      "source": [
        "pre_long.groupby(pre_long.year)['producto'].nunique()"
      ],
      "metadata": {
        "colab": {
          "base_uri": "https://localhost:8080/"
        },
        "id": "jFXWi0nsUC0q",
        "outputId": "c29a4e30-c321-4d4d-a66f-5e89d5bfaec9"
      },
      "execution_count": 20,
      "outputs": [
        {
          "output_type": "execute_result",
          "data": {
            "text/plain": [
              "year\n",
              "1997    11\n",
              "1998    11\n",
              "1999    11\n",
              "2000    11\n",
              "2001    11\n",
              "2002    11\n",
              "2003    11\n",
              "2004    11\n",
              "2005    11\n",
              "2006    11\n",
              "2007    11\n",
              "2008    11\n",
              "2009    11\n",
              "2010    11\n",
              "2011    11\n",
              "2012    11\n",
              "2013    11\n",
              "2014    11\n",
              "2015    11\n",
              "2016    11\n",
              "2017    11\n",
              "2018    11\n",
              "2019    11\n",
              "2020    11\n",
              "2021    11\n",
              "Name: producto, dtype: int64"
            ]
          },
          "metadata": {},
          "execution_count": 20
        }
      ]
    },
    {
      "cell_type": "markdown",
      "source": [
        "Decidimos eliminar en base de precios las observaciones con precio=NaN"
      ],
      "metadata": {
        "id": "nOQiB_9wU_YP"
      }
    },
    {
      "cell_type": "code",
      "source": [
        "pre_long.precio.isna().sum()"
      ],
      "metadata": {
        "colab": {
          "base_uri": "https://localhost:8080/"
        },
        "id": "FV8K_B6XVgZ2",
        "outputId": "681d0853-8eac-4c15-8d24-7919d00a1de0"
      },
      "execution_count": 26,
      "outputs": [
        {
          "output_type": "execute_result",
          "data": {
            "text/plain": [
              "963"
            ]
          },
          "metadata": {},
          "execution_count": 26
        }
      ]
    },
    {
      "cell_type": "markdown",
      "source": [
        "Hay 963 observaciones en base de precios con precio=NaN.  Decidimos eliminarlas"
      ],
      "metadata": {
        "id": "CsACtjaCVoHj"
      }
    },
    {
      "cell_type": "code",
      "source": [
        "pre_long.dropna(subset=['precio'],inplace=True)"
      ],
      "metadata": {
        "id": "4rnHy6F6KMQN"
      },
      "execution_count": 27,
      "outputs": []
    },
    {
      "cell_type": "code",
      "source": [
        "pre_long.precio.isna().sum()"
      ],
      "metadata": {
        "colab": {
          "base_uri": "https://localhost:8080/"
        },
        "id": "fmendRMwVa2Q",
        "outputId": "848877db-5787-41fe-da67-8757bcb1be9a"
      },
      "execution_count": 28,
      "outputs": [
        {
          "output_type": "execute_result",
          "data": {
            "text/plain": [
              "0"
            ]
          },
          "metadata": {},
          "execution_count": 28
        }
      ]
    },
    {
      "cell_type": "markdown",
      "source": [
        "Bases 'vol_long' y 'pre_long' tienen una estructura similar y variables en comun y pueden ser integradas (usando método **merge**)"
      ],
      "metadata": {
        "id": "RilO3fD9zSj4"
      }
    },
    {
      "cell_type": "code",
      "source": [
        "df_base=vol_long.merge(pre_long, on=['producto','year','mes'], how='outer')\n",
        "df_base"
      ],
      "metadata": {
        "colab": {
          "base_uri": "https://localhost:8080/",
          "height": 423
        },
        "id": "XDggS3jA0Dyu",
        "outputId": "e6687d9c-76b3-45ea-ff33-2e6fef897bd2"
      },
      "execution_count": 29,
      "outputs": [
        {
          "output_type": "execute_result",
          "data": {
            "text/plain": [
              "                producto  year    provincia   mes  volumen  precio\n",
              "0          Papa Amarilla  1997      Abancay  m_01      NaN    0.90\n",
              "1          Papa Amarilla  1997         Ambo  m_01    97.80    0.90\n",
              "2          Papa Amarilla  1997  Andahuaylas  m_01      NaN    0.90\n",
              "3          Papa Amarilla  1997     Arequipa  m_01      NaN    0.90\n",
              "4          Papa Amarilla  1997       Ascope  m_01    15.48    0.90\n",
              "...                  ...   ...          ...   ...      ...     ...\n",
              "50637       Papa Canchan  2009          NaN  m_12      NaN    0.68\n",
              "50638       Papa Canchan  2010          NaN  m_12      NaN    0.49\n",
              "50639       Papa Canchan  2011          NaN  m_12      NaN    0.87\n",
              "50640   Papa Huamantanga  2011          NaN  m_12      NaN    0.89\n",
              "50641  Papa Negra Andina  2011          NaN  m_12      NaN    0.81\n",
              "\n",
              "[50642 rows x 6 columns]"
            ],
            "text/html": [
              "\n",
              "  <div id=\"df-c6bd60b3-3280-4b7e-82a1-98233a54e8cd\">\n",
              "    <div class=\"colab-df-container\">\n",
              "      <div>\n",
              "<style scoped>\n",
              "    .dataframe tbody tr th:only-of-type {\n",
              "        vertical-align: middle;\n",
              "    }\n",
              "\n",
              "    .dataframe tbody tr th {\n",
              "        vertical-align: top;\n",
              "    }\n",
              "\n",
              "    .dataframe thead th {\n",
              "        text-align: right;\n",
              "    }\n",
              "</style>\n",
              "<table border=\"1\" class=\"dataframe\">\n",
              "  <thead>\n",
              "    <tr style=\"text-align: right;\">\n",
              "      <th></th>\n",
              "      <th>producto</th>\n",
              "      <th>year</th>\n",
              "      <th>provincia</th>\n",
              "      <th>mes</th>\n",
              "      <th>volumen</th>\n",
              "      <th>precio</th>\n",
              "    </tr>\n",
              "  </thead>\n",
              "  <tbody>\n",
              "    <tr>\n",
              "      <th>0</th>\n",
              "      <td>Papa Amarilla</td>\n",
              "      <td>1997</td>\n",
              "      <td>Abancay</td>\n",
              "      <td>m_01</td>\n",
              "      <td>NaN</td>\n",
              "      <td>0.90</td>\n",
              "    </tr>\n",
              "    <tr>\n",
              "      <th>1</th>\n",
              "      <td>Papa Amarilla</td>\n",
              "      <td>1997</td>\n",
              "      <td>Ambo</td>\n",
              "      <td>m_01</td>\n",
              "      <td>97.80</td>\n",
              "      <td>0.90</td>\n",
              "    </tr>\n",
              "    <tr>\n",
              "      <th>2</th>\n",
              "      <td>Papa Amarilla</td>\n",
              "      <td>1997</td>\n",
              "      <td>Andahuaylas</td>\n",
              "      <td>m_01</td>\n",
              "      <td>NaN</td>\n",
              "      <td>0.90</td>\n",
              "    </tr>\n",
              "    <tr>\n",
              "      <th>3</th>\n",
              "      <td>Papa Amarilla</td>\n",
              "      <td>1997</td>\n",
              "      <td>Arequipa</td>\n",
              "      <td>m_01</td>\n",
              "      <td>NaN</td>\n",
              "      <td>0.90</td>\n",
              "    </tr>\n",
              "    <tr>\n",
              "      <th>4</th>\n",
              "      <td>Papa Amarilla</td>\n",
              "      <td>1997</td>\n",
              "      <td>Ascope</td>\n",
              "      <td>m_01</td>\n",
              "      <td>15.48</td>\n",
              "      <td>0.90</td>\n",
              "    </tr>\n",
              "    <tr>\n",
              "      <th>...</th>\n",
              "      <td>...</td>\n",
              "      <td>...</td>\n",
              "      <td>...</td>\n",
              "      <td>...</td>\n",
              "      <td>...</td>\n",
              "      <td>...</td>\n",
              "    </tr>\n",
              "    <tr>\n",
              "      <th>50637</th>\n",
              "      <td>Papa Canchan</td>\n",
              "      <td>2009</td>\n",
              "      <td>NaN</td>\n",
              "      <td>m_12</td>\n",
              "      <td>NaN</td>\n",
              "      <td>0.68</td>\n",
              "    </tr>\n",
              "    <tr>\n",
              "      <th>50638</th>\n",
              "      <td>Papa Canchan</td>\n",
              "      <td>2010</td>\n",
              "      <td>NaN</td>\n",
              "      <td>m_12</td>\n",
              "      <td>NaN</td>\n",
              "      <td>0.49</td>\n",
              "    </tr>\n",
              "    <tr>\n",
              "      <th>50639</th>\n",
              "      <td>Papa Canchan</td>\n",
              "      <td>2011</td>\n",
              "      <td>NaN</td>\n",
              "      <td>m_12</td>\n",
              "      <td>NaN</td>\n",
              "      <td>0.87</td>\n",
              "    </tr>\n",
              "    <tr>\n",
              "      <th>50640</th>\n",
              "      <td>Papa Huamantanga</td>\n",
              "      <td>2011</td>\n",
              "      <td>NaN</td>\n",
              "      <td>m_12</td>\n",
              "      <td>NaN</td>\n",
              "      <td>0.89</td>\n",
              "    </tr>\n",
              "    <tr>\n",
              "      <th>50641</th>\n",
              "      <td>Papa Negra Andina</td>\n",
              "      <td>2011</td>\n",
              "      <td>NaN</td>\n",
              "      <td>m_12</td>\n",
              "      <td>NaN</td>\n",
              "      <td>0.81</td>\n",
              "    </tr>\n",
              "  </tbody>\n",
              "</table>\n",
              "<p>50642 rows × 6 columns</p>\n",
              "</div>\n",
              "      <button class=\"colab-df-convert\" onclick=\"convertToInteractive('df-c6bd60b3-3280-4b7e-82a1-98233a54e8cd')\"\n",
              "              title=\"Convert this dataframe to an interactive table.\"\n",
              "              style=\"display:none;\">\n",
              "        \n",
              "  <svg xmlns=\"http://www.w3.org/2000/svg\" height=\"24px\"viewBox=\"0 0 24 24\"\n",
              "       width=\"24px\">\n",
              "    <path d=\"M0 0h24v24H0V0z\" fill=\"none\"/>\n",
              "    <path d=\"M18.56 5.44l.94 2.06.94-2.06 2.06-.94-2.06-.94-.94-2.06-.94 2.06-2.06.94zm-11 1L8.5 8.5l.94-2.06 2.06-.94-2.06-.94L8.5 2.5l-.94 2.06-2.06.94zm10 10l.94 2.06.94-2.06 2.06-.94-2.06-.94-.94-2.06-.94 2.06-2.06.94z\"/><path d=\"M17.41 7.96l-1.37-1.37c-.4-.4-.92-.59-1.43-.59-.52 0-1.04.2-1.43.59L10.3 9.45l-7.72 7.72c-.78.78-.78 2.05 0 2.83L4 21.41c.39.39.9.59 1.41.59.51 0 1.02-.2 1.41-.59l7.78-7.78 2.81-2.81c.8-.78.8-2.07 0-2.86zM5.41 20L4 18.59l7.72-7.72 1.47 1.35L5.41 20z\"/>\n",
              "  </svg>\n",
              "      </button>\n",
              "      \n",
              "  <style>\n",
              "    .colab-df-container {\n",
              "      display:flex;\n",
              "      flex-wrap:wrap;\n",
              "      gap: 12px;\n",
              "    }\n",
              "\n",
              "    .colab-df-convert {\n",
              "      background-color: #E8F0FE;\n",
              "      border: none;\n",
              "      border-radius: 50%;\n",
              "      cursor: pointer;\n",
              "      display: none;\n",
              "      fill: #1967D2;\n",
              "      height: 32px;\n",
              "      padding: 0 0 0 0;\n",
              "      width: 32px;\n",
              "    }\n",
              "\n",
              "    .colab-df-convert:hover {\n",
              "      background-color: #E2EBFA;\n",
              "      box-shadow: 0px 1px 2px rgba(60, 64, 67, 0.3), 0px 1px 3px 1px rgba(60, 64, 67, 0.15);\n",
              "      fill: #174EA6;\n",
              "    }\n",
              "\n",
              "    [theme=dark] .colab-df-convert {\n",
              "      background-color: #3B4455;\n",
              "      fill: #D2E3FC;\n",
              "    }\n",
              "\n",
              "    [theme=dark] .colab-df-convert:hover {\n",
              "      background-color: #434B5C;\n",
              "      box-shadow: 0px 1px 3px 1px rgba(0, 0, 0, 0.15);\n",
              "      filter: drop-shadow(0px 1px 2px rgba(0, 0, 0, 0.3));\n",
              "      fill: #FFFFFF;\n",
              "    }\n",
              "  </style>\n",
              "\n",
              "      <script>\n",
              "        const buttonEl =\n",
              "          document.querySelector('#df-c6bd60b3-3280-4b7e-82a1-98233a54e8cd button.colab-df-convert');\n",
              "        buttonEl.style.display =\n",
              "          google.colab.kernel.accessAllowed ? 'block' : 'none';\n",
              "\n",
              "        async function convertToInteractive(key) {\n",
              "          const element = document.querySelector('#df-c6bd60b3-3280-4b7e-82a1-98233a54e8cd');\n",
              "          const dataTable =\n",
              "            await google.colab.kernel.invokeFunction('convertToInteractive',\n",
              "                                                     [key], {});\n",
              "          if (!dataTable) return;\n",
              "\n",
              "          const docLinkHtml = 'Like what you see? Visit the ' +\n",
              "            '<a target=\"_blank\" href=https://colab.research.google.com/notebooks/data_table.ipynb>data table notebook</a>'\n",
              "            + ' to learn more about interactive tables.';\n",
              "          element.innerHTML = '';\n",
              "          dataTable['output_type'] = 'display_data';\n",
              "          await google.colab.output.renderOutput(dataTable, element);\n",
              "          const docLink = document.createElement('div');\n",
              "          docLink.innerHTML = docLinkHtml;\n",
              "          element.appendChild(docLink);\n",
              "        }\n",
              "      </script>\n",
              "    </div>\n",
              "  </div>\n",
              "  "
            ]
          },
          "metadata": {},
          "execution_count": 29
        }
      ]
    },
    {
      "cell_type": "markdown",
      "source": [
        "En objeto generado como **df_base** en cada fila tenemos una observación que identifica la variedad, el año, la provincia, el mes así como el volumen y precio"
      ],
      "metadata": {
        "id": "i9A9m5-a0Vqm"
      }
    },
    {
      "cell_type": "markdown",
      "source": [
        "Notar que la variable precio corresponde a la variedad y mes, pero no varía por provincia de origen (el precio se forma en MML)"
      ],
      "metadata": {
        "id": "ez2gZpU4V8eP"
      }
    },
    {
      "cell_type": "markdown",
      "source": [
        "Creamos variable 'ym' que identifica año y mes por observacion"
      ],
      "metadata": {
        "id": "pClbSlQcH1MS"
      }
    },
    {
      "cell_type": "code",
      "source": [
        "df_base['ym']=df_base['year'].astype(str)+df_base['mes']"
      ],
      "metadata": {
        "id": "hq0JP_cxG7h1"
      },
      "execution_count": 30,
      "outputs": []
    },
    {
      "cell_type": "code",
      "source": [
        "df_base.sort_values('ym', ascending=True)"
      ],
      "metadata": {
        "colab": {
          "base_uri": "https://localhost:8080/",
          "height": 423
        },
        "id": "HxEsNwnTHkDl",
        "outputId": "5a76ab6c-81f7-4e25-f906-c450ede19703"
      },
      "execution_count": 31,
      "outputs": [
        {
          "output_type": "execute_result",
          "data": {
            "text/plain": [
              "               producto  year          provincia   mes  volumen  precio  \\\n",
              "0         Papa Amarilla  1997            Abancay  m_01      NaN    0.90   \n",
              "96           Papa Color  1997             Huaral  m_01   622.44    0.55   \n",
              "95           Papa Color  1997            Huanuco  m_01  5306.76    0.55   \n",
              "94           Papa Color  1997           Huancayo  m_01   558.96    0.55   \n",
              "93           Papa Color  1997       Huancavelica  m_01    24.00    0.55   \n",
              "...                 ...   ...                ...   ...      ...     ...   \n",
              "50457        Papa Color  2021              Tarma  m_12      NaN     NaN   \n",
              "50456        Papa Color  2021  Santiago De Chuco  m_12      NaN     NaN   \n",
              "50455        Papa Color  2021    Sanchez Carrion  m_12      NaN     NaN   \n",
              "50461  Papa Huamantanga  2021               Lima  m_12      NaN     NaN   \n",
              "50390       Papa Blanca  2021          Cajatambo  m_12      NaN     NaN   \n",
              "\n",
              "             ym  \n",
              "0      1997m_01  \n",
              "96     1997m_01  \n",
              "95     1997m_01  \n",
              "94     1997m_01  \n",
              "93     1997m_01  \n",
              "...         ...  \n",
              "50457  2021m_12  \n",
              "50456  2021m_12  \n",
              "50455  2021m_12  \n",
              "50461  2021m_12  \n",
              "50390  2021m_12  \n",
              "\n",
              "[50642 rows x 7 columns]"
            ],
            "text/html": [
              "\n",
              "  <div id=\"df-4d23642f-952a-4a4c-9cb2-3dd7b7f1816c\">\n",
              "    <div class=\"colab-df-container\">\n",
              "      <div>\n",
              "<style scoped>\n",
              "    .dataframe tbody tr th:only-of-type {\n",
              "        vertical-align: middle;\n",
              "    }\n",
              "\n",
              "    .dataframe tbody tr th {\n",
              "        vertical-align: top;\n",
              "    }\n",
              "\n",
              "    .dataframe thead th {\n",
              "        text-align: right;\n",
              "    }\n",
              "</style>\n",
              "<table border=\"1\" class=\"dataframe\">\n",
              "  <thead>\n",
              "    <tr style=\"text-align: right;\">\n",
              "      <th></th>\n",
              "      <th>producto</th>\n",
              "      <th>year</th>\n",
              "      <th>provincia</th>\n",
              "      <th>mes</th>\n",
              "      <th>volumen</th>\n",
              "      <th>precio</th>\n",
              "      <th>ym</th>\n",
              "    </tr>\n",
              "  </thead>\n",
              "  <tbody>\n",
              "    <tr>\n",
              "      <th>0</th>\n",
              "      <td>Papa Amarilla</td>\n",
              "      <td>1997</td>\n",
              "      <td>Abancay</td>\n",
              "      <td>m_01</td>\n",
              "      <td>NaN</td>\n",
              "      <td>0.90</td>\n",
              "      <td>1997m_01</td>\n",
              "    </tr>\n",
              "    <tr>\n",
              "      <th>96</th>\n",
              "      <td>Papa Color</td>\n",
              "      <td>1997</td>\n",
              "      <td>Huaral</td>\n",
              "      <td>m_01</td>\n",
              "      <td>622.44</td>\n",
              "      <td>0.55</td>\n",
              "      <td>1997m_01</td>\n",
              "    </tr>\n",
              "    <tr>\n",
              "      <th>95</th>\n",
              "      <td>Papa Color</td>\n",
              "      <td>1997</td>\n",
              "      <td>Huanuco</td>\n",
              "      <td>m_01</td>\n",
              "      <td>5306.76</td>\n",
              "      <td>0.55</td>\n",
              "      <td>1997m_01</td>\n",
              "    </tr>\n",
              "    <tr>\n",
              "      <th>94</th>\n",
              "      <td>Papa Color</td>\n",
              "      <td>1997</td>\n",
              "      <td>Huancayo</td>\n",
              "      <td>m_01</td>\n",
              "      <td>558.96</td>\n",
              "      <td>0.55</td>\n",
              "      <td>1997m_01</td>\n",
              "    </tr>\n",
              "    <tr>\n",
              "      <th>93</th>\n",
              "      <td>Papa Color</td>\n",
              "      <td>1997</td>\n",
              "      <td>Huancavelica</td>\n",
              "      <td>m_01</td>\n",
              "      <td>24.00</td>\n",
              "      <td>0.55</td>\n",
              "      <td>1997m_01</td>\n",
              "    </tr>\n",
              "    <tr>\n",
              "      <th>...</th>\n",
              "      <td>...</td>\n",
              "      <td>...</td>\n",
              "      <td>...</td>\n",
              "      <td>...</td>\n",
              "      <td>...</td>\n",
              "      <td>...</td>\n",
              "      <td>...</td>\n",
              "    </tr>\n",
              "    <tr>\n",
              "      <th>50457</th>\n",
              "      <td>Papa Color</td>\n",
              "      <td>2021</td>\n",
              "      <td>Tarma</td>\n",
              "      <td>m_12</td>\n",
              "      <td>NaN</td>\n",
              "      <td>NaN</td>\n",
              "      <td>2021m_12</td>\n",
              "    </tr>\n",
              "    <tr>\n",
              "      <th>50456</th>\n",
              "      <td>Papa Color</td>\n",
              "      <td>2021</td>\n",
              "      <td>Santiago De Chuco</td>\n",
              "      <td>m_12</td>\n",
              "      <td>NaN</td>\n",
              "      <td>NaN</td>\n",
              "      <td>2021m_12</td>\n",
              "    </tr>\n",
              "    <tr>\n",
              "      <th>50455</th>\n",
              "      <td>Papa Color</td>\n",
              "      <td>2021</td>\n",
              "      <td>Sanchez Carrion</td>\n",
              "      <td>m_12</td>\n",
              "      <td>NaN</td>\n",
              "      <td>NaN</td>\n",
              "      <td>2021m_12</td>\n",
              "    </tr>\n",
              "    <tr>\n",
              "      <th>50461</th>\n",
              "      <td>Papa Huamantanga</td>\n",
              "      <td>2021</td>\n",
              "      <td>Lima</td>\n",
              "      <td>m_12</td>\n",
              "      <td>NaN</td>\n",
              "      <td>NaN</td>\n",
              "      <td>2021m_12</td>\n",
              "    </tr>\n",
              "    <tr>\n",
              "      <th>50390</th>\n",
              "      <td>Papa Blanca</td>\n",
              "      <td>2021</td>\n",
              "      <td>Cajatambo</td>\n",
              "      <td>m_12</td>\n",
              "      <td>NaN</td>\n",
              "      <td>NaN</td>\n",
              "      <td>2021m_12</td>\n",
              "    </tr>\n",
              "  </tbody>\n",
              "</table>\n",
              "<p>50642 rows × 7 columns</p>\n",
              "</div>\n",
              "      <button class=\"colab-df-convert\" onclick=\"convertToInteractive('df-4d23642f-952a-4a4c-9cb2-3dd7b7f1816c')\"\n",
              "              title=\"Convert this dataframe to an interactive table.\"\n",
              "              style=\"display:none;\">\n",
              "        \n",
              "  <svg xmlns=\"http://www.w3.org/2000/svg\" height=\"24px\"viewBox=\"0 0 24 24\"\n",
              "       width=\"24px\">\n",
              "    <path d=\"M0 0h24v24H0V0z\" fill=\"none\"/>\n",
              "    <path d=\"M18.56 5.44l.94 2.06.94-2.06 2.06-.94-2.06-.94-.94-2.06-.94 2.06-2.06.94zm-11 1L8.5 8.5l.94-2.06 2.06-.94-2.06-.94L8.5 2.5l-.94 2.06-2.06.94zm10 10l.94 2.06.94-2.06 2.06-.94-2.06-.94-.94-2.06-.94 2.06-2.06.94z\"/><path d=\"M17.41 7.96l-1.37-1.37c-.4-.4-.92-.59-1.43-.59-.52 0-1.04.2-1.43.59L10.3 9.45l-7.72 7.72c-.78.78-.78 2.05 0 2.83L4 21.41c.39.39.9.59 1.41.59.51 0 1.02-.2 1.41-.59l7.78-7.78 2.81-2.81c.8-.78.8-2.07 0-2.86zM5.41 20L4 18.59l7.72-7.72 1.47 1.35L5.41 20z\"/>\n",
              "  </svg>\n",
              "      </button>\n",
              "      \n",
              "  <style>\n",
              "    .colab-df-container {\n",
              "      display:flex;\n",
              "      flex-wrap:wrap;\n",
              "      gap: 12px;\n",
              "    }\n",
              "\n",
              "    .colab-df-convert {\n",
              "      background-color: #E8F0FE;\n",
              "      border: none;\n",
              "      border-radius: 50%;\n",
              "      cursor: pointer;\n",
              "      display: none;\n",
              "      fill: #1967D2;\n",
              "      height: 32px;\n",
              "      padding: 0 0 0 0;\n",
              "      width: 32px;\n",
              "    }\n",
              "\n",
              "    .colab-df-convert:hover {\n",
              "      background-color: #E2EBFA;\n",
              "      box-shadow: 0px 1px 2px rgba(60, 64, 67, 0.3), 0px 1px 3px 1px rgba(60, 64, 67, 0.15);\n",
              "      fill: #174EA6;\n",
              "    }\n",
              "\n",
              "    [theme=dark] .colab-df-convert {\n",
              "      background-color: #3B4455;\n",
              "      fill: #D2E3FC;\n",
              "    }\n",
              "\n",
              "    [theme=dark] .colab-df-convert:hover {\n",
              "      background-color: #434B5C;\n",
              "      box-shadow: 0px 1px 3px 1px rgba(0, 0, 0, 0.15);\n",
              "      filter: drop-shadow(0px 1px 2px rgba(0, 0, 0, 0.3));\n",
              "      fill: #FFFFFF;\n",
              "    }\n",
              "  </style>\n",
              "\n",
              "      <script>\n",
              "        const buttonEl =\n",
              "          document.querySelector('#df-4d23642f-952a-4a4c-9cb2-3dd7b7f1816c button.colab-df-convert');\n",
              "        buttonEl.style.display =\n",
              "          google.colab.kernel.accessAllowed ? 'block' : 'none';\n",
              "\n",
              "        async function convertToInteractive(key) {\n",
              "          const element = document.querySelector('#df-4d23642f-952a-4a4c-9cb2-3dd7b7f1816c');\n",
              "          const dataTable =\n",
              "            await google.colab.kernel.invokeFunction('convertToInteractive',\n",
              "                                                     [key], {});\n",
              "          if (!dataTable) return;\n",
              "\n",
              "          const docLinkHtml = 'Like what you see? Visit the ' +\n",
              "            '<a target=\"_blank\" href=https://colab.research.google.com/notebooks/data_table.ipynb>data table notebook</a>'\n",
              "            + ' to learn more about interactive tables.';\n",
              "          element.innerHTML = '';\n",
              "          dataTable['output_type'] = 'display_data';\n",
              "          await google.colab.output.renderOutput(dataTable, element);\n",
              "          const docLink = document.createElement('div');\n",
              "          docLink.innerHTML = docLinkHtml;\n",
              "          element.appendChild(docLink);\n",
              "        }\n",
              "      </script>\n",
              "    </div>\n",
              "  </div>\n",
              "  "
            ]
          },
          "metadata": {},
          "execution_count": 31
        }
      ]
    },
    {
      "cell_type": "markdown",
      "source": [
        "## **2. Evaluación y limpieza de la base de datos**"
      ],
      "metadata": {
        "id": "Jr3mJg_pwBc_"
      }
    },
    {
      "cell_type": "markdown",
      "source": [
        "Creamos un objeto con el numero de observaciones con valor en el volumen transado por mes, uso del método **groupby** en Pandas"
      ],
      "metadata": {
        "id": "ZIoX8Ht0GFvq"
      }
    },
    {
      "cell_type": "code",
      "source": [
        "observ=df_base.groupby(df_base.ym)['volumen'].count()"
      ],
      "metadata": {
        "id": "63FOKKQ5Frjy"
      },
      "execution_count": 32,
      "outputs": []
    },
    {
      "cell_type": "code",
      "source": [
        "observ.plot()"
      ],
      "metadata": {
        "colab": {
          "base_uri": "https://localhost:8080/",
          "height": 298
        },
        "id": "m8NMqJNLwWqB",
        "outputId": "dcf86251-8b00-43ed-d4b6-d2af7031af78"
      },
      "execution_count": 33,
      "outputs": [
        {
          "output_type": "execute_result",
          "data": {
            "text/plain": [
              "<matplotlib.axes._subplots.AxesSubplot at 0x7f5acaca3970>"
            ]
          },
          "metadata": {},
          "execution_count": 33
        },
        {
          "output_type": "display_data",
          "data": {
            "text/plain": [
              "<Figure size 432x288 with 1 Axes>"
            ],
            "image/png": "[encoded data removed]"
          },
          "metadata": {
            "needs_background": "light"
          }
        }
      ]
    },
    {
      "cell_type": "code",
      "source": [
        "observ[observ==0]"
      ],
      "metadata": {
        "colab": {
          "base_uri": "https://localhost:8080/"
        },
        "id": "mrJpMe0Qwo0_",
        "outputId": "bd30d216-467b-48e1-f5fc-b805fba4e3b2"
      },
      "execution_count": 34,
      "outputs": [
        {
          "output_type": "execute_result",
          "data": {
            "text/plain": [
              "ym\n",
              "1997m_09    0\n",
              "2014m_12    0\n",
              "2021m_06    0\n",
              "2021m_07    0\n",
              "2021m_08    0\n",
              "2021m_09    0\n",
              "2021m_10    0\n",
              "2021m_11    0\n",
              "2021m_12    0\n",
              "Name: volumen, dtype: int64"
            ]
          },
          "metadata": {},
          "execution_count": 34
        }
      ]
    },
    {
      "cell_type": "markdown",
      "source": [
        "Hay 9 meses con ninguna observación para volumen: set 1997, dic 2014 y junio-diciembre 2021"
      ],
      "metadata": {
        "id": "6h78OFQkxH5H"
      }
    },
    {
      "cell_type": "markdown",
      "source": [
        "Atención a meses sin observaciones (NaN). No es razonable que no haya ninguna transacción de papa durante todo un mes. Para junio-dic 2021 el tema es que los datos obtenidos de la web sólo llegaban a mayo 2021. Estos meses se pueden eliminar. Para los otros dos meses de la serie debemos tomar decisión. Decidimos, ya que no hay información sobre transacciones (sin saber la causa de dicha situación), eliminar estos dos meses de la serie. "
      ],
      "metadata": {
        "id": "BUlqh6GCxyON"
      }
    },
    {
      "cell_type": "markdown",
      "source": [],
      "metadata": {
        "id": "EvGZiSOzxt7W"
      }
    },
    {
      "cell_type": "code",
      "source": [
        "df_base1 = df_base[(df_base['ym'] != '1997m_09') & (df_base['ym'] != '2014m_12') &\n",
        "                    (df_base['ym'] != '2021m_06') & (df_base['ym'] != '2021m_07') & \n",
        "                    (df_base['ym'] != '2021m_08') & (df_base['ym'] != '2021m_09') & \n",
        "                    (df_base['ym'] != '2021m_10') & (df_base['ym'] != '2021m_11') & \n",
        "                    (df_base['ym'] != '2021m_12')]\n"
      ],
      "metadata": {
        "id": "3eK1IwbiWlSF"
      },
      "execution_count": 35,
      "outputs": []
    },
    {
      "cell_type": "code",
      "source": [
        "df_base1.sort_values('ym')"
      ],
      "metadata": {
        "colab": {
          "base_uri": "https://localhost:8080/",
          "height": 423
        },
        "id": "Fz7clvV-WWQn",
        "outputId": "803fffc0-8ece-425b-d16b-773b666ca179"
      },
      "execution_count": 36,
      "outputs": [
        {
          "output_type": "execute_result",
          "data": {
            "text/plain": [
              "            producto  year      provincia   mes  volumen  precio        ym\n",
              "0      Papa Amarilla  1997        Abancay  m_01      NaN    0.90  1997m_01\n",
              "96        Papa Color  1997         Huaral  m_01   622.44    0.55  1997m_01\n",
              "95        Papa Color  1997        Huanuco  m_01  5306.76    0.55  1997m_01\n",
              "94        Papa Color  1997       Huancayo  m_01   558.96    0.55  1997m_01\n",
              "93        Papa Color  1997   Huancavelica  m_01    24.00    0.55  1997m_01\n",
              "...              ...   ...            ...   ...      ...     ...       ...\n",
              "20951   Papa Canchan  2021       Arequipa  m_05      NaN    1.38  2021m_05\n",
              "20952   Papa Canchan  2021       Barranca  m_05      NaN    1.38  2021m_05\n",
              "20953   Papa Canchan  2021       Cangallo  m_05      NaN    1.38  2021m_05\n",
              "20946    Papa Blanca  2021         Satipo  m_05      NaN    0.79  2021m_05\n",
              "20929    Papa Blanca  2021  Huanca Sancos  m_05      NaN    0.79  2021m_05\n",
              "\n",
              "[49261 rows x 7 columns]"
            ],
            "text/html": [
              "\n",
              "  <div id=\"df-57b18932-35b4-48e6-b7da-33bcbe41573c\">\n",
              "    <div class=\"colab-df-container\">\n",
              "      <div>\n",
              "<style scoped>\n",
              "    .dataframe tbody tr th:only-of-type {\n",
              "        vertical-align: middle;\n",
              "    }\n",
              "\n",
              "    .dataframe tbody tr th {\n",
              "        vertical-align: top;\n",
              "    }\n",
              "\n",
              "    .dataframe thead th {\n",
              "        text-align: right;\n",
              "    }\n",
              "</style>\n",
              "<table border=\"1\" class=\"dataframe\">\n",
              "  <thead>\n",
              "    <tr style=\"text-align: right;\">\n",
              "      <th></th>\n",
              "      <th>producto</th>\n",
              "      <th>year</th>\n",
              "      <th>provincia</th>\n",
              "      <th>mes</th>\n",
              "      <th>volumen</th>\n",
              "      <th>precio</th>\n",
              "      <th>ym</th>\n",
              "    </tr>\n",
              "  </thead>\n",
              "  <tbody>\n",
              "    <tr>\n",
              "      <th>0</th>\n",
              "      <td>Papa Amarilla</td>\n",
              "      <td>1997</td>\n",
              "      <td>Abancay</td>\n",
              "      <td>m_01</td>\n",
              "      <td>NaN</td>\n",
              "      <td>0.90</td>\n",
              "      <td>1997m_01</td>\n",
              "    </tr>\n",
              "    <tr>\n",
              "      <th>96</th>\n",
              "      <td>Papa Color</td>\n",
              "      <td>1997</td>\n",
              "      <td>Huaral</td>\n",
              "      <td>m_01</td>\n",
              "      <td>622.44</td>\n",
              "      <td>0.55</td>\n",
              "      <td>1997m_01</td>\n",
              "    </tr>\n",
              "    <tr>\n",
              "      <th>95</th>\n",
              "      <td>Papa Color</td>\n",
              "      <td>1997</td>\n",
              "      <td>Huanuco</td>\n",
              "      <td>m_01</td>\n",
              "      <td>5306.76</td>\n",
              "      <td>0.55</td>\n",
              "      <td>1997m_01</td>\n",
              "    </tr>\n",
              "    <tr>\n",
              "      <th>94</th>\n",
              "      <td>Papa Color</td>\n",
              "      <td>1997</td>\n",
              "      <td>Huancayo</td>\n",
              "      <td>m_01</td>\n",
              "      <td>558.96</td>\n",
              "      <td>0.55</td>\n",
              "      <td>1997m_01</td>\n",
              "    </tr>\n",
              "    <tr>\n",
              "      <th>93</th>\n",
              "      <td>Papa Color</td>\n",
              "      <td>1997</td>\n",
              "      <td>Huancavelica</td>\n",
              "      <td>m_01</td>\n",
              "      <td>24.00</td>\n",
              "      <td>0.55</td>\n",
              "      <td>1997m_01</td>\n",
              "    </tr>\n",
              "    <tr>\n",
              "      <th>...</th>\n",
              "      <td>...</td>\n",
              "      <td>...</td>\n",
              "      <td>...</td>\n",
              "      <td>...</td>\n",
              "      <td>...</td>\n",
              "      <td>...</td>\n",
              "      <td>...</td>\n",
              "    </tr>\n",
              "    <tr>\n",
              "      <th>20951</th>\n",
              "      <td>Papa Canchan</td>\n",
              "      <td>2021</td>\n",
              "      <td>Arequipa</td>\n",
              "      <td>m_05</td>\n",
              "      <td>NaN</td>\n",
              "      <td>1.38</td>\n",
              "      <td>2021m_05</td>\n",
              "    </tr>\n",
              "    <tr>\n",
              "      <th>20952</th>\n",
              "      <td>Papa Canchan</td>\n",
              "      <td>2021</td>\n",
              "      <td>Barranca</td>\n",
              "      <td>m_05</td>\n",
              "      <td>NaN</td>\n",
              "      <td>1.38</td>\n",
              "      <td>2021m_05</td>\n",
              "    </tr>\n",
              "    <tr>\n",
              "      <th>20953</th>\n",
              "      <td>Papa Canchan</td>\n",
              "      <td>2021</td>\n",
              "      <td>Cangallo</td>\n",
              "      <td>m_05</td>\n",
              "      <td>NaN</td>\n",
              "      <td>1.38</td>\n",
              "      <td>2021m_05</td>\n",
              "    </tr>\n",
              "    <tr>\n",
              "      <th>20946</th>\n",
              "      <td>Papa Blanca</td>\n",
              "      <td>2021</td>\n",
              "      <td>Satipo</td>\n",
              "      <td>m_05</td>\n",
              "      <td>NaN</td>\n",
              "      <td>0.79</td>\n",
              "      <td>2021m_05</td>\n",
              "    </tr>\n",
              "    <tr>\n",
              "      <th>20929</th>\n",
              "      <td>Papa Blanca</td>\n",
              "      <td>2021</td>\n",
              "      <td>Huanca Sancos</td>\n",
              "      <td>m_05</td>\n",
              "      <td>NaN</td>\n",
              "      <td>0.79</td>\n",
              "      <td>2021m_05</td>\n",
              "    </tr>\n",
              "  </tbody>\n",
              "</table>\n",
              "<p>49261 rows × 7 columns</p>\n",
              "</div>\n",
              "      <button class=\"colab-df-convert\" onclick=\"convertToInteractive('df-57b18932-35b4-48e6-b7da-33bcbe41573c')\"\n",
              "              title=\"Convert this dataframe to an interactive table.\"\n",
              "              style=\"display:none;\">\n",
              "        \n",
              "  <svg xmlns=\"http://www.w3.org/2000/svg\" height=\"24px\"viewBox=\"0 0 24 24\"\n",
              "       width=\"24px\">\n",
              "    <path d=\"M0 0h24v24H0V0z\" fill=\"none\"/>\n",
              "    <path d=\"M18.56 5.44l.94 2.06.94-2.06 2.06-.94-2.06-.94-.94-2.06-.94 2.06-2.06.94zm-11 1L8.5 8.5l.94-2.06 2.06-.94-2.06-.94L8.5 2.5l-.94 2.06-2.06.94zm10 10l.94 2.06.94-2.06 2.06-.94-2.06-.94-.94-2.06-.94 2.06-2.06.94z\"/><path d=\"M17.41 7.96l-1.37-1.37c-.4-.4-.92-.59-1.43-.59-.52 0-1.04.2-1.43.59L10.3 9.45l-7.72 7.72c-.78.78-.78 2.05 0 2.83L4 21.41c.39.39.9.59 1.41.59.51 0 1.02-.2 1.41-.59l7.78-7.78 2.81-2.81c.8-.78.8-2.07 0-2.86zM5.41 20L4 18.59l7.72-7.72 1.47 1.35L5.41 20z\"/>\n",
              "  </svg>\n",
              "      </button>\n",
              "      \n",
              "  <style>\n",
              "    .colab-df-container {\n",
              "      display:flex;\n",
              "      flex-wrap:wrap;\n",
              "      gap: 12px;\n",
              "    }\n",
              "\n",
              "    .colab-df-convert {\n",
              "      background-color: #E8F0FE;\n",
              "      border: none;\n",
              "      border-radius: 50%;\n",
              "      cursor: pointer;\n",
              "      display: none;\n",
              "      fill: #1967D2;\n",
              "      height: 32px;\n",
              "      padding: 0 0 0 0;\n",
              "      width: 32px;\n",
              "    }\n",
              "\n",
              "    .colab-df-convert:hover {\n",
              "      background-color: #E2EBFA;\n",
              "      box-shadow: 0px 1px 2px rgba(60, 64, 67, 0.3), 0px 1px 3px 1px rgba(60, 64, 67, 0.15);\n",
              "      fill: #174EA6;\n",
              "    }\n",
              "\n",
              "    [theme=dark] .colab-df-convert {\n",
              "      background-color: #3B4455;\n",
              "      fill: #D2E3FC;\n",
              "    }\n",
              "\n",
              "    [theme=dark] .colab-df-convert:hover {\n",
              "      background-color: #434B5C;\n",
              "      box-shadow: 0px 1px 3px 1px rgba(0, 0, 0, 0.15);\n",
              "      filter: drop-shadow(0px 1px 2px rgba(0, 0, 0, 0.3));\n",
              "      fill: #FFFFFF;\n",
              "    }\n",
              "  </style>\n",
              "\n",
              "      <script>\n",
              "        const buttonEl =\n",
              "          document.querySelector('#df-57b18932-35b4-48e6-b7da-33bcbe41573c button.colab-df-convert');\n",
              "        buttonEl.style.display =\n",
              "          google.colab.kernel.accessAllowed ? 'block' : 'none';\n",
              "\n",
              "        async function convertToInteractive(key) {\n",
              "          const element = document.querySelector('#df-57b18932-35b4-48e6-b7da-33bcbe41573c');\n",
              "          const dataTable =\n",
              "            await google.colab.kernel.invokeFunction('convertToInteractive',\n",
              "                                                     [key], {});\n",
              "          if (!dataTable) return;\n",
              "\n",
              "          const docLinkHtml = 'Like what you see? Visit the ' +\n",
              "            '<a target=\"_blank\" href=https://colab.research.google.com/notebooks/data_table.ipynb>data table notebook</a>'\n",
              "            + ' to learn more about interactive tables.';\n",
              "          element.innerHTML = '';\n",
              "          dataTable['output_type'] = 'display_data';\n",
              "          await google.colab.output.renderOutput(dataTable, element);\n",
              "          const docLink = document.createElement('div');\n",
              "          docLink.innerHTML = docLinkHtml;\n",
              "          element.appendChild(docLink);\n",
              "        }\n",
              "      </script>\n",
              "    </div>\n",
              "  </div>\n",
              "  "
            ]
          },
          "metadata": {},
          "execution_count": 36
        }
      ]
    },
    {
      "cell_type": "code",
      "source": [
        "observ1=df_base1.groupby(df_base.ym)['volumen'].count()\n",
        "plt.figure(figsize=(10,5))\n",
        "plt.scatter(observ1.index, observ1, marker='.')\n",
        "plt.show()"
      ],
      "metadata": {
        "id": "Labt8ovIYJ0C",
        "colab": {
          "base_uri": "https://localhost:8080/",
          "height": 321
        },
        "outputId": "4c4c646b-c03a-43b7-de01-2a2eb2fbb6df"
      },
      "execution_count": 37,
      "outputs": [
        {
          "output_type": "display_data",
          "data": {
            "text/plain": [
              "<Figure size 720x360 with 1 Axes>"
            ],
            "image/png": "[encoded data removed]"
          },
          "metadata": {
            "needs_background": "light"
          }
        }
      ]
    },
    {
      "cell_type": "code",
      "source": [
        "df_base1.volumen.isna().sum()"
      ],
      "metadata": {
        "colab": {
          "base_uri": "https://localhost:8080/"
        },
        "id": "P_gXWRbgdZMy",
        "outputId": "39af2308-58d0-4067-eea9-417a52a1d621"
      },
      "execution_count": 38,
      "outputs": [
        {
          "output_type": "execute_result",
          "data": {
            "text/plain": [
              "27928"
            ]
          },
          "metadata": {},
          "execution_count": 38
        }
      ]
    },
    {
      "cell_type": "markdown",
      "source": [
        "La variable volumen tiene muchos valores como NaN. En este caso le asignaremos el valor de 0 porque en dicho mes en la provincia no hubo oferta pese a que sí se formó precio"
      ],
      "metadata": {
        "id": "ZqvtdnPEiEd1"
      }
    },
    {
      "cell_type": "code",
      "source": [
        "df_base1.volumen.fillna(0, inplace=True)\n",
        "df_base1.describe()"
      ],
      "metadata": {
        "colab": {
          "base_uri": "https://localhost:8080/",
          "height": 411
        },
        "id": "JowhIJMPiOgF",
        "outputId": "b60721dc-7079-4bf1-b4ea-3ded6c8aab1c"
      },
      "execution_count": 39,
      "outputs": [
        {
          "output_type": "stream",
          "name": "stderr",
          "text": [
            "/usr/local/lib/python3.8/dist-packages/pandas/core/generic.py:6392: SettingWithCopyWarning: \n",
            "A value is trying to be set on a copy of a slice from a DataFrame\n",
            "\n",
            "See the caveats in the documentation: https://pandas.pydata.org/pandas-docs/stable/user_guide/indexing.html#returning-a-view-versus-a-copy\n",
            "  return self._update_inplace(result)\n"
          ]
        },
        {
          "output_type": "execute_result",
          "data": {
            "text/plain": [
              "               year       volumen        precio\n",
              "count  49261.000000  49261.000000  49181.000000\n",
              "mean    2010.441181    249.047493      0.888293\n",
              "std        6.959967    972.743971      0.427099\n",
              "min     1997.000000      0.000000      0.280000\n",
              "25%     2005.000000      0.000000      0.610000\n",
              "50%     2012.000000      0.000000      0.770000\n",
              "75%     2017.000000     45.000000      1.060000\n",
              "max     2021.000000  16033.000000      3.320000"
            ],
            "text/html": [
              "\n",
              "  <div id=\"df-15fd0994-1f87-457d-a7ef-5467aaa8bc6e\">\n",
              "    <div class=\"colab-df-container\">\n",
              "      <div>\n",
              "<style scoped>\n",
              "    .dataframe tbody tr th:only-of-type {\n",
              "        vertical-align: middle;\n",
              "    }\n",
              "\n",
              "    .dataframe tbody tr th {\n",
              "        vertical-align: top;\n",
              "    }\n",
              "\n",
              "    .dataframe thead th {\n",
              "        text-align: right;\n",
              "    }\n",
              "</style>\n",
              "<table border=\"1\" class=\"dataframe\">\n",
              "  <thead>\n",
              "    <tr style=\"text-align: right;\">\n",
              "      <th></th>\n",
              "      <th>year</th>\n",
              "      <th>volumen</th>\n",
              "      <th>precio</th>\n",
              "    </tr>\n",
              "  </thead>\n",
              "  <tbody>\n",
              "    <tr>\n",
              "      <th>count</th>\n",
              "      <td>49261.000000</td>\n",
              "      <td>49261.000000</td>\n",
              "      <td>49181.000000</td>\n",
              "    </tr>\n",
              "    <tr>\n",
              "      <th>mean</th>\n",
              "      <td>2010.441181</td>\n",
              "      <td>249.047493</td>\n",
              "      <td>0.888293</td>\n",
              "    </tr>\n",
              "    <tr>\n",
              "      <th>std</th>\n",
              "      <td>6.959967</td>\n",
              "      <td>972.743971</td>\n",
              "      <td>0.427099</td>\n",
              "    </tr>\n",
              "    <tr>\n",
              "      <th>min</th>\n",
              "      <td>1997.000000</td>\n",
              "      <td>0.000000</td>\n",
              "      <td>0.280000</td>\n",
              "    </tr>\n",
              "    <tr>\n",
              "      <th>25%</th>\n",
              "      <td>2005.000000</td>\n",
              "      <td>0.000000</td>\n",
              "      <td>0.610000</td>\n",
              "    </tr>\n",
              "    <tr>\n",
              "      <th>50%</th>\n",
              "      <td>2012.000000</td>\n",
              "      <td>0.000000</td>\n",
              "      <td>0.770000</td>\n",
              "    </tr>\n",
              "    <tr>\n",
              "      <th>75%</th>\n",
              "      <td>2017.000000</td>\n",
              "      <td>45.000000</td>\n",
              "      <td>1.060000</td>\n",
              "    </tr>\n",
              "    <tr>\n",
              "      <th>max</th>\n",
              "      <td>2021.000000</td>\n",
              "      <td>16033.000000</td>\n",
              "      <td>3.320000</td>\n",
              "    </tr>\n",
              "  </tbody>\n",
              "</table>\n",
              "</div>\n",
              "      <button class=\"colab-df-convert\" onclick=\"convertToInteractive('df-15fd0994-1f87-457d-a7ef-5467aaa8bc6e')\"\n",
              "              title=\"Convert this dataframe to an interactive table.\"\n",
              "              style=\"display:none;\">\n",
              "        \n",
              "  <svg xmlns=\"http://www.w3.org/2000/svg\" height=\"24px\"viewBox=\"0 0 24 24\"\n",
              "       width=\"24px\">\n",
              "    <path d=\"M0 0h24v24H0V0z\" fill=\"none\"/>\n",
              "    <path d=\"M18.56 5.44l.94 2.06.94-2.06 2.06-.94-2.06-.94-.94-2.06-.94 2.06-2.06.94zm-11 1L8.5 8.5l.94-2.06 2.06-.94-2.06-.94L8.5 2.5l-.94 2.06-2.06.94zm10 10l.94 2.06.94-2.06 2.06-.94-2.06-.94-.94-2.06-.94 2.06-2.06.94z\"/><path d=\"M17.41 7.96l-1.37-1.37c-.4-.4-.92-.59-1.43-.59-.52 0-1.04.2-1.43.59L10.3 9.45l-7.72 7.72c-.78.78-.78 2.05 0 2.83L4 21.41c.39.39.9.59 1.41.59.51 0 1.02-.2 1.41-.59l7.78-7.78 2.81-2.81c.8-.78.8-2.07 0-2.86zM5.41 20L4 18.59l7.72-7.72 1.47 1.35L5.41 20z\"/>\n",
              "  </svg>\n",
              "      </button>\n",
              "      \n",
              "  <style>\n",
              "    .colab-df-container {\n",
              "      display:flex;\n",
              "      flex-wrap:wrap;\n",
              "      gap: 12px;\n",
              "    }\n",
              "\n",
              "    .colab-df-convert {\n",
              "      background-color: #E8F0FE;\n",
              "      border: none;\n",
              "      border-radius: 50%;\n",
              "      cursor: pointer;\n",
              "      display: none;\n",
              "      fill: #1967D2;\n",
              "      height: 32px;\n",
              "      padding: 0 0 0 0;\n",
              "      width: 32px;\n",
              "    }\n",
              "\n",
              "    .colab-df-convert:hover {\n",
              "      background-color: #E2EBFA;\n",
              "      box-shadow: 0px 1px 2px rgba(60, 64, 67, 0.3), 0px 1px 3px 1px rgba(60, 64, 67, 0.15);\n",
              "      fill: #174EA6;\n",
              "    }\n",
              "\n",
              "    [theme=dark] .colab-df-convert {\n",
              "      background-color: #3B4455;\n",
              "      fill: #D2E3FC;\n",
              "    }\n",
              "\n",
              "    [theme=dark] .colab-df-convert:hover {\n",
              "      background-color: #434B5C;\n",
              "      box-shadow: 0px 1px 3px 1px rgba(0, 0, 0, 0.15);\n",
              "      filter: drop-shadow(0px 1px 2px rgba(0, 0, 0, 0.3));\n",
              "      fill: #FFFFFF;\n",
              "    }\n",
              "  </style>\n",
              "\n",
              "      <script>\n",
              "        const buttonEl =\n",
              "          document.querySelector('#df-15fd0994-1f87-457d-a7ef-5467aaa8bc6e button.colab-df-convert');\n",
              "        buttonEl.style.display =\n",
              "          google.colab.kernel.accessAllowed ? 'block' : 'none';\n",
              "\n",
              "        async function convertToInteractive(key) {\n",
              "          const element = document.querySelector('#df-15fd0994-1f87-457d-a7ef-5467aaa8bc6e');\n",
              "          const dataTable =\n",
              "            await google.colab.kernel.invokeFunction('convertToInteractive',\n",
              "                                                     [key], {});\n",
              "          if (!dataTable) return;\n",
              "\n",
              "          const docLinkHtml = 'Like what you see? Visit the ' +\n",
              "            '<a target=\"_blank\" href=https://colab.research.google.com/notebooks/data_table.ipynb>data table notebook</a>'\n",
              "            + ' to learn more about interactive tables.';\n",
              "          element.innerHTML = '';\n",
              "          dataTable['output_type'] = 'display_data';\n",
              "          await google.colab.output.renderOutput(dataTable, element);\n",
              "          const docLink = document.createElement('div');\n",
              "          docLink.innerHTML = docLinkHtml;\n",
              "          element.appendChild(docLink);\n",
              "        }\n",
              "      </script>\n",
              "    </div>\n",
              "  </div>\n",
              "  "
            ]
          },
          "metadata": {},
          "execution_count": 39
        }
      ]
    },
    {
      "cell_type": "code",
      "source": [
        "df_base1.precio.isna().sum()"
      ],
      "metadata": {
        "colab": {
          "base_uri": "https://localhost:8080/"
        },
        "id": "Gb3FVd83d2-3",
        "outputId": "92338fff-2a07-484a-d31a-664b583bd2fd"
      },
      "execution_count": 40,
      "outputs": [
        {
          "output_type": "execute_result",
          "data": {
            "text/plain": [
              "80"
            ]
          },
          "metadata": {},
          "execution_count": 40
        }
      ]
    },
    {
      "cell_type": "markdown",
      "source": [
        "La variable precio tiene observaciones con NaN.  Vemos de qué se trata"
      ],
      "metadata": {
        "id": "LaHF0XIpd8Zn"
      }
    },
    {
      "cell_type": "code",
      "source": [
        "bb_pna=df_base1[df_base1.precio.isna()]"
      ],
      "metadata": {
        "id": "q560R_S7eJfj"
      },
      "execution_count": 42,
      "outputs": []
    },
    {
      "cell_type": "code",
      "source": [
        "bb_pna"
      ],
      "metadata": {
        "colab": {
          "base_uri": "https://localhost:8080/",
          "height": 423
        },
        "id": "JN2WV81eW6OW",
        "outputId": "1a17a339-7a81-4b64-d370-087b5d1053ac"
      },
      "execution_count": 44,
      "outputs": [
        {
          "output_type": "execute_result",
          "data": {
            "text/plain": [
              "               producto  year                provincia   mes  volumen  precio  \\\n",
              "1416   Papa Huamantanga  2007                 Huamanga  m_01      0.0     NaN   \n",
              "1417   Papa Huamantanga  2007                    Jauja  m_01      0.0     NaN   \n",
              "1418   Papa Huamantanga  2007  Procedencia Desconocida  m_01      0.0     NaN   \n",
              "1419   Papa Huamantanga  2007                    Tarma  m_01      0.0     NaN   \n",
              "1429    Papa Perricholi  2007                 Arequipa  m_01      0.0     NaN   \n",
              "...                 ...   ...                      ...   ...      ...     ...   \n",
              "50292   Papa Perricholi  2020                   Canete  m_12      0.0     NaN   \n",
              "50293   Papa Perricholi  2020                  Huanuco  m_12      0.0     NaN   \n",
              "50294   Papa Perricholi  2020                   Huaral  m_12      0.0     NaN   \n",
              "50295   Papa Perricholi  2020                   Huaura  m_12      0.0     NaN   \n",
              "50296   Papa Perricholi  2020                     Lima  m_12      0.0     NaN   \n",
              "\n",
              "             ym  \n",
              "1416   2007m_01  \n",
              "1417   2007m_01  \n",
              "1418   2007m_01  \n",
              "1419   2007m_01  \n",
              "1429   2007m_01  \n",
              "...         ...  \n",
              "50292  2020m_12  \n",
              "50293  2020m_12  \n",
              "50294  2020m_12  \n",
              "50295  2020m_12  \n",
              "50296  2020m_12  \n",
              "\n",
              "[80 rows x 7 columns]"
            ],
            "text/html": [
              "\n",
              "  <div id=\"df-efeb99b8-3fca-4aa4-ac6e-9ee3dcb277d5\">\n",
              "    <div class=\"colab-df-container\">\n",
              "      <div>\n",
              "<style scoped>\n",
              "    .dataframe tbody tr th:only-of-type {\n",
              "        vertical-align: middle;\n",
              "    }\n",
              "\n",
              "    .dataframe tbody tr th {\n",
              "        vertical-align: top;\n",
              "    }\n",
              "\n",
              "    .dataframe thead th {\n",
              "        text-align: right;\n",
              "    }\n",
              "</style>\n",
              "<table border=\"1\" class=\"dataframe\">\n",
              "  <thead>\n",
              "    <tr style=\"text-align: right;\">\n",
              "      <th></th>\n",
              "      <th>producto</th>\n",
              "      <th>year</th>\n",
              "      <th>provincia</th>\n",
              "      <th>mes</th>\n",
              "      <th>volumen</th>\n",
              "      <th>precio</th>\n",
              "      <th>ym</th>\n",
              "    </tr>\n",
              "  </thead>\n",
              "  <tbody>\n",
              "    <tr>\n",
              "      <th>1416</th>\n",
              "      <td>Papa Huamantanga</td>\n",
              "      <td>2007</td>\n",
              "      <td>Huamanga</td>\n",
              "      <td>m_01</td>\n",
              "      <td>0.0</td>\n",
              "      <td>NaN</td>\n",
              "      <td>2007m_01</td>\n",
              "    </tr>\n",
              "    <tr>\n",
              "      <th>1417</th>\n",
              "      <td>Papa Huamantanga</td>\n",
              "      <td>2007</td>\n",
              "      <td>Jauja</td>\n",
              "      <td>m_01</td>\n",
              "      <td>0.0</td>\n",
              "      <td>NaN</td>\n",
              "      <td>2007m_01</td>\n",
              "    </tr>\n",
              "    <tr>\n",
              "      <th>1418</th>\n",
              "      <td>Papa Huamantanga</td>\n",
              "      <td>2007</td>\n",
              "      <td>Procedencia Desconocida</td>\n",
              "      <td>m_01</td>\n",
              "      <td>0.0</td>\n",
              "      <td>NaN</td>\n",
              "      <td>2007m_01</td>\n",
              "    </tr>\n",
              "    <tr>\n",
              "      <th>1419</th>\n",
              "      <td>Papa Huamantanga</td>\n",
              "      <td>2007</td>\n",
              "      <td>Tarma</td>\n",
              "      <td>m_01</td>\n",
              "      <td>0.0</td>\n",
              "      <td>NaN</td>\n",
              "      <td>2007m_01</td>\n",
              "    </tr>\n",
              "    <tr>\n",
              "      <th>1429</th>\n",
              "      <td>Papa Perricholi</td>\n",
              "      <td>2007</td>\n",
              "      <td>Arequipa</td>\n",
              "      <td>m_01</td>\n",
              "      <td>0.0</td>\n",
              "      <td>NaN</td>\n",
              "      <td>2007m_01</td>\n",
              "    </tr>\n",
              "    <tr>\n",
              "      <th>...</th>\n",
              "      <td>...</td>\n",
              "      <td>...</td>\n",
              "      <td>...</td>\n",
              "      <td>...</td>\n",
              "      <td>...</td>\n",
              "      <td>...</td>\n",
              "      <td>...</td>\n",
              "    </tr>\n",
              "    <tr>\n",
              "      <th>50292</th>\n",
              "      <td>Papa Perricholi</td>\n",
              "      <td>2020</td>\n",
              "      <td>Canete</td>\n",
              "      <td>m_12</td>\n",
              "      <td>0.0</td>\n",
              "      <td>NaN</td>\n",
              "      <td>2020m_12</td>\n",
              "    </tr>\n",
              "    <tr>\n",
              "      <th>50293</th>\n",
              "      <td>Papa Perricholi</td>\n",
              "      <td>2020</td>\n",
              "      <td>Huanuco</td>\n",
              "      <td>m_12</td>\n",
              "      <td>0.0</td>\n",
              "      <td>NaN</td>\n",
              "      <td>2020m_12</td>\n",
              "    </tr>\n",
              "    <tr>\n",
              "      <th>50294</th>\n",
              "      <td>Papa Perricholi</td>\n",
              "      <td>2020</td>\n",
              "      <td>Huaral</td>\n",
              "      <td>m_12</td>\n",
              "      <td>0.0</td>\n",
              "      <td>NaN</td>\n",
              "      <td>2020m_12</td>\n",
              "    </tr>\n",
              "    <tr>\n",
              "      <th>50295</th>\n",
              "      <td>Papa Perricholi</td>\n",
              "      <td>2020</td>\n",
              "      <td>Huaura</td>\n",
              "      <td>m_12</td>\n",
              "      <td>0.0</td>\n",
              "      <td>NaN</td>\n",
              "      <td>2020m_12</td>\n",
              "    </tr>\n",
              "    <tr>\n",
              "      <th>50296</th>\n",
              "      <td>Papa Perricholi</td>\n",
              "      <td>2020</td>\n",
              "      <td>Lima</td>\n",
              "      <td>m_12</td>\n",
              "      <td>0.0</td>\n",
              "      <td>NaN</td>\n",
              "      <td>2020m_12</td>\n",
              "    </tr>\n",
              "  </tbody>\n",
              "</table>\n",
              "<p>80 rows × 7 columns</p>\n",
              "</div>\n",
              "      <button class=\"colab-df-convert\" onclick=\"convertToInteractive('df-efeb99b8-3fca-4aa4-ac6e-9ee3dcb277d5')\"\n",
              "              title=\"Convert this dataframe to an interactive table.\"\n",
              "              style=\"display:none;\">\n",
              "        \n",
              "  <svg xmlns=\"http://www.w3.org/2000/svg\" height=\"24px\"viewBox=\"0 0 24 24\"\n",
              "       width=\"24px\">\n",
              "    <path d=\"M0 0h24v24H0V0z\" fill=\"none\"/>\n",
              "    <path d=\"M18.56 5.44l.94 2.06.94-2.06 2.06-.94-2.06-.94-.94-2.06-.94 2.06-2.06.94zm-11 1L8.5 8.5l.94-2.06 2.06-.94-2.06-.94L8.5 2.5l-.94 2.06-2.06.94zm10 10l.94 2.06.94-2.06 2.06-.94-2.06-.94-.94-2.06-.94 2.06-2.06.94z\"/><path d=\"M17.41 7.96l-1.37-1.37c-.4-.4-.92-.59-1.43-.59-.52 0-1.04.2-1.43.59L10.3 9.45l-7.72 7.72c-.78.78-.78 2.05 0 2.83L4 21.41c.39.39.9.59 1.41.59.51 0 1.02-.2 1.41-.59l7.78-7.78 2.81-2.81c.8-.78.8-2.07 0-2.86zM5.41 20L4 18.59l7.72-7.72 1.47 1.35L5.41 20z\"/>\n",
              "  </svg>\n",
              "      </button>\n",
              "      \n",
              "  <style>\n",
              "    .colab-df-container {\n",
              "      display:flex;\n",
              "      flex-wrap:wrap;\n",
              "      gap: 12px;\n",
              "    }\n",
              "\n",
              "    .colab-df-convert {\n",
              "      background-color: #E8F0FE;\n",
              "      border: none;\n",
              "      border-radius: 50%;\n",
              "      cursor: pointer;\n",
              "      display: none;\n",
              "      fill: #1967D2;\n",
              "      height: 32px;\n",
              "      padding: 0 0 0 0;\n",
              "      width: 32px;\n",
              "    }\n",
              "\n",
              "    .colab-df-convert:hover {\n",
              "      background-color: #E2EBFA;\n",
              "      box-shadow: 0px 1px 2px rgba(60, 64, 67, 0.3), 0px 1px 3px 1px rgba(60, 64, 67, 0.15);\n",
              "      fill: #174EA6;\n",
              "    }\n",
              "\n",
              "    [theme=dark] .colab-df-convert {\n",
              "      background-color: #3B4455;\n",
              "      fill: #D2E3FC;\n",
              "    }\n",
              "\n",
              "    [theme=dark] .colab-df-convert:hover {\n",
              "      background-color: #434B5C;\n",
              "      box-shadow: 0px 1px 3px 1px rgba(0, 0, 0, 0.15);\n",
              "      filter: drop-shadow(0px 1px 2px rgba(0, 0, 0, 0.3));\n",
              "      fill: #FFFFFF;\n",
              "    }\n",
              "  </style>\n",
              "\n",
              "      <script>\n",
              "        const buttonEl =\n",
              "          document.querySelector('#df-efeb99b8-3fca-4aa4-ac6e-9ee3dcb277d5 button.colab-df-convert');\n",
              "        buttonEl.style.display =\n",
              "          google.colab.kernel.accessAllowed ? 'block' : 'none';\n",
              "\n",
              "        async function convertToInteractive(key) {\n",
              "          const element = document.querySelector('#df-efeb99b8-3fca-4aa4-ac6e-9ee3dcb277d5');\n",
              "          const dataTable =\n",
              "            await google.colab.kernel.invokeFunction('convertToInteractive',\n",
              "                                                     [key], {});\n",
              "          if (!dataTable) return;\n",
              "\n",
              "          const docLinkHtml = 'Like what you see? Visit the ' +\n",
              "            '<a target=\"_blank\" href=https://colab.research.google.com/notebooks/data_table.ipynb>data table notebook</a>'\n",
              "            + ' to learn more about interactive tables.';\n",
              "          element.innerHTML = '';\n",
              "          dataTable['output_type'] = 'display_data';\n",
              "          await google.colab.output.renderOutput(dataTable, element);\n",
              "          const docLink = document.createElement('div');\n",
              "          docLink.innerHTML = docLinkHtml;\n",
              "          element.appendChild(docLink);\n",
              "        }\n",
              "      </script>\n",
              "    </div>\n",
              "  </div>\n",
              "  "
            ]
          },
          "metadata": {},
          "execution_count": 44
        }
      ]
    },
    {
      "cell_type": "code",
      "source": [
        "bb_pna.producto.unique()"
      ],
      "metadata": {
        "colab": {
          "base_uri": "https://localhost:8080/"
        },
        "id": "qgFFEs3Deii2",
        "outputId": "7e043998-a9d0-47ff-a74f-11c3539474ee"
      },
      "execution_count": 43,
      "outputs": [
        {
          "output_type": "execute_result",
          "data": {
            "text/plain": [
              "array(['Papa Huamantanga', 'Papa Perricholi', 'Papa Peruanita',\n",
              "       'Papa Negra Andina'], dtype=object)"
            ]
          },
          "metadata": {},
          "execution_count": 43
        }
      ]
    },
    {
      "cell_type": "code",
      "source": [
        "df_base1.dropna(subset=['precio'], inplace=True)"
      ],
      "metadata": {
        "colab": {
          "base_uri": "https://localhost:8080/"
        },
        "id": "7tnyapTsawTr",
        "outputId": "5a06e886-8195-490d-f338-6a1e4d9f3612"
      },
      "execution_count": 45,
      "outputs": [
        {
          "output_type": "stream",
          "name": "stderr",
          "text": [
            "/usr/local/lib/python3.8/dist-packages/pandas/util/_decorators.py:311: SettingWithCopyWarning: \n",
            "A value is trying to be set on a copy of a slice from a DataFrame\n",
            "\n",
            "See the caveats in the documentation: https://pandas.pydata.org/pandas-docs/stable/user_guide/indexing.html#returning-a-view-versus-a-copy\n",
            "  return func(*args, **kwargs)\n"
          ]
        }
      ]
    },
    {
      "cell_type": "markdown",
      "source": [
        "La base df_base1 ha pasado por una primera limpieza donde se han hecho los siguientes ajustes: (i) eliminamos meses sin observaciones; (ii) asignamos 0 a observaciones con volumen=NaN; (iii) eliminamos observaciones donde precio=NaN"
      ],
      "metadata": {
        "id": "lFcxtg28ykm2"
      }
    },
    {
      "cell_type": "code",
      "source": [
        "df_base1.describe(include='all')"
      ],
      "metadata": {
        "colab": {
          "base_uri": "https://localhost:8080/",
          "height": 394
        },
        "id": "CCXOdOv5MxPb",
        "outputId": "ad830823-0dcf-4c25-847f-974076eaf5b5"
      },
      "execution_count": 46,
      "outputs": [
        {
          "output_type": "execute_result",
          "data": {
            "text/plain": [
              "           producto          year provincia    mes       volumen  \\\n",
              "count         49181  49181.000000     49059  49181  49181.000000   \n",
              "unique           11           NaN       121     12           NaN   \n",
              "top     Papa Blanca           NaN  Huancayo   m_05           NaN   \n",
              "freq          16169           NaN      1993   4221           NaN   \n",
              "mean            NaN   2010.433521       NaN    NaN    249.452605   \n",
              "std             NaN      6.958589       NaN    NaN    973.482916   \n",
              "min             NaN   1997.000000       NaN    NaN      0.000000   \n",
              "25%             NaN   2005.000000       NaN    NaN      0.000000   \n",
              "50%             NaN   2012.000000       NaN    NaN      0.000000   \n",
              "75%             NaN   2016.000000       NaN    NaN     45.000000   \n",
              "max             NaN   2021.000000       NaN    NaN  16033.000000   \n",
              "\n",
              "              precio        ym  \n",
              "count   49181.000000     49181  \n",
              "unique           NaN       291  \n",
              "top              NaN  2019m_09  \n",
              "freq             NaN       257  \n",
              "mean        0.888293       NaN  \n",
              "std         0.427099       NaN  \n",
              "min         0.280000       NaN  \n",
              "25%         0.610000       NaN  \n",
              "50%         0.770000       NaN  \n",
              "75%         1.060000       NaN  \n",
              "max         3.320000       NaN  "
            ],
            "text/html": [
              "\n",
              "  <div id=\"df-6e901ef4-ed9a-455c-a6d2-3d5101b9c150\">\n",
              "    <div class=\"colab-df-container\">\n",
              "      <div>\n",
              "<style scoped>\n",
              "    .dataframe tbody tr th:only-of-type {\n",
              "        vertical-align: middle;\n",
              "    }\n",
              "\n",
              "    .dataframe tbody tr th {\n",
              "        vertical-align: top;\n",
              "    }\n",
              "\n",
              "    .dataframe thead th {\n",
              "        text-align: right;\n",
              "    }\n",
              "</style>\n",
              "<table border=\"1\" class=\"dataframe\">\n",
              "  <thead>\n",
              "    <tr style=\"text-align: right;\">\n",
              "      <th></th>\n",
              "      <th>producto</th>\n",
              "      <th>year</th>\n",
              "      <th>provincia</th>\n",
              "      <th>mes</th>\n",
              "      <th>volumen</th>\n",
              "      <th>precio</th>\n",
              "      <th>ym</th>\n",
              "    </tr>\n",
              "  </thead>\n",
              "  <tbody>\n",
              "    <tr>\n",
              "      <th>count</th>\n",
              "      <td>49181</td>\n",
              "      <td>49181.000000</td>\n",
              "      <td>49059</td>\n",
              "      <td>49181</td>\n",
              "      <td>49181.000000</td>\n",
              "      <td>49181.000000</td>\n",
              "      <td>49181</td>\n",
              "    </tr>\n",
              "    <tr>\n",
              "      <th>unique</th>\n",
              "      <td>11</td>\n",
              "      <td>NaN</td>\n",
              "      <td>121</td>\n",
              "      <td>12</td>\n",
              "      <td>NaN</td>\n",
              "      <td>NaN</td>\n",
              "      <td>291</td>\n",
              "    </tr>\n",
              "    <tr>\n",
              "      <th>top</th>\n",
              "      <td>Papa Blanca</td>\n",
              "      <td>NaN</td>\n",
              "      <td>Huancayo</td>\n",
              "      <td>m_05</td>\n",
              "      <td>NaN</td>\n",
              "      <td>NaN</td>\n",
              "      <td>2019m_09</td>\n",
              "    </tr>\n",
              "    <tr>\n",
              "      <th>freq</th>\n",
              "      <td>16169</td>\n",
              "      <td>NaN</td>\n",
              "      <td>1993</td>\n",
              "      <td>4221</td>\n",
              "      <td>NaN</td>\n",
              "      <td>NaN</td>\n",
              "      <td>257</td>\n",
              "    </tr>\n",
              "    <tr>\n",
              "      <th>mean</th>\n",
              "      <td>NaN</td>\n",
              "      <td>2010.433521</td>\n",
              "      <td>NaN</td>\n",
              "      <td>NaN</td>\n",
              "      <td>249.452605</td>\n",
              "      <td>0.888293</td>\n",
              "      <td>NaN</td>\n",
              "    </tr>\n",
              "    <tr>\n",
              "      <th>std</th>\n",
              "      <td>NaN</td>\n",
              "      <td>6.958589</td>\n",
              "      <td>NaN</td>\n",
              "      <td>NaN</td>\n",
              "      <td>973.482916</td>\n",
              "      <td>0.427099</td>\n",
              "      <td>NaN</td>\n",
              "    </tr>\n",
              "    <tr>\n",
              "      <th>min</th>\n",
              "      <td>NaN</td>\n",
              "      <td>1997.000000</td>\n",
              "      <td>NaN</td>\n",
              "      <td>NaN</td>\n",
              "      <td>0.000000</td>\n",
              "      <td>0.280000</td>\n",
              "      <td>NaN</td>\n",
              "    </tr>\n",
              "    <tr>\n",
              "      <th>25%</th>\n",
              "      <td>NaN</td>\n",
              "      <td>2005.000000</td>\n",
              "      <td>NaN</td>\n",
              "      <td>NaN</td>\n",
              "      <td>0.000000</td>\n",
              "      <td>0.610000</td>\n",
              "      <td>NaN</td>\n",
              "    </tr>\n",
              "    <tr>\n",
              "      <th>50%</th>\n",
              "      <td>NaN</td>\n",
              "      <td>2012.000000</td>\n",
              "      <td>NaN</td>\n",
              "      <td>NaN</td>\n",
              "      <td>0.000000</td>\n",
              "      <td>0.770000</td>\n",
              "      <td>NaN</td>\n",
              "    </tr>\n",
              "    <tr>\n",
              "      <th>75%</th>\n",
              "      <td>NaN</td>\n",
              "      <td>2016.000000</td>\n",
              "      <td>NaN</td>\n",
              "      <td>NaN</td>\n",
              "      <td>45.000000</td>\n",
              "      <td>1.060000</td>\n",
              "      <td>NaN</td>\n",
              "    </tr>\n",
              "    <tr>\n",
              "      <th>max</th>\n",
              "      <td>NaN</td>\n",
              "      <td>2021.000000</td>\n",
              "      <td>NaN</td>\n",
              "      <td>NaN</td>\n",
              "      <td>16033.000000</td>\n",
              "      <td>3.320000</td>\n",
              "      <td>NaN</td>\n",
              "    </tr>\n",
              "  </tbody>\n",
              "</table>\n",
              "</div>\n",
              "      <button class=\"colab-df-convert\" onclick=\"convertToInteractive('df-6e901ef4-ed9a-455c-a6d2-3d5101b9c150')\"\n",
              "              title=\"Convert this dataframe to an interactive table.\"\n",
              "              style=\"display:none;\">\n",
              "        \n",
              "  <svg xmlns=\"http://www.w3.org/2000/svg\" height=\"24px\"viewBox=\"0 0 24 24\"\n",
              "       width=\"24px\">\n",
              "    <path d=\"M0 0h24v24H0V0z\" fill=\"none\"/>\n",
              "    <path d=\"M18.56 5.44l.94 2.06.94-2.06 2.06-.94-2.06-.94-.94-2.06-.94 2.06-2.06.94zm-11 1L8.5 8.5l.94-2.06 2.06-.94-2.06-.94L8.5 2.5l-.94 2.06-2.06.94zm10 10l.94 2.06.94-2.06 2.06-.94-2.06-.94-.94-2.06-.94 2.06-2.06.94z\"/><path d=\"M17.41 7.96l-1.37-1.37c-.4-.4-.92-.59-1.43-.59-.52 0-1.04.2-1.43.59L10.3 9.45l-7.72 7.72c-.78.78-.78 2.05 0 2.83L4 21.41c.39.39.9.59 1.41.59.51 0 1.02-.2 1.41-.59l7.78-7.78 2.81-2.81c.8-.78.8-2.07 0-2.86zM5.41 20L4 18.59l7.72-7.72 1.47 1.35L5.41 20z\"/>\n",
              "  </svg>\n",
              "      </button>\n",
              "      \n",
              "  <style>\n",
              "    .colab-df-container {\n",
              "      display:flex;\n",
              "      flex-wrap:wrap;\n",
              "      gap: 12px;\n",
              "    }\n",
              "\n",
              "    .colab-df-convert {\n",
              "      background-color: #E8F0FE;\n",
              "      border: none;\n",
              "      border-radius: 50%;\n",
              "      cursor: pointer;\n",
              "      display: none;\n",
              "      fill: #1967D2;\n",
              "      height: 32px;\n",
              "      padding: 0 0 0 0;\n",
              "      width: 32px;\n",
              "    }\n",
              "\n",
              "    .colab-df-convert:hover {\n",
              "      background-color: #E2EBFA;\n",
              "      box-shadow: 0px 1px 2px rgba(60, 64, 67, 0.3), 0px 1px 3px 1px rgba(60, 64, 67, 0.15);\n",
              "      fill: #174EA6;\n",
              "    }\n",
              "\n",
              "    [theme=dark] .colab-df-convert {\n",
              "      background-color: #3B4455;\n",
              "      fill: #D2E3FC;\n",
              "    }\n",
              "\n",
              "    [theme=dark] .colab-df-convert:hover {\n",
              "      background-color: #434B5C;\n",
              "      box-shadow: 0px 1px 3px 1px rgba(0, 0, 0, 0.15);\n",
              "      filter: drop-shadow(0px 1px 2px rgba(0, 0, 0, 0.3));\n",
              "      fill: #FFFFFF;\n",
              "    }\n",
              "  </style>\n",
              "\n",
              "      <script>\n",
              "        const buttonEl =\n",
              "          document.querySelector('#df-6e901ef4-ed9a-455c-a6d2-3d5101b9c150 button.colab-df-convert');\n",
              "        buttonEl.style.display =\n",
              "          google.colab.kernel.accessAllowed ? 'block' : 'none';\n",
              "\n",
              "        async function convertToInteractive(key) {\n",
              "          const element = document.querySelector('#df-6e901ef4-ed9a-455c-a6d2-3d5101b9c150');\n",
              "          const dataTable =\n",
              "            await google.colab.kernel.invokeFunction('convertToInteractive',\n",
              "                                                     [key], {});\n",
              "          if (!dataTable) return;\n",
              "\n",
              "          const docLinkHtml = 'Like what you see? Visit the ' +\n",
              "            '<a target=\"_blank\" href=https://colab.research.google.com/notebooks/data_table.ipynb>data table notebook</a>'\n",
              "            + ' to learn more about interactive tables.';\n",
              "          element.innerHTML = '';\n",
              "          dataTable['output_type'] = 'display_data';\n",
              "          await google.colab.output.renderOutput(dataTable, element);\n",
              "          const docLink = document.createElement('div');\n",
              "          docLink.innerHTML = docLinkHtml;\n",
              "          element.appendChild(docLink);\n",
              "        }\n",
              "      </script>\n",
              "    </div>\n",
              "  </div>\n",
              "  "
            ]
          },
          "metadata": {},
          "execution_count": 46
        }
      ]
    },
    {
      "cell_type": "markdown",
      "source": [
        "Esta es una primera base \"limpia\" y \"ordenada\" con la que se puede iniciar el análisis exploratorio."
      ],
      "metadata": {
        "id": "X6tF89tynlCp"
      }
    },
    {
      "cell_type": "markdown",
      "source": [
        "## **3. Primer análisis exploratorio**"
      ],
      "metadata": {
        "id": "tIaA-k7EmVnM"
      }
    },
    {
      "cell_type": "markdown",
      "source": [
        "\n",
        "Veremos el comportamiento de las variedades (su dinámica), primero cambiamos el nombre de la columna 'producto' por 'variedad'"
      ],
      "metadata": {
        "id": "TOx_7TwEzI4C"
      }
    },
    {
      "cell_type": "code",
      "source": [
        "df_base1.rename(columns={'producto':'variedad'}, inplace=True)"
      ],
      "metadata": {
        "colab": {
          "base_uri": "https://localhost:8080/"
        },
        "id": "v27Fq620zTPZ",
        "outputId": "9739bfb6-2ba4-4d99-a6cd-b2bb902498cb"
      },
      "execution_count": 47,
      "outputs": [
        {
          "output_type": "stream",
          "name": "stderr",
          "text": [
            "/usr/local/lib/python3.8/dist-packages/pandas/core/frame.py:5039: SettingWithCopyWarning: \n",
            "A value is trying to be set on a copy of a slice from a DataFrame\n",
            "\n",
            "See the caveats in the documentation: https://pandas.pydata.org/pandas-docs/stable/user_guide/indexing.html#returning-a-view-versus-a-copy\n",
            "  return super().rename(\n"
          ]
        }
      ]
    },
    {
      "cell_type": "markdown",
      "source": [
        "Miramos las variables de precio y volumen por variedad usando **groupby**"
      ],
      "metadata": {
        "id": "XeUAKJW2Arwy"
      }
    },
    {
      "cell_type": "code",
      "source": [
        "df_base1.groupby(df_base1['variedad']).agg({'precio':['count','mean','min','max'], 'year':'min'})"
      ],
      "metadata": {
        "colab": {
          "base_uri": "https://localhost:8080/",
          "height": 457
        },
        "id": "qkyURgXQ5SRj",
        "outputId": "a65590cd-1b70-4ff4-cf28-ceeb6024876f"
      },
      "execution_count": 48,
      "outputs": [
        {
          "output_type": "execute_result",
          "data": {
            "text/plain": [
              "                  precio                        year\n",
              "                   count      mean   min   max   min\n",
              "variedad                                            \n",
              "Papa Amarilla       5934  1.300104  0.58  3.32  1997\n",
              "Papa Blanca        16169  0.705430  0.30  2.09  1997\n",
              "Papa Canchan        2955  0.995898  0.37  2.26  2007\n",
              "Papa Color         10950  0.737363  0.28  2.22  1997\n",
              "Papa Huamantanga     501  1.283214  0.71  2.63  2006\n",
              "Papa Huayro         2913  1.116382  0.48  2.56  1997\n",
              "Papa Negra Andina    670  0.995746  0.57  2.24  2006\n",
              "Papa Perricholi     1686  0.873950  0.28  2.02  2006\n",
              "Papa Peruanita      1692  1.490077  0.73  2.93  2006\n",
              "Papa Unica          2432  0.892693  0.29  2.18  2006\n",
              "Papa Yungay         3279  0.860448  0.43  2.19  2006"
            ],
            "text/html": [
              "\n",
              "  <div id=\"df-0a6c823a-22d9-4411-86ed-50465befe39c\">\n",
              "    <div class=\"colab-df-container\">\n",
              "      <div>\n",
              "<style scoped>\n",
              "    .dataframe tbody tr th:only-of-type {\n",
              "        vertical-align: middle;\n",
              "    }\n",
              "\n",
              "    .dataframe tbody tr th {\n",
              "        vertical-align: top;\n",
              "    }\n",
              "\n",
              "    .dataframe thead tr th {\n",
              "        text-align: left;\n",
              "    }\n",
              "\n",
              "    .dataframe thead tr:last-of-type th {\n",
              "        text-align: right;\n",
              "    }\n",
              "</style>\n",
              "<table border=\"1\" class=\"dataframe\">\n",
              "  <thead>\n",
              "    <tr>\n",
              "      <th></th>\n",
              "      <th colspan=\"4\" halign=\"left\">precio</th>\n",
              "      <th>year</th>\n",
              "    </tr>\n",
              "    <tr>\n",
              "      <th></th>\n",
              "      <th>count</th>\n",
              "      <th>mean</th>\n",
              "      <th>min</th>\n",
              "      <th>max</th>\n",
              "      <th>min</th>\n",
              "    </tr>\n",
              "    <tr>\n",
              "      <th>variedad</th>\n",
              "      <th></th>\n",
              "      <th></th>\n",
              "      <th></th>\n",
              "      <th></th>\n",
              "      <th></th>\n",
              "    </tr>\n",
              "  </thead>\n",
              "  <tbody>\n",
              "    <tr>\n",
              "      <th>Papa Amarilla</th>\n",
              "      <td>5934</td>\n",
              "      <td>1.300104</td>\n",
              "      <td>0.58</td>\n",
              "      <td>3.32</td>\n",
              "      <td>1997</td>\n",
              "    </tr>\n",
              "    <tr>\n",
              "      <th>Papa Blanca</th>\n",
              "      <td>16169</td>\n",
              "      <td>0.705430</td>\n",
              "      <td>0.30</td>\n",
              "      <td>2.09</td>\n",
              "      <td>1997</td>\n",
              "    </tr>\n",
              "    <tr>\n",
              "      <th>Papa Canchan</th>\n",
              "      <td>2955</td>\n",
              "      <td>0.995898</td>\n",
              "      <td>0.37</td>\n",
              "      <td>2.26</td>\n",
              "      <td>2007</td>\n",
              "    </tr>\n",
              "    <tr>\n",
              "      <th>Papa Color</th>\n",
              "      <td>10950</td>\n",
              "      <td>0.737363</td>\n",
              "      <td>0.28</td>\n",
              "      <td>2.22</td>\n",
              "      <td>1997</td>\n",
              "    </tr>\n",
              "    <tr>\n",
              "      <th>Papa Huamantanga</th>\n",
              "      <td>501</td>\n",
              "      <td>1.283214</td>\n",
              "      <td>0.71</td>\n",
              "      <td>2.63</td>\n",
              "      <td>2006</td>\n",
              "    </tr>\n",
              "    <tr>\n",
              "      <th>Papa Huayro</th>\n",
              "      <td>2913</td>\n",
              "      <td>1.116382</td>\n",
              "      <td>0.48</td>\n",
              "      <td>2.56</td>\n",
              "      <td>1997</td>\n",
              "    </tr>\n",
              "    <tr>\n",
              "      <th>Papa Negra Andina</th>\n",
              "      <td>670</td>\n",
              "      <td>0.995746</td>\n",
              "      <td>0.57</td>\n",
              "      <td>2.24</td>\n",
              "      <td>2006</td>\n",
              "    </tr>\n",
              "    <tr>\n",
              "      <th>Papa Perricholi</th>\n",
              "      <td>1686</td>\n",
              "      <td>0.873950</td>\n",
              "      <td>0.28</td>\n",
              "      <td>2.02</td>\n",
              "      <td>2006</td>\n",
              "    </tr>\n",
              "    <tr>\n",
              "      <th>Papa Peruanita</th>\n",
              "      <td>1692</td>\n",
              "      <td>1.490077</td>\n",
              "      <td>0.73</td>\n",
              "      <td>2.93</td>\n",
              "      <td>2006</td>\n",
              "    </tr>\n",
              "    <tr>\n",
              "      <th>Papa Unica</th>\n",
              "      <td>2432</td>\n",
              "      <td>0.892693</td>\n",
              "      <td>0.29</td>\n",
              "      <td>2.18</td>\n",
              "      <td>2006</td>\n",
              "    </tr>\n",
              "    <tr>\n",
              "      <th>Papa Yungay</th>\n",
              "      <td>3279</td>\n",
              "      <td>0.860448</td>\n",
              "      <td>0.43</td>\n",
              "      <td>2.19</td>\n",
              "      <td>2006</td>\n",
              "    </tr>\n",
              "  </tbody>\n",
              "</table>\n",
              "</div>\n",
              "      <button class=\"colab-df-convert\" onclick=\"convertToInteractive('df-0a6c823a-22d9-4411-86ed-50465befe39c')\"\n",
              "              title=\"Convert this dataframe to an interactive table.\"\n",
              "              style=\"display:none;\">\n",
              "        \n",
              "  <svg xmlns=\"http://www.w3.org/2000/svg\" height=\"24px\"viewBox=\"0 0 24 24\"\n",
              "       width=\"24px\">\n",
              "    <path d=\"M0 0h24v24H0V0z\" fill=\"none\"/>\n",
              "    <path d=\"M18.56 5.44l.94 2.06.94-2.06 2.06-.94-2.06-.94-.94-2.06-.94 2.06-2.06.94zm-11 1L8.5 8.5l.94-2.06 2.06-.94-2.06-.94L8.5 2.5l-.94 2.06-2.06.94zm10 10l.94 2.06.94-2.06 2.06-.94-2.06-.94-.94-2.06-.94 2.06-2.06.94z\"/><path d=\"M17.41 7.96l-1.37-1.37c-.4-.4-.92-.59-1.43-.59-.52 0-1.04.2-1.43.59L10.3 9.45l-7.72 7.72c-.78.78-.78 2.05 0 2.83L4 21.41c.39.39.9.59 1.41.59.51 0 1.02-.2 1.41-.59l7.78-7.78 2.81-2.81c.8-.78.8-2.07 0-2.86zM5.41 20L4 18.59l7.72-7.72 1.47 1.35L5.41 20z\"/>\n",
              "  </svg>\n",
              "      </button>\n",
              "      \n",
              "  <style>\n",
              "    .colab-df-container {\n",
              "      display:flex;\n",
              "      flex-wrap:wrap;\n",
              "      gap: 12px;\n",
              "    }\n",
              "\n",
              "    .colab-df-convert {\n",
              "      background-color: #E8F0FE;\n",
              "      border: none;\n",
              "      border-radius: 50%;\n",
              "      cursor: pointer;\n",
              "      display: none;\n",
              "      fill: #1967D2;\n",
              "      height: 32px;\n",
              "      padding: 0 0 0 0;\n",
              "      width: 32px;\n",
              "    }\n",
              "\n",
              "    .colab-df-convert:hover {\n",
              "      background-color: #E2EBFA;\n",
              "      box-shadow: 0px 1px 2px rgba(60, 64, 67, 0.3), 0px 1px 3px 1px rgba(60, 64, 67, 0.15);\n",
              "      fill: #174EA6;\n",
              "    }\n",
              "\n",
              "    [theme=dark] .colab-df-convert {\n",
              "      background-color: #3B4455;\n",
              "      fill: #D2E3FC;\n",
              "    }\n",
              "\n",
              "    [theme=dark] .colab-df-convert:hover {\n",
              "      background-color: #434B5C;\n",
              "      box-shadow: 0px 1px 3px 1px rgba(0, 0, 0, 0.15);\n",
              "      filter: drop-shadow(0px 1px 2px rgba(0, 0, 0, 0.3));\n",
              "      fill: #FFFFFF;\n",
              "    }\n",
              "  </style>\n",
              "\n",
              "      <script>\n",
              "        const buttonEl =\n",
              "          document.querySelector('#df-0a6c823a-22d9-4411-86ed-50465befe39c button.colab-df-convert');\n",
              "        buttonEl.style.display =\n",
              "          google.colab.kernel.accessAllowed ? 'block' : 'none';\n",
              "\n",
              "        async function convertToInteractive(key) {\n",
              "          const element = document.querySelector('#df-0a6c823a-22d9-4411-86ed-50465befe39c');\n",
              "          const dataTable =\n",
              "            await google.colab.kernel.invokeFunction('convertToInteractive',\n",
              "                                                     [key], {});\n",
              "          if (!dataTable) return;\n",
              "\n",
              "          const docLinkHtml = 'Like what you see? Visit the ' +\n",
              "            '<a target=\"_blank\" href=https://colab.research.google.com/notebooks/data_table.ipynb>data table notebook</a>'\n",
              "            + ' to learn more about interactive tables.';\n",
              "          element.innerHTML = '';\n",
              "          dataTable['output_type'] = 'display_data';\n",
              "          await google.colab.output.renderOutput(dataTable, element);\n",
              "          const docLink = document.createElement('div');\n",
              "          docLink.innerHTML = docLinkHtml;\n",
              "          element.appendChild(docLink);\n",
              "        }\n",
              "      </script>\n",
              "    </div>\n",
              "  </div>\n",
              "  "
            ]
          },
          "metadata": {},
          "execution_count": 48
        }
      ]
    },
    {
      "cell_type": "code",
      "source": [
        "df_base1.groupby(df_base1['variedad']).agg({'volumen':['count','mean','min','max'], 'year':'min'})"
      ],
      "metadata": {
        "colab": {
          "base_uri": "https://localhost:8080/",
          "height": 457
        },
        "id": "5-kjiyLKAZf-",
        "outputId": "b4f3ea36-8a30-4780-d317-16a353512330"
      },
      "execution_count": 49,
      "outputs": [
        {
          "output_type": "execute_result",
          "data": {
            "text/plain": [
              "                  volumen                             year\n",
              "                    count        mean  min       max   min\n",
              "variedad                                                  \n",
              "Papa Amarilla        5934   95.559961  0.0   4080.00  1997\n",
              "Papa Blanca         16169  551.838563  0.0  16033.00  1997\n",
              "Papa Canchan         2955  107.594585  0.0   5632.00  2007\n",
              "Papa Color          10950  160.764616  0.0   9316.01  1997\n",
              "Papa Huamantanga      501    2.385230  0.0     76.00  2006\n",
              "Papa Huayro          2913   20.643831  0.0   1690.00  1997\n",
              "Papa Negra Andina     670    3.737313  0.0     93.00  2006\n",
              "Papa Perricholi      1686   10.087189  0.0    460.00  2006\n",
              "Papa Peruanita       1692   13.674941  0.0    441.00  2006\n",
              "Papa Unica           2432   64.594572  0.0   3225.00  2006\n",
              "Papa Yungay          3279  133.946325  0.0   4876.00  2006"
            ],
            "text/html": [
              "\n",
              "  <div id=\"df-ad82ee91-43d9-4223-8b1a-e1da102f1697\">\n",
              "    <div class=\"colab-df-container\">\n",
              "      <div>\n",
              "<style scoped>\n",
              "    .dataframe tbody tr th:only-of-type {\n",
              "        vertical-align: middle;\n",
              "    }\n",
              "\n",
              "    .dataframe tbody tr th {\n",
              "        vertical-align: top;\n",
              "    }\n",
              "\n",
              "    .dataframe thead tr th {\n",
              "        text-align: left;\n",
              "    }\n",
              "\n",
              "    .dataframe thead tr:last-of-type th {\n",
              "        text-align: right;\n",
              "    }\n",
              "</style>\n",
              "<table border=\"1\" class=\"dataframe\">\n",
              "  <thead>\n",
              "    <tr>\n",
              "      <th></th>\n",
              "      <th colspan=\"4\" halign=\"left\">volumen</th>\n",
              "      <th>year</th>\n",
              "    </tr>\n",
              "    <tr>\n",
              "      <th></th>\n",
              "      <th>count</th>\n",
              "      <th>mean</th>\n",
              "      <th>min</th>\n",
              "      <th>max</th>\n",
              "      <th>min</th>\n",
              "    </tr>\n",
              "    <tr>\n",
              "      <th>variedad</th>\n",
              "      <th></th>\n",
              "      <th></th>\n",
              "      <th></th>\n",
              "      <th></th>\n",
              "      <th></th>\n",
              "    </tr>\n",
              "  </thead>\n",
              "  <tbody>\n",
              "    <tr>\n",
              "      <th>Papa Amarilla</th>\n",
              "      <td>5934</td>\n",
              "      <td>95.559961</td>\n",
              "      <td>0.0</td>\n",
              "      <td>4080.00</td>\n",
              "      <td>1997</td>\n",
              "    </tr>\n",
              "    <tr>\n",
              "      <th>Papa Blanca</th>\n",
              "      <td>16169</td>\n",
              "      <td>551.838563</td>\n",
              "      <td>0.0</td>\n",
              "      <td>16033.00</td>\n",
              "      <td>1997</td>\n",
              "    </tr>\n",
              "    <tr>\n",
              "      <th>Papa Canchan</th>\n",
              "      <td>2955</td>\n",
              "      <td>107.594585</td>\n",
              "      <td>0.0</td>\n",
              "      <td>5632.00</td>\n",
              "      <td>2007</td>\n",
              "    </tr>\n",
              "    <tr>\n",
              "      <th>Papa Color</th>\n",
              "      <td>10950</td>\n",
              "      <td>160.764616</td>\n",
              "      <td>0.0</td>\n",
              "      <td>9316.01</td>\n",
              "      <td>1997</td>\n",
              "    </tr>\n",
              "    <tr>\n",
              "      <th>Papa Huamantanga</th>\n",
              "      <td>501</td>\n",
              "      <td>2.385230</td>\n",
              "      <td>0.0</td>\n",
              "      <td>76.00</td>\n",
              "      <td>2006</td>\n",
              "    </tr>\n",
              "    <tr>\n",
              "      <th>Papa Huayro</th>\n",
              "      <td>2913</td>\n",
              "      <td>20.643831</td>\n",
              "      <td>0.0</td>\n",
              "      <td>1690.00</td>\n",
              "      <td>1997</td>\n",
              "    </tr>\n",
              "    <tr>\n",
              "      <th>Papa Negra Andina</th>\n",
              "      <td>670</td>\n",
              "      <td>3.737313</td>\n",
              "      <td>0.0</td>\n",
              "      <td>93.00</td>\n",
              "      <td>2006</td>\n",
              "    </tr>\n",
              "    <tr>\n",
              "      <th>Papa Perricholi</th>\n",
              "      <td>1686</td>\n",
              "      <td>10.087189</td>\n",
              "      <td>0.0</td>\n",
              "      <td>460.00</td>\n",
              "      <td>2006</td>\n",
              "    </tr>\n",
              "    <tr>\n",
              "      <th>Papa Peruanita</th>\n",
              "      <td>1692</td>\n",
              "      <td>13.674941</td>\n",
              "      <td>0.0</td>\n",
              "      <td>441.00</td>\n",
              "      <td>2006</td>\n",
              "    </tr>\n",
              "    <tr>\n",
              "      <th>Papa Unica</th>\n",
              "      <td>2432</td>\n",
              "      <td>64.594572</td>\n",
              "      <td>0.0</td>\n",
              "      <td>3225.00</td>\n",
              "      <td>2006</td>\n",
              "    </tr>\n",
              "    <tr>\n",
              "      <th>Papa Yungay</th>\n",
              "      <td>3279</td>\n",
              "      <td>133.946325</td>\n",
              "      <td>0.0</td>\n",
              "      <td>4876.00</td>\n",
              "      <td>2006</td>\n",
              "    </tr>\n",
              "  </tbody>\n",
              "</table>\n",
              "</div>\n",
              "      <button class=\"colab-df-convert\" onclick=\"convertToInteractive('df-ad82ee91-43d9-4223-8b1a-e1da102f1697')\"\n",
              "              title=\"Convert this dataframe to an interactive table.\"\n",
              "              style=\"display:none;\">\n",
              "        \n",
              "  <svg xmlns=\"http://www.w3.org/2000/svg\" height=\"24px\"viewBox=\"0 0 24 24\"\n",
              "       width=\"24px\">\n",
              "    <path d=\"M0 0h24v24H0V0z\" fill=\"none\"/>\n",
              "    <path d=\"M18.56 5.44l.94 2.06.94-2.06 2.06-.94-2.06-.94-.94-2.06-.94 2.06-2.06.94zm-11 1L8.5 8.5l.94-2.06 2.06-.94-2.06-.94L8.5 2.5l-.94 2.06-2.06.94zm10 10l.94 2.06.94-2.06 2.06-.94-2.06-.94-.94-2.06-.94 2.06-2.06.94z\"/><path d=\"M17.41 7.96l-1.37-1.37c-.4-.4-.92-.59-1.43-.59-.52 0-1.04.2-1.43.59L10.3 9.45l-7.72 7.72c-.78.78-.78 2.05 0 2.83L4 21.41c.39.39.9.59 1.41.59.51 0 1.02-.2 1.41-.59l7.78-7.78 2.81-2.81c.8-.78.8-2.07 0-2.86zM5.41 20L4 18.59l7.72-7.72 1.47 1.35L5.41 20z\"/>\n",
              "  </svg>\n",
              "      </button>\n",
              "      \n",
              "  <style>\n",
              "    .colab-df-container {\n",
              "      display:flex;\n",
              "      flex-wrap:wrap;\n",
              "      gap: 12px;\n",
              "    }\n",
              "\n",
              "    .colab-df-convert {\n",
              "      background-color: #E8F0FE;\n",
              "      border: none;\n",
              "      border-radius: 50%;\n",
              "      cursor: pointer;\n",
              "      display: none;\n",
              "      fill: #1967D2;\n",
              "      height: 32px;\n",
              "      padding: 0 0 0 0;\n",
              "      width: 32px;\n",
              "    }\n",
              "\n",
              "    .colab-df-convert:hover {\n",
              "      background-color: #E2EBFA;\n",
              "      box-shadow: 0px 1px 2px rgba(60, 64, 67, 0.3), 0px 1px 3px 1px rgba(60, 64, 67, 0.15);\n",
              "      fill: #174EA6;\n",
              "    }\n",
              "\n",
              "    [theme=dark] .colab-df-convert {\n",
              "      background-color: #3B4455;\n",
              "      fill: #D2E3FC;\n",
              "    }\n",
              "\n",
              "    [theme=dark] .colab-df-convert:hover {\n",
              "      background-color: #434B5C;\n",
              "      box-shadow: 0px 1px 3px 1px rgba(0, 0, 0, 0.15);\n",
              "      filter: drop-shadow(0px 1px 2px rgba(0, 0, 0, 0.3));\n",
              "      fill: #FFFFFF;\n",
              "    }\n",
              "  </style>\n",
              "\n",
              "      <script>\n",
              "        const buttonEl =\n",
              "          document.querySelector('#df-ad82ee91-43d9-4223-8b1a-e1da102f1697 button.colab-df-convert');\n",
              "        buttonEl.style.display =\n",
              "          google.colab.kernel.accessAllowed ? 'block' : 'none';\n",
              "\n",
              "        async function convertToInteractive(key) {\n",
              "          const element = document.querySelector('#df-ad82ee91-43d9-4223-8b1a-e1da102f1697');\n",
              "          const dataTable =\n",
              "            await google.colab.kernel.invokeFunction('convertToInteractive',\n",
              "                                                     [key], {});\n",
              "          if (!dataTable) return;\n",
              "\n",
              "          const docLinkHtml = 'Like what you see? Visit the ' +\n",
              "            '<a target=\"_blank\" href=https://colab.research.google.com/notebooks/data_table.ipynb>data table notebook</a>'\n",
              "            + ' to learn more about interactive tables.';\n",
              "          element.innerHTML = '';\n",
              "          dataTable['output_type'] = 'display_data';\n",
              "          await google.colab.output.renderOutput(dataTable, element);\n",
              "          const docLink = document.createElement('div');\n",
              "          docLink.innerHTML = docLinkHtml;\n",
              "          element.appendChild(docLink);\n",
              "        }\n",
              "      </script>\n",
              "    </div>\n",
              "  </div>\n",
              "  "
            ]
          },
          "metadata": {},
          "execution_count": 49
        }
      ]
    },
    {
      "cell_type": "markdown",
      "source": [
        "Miramos la evolución de la oferta anual de algunas variedades"
      ],
      "metadata": {
        "id": "jEihF1rWFmST"
      }
    },
    {
      "cell_type": "markdown",
      "source": [
        "## 3.1.  Dinámica de oferta y precios"
      ],
      "metadata": {
        "id": "Xq6OLH3VTjYb"
      }
    },
    {
      "cell_type": "markdown",
      "source": [
        "### Papa Blanca"
      ],
      "metadata": {
        "id": "hrU7KL1bR6DP"
      }
    },
    {
      "cell_type": "code",
      "source": [
        "plt.figure(figsize=(8,5))\n",
        "vol_blanca=df_base1[['year','volumen']][df_base1.variedad==\"Papa Blanca\"].groupby('year').sum()\n",
        "plt.bar(vol_blanca.index,vol_blanca.volumen)\n",
        "plt.title(\"Papa Blanca: Volumen\", fontsize='xx-large')\n",
        "plt.xticks(vol_blanca.index,rotation=45, fontsize='small')\n",
        "plt.show()"
      ],
      "metadata": {
        "colab": {
          "base_uri": "https://localhost:8080/",
          "height": 351
        },
        "id": "q9YmrmTMPynE",
        "outputId": "885bd40e-34da-45e1-f654-c081231e651b"
      },
      "execution_count": 50,
      "outputs": [
        {
          "output_type": "display_data",
          "data": {
            "text/plain": [
              "<Figure size 576x360 with 1 Axes>"
            ],
            "image/png": "[encoded data removed]"
          },
          "metadata": {
            "needs_background": "light"
          }
        }
      ]
    },
    {
      "cell_type": "code",
      "source": [
        "plt.figure(figsize=(8,5))\n",
        "pre_blanca=df_base1[['year','precio']][df_base1.variedad==\"Papa Blanca\"].groupby('year').mean()\n",
        "plt.plot(pre_blanca.index,pre_blanca.precio)\n",
        "plt.title(\"Papa Blanca: Precio\", fontsize='xx-large')\n",
        "plt.xticks(pre_blanca.index,rotation=45, fontsize='small')\n",
        "plt.show()"
      ],
      "metadata": {
        "colab": {
          "base_uri": "https://localhost:8080/",
          "height": 351
        },
        "id": "lUJSOmeZQSDq",
        "outputId": "8a17dff3-f237-4d04-a519-e1f9136f2b72"
      },
      "execution_count": 51,
      "outputs": [
        {
          "output_type": "display_data",
          "data": {
            "text/plain": [
              "<Figure size 576x360 with 1 Axes>"
            ],
            "image/png": "[encoded data removed]"
          },
          "metadata": {
            "needs_background": "light"
          }
        }
      ]
    },
    {
      "cell_type": "markdown",
      "source": [
        "### Papa Yungay"
      ],
      "metadata": {
        "id": "hdhGxPiIR_9O"
      }
    },
    {
      "cell_type": "code",
      "source": [
        "plt.figure(figsize=(8,5))\n",
        "vol_yungay=df_base1[['year','volumen']][df_base1.variedad==\"Papa Yungay\"].groupby('year').sum()\n",
        "plt.bar(vol_yungay.index,vol_yungay.volumen)\n",
        "plt.title(\"Papa Yungay: Volumen\", fontsize='xx-large')\n",
        "plt.xticks(vol_blanca.index,rotation=45, fontsize='small')\n",
        "plt.show()"
      ],
      "metadata": {
        "colab": {
          "base_uri": "https://localhost:8080/",
          "height": 351
        },
        "id": "mcIFwtSODaku",
        "outputId": "c5eb9c03-9059-400b-e41b-368c34e0b9ea"
      },
      "execution_count": 52,
      "outputs": [
        {
          "output_type": "display_data",
          "data": {
            "text/plain": [
              "<Figure size 576x360 with 1 Axes>"
            ],
            "image/png": "[encoded data removed]"
          },
          "metadata": {
            "needs_background": "light"
          }
        }
      ]
    },
    {
      "cell_type": "code",
      "source": [
        "plt.figure(figsize=(8,5))\n",
        "pre_yungay=df_base1[['year','precio']][df_base1.variedad==\"Papa Yungay\"].groupby('year').mean()\n",
        "plt.plot(pre_yungay.index,pre_yungay.precio)\n",
        "plt.title(\"Papa Yungay: Precio\", fontsize='xx-large')\n",
        "plt.xticks(pre_blanca.index,rotation=45, fontsize='small')\n",
        "plt.show()"
      ],
      "metadata": {
        "colab": {
          "base_uri": "https://localhost:8080/",
          "height": 351
        },
        "id": "WkXmKkSPHKrC",
        "outputId": "0c56d8f0-db0f-4ff8-b2a8-49cb2bd4031b"
      },
      "execution_count": 53,
      "outputs": [
        {
          "output_type": "display_data",
          "data": {
            "text/plain": [
              "<Figure size 576x360 with 1 Axes>"
            ],
            "image/png": "[encoded data removed]"
          },
          "metadata": {
            "needs_background": "light"
          }
        }
      ]
    },
    {
      "cell_type": "markdown",
      "source": [
        "### Papa Huayro"
      ],
      "metadata": {
        "id": "TheHwpYgSDiO"
      }
    },
    {
      "cell_type": "code",
      "source": [
        "plt.figure(figsize=(8,5))\n",
        "vol_huayro=df_base1[['year','volumen']][df_base1.variedad==\"Papa Huayro\"].groupby('year').sum()\n",
        "plt.bar(vol_huayro.index,vol_huayro.volumen)\n",
        "plt.title(\"Papa Huayro: Volumen\")\n",
        "plt.xticks(vol_huayro.index,rotation=45, fontsize='small')\n",
        "plt.show()"
      ],
      "metadata": {
        "colab": {
          "base_uri": "https://localhost:8080/",
          "height": 347
        },
        "id": "IvVtHJx3A45S",
        "outputId": "cee4ac5f-b07d-4aab-cd29-4f24245b6837"
      },
      "execution_count": 58,
      "outputs": [
        {
          "output_type": "display_data",
          "data": {
            "text/plain": [
              "<Figure size 576x360 with 1 Axes>"
            ],
            "image/png": "[encoded data removed]"
          },
          "metadata": {
            "needs_background": "light"
          }
        }
      ]
    },
    {
      "cell_type": "code",
      "source": [
        "plt.figure(figsize=(8,5))\n",
        "pre_huayro=df_base1[['year','precio']][df_base1.variedad==\"Papa Huayro\"].groupby('year').mean()\n",
        "plt.plot(pre_huayro.index,pre_huayro.precio)\n",
        "plt.title(\"Papa Huayro: Precio\", fontsize='xx-large')\n",
        "plt.xticks(pre_huayro.index,rotation=45, fontsize='small')\n",
        "plt.show()"
      ],
      "metadata": {
        "colab": {
          "base_uri": "https://localhost:8080/",
          "height": 351
        },
        "id": "4J6yQlA0HCTy",
        "outputId": "bb6ea90c-2333-4b46-9937-44208772cc9c"
      },
      "execution_count": 59,
      "outputs": [
        {
          "output_type": "display_data",
          "data": {
            "text/plain": [
              "<Figure size 576x360 with 1 Axes>"
            ],
            "image/png": "[encoded data removed]"
          },
          "metadata": {
            "needs_background": "light"
          }
        }
      ]
    },
    {
      "cell_type": "markdown",
      "source": [
        "### Papa Canchan"
      ],
      "metadata": {
        "id": "4Y6xbz1LSHt9"
      }
    },
    {
      "cell_type": "code",
      "source": [
        "plt.figure(figsize=(8,5))\n",
        "vol_canchan=df_base1[['year','volumen']][df_base1.variedad==\"Papa Canchan\"].groupby('year').sum()\n",
        "plt.bar(vol_canchan.index,vol_canchan.volumen)\n",
        "plt.title(\"Papa Canchan: Volumen\", fontsize='xx-large')\n",
        "plt.xticks(vol_blanca.index,rotation=45, fontsize='small')\n",
        "plt.show()"
      ],
      "metadata": {
        "colab": {
          "base_uri": "https://localhost:8080/",
          "height": 351
        },
        "id": "e08fU7PuRQNO",
        "outputId": "da2adf8a-c60c-49fb-da64-e174ee66260c"
      },
      "execution_count": 60,
      "outputs": [
        {
          "output_type": "display_data",
          "data": {
            "text/plain": [
              "<Figure size 576x360 with 1 Axes>"
            ],
            "image/png": "[encoded data removed]"
          },
          "metadata": {
            "needs_background": "light"
          }
        }
      ]
    },
    {
      "cell_type": "code",
      "source": [
        "plt.figure(figsize=(8,5))\n",
        "pre_canchan=df_base1[['year','precio']][df_base1.variedad==\"Papa Canchan\"].groupby('year').mean()\n",
        "plt.plot(pre_canchan.index,pre_canchan.precio)\n",
        "plt.title(\"Papa Canchan: Precio\", fontsize='xx-large')\n",
        "plt.xticks(pre_blanca.index,rotation=45, fontsize='small')\n",
        "plt.show()"
      ],
      "metadata": {
        "colab": {
          "base_uri": "https://localhost:8080/",
          "height": 351
        },
        "id": "euH-Ni2hj7g6",
        "outputId": "33f78cbb-b623-44ae-a07f-cf6ff0e4e377"
      },
      "execution_count": 61,
      "outputs": [
        {
          "output_type": "display_data",
          "data": {
            "text/plain": [
              "<Figure size 576x360 with 1 Axes>"
            ],
            "image/png": "[encoded data removed]"
          },
          "metadata": {
            "needs_background": "light"
          }
        }
      ]
    },
    {
      "cell_type": "markdown",
      "source": [
        "### Papa Amarilla"
      ],
      "metadata": {
        "id": "gG7vWS14SOz3"
      }
    },
    {
      "cell_type": "code",
      "source": [
        "plt.figure(figsize=(8,5))\n",
        "vol_amarilla=df_base1[['year','volumen']][df_base1.variedad==\"Papa Amarilla\"].groupby('year').sum()\n",
        "plt.bar(vol_amarilla.index,vol_amarilla.volumen)\n",
        "plt.title(\"Papa Amarilla: Volumen\", fontsize='xx-large')\n",
        "plt.xticks(vol_amarilla.index,rotation=45, fontsize='small')\n",
        "plt.show()"
      ],
      "metadata": {
        "colab": {
          "base_uri": "https://localhost:8080/",
          "height": 351
        },
        "id": "r9uIKBLZEa_9",
        "outputId": "79d7253b-0d63-4229-89ba-5b4d00a082a7"
      },
      "execution_count": 63,
      "outputs": [
        {
          "output_type": "display_data",
          "data": {
            "text/plain": [
              "<Figure size 576x360 with 1 Axes>"
            ],
            "image/png": "[encoded data removed]"
          },
          "metadata": {
            "needs_background": "light"
          }
        }
      ]
    },
    {
      "cell_type": "code",
      "source": [
        "plt.figure(figsize=(8,5))\n",
        "pre_amarilla=df_base1[['year','precio']][df_base1.variedad==\"Papa Amarilla\"].groupby('year').mean()\n",
        "plt.plot(pre_amarilla.index,pre_amarilla.precio)\n",
        "plt.title(\"Papa Amarilla: Precio\", fontsize='xx-large')\n",
        "plt.xticks(pre_blanca.index,rotation=45, fontsize='small')\n",
        "plt.show()"
      ],
      "metadata": {
        "colab": {
          "base_uri": "https://localhost:8080/",
          "height": 351
        },
        "id": "Fpbf320gGzjO",
        "outputId": "c6d92245-459c-43b9-ccf9-31d3f218e46b"
      },
      "execution_count": 64,
      "outputs": [
        {
          "output_type": "display_data",
          "data": {
            "text/plain": [
              "<Figure size 576x360 with 1 Axes>"
            ],
            "image/png": "[encoded data removed]"
          },
          "metadata": {
            "needs_background": "light"
          }
        }
      ]
    },
    {
      "cell_type": "markdown",
      "source": [
        "### Papa Color"
      ],
      "metadata": {
        "id": "peOy1KQqTCHO"
      }
    },
    {
      "cell_type": "code",
      "source": [
        "plt.figure(figsize=(8,5))\n",
        "vol_color=df_base1[['year','volumen']][df_base1.variedad==\"Papa Color\"].groupby('year').sum()\n",
        "plt.bar(vol_color.index,vol_color.volumen)\n",
        "plt.title(\"Papa Color: Volumen\", fontsize='xx-large')\n",
        "plt.xticks(vol_color.index,rotation=45, fontsize='small')\n",
        "plt.show()"
      ],
      "metadata": {
        "colab": {
          "base_uri": "https://localhost:8080/",
          "height": 351
        },
        "id": "yYM0cCDQErfB",
        "outputId": "f1423674-f60e-470c-e858-f188fc8f1df0"
      },
      "execution_count": 65,
      "outputs": [
        {
          "output_type": "display_data",
          "data": {
            "text/plain": [
              "<Figure size 576x360 with 1 Axes>"
            ],
            "image/png": "[encoded data removed]"
          },
          "metadata": {
            "needs_background": "light"
          }
        }
      ]
    },
    {
      "cell_type": "code",
      "source": [
        "plt.figure(figsize=(8,5))\n",
        "pre_color=df_base1[['year','precio']][df_base1.variedad==\"Papa Color\"].groupby('year').mean()\n",
        "plt.plot(pre_color.index,pre_color.precio)\n",
        "plt.title(\"Papa Color: Precio\", fontsize='xx-large')\n",
        "plt.xticks(pre_color.index,rotation=45, fontsize='small')\n",
        "plt.show()"
      ],
      "metadata": {
        "colab": {
          "base_uri": "https://localhost:8080/",
          "height": 351
        },
        "id": "N_kOVL_8GMUT",
        "outputId": "75384931-9b0a-473d-8dc2-f54abe9ac67c"
      },
      "execution_count": 66,
      "outputs": [
        {
          "output_type": "display_data",
          "data": {
            "text/plain": [
              "<Figure size 576x360 with 1 Axes>"
            ],
            "image/png": "[encoded data removed]"
          },
          "metadata": {
            "needs_background": "light"
          }
        }
      ]
    },
    {
      "cell_type": "markdown",
      "source": [
        "### Papa Unica"
      ],
      "metadata": {
        "id": "5p3InaPsZ80d"
      }
    },
    {
      "cell_type": "code",
      "source": [
        "plt.figure(figsize=(8,5))\n",
        "vol_unica=df_base1[['year','volumen']][df_base1.variedad==\"Papa Unica\"].groupby('year').sum()\n",
        "plt.bar(vol_color.index,vol_color.volumen)\n",
        "plt.title(\"Papa Unica: Volumen\", fontsize='xx-large')\n",
        "plt.xticks(vol_color.index,rotation=45, fontsize='small')\n",
        "plt.show()"
      ],
      "metadata": {
        "colab": {
          "base_uri": "https://localhost:8080/",
          "height": 351
        },
        "id": "q4ymTYMNZ5c6",
        "outputId": "6a885267-0359-4910-d98b-bed6aff18fb9"
      },
      "execution_count": 75,
      "outputs": [
        {
          "output_type": "display_data",
          "data": {
            "text/plain": [
              "<Figure size 576x360 with 1 Axes>"
            ],
            "image/png": "[encoded data removed]"
          },
          "metadata": {
            "needs_background": "light"
          }
        }
      ]
    },
    {
      "cell_type": "code",
      "source": [
        "plt.figure(figsize=(8,5))\n",
        "pre_unica=df_base1[['year','precio']][df_base1.variedad==\"Papa Unica\"].groupby('year').mean()\n",
        "plt.plot(pre_unica.index,pre_unica.precio)\n",
        "plt.title(\"Papa Unica: Precio\", fontsize='xx-large')\n",
        "plt.xticks(pre_color.index,rotation=45, fontsize='small')\n",
        "plt.show()"
      ],
      "metadata": {
        "colab": {
          "base_uri": "https://localhost:8080/",
          "height": 351
        },
        "id": "AZeUXv2_aKsN",
        "outputId": "b5f3cf59-1be5-4bfb-e54a-907c81e6c958"
      },
      "execution_count": 77,
      "outputs": [
        {
          "output_type": "display_data",
          "data": {
            "text/plain": [
              "<Figure size 576x360 with 1 Axes>"
            ],
            "image/png": "[encoded data removed]"
          },
          "metadata": {
            "needs_background": "light"
          }
        }
      ]
    },
    {
      "cell_type": "markdown",
      "source": [
        "### Papa Peruanita"
      ],
      "metadata": {
        "id": "HARAAKVeailV"
      }
    },
    {
      "cell_type": "code",
      "source": [
        "plt.figure(figsize=(8,5))\n",
        "vol_peruanita=df_base1[['year','volumen']][df_base1.variedad==\"Papa Peruanita\"].groupby('year').sum()\n",
        "plt.bar(vol_peruanita.index,vol_peruanita.volumen)\n",
        "plt.title(\"Papa Peruanita: Volumen\", fontsize='xx-large')\n",
        "plt.xticks(vol_color.index,rotation=45, fontsize='small')\n",
        "plt.show()"
      ],
      "metadata": {
        "colab": {
          "base_uri": "https://localhost:8080/",
          "height": 351
        },
        "id": "t-1zXWPeaoWI",
        "outputId": "1fa6d5d6-6a75-4fef-b87e-44d139909a80"
      },
      "execution_count": 78,
      "outputs": [
        {
          "output_type": "display_data",
          "data": {
            "text/plain": [
              "<Figure size 576x360 with 1 Axes>"
            ],
            "image/png": "[encoded data removed]"
          },
          "metadata": {
            "needs_background": "light"
          }
        }
      ]
    },
    {
      "cell_type": "code",
      "source": [
        "plt.figure(figsize=(8,5))\n",
        "pre_peruanita=df_base1[['year','precio']][df_base1.variedad==\"Papa Peruanita\"].groupby('year').mean()\n",
        "plt.plot(pre_peruanita.index,pre_peruanita.precio)\n",
        "plt.title(\"Papa Peruanita: Precio\", fontsize='xx-large')\n",
        "plt.xticks(pre_color.index,rotation=45, fontsize='small')\n",
        "plt.show()"
      ],
      "metadata": {
        "colab": {
          "base_uri": "https://localhost:8080/",
          "height": 351
        },
        "id": "_5fZEmIVa1hL",
        "outputId": "c266904f-9f12-4ff1-fd2c-86b3a3eb505c"
      },
      "execution_count": 79,
      "outputs": [
        {
          "output_type": "display_data",
          "data": {
            "text/plain": [
              "<Figure size 576x360 with 1 Axes>"
            ],
            "image/png": "[encoded data removed]"
          },
          "metadata": {
            "needs_background": "light"
          }
        }
      ]
    },
    {
      "cell_type": "code",
      "source": [
        "plt.figure(figsize=(8,5))\n",
        "plt.plot(pre_yungay.index,pre_yungay.precio,label='Yungay')\n",
        "plt.plot(pre_blanca.index,pre_blanca.precio, label='Blanca')\n",
        "plt.plot(pre_canchan.index,pre_canchan.precio, label='Canchan')\n",
        "plt.plot(pre_color.index,pre_color.precio, label='Color')\n",
        "plt.title(\"Papa Blanca, Yungay, Canchan y Color: Precio\", fontsize='x-large')\n",
        "plt.xticks(pre_blanca.index,rotation=45, fontsize='small')\n",
        "plt.legend()\n",
        "plt.show()"
      ],
      "metadata": {
        "colab": {
          "base_uri": "https://localhost:8080/",
          "height": 348
        },
        "id": "SGRVIfmXXZXA",
        "outputId": "6044b0ac-5ac8-4944-df4c-8abc62085306"
      },
      "execution_count": 68,
      "outputs": [
        {
          "output_type": "display_data",
          "data": {
            "text/plain": [
              "<Figure size 576x360 with 1 Axes>"
            ],
            "image/png": "[encoded data removed]"
          },
          "metadata": {
            "needs_background": "light"
          }
        }
      ]
    },
    {
      "cell_type": "code",
      "source": [
        "plt.figure(figsize=(8,5))\n",
        "plt.plot(pre_blanca.index,pre_blanca.precio, label='Blanca')\n",
        "plt.plot(pre_huayro.index,pre_huayro.precio, label='Huayro')\n",
        "plt.plot(pre_amarilla.index,pre_amarilla.precio, label='Amarilla')\n",
        "plt.plot(pre_color.index,pre_color.precio, label='Color')\n",
        "plt.title(\"Papa Blanca, Huayro, Amarilla y Color\", fontsize='x-large')\n",
        "plt.xticks(pre_blanca.index,rotation=45, fontsize='small')\n",
        "plt.legend()\n",
        "plt.show()"
      ],
      "metadata": {
        "colab": {
          "base_uri": "https://localhost:8080/",
          "height": 348
        },
        "id": "BwwR6NUIYz9Z",
        "outputId": "ae71868f-7724-48ec-806d-59f795efe664"
      },
      "execution_count": 74,
      "outputs": [
        {
          "output_type": "display_data",
          "data": {
            "text/plain": [
              "<Figure size 576x360 with 1 Axes>"
            ],
            "image/png": "[encoded data removed]"
          },
          "metadata": {
            "needs_background": "light"
          }
        }
      ]
    },
    {
      "cell_type": "code",
      "source": [
        "plt.figure(figsize=(8,5))\n",
        "plt.plot(pre_blanca.index,pre_blanca.precio, label='Blanca')\n",
        "plt.plot(pre_huayro.index,pre_huayro.precio, label='Huayro')\n",
        "plt.plot(pre_amarilla.index,pre_amarilla.precio, label='Amarilla')\n",
        "plt.plot(pre_peruanita.index,pre_peruanita.precio, label='Peruanita')\n",
        "plt.title(\"Papa Blanca, Huayro, Amarilla y Peruanita\", fontsize='x-large')\n",
        "plt.xticks(pre_blanca.index,rotation=45, fontsize='small')\n",
        "plt.legend()\n",
        "plt.show()"
      ],
      "metadata": {
        "colab": {
          "base_uri": "https://localhost:8080/",
          "height": 348
        },
        "id": "h4kMDin9bCkC",
        "outputId": "5566f461-2910-44e4-fc05-137031434727"
      },
      "execution_count": 81,
      "outputs": [
        {
          "output_type": "display_data",
          "data": {
            "text/plain": [
              "<Figure size 576x360 with 1 Axes>"
            ],
            "image/png": "[encoded data removed]"
          },
          "metadata": {
            "needs_background": "light"
          }
        }
      ]
    },
    {
      "cell_type": "markdown",
      "source": [
        "## 3.2. Análisis de provincias de origen"
      ],
      "metadata": {
        "id": "Cjkx3ZHeeMFM"
      }
    },
    {
      "cell_type": "markdown",
      "source": [
        "### Papa Blanca"
      ],
      "metadata": {
        "id": "FZ1b_OAeUBUg"
      }
    },
    {
      "cell_type": "code",
      "source": [
        "prv_blanca=df_base1[['provincia','volumen']][df_base1.variedad==\"Papa Blanca\"].groupby('provincia').sum()\n",
        "prv_blanca.sort_values(by='volumen', ascending=False).head(20)"
      ],
      "metadata": {
        "colab": {
          "base_uri": "https://localhost:8080/",
          "height": 707
        },
        "id": "jzNQ1F4aI1HP",
        "outputId": "d3b3fee2-86e1-4a05-87d3-d6f8d9d7863d"
      },
      "execution_count": null,
      "outputs": [
        {
          "output_type": "execute_result",
          "data": {
            "text/plain": [
              "                            volumen\n",
              "provincia                          \n",
              "Huanuco                  1505347.33\n",
              "Huamanga                 1090051.81\n",
              "Huancayo                 1068481.70\n",
              "Tarma                     570348.69\n",
              "Huaral                    566592.05\n",
              "Jauja                     563047.24\n",
              "Barranca                  493371.74\n",
              "Pasco                     468714.82\n",
              "Ica                       330128.92\n",
              "Arequipa                  322502.61\n",
              "Nazca                     317647.56\n",
              "Canete                    253914.52\n",
              "Ambo                      250633.49\n",
              "Andahuaylas               219960.65\n",
              "Huaura                    184748.96\n",
              "Lima                      111069.36\n",
              "Huancavelica              105276.90\n",
              "Tayacaja                   88507.87\n",
              "Junin                      73487.99\n",
              "Procedencia Desconocida    64184.78"
            ],
            "text/html": [
              "\n",
              "  <div id=\"df-8e405a7e-7234-44db-a99c-8183febe4ac8\">\n",
              "    <div class=\"colab-df-container\">\n",
              "      <div>\n",
              "<style scoped>\n",
              "    .dataframe tbody tr th:only-of-type {\n",
              "        vertical-align: middle;\n",
              "    }\n",
              "\n",
              "    .dataframe tbody tr th {\n",
              "        vertical-align: top;\n",
              "    }\n",
              "\n",
              "    .dataframe thead th {\n",
              "        text-align: right;\n",
              "    }\n",
              "</style>\n",
              "<table border=\"1\" class=\"dataframe\">\n",
              "  <thead>\n",
              "    <tr style=\"text-align: right;\">\n",
              "      <th></th>\n",
              "      <th>volumen</th>\n",
              "    </tr>\n",
              "    <tr>\n",
              "      <th>provincia</th>\n",
              "      <th></th>\n",
              "    </tr>\n",
              "  </thead>\n",
              "  <tbody>\n",
              "    <tr>\n",
              "      <th>Huanuco</th>\n",
              "      <td>1505347.33</td>\n",
              "    </tr>\n",
              "    <tr>\n",
              "      <th>Huamanga</th>\n",
              "      <td>1090051.81</td>\n",
              "    </tr>\n",
              "    <tr>\n",
              "      <th>Huancayo</th>\n",
              "      <td>1068481.70</td>\n",
              "    </tr>\n",
              "    <tr>\n",
              "      <th>Tarma</th>\n",
              "      <td>570348.69</td>\n",
              "    </tr>\n",
              "    <tr>\n",
              "      <th>Huaral</th>\n",
              "      <td>566592.05</td>\n",
              "    </tr>\n",
              "    <tr>\n",
              "      <th>Jauja</th>\n",
              "      <td>563047.24</td>\n",
              "    </tr>\n",
              "    <tr>\n",
              "      <th>Barranca</th>\n",
              "      <td>493371.74</td>\n",
              "    </tr>\n",
              "    <tr>\n",
              "      <th>Pasco</th>\n",
              "      <td>468714.82</td>\n",
              "    </tr>\n",
              "    <tr>\n",
              "      <th>Ica</th>\n",
              "      <td>330128.92</td>\n",
              "    </tr>\n",
              "    <tr>\n",
              "      <th>Arequipa</th>\n",
              "      <td>322502.61</td>\n",
              "    </tr>\n",
              "    <tr>\n",
              "      <th>Nazca</th>\n",
              "      <td>317647.56</td>\n",
              "    </tr>\n",
              "    <tr>\n",
              "      <th>Canete</th>\n",
              "      <td>253914.52</td>\n",
              "    </tr>\n",
              "    <tr>\n",
              "      <th>Ambo</th>\n",
              "      <td>250633.49</td>\n",
              "    </tr>\n",
              "    <tr>\n",
              "      <th>Andahuaylas</th>\n",
              "      <td>219960.65</td>\n",
              "    </tr>\n",
              "    <tr>\n",
              "      <th>Huaura</th>\n",
              "      <td>184748.96</td>\n",
              "    </tr>\n",
              "    <tr>\n",
              "      <th>Lima</th>\n",
              "      <td>111069.36</td>\n",
              "    </tr>\n",
              "    <tr>\n",
              "      <th>Huancavelica</th>\n",
              "      <td>105276.90</td>\n",
              "    </tr>\n",
              "    <tr>\n",
              "      <th>Tayacaja</th>\n",
              "      <td>88507.87</td>\n",
              "    </tr>\n",
              "    <tr>\n",
              "      <th>Junin</th>\n",
              "      <td>73487.99</td>\n",
              "    </tr>\n",
              "    <tr>\n",
              "      <th>Procedencia Desconocida</th>\n",
              "      <td>64184.78</td>\n",
              "    </tr>\n",
              "  </tbody>\n",
              "</table>\n",
              "</div>\n",
              "      <button class=\"colab-df-convert\" onclick=\"convertToInteractive('df-8e405a7e-7234-44db-a99c-8183febe4ac8')\"\n",
              "              title=\"Convert this dataframe to an interactive table.\"\n",
              "              style=\"display:none;\">\n",
              "        \n",
              "  <svg xmlns=\"http://www.w3.org/2000/svg\" height=\"24px\"viewBox=\"0 0 24 24\"\n",
              "       width=\"24px\">\n",
              "    <path d=\"M0 0h24v24H0V0z\" fill=\"none\"/>\n",
              "    <path d=\"M18.56 5.44l.94 2.06.94-2.06 2.06-.94-2.06-.94-.94-2.06-.94 2.06-2.06.94zm-11 1L8.5 8.5l.94-2.06 2.06-.94-2.06-.94L8.5 2.5l-.94 2.06-2.06.94zm10 10l.94 2.06.94-2.06 2.06-.94-2.06-.94-.94-2.06-.94 2.06-2.06.94z\"/><path d=\"M17.41 7.96l-1.37-1.37c-.4-.4-.92-.59-1.43-.59-.52 0-1.04.2-1.43.59L10.3 9.45l-7.72 7.72c-.78.78-.78 2.05 0 2.83L4 21.41c.39.39.9.59 1.41.59.51 0 1.02-.2 1.41-.59l7.78-7.78 2.81-2.81c.8-.78.8-2.07 0-2.86zM5.41 20L4 18.59l7.72-7.72 1.47 1.35L5.41 20z\"/>\n",
              "  </svg>\n",
              "      </button>\n",
              "      \n",
              "  <style>\n",
              "    .colab-df-container {\n",
              "      display:flex;\n",
              "      flex-wrap:wrap;\n",
              "      gap: 12px;\n",
              "    }\n",
              "\n",
              "    .colab-df-convert {\n",
              "      background-color: #E8F0FE;\n",
              "      border: none;\n",
              "      border-radius: 50%;\n",
              "      cursor: pointer;\n",
              "      display: none;\n",
              "      fill: #1967D2;\n",
              "      height: 32px;\n",
              "      padding: 0 0 0 0;\n",
              "      width: 32px;\n",
              "    }\n",
              "\n",
              "    .colab-df-convert:hover {\n",
              "      background-color: #E2EBFA;\n",
              "      box-shadow: 0px 1px 2px rgba(60, 64, 67, 0.3), 0px 1px 3px 1px rgba(60, 64, 67, 0.15);\n",
              "      fill: #174EA6;\n",
              "    }\n",
              "\n",
              "    [theme=dark] .colab-df-convert {\n",
              "      background-color: #3B4455;\n",
              "      fill: #D2E3FC;\n",
              "    }\n",
              "\n",
              "    [theme=dark] .colab-df-convert:hover {\n",
              "      background-color: #434B5C;\n",
              "      box-shadow: 0px 1px 3px 1px rgba(0, 0, 0, 0.15);\n",
              "      filter: drop-shadow(0px 1px 2px rgba(0, 0, 0, 0.3));\n",
              "      fill: #FFFFFF;\n",
              "    }\n",
              "  </style>\n",
              "\n",
              "      <script>\n",
              "        const buttonEl =\n",
              "          document.querySelector('#df-8e405a7e-7234-44db-a99c-8183febe4ac8 button.colab-df-convert');\n",
              "        buttonEl.style.display =\n",
              "          google.colab.kernel.accessAllowed ? 'block' : 'none';\n",
              "\n",
              "        async function convertToInteractive(key) {\n",
              "          const element = document.querySelector('#df-8e405a7e-7234-44db-a99c-8183febe4ac8');\n",
              "          const dataTable =\n",
              "            await google.colab.kernel.invokeFunction('convertToInteractive',\n",
              "                                                     [key], {});\n",
              "          if (!dataTable) return;\n",
              "\n",
              "          const docLinkHtml = 'Like what you see? Visit the ' +\n",
              "            '<a target=\"_blank\" href=https://colab.research.google.com/notebooks/data_table.ipynb>data table notebook</a>'\n",
              "            + ' to learn more about interactive tables.';\n",
              "          element.innerHTML = '';\n",
              "          dataTable['output_type'] = 'display_data';\n",
              "          await google.colab.output.renderOutput(dataTable, element);\n",
              "          const docLink = document.createElement('div');\n",
              "          docLink.innerHTML = docLinkHtml;\n",
              "          element.appendChild(docLink);\n",
              "        }\n",
              "      </script>\n",
              "    </div>\n",
              "  </div>\n",
              "  "
            ]
          },
          "metadata": {},
          "execution_count": 82
        }
      ]
    },
    {
      "cell_type": "markdown",
      "source": [
        "### Papa Yungay"
      ],
      "metadata": {
        "id": "OsQoBo70UFCZ"
      }
    },
    {
      "cell_type": "code",
      "source": [
        "prv_yungay=df_base1[['provincia','volumen']][df_base1.variedad==\"Papa Yungay\"].groupby('provincia').sum()\n",
        "prv_yungay.sort_values(by='volumen', ascending=False).head(20)"
      ],
      "metadata": {
        "colab": {
          "base_uri": "https://localhost:8080/",
          "height": 707
        },
        "id": "Il5kqoeoI-ie",
        "outputId": "6adca470-aec8-46c5-d529-4b96a0db3cd4"
      },
      "execution_count": null,
      "outputs": [
        {
          "output_type": "execute_result",
          "data": {
            "text/plain": [
              "                    volumen\n",
              "provincia                  \n",
              "Huanuco            146601.0\n",
              "Tarma               78764.0\n",
              "Huancayo            53188.0\n",
              "Huamanga            44934.0\n",
              "Jauja               29073.0\n",
              "Pasco               13757.0\n",
              "Barranca            12204.0\n",
              "Ica                  9150.0\n",
              "Arequipa             6864.0\n",
              "Huancavelica         5930.0\n",
              "Nazca                5788.0\n",
              "Andahuaylas          4932.0\n",
              "Huaral               4330.0\n",
              "Lima                 3794.0\n",
              "Ambo                 3716.0\n",
              "Tayacaja             3536.0\n",
              "Canete               3390.0\n",
              "Santiago De Chuco    2016.0\n",
              "Huaura               1934.0\n",
              "Sanchez Carrion      1169.0"
            ],
            "text/html": [
              "\n",
              "  <div id=\"df-58f55403-b107-45b3-9e8f-99323aac3d24\">\n",
              "    <div class=\"colab-df-container\">\n",
              "      <div>\n",
              "<style scoped>\n",
              "    .dataframe tbody tr th:only-of-type {\n",
              "        vertical-align: middle;\n",
              "    }\n",
              "\n",
              "    .dataframe tbody tr th {\n",
              "        vertical-align: top;\n",
              "    }\n",
              "\n",
              "    .dataframe thead th {\n",
              "        text-align: right;\n",
              "    }\n",
              "</style>\n",
              "<table border=\"1\" class=\"dataframe\">\n",
              "  <thead>\n",
              "    <tr style=\"text-align: right;\">\n",
              "      <th></th>\n",
              "      <th>volumen</th>\n",
              "    </tr>\n",
              "    <tr>\n",
              "      <th>provincia</th>\n",
              "      <th></th>\n",
              "    </tr>\n",
              "  </thead>\n",
              "  <tbody>\n",
              "    <tr>\n",
              "      <th>Huanuco</th>\n",
              "      <td>146601.0</td>\n",
              "    </tr>\n",
              "    <tr>\n",
              "      <th>Tarma</th>\n",
              "      <td>78764.0</td>\n",
              "    </tr>\n",
              "    <tr>\n",
              "      <th>Huancayo</th>\n",
              "      <td>53188.0</td>\n",
              "    </tr>\n",
              "    <tr>\n",
              "      <th>Huamanga</th>\n",
              "      <td>44934.0</td>\n",
              "    </tr>\n",
              "    <tr>\n",
              "      <th>Jauja</th>\n",
              "      <td>29073.0</td>\n",
              "    </tr>\n",
              "    <tr>\n",
              "      <th>Pasco</th>\n",
              "      <td>13757.0</td>\n",
              "    </tr>\n",
              "    <tr>\n",
              "      <th>Barranca</th>\n",
              "      <td>12204.0</td>\n",
              "    </tr>\n",
              "    <tr>\n",
              "      <th>Ica</th>\n",
              "      <td>9150.0</td>\n",
              "    </tr>\n",
              "    <tr>\n",
              "      <th>Arequipa</th>\n",
              "      <td>6864.0</td>\n",
              "    </tr>\n",
              "    <tr>\n",
              "      <th>Huancavelica</th>\n",
              "      <td>5930.0</td>\n",
              "    </tr>\n",
              "    <tr>\n",
              "      <th>Nazca</th>\n",
              "      <td>5788.0</td>\n",
              "    </tr>\n",
              "    <tr>\n",
              "      <th>Andahuaylas</th>\n",
              "      <td>4932.0</td>\n",
              "    </tr>\n",
              "    <tr>\n",
              "      <th>Huaral</th>\n",
              "      <td>4330.0</td>\n",
              "    </tr>\n",
              "    <tr>\n",
              "      <th>Lima</th>\n",
              "      <td>3794.0</td>\n",
              "    </tr>\n",
              "    <tr>\n",
              "      <th>Ambo</th>\n",
              "      <td>3716.0</td>\n",
              "    </tr>\n",
              "    <tr>\n",
              "      <th>Tayacaja</th>\n",
              "      <td>3536.0</td>\n",
              "    </tr>\n",
              "    <tr>\n",
              "      <th>Canete</th>\n",
              "      <td>3390.0</td>\n",
              "    </tr>\n",
              "    <tr>\n",
              "      <th>Santiago De Chuco</th>\n",
              "      <td>2016.0</td>\n",
              "    </tr>\n",
              "    <tr>\n",
              "      <th>Huaura</th>\n",
              "      <td>1934.0</td>\n",
              "    </tr>\n",
              "    <tr>\n",
              "      <th>Sanchez Carrion</th>\n",
              "      <td>1169.0</td>\n",
              "    </tr>\n",
              "  </tbody>\n",
              "</table>\n",
              "</div>\n",
              "      <button class=\"colab-df-convert\" onclick=\"convertToInteractive('df-58f55403-b107-45b3-9e8f-99323aac3d24')\"\n",
              "              title=\"Convert this dataframe to an interactive table.\"\n",
              "              style=\"display:none;\">\n",
              "        \n",
              "  <svg xmlns=\"http://www.w3.org/2000/svg\" height=\"24px\"viewBox=\"0 0 24 24\"\n",
              "       width=\"24px\">\n",
              "    <path d=\"M0 0h24v24H0V0z\" fill=\"none\"/>\n",
              "    <path d=\"M18.56 5.44l.94 2.06.94-2.06 2.06-.94-2.06-.94-.94-2.06-.94 2.06-2.06.94zm-11 1L8.5 8.5l.94-2.06 2.06-.94-2.06-.94L8.5 2.5l-.94 2.06-2.06.94zm10 10l.94 2.06.94-2.06 2.06-.94-2.06-.94-.94-2.06-.94 2.06-2.06.94z\"/><path d=\"M17.41 7.96l-1.37-1.37c-.4-.4-.92-.59-1.43-.59-.52 0-1.04.2-1.43.59L10.3 9.45l-7.72 7.72c-.78.78-.78 2.05 0 2.83L4 21.41c.39.39.9.59 1.41.59.51 0 1.02-.2 1.41-.59l7.78-7.78 2.81-2.81c.8-.78.8-2.07 0-2.86zM5.41 20L4 18.59l7.72-7.72 1.47 1.35L5.41 20z\"/>\n",
              "  </svg>\n",
              "      </button>\n",
              "      \n",
              "  <style>\n",
              "    .colab-df-container {\n",
              "      display:flex;\n",
              "      flex-wrap:wrap;\n",
              "      gap: 12px;\n",
              "    }\n",
              "\n",
              "    .colab-df-convert {\n",
              "      background-color: #E8F0FE;\n",
              "      border: none;\n",
              "      border-radius: 50%;\n",
              "      cursor: pointer;\n",
              "      display: none;\n",
              "      fill: #1967D2;\n",
              "      height: 32px;\n",
              "      padding: 0 0 0 0;\n",
              "      width: 32px;\n",
              "    }\n",
              "\n",
              "    .colab-df-convert:hover {\n",
              "      background-color: #E2EBFA;\n",
              "      box-shadow: 0px 1px 2px rgba(60, 64, 67, 0.3), 0px 1px 3px 1px rgba(60, 64, 67, 0.15);\n",
              "      fill: #174EA6;\n",
              "    }\n",
              "\n",
              "    [theme=dark] .colab-df-convert {\n",
              "      background-color: #3B4455;\n",
              "      fill: #D2E3FC;\n",
              "    }\n",
              "\n",
              "    [theme=dark] .colab-df-convert:hover {\n",
              "      background-color: #434B5C;\n",
              "      box-shadow: 0px 1px 3px 1px rgba(0, 0, 0, 0.15);\n",
              "      filter: drop-shadow(0px 1px 2px rgba(0, 0, 0, 0.3));\n",
              "      fill: #FFFFFF;\n",
              "    }\n",
              "  </style>\n",
              "\n",
              "      <script>\n",
              "        const buttonEl =\n",
              "          document.querySelector('#df-58f55403-b107-45b3-9e8f-99323aac3d24 button.colab-df-convert');\n",
              "        buttonEl.style.display =\n",
              "          google.colab.kernel.accessAllowed ? 'block' : 'none';\n",
              "\n",
              "        async function convertToInteractive(key) {\n",
              "          const element = document.querySelector('#df-58f55403-b107-45b3-9e8f-99323aac3d24');\n",
              "          const dataTable =\n",
              "            await google.colab.kernel.invokeFunction('convertToInteractive',\n",
              "                                                     [key], {});\n",
              "          if (!dataTable) return;\n",
              "\n",
              "          const docLinkHtml = 'Like what you see? Visit the ' +\n",
              "            '<a target=\"_blank\" href=https://colab.research.google.com/notebooks/data_table.ipynb>data table notebook</a>'\n",
              "            + ' to learn more about interactive tables.';\n",
              "          element.innerHTML = '';\n",
              "          dataTable['output_type'] = 'display_data';\n",
              "          await google.colab.output.renderOutput(dataTable, element);\n",
              "          const docLink = document.createElement('div');\n",
              "          docLink.innerHTML = docLinkHtml;\n",
              "          element.appendChild(docLink);\n",
              "        }\n",
              "      </script>\n",
              "    </div>\n",
              "  </div>\n",
              "  "
            ]
          },
          "metadata": {},
          "execution_count": 83
        }
      ]
    },
    {
      "cell_type": "markdown",
      "source": [
        "### Papa Canchan"
      ],
      "metadata": {
        "id": "fx7aLClTUHiQ"
      }
    },
    {
      "cell_type": "code",
      "source": [
        "prv_canchan=df_base1[['provincia','volumen']][df_base1.variedad==\"Papa Canchan\"].groupby('provincia').sum()\n",
        "prv_canchan.sort_values(by='volumen', ascending=False).head(20)"
      ],
      "metadata": {
        "colab": {
          "base_uri": "https://localhost:8080/",
          "height": 707
        },
        "id": "HLNrQNQokTCg",
        "outputId": "98ff2278-42a8-43b4-8143-d9e220f9a644"
      },
      "execution_count": null,
      "outputs": [
        {
          "output_type": "execute_result",
          "data": {
            "text/plain": [
              "               volumen\n",
              "provincia             \n",
              "Huamanga      107584.0\n",
              "Huanuco        37006.0\n",
              "Barranca       27276.0\n",
              "Ica            26439.0\n",
              "Huancayo       25109.0\n",
              "Nazca          21901.0\n",
              "Jauja          14912.0\n",
              "Arequipa       14776.0\n",
              "Tarma          13929.0\n",
              "Pasco           5875.0\n",
              "Canete          5131.0\n",
              "Andahuaylas     3893.0\n",
              "Huaral          2990.0\n",
              "Lima            1896.0\n",
              "Huaura          1228.0\n",
              "Huanta          1053.0\n",
              "Ambo            1013.0\n",
              "Huancavelica     813.0\n",
              "Cangallo         798.0\n",
              "Junin            555.0"
            ],
            "text/html": [
              "\n",
              "  <div id=\"df-f911cee3-8381-46ae-a8c4-6ba28ca2a899\">\n",
              "    <div class=\"colab-df-container\">\n",
              "      <div>\n",
              "<style scoped>\n",
              "    .dataframe tbody tr th:only-of-type {\n",
              "        vertical-align: middle;\n",
              "    }\n",
              "\n",
              "    .dataframe tbody tr th {\n",
              "        vertical-align: top;\n",
              "    }\n",
              "\n",
              "    .dataframe thead th {\n",
              "        text-align: right;\n",
              "    }\n",
              "</style>\n",
              "<table border=\"1\" class=\"dataframe\">\n",
              "  <thead>\n",
              "    <tr style=\"text-align: right;\">\n",
              "      <th></th>\n",
              "      <th>volumen</th>\n",
              "    </tr>\n",
              "    <tr>\n",
              "      <th>provincia</th>\n",
              "      <th></th>\n",
              "    </tr>\n",
              "  </thead>\n",
              "  <tbody>\n",
              "    <tr>\n",
              "      <th>Huamanga</th>\n",
              "      <td>107584.0</td>\n",
              "    </tr>\n",
              "    <tr>\n",
              "      <th>Huanuco</th>\n",
              "      <td>37006.0</td>\n",
              "    </tr>\n",
              "    <tr>\n",
              "      <th>Barranca</th>\n",
              "      <td>27276.0</td>\n",
              "    </tr>\n",
              "    <tr>\n",
              "      <th>Ica</th>\n",
              "      <td>26439.0</td>\n",
              "    </tr>\n",
              "    <tr>\n",
              "      <th>Huancayo</th>\n",
              "      <td>25109.0</td>\n",
              "    </tr>\n",
              "    <tr>\n",
              "      <th>Nazca</th>\n",
              "      <td>21901.0</td>\n",
              "    </tr>\n",
              "    <tr>\n",
              "      <th>Jauja</th>\n",
              "      <td>14912.0</td>\n",
              "    </tr>\n",
              "    <tr>\n",
              "      <th>Arequipa</th>\n",
              "      <td>14776.0</td>\n",
              "    </tr>\n",
              "    <tr>\n",
              "      <th>Tarma</th>\n",
              "      <td>13929.0</td>\n",
              "    </tr>\n",
              "    <tr>\n",
              "      <th>Pasco</th>\n",
              "      <td>5875.0</td>\n",
              "    </tr>\n",
              "    <tr>\n",
              "      <th>Canete</th>\n",
              "      <td>5131.0</td>\n",
              "    </tr>\n",
              "    <tr>\n",
              "      <th>Andahuaylas</th>\n",
              "      <td>3893.0</td>\n",
              "    </tr>\n",
              "    <tr>\n",
              "      <th>Huaral</th>\n",
              "      <td>2990.0</td>\n",
              "    </tr>\n",
              "    <tr>\n",
              "      <th>Lima</th>\n",
              "      <td>1896.0</td>\n",
              "    </tr>\n",
              "    <tr>\n",
              "      <th>Huaura</th>\n",
              "      <td>1228.0</td>\n",
              "    </tr>\n",
              "    <tr>\n",
              "      <th>Huanta</th>\n",
              "      <td>1053.0</td>\n",
              "    </tr>\n",
              "    <tr>\n",
              "      <th>Ambo</th>\n",
              "      <td>1013.0</td>\n",
              "    </tr>\n",
              "    <tr>\n",
              "      <th>Huancavelica</th>\n",
              "      <td>813.0</td>\n",
              "    </tr>\n",
              "    <tr>\n",
              "      <th>Cangallo</th>\n",
              "      <td>798.0</td>\n",
              "    </tr>\n",
              "    <tr>\n",
              "      <th>Junin</th>\n",
              "      <td>555.0</td>\n",
              "    </tr>\n",
              "  </tbody>\n",
              "</table>\n",
              "</div>\n",
              "      <button class=\"colab-df-convert\" onclick=\"convertToInteractive('df-f911cee3-8381-46ae-a8c4-6ba28ca2a899')\"\n",
              "              title=\"Convert this dataframe to an interactive table.\"\n",
              "              style=\"display:none;\">\n",
              "        \n",
              "  <svg xmlns=\"http://www.w3.org/2000/svg\" height=\"24px\"viewBox=\"0 0 24 24\"\n",
              "       width=\"24px\">\n",
              "    <path d=\"M0 0h24v24H0V0z\" fill=\"none\"/>\n",
              "    <path d=\"M18.56 5.44l.94 2.06.94-2.06 2.06-.94-2.06-.94-.94-2.06-.94 2.06-2.06.94zm-11 1L8.5 8.5l.94-2.06 2.06-.94-2.06-.94L8.5 2.5l-.94 2.06-2.06.94zm10 10l.94 2.06.94-2.06 2.06-.94-2.06-.94-.94-2.06-.94 2.06-2.06.94z\"/><path d=\"M17.41 7.96l-1.37-1.37c-.4-.4-.92-.59-1.43-.59-.52 0-1.04.2-1.43.59L10.3 9.45l-7.72 7.72c-.78.78-.78 2.05 0 2.83L4 21.41c.39.39.9.59 1.41.59.51 0 1.02-.2 1.41-.59l7.78-7.78 2.81-2.81c.8-.78.8-2.07 0-2.86zM5.41 20L4 18.59l7.72-7.72 1.47 1.35L5.41 20z\"/>\n",
              "  </svg>\n",
              "      </button>\n",
              "      \n",
              "  <style>\n",
              "    .colab-df-container {\n",
              "      display:flex;\n",
              "      flex-wrap:wrap;\n",
              "      gap: 12px;\n",
              "    }\n",
              "\n",
              "    .colab-df-convert {\n",
              "      background-color: #E8F0FE;\n",
              "      border: none;\n",
              "      border-radius: 50%;\n",
              "      cursor: pointer;\n",
              "      display: none;\n",
              "      fill: #1967D2;\n",
              "      height: 32px;\n",
              "      padding: 0 0 0 0;\n",
              "      width: 32px;\n",
              "    }\n",
              "\n",
              "    .colab-df-convert:hover {\n",
              "      background-color: #E2EBFA;\n",
              "      box-shadow: 0px 1px 2px rgba(60, 64, 67, 0.3), 0px 1px 3px 1px rgba(60, 64, 67, 0.15);\n",
              "      fill: #174EA6;\n",
              "    }\n",
              "\n",
              "    [theme=dark] .colab-df-convert {\n",
              "      background-color: #3B4455;\n",
              "      fill: #D2E3FC;\n",
              "    }\n",
              "\n",
              "    [theme=dark] .colab-df-convert:hover {\n",
              "      background-color: #434B5C;\n",
              "      box-shadow: 0px 1px 3px 1px rgba(0, 0, 0, 0.15);\n",
              "      filter: drop-shadow(0px 1px 2px rgba(0, 0, 0, 0.3));\n",
              "      fill: #FFFFFF;\n",
              "    }\n",
              "  </style>\n",
              "\n",
              "      <script>\n",
              "        const buttonEl =\n",
              "          document.querySelector('#df-f911cee3-8381-46ae-a8c4-6ba28ca2a899 button.colab-df-convert');\n",
              "        buttonEl.style.display =\n",
              "          google.colab.kernel.accessAllowed ? 'block' : 'none';\n",
              "\n",
              "        async function convertToInteractive(key) {\n",
              "          const element = document.querySelector('#df-f911cee3-8381-46ae-a8c4-6ba28ca2a899');\n",
              "          const dataTable =\n",
              "            await google.colab.kernel.invokeFunction('convertToInteractive',\n",
              "                                                     [key], {});\n",
              "          if (!dataTable) return;\n",
              "\n",
              "          const docLinkHtml = 'Like what you see? Visit the ' +\n",
              "            '<a target=\"_blank\" href=https://colab.research.google.com/notebooks/data_table.ipynb>data table notebook</a>'\n",
              "            + ' to learn more about interactive tables.';\n",
              "          element.innerHTML = '';\n",
              "          dataTable['output_type'] = 'display_data';\n",
              "          await google.colab.output.renderOutput(dataTable, element);\n",
              "          const docLink = document.createElement('div');\n",
              "          docLink.innerHTML = docLinkHtml;\n",
              "          element.appendChild(docLink);\n",
              "        }\n",
              "      </script>\n",
              "    </div>\n",
              "  </div>\n",
              "  "
            ]
          },
          "metadata": {},
          "execution_count": 84
        }
      ]
    },
    {
      "cell_type": "markdown",
      "source": [
        "### Papa Huayro"
      ],
      "metadata": {
        "id": "9KnS5yFKUKnj"
      }
    },
    {
      "cell_type": "code",
      "source": [
        "prv_huayro=df_base1[['provincia','volumen']][df_base1.variedad==\"Papa Huayro\"].groupby('provincia').sum()\n",
        "prv_huayro.sort_values(by='volumen', ascending=False).head(20)"
      ],
      "metadata": {
        "colab": {
          "base_uri": "https://localhost:8080/",
          "height": 707
        },
        "id": "deeTzGeWJR_c",
        "outputId": "b67259a5-9eb9-4f00-8755-480d591ce476"
      },
      "execution_count": null,
      "outputs": [
        {
          "output_type": "execute_result",
          "data": {
            "text/plain": [
              "                          volumen\n",
              "provincia                        \n",
              "Huanuco                  25659.19\n",
              "Andahuaylas              13443.85\n",
              "Pasco                     9153.10\n",
              "Huancayo                  3097.21\n",
              "Ambo                      2335.40\n",
              "Procedencia Desconocida   1779.01\n",
              "Huamanga                  1276.44\n",
              "Junin                     1066.58\n",
              "Tarma                      355.51\n",
              "Jauja                      339.34\n",
              "Huancavelica               300.70\n",
              "Daniel Alcides Carrion     191.00\n",
              "Pachitea                   150.00\n",
              "Abancay                    132.90\n",
              "Concepcion                 106.68\n",
              "Tayacaja                   105.98\n",
              "Barranca                    95.00\n",
              "Lima                        80.00\n",
              "Nazca                       74.00\n",
              "Cangallo                    51.00"
            ],
            "text/html": [
              "\n",
              "  <div id=\"df-b75d0c66-a38f-4aee-89fc-ce335443d590\">\n",
              "    <div class=\"colab-df-container\">\n",
              "      <div>\n",
              "<style scoped>\n",
              "    .dataframe tbody tr th:only-of-type {\n",
              "        vertical-align: middle;\n",
              "    }\n",
              "\n",
              "    .dataframe tbody tr th {\n",
              "        vertical-align: top;\n",
              "    }\n",
              "\n",
              "    .dataframe thead th {\n",
              "        text-align: right;\n",
              "    }\n",
              "</style>\n",
              "<table border=\"1\" class=\"dataframe\">\n",
              "  <thead>\n",
              "    <tr style=\"text-align: right;\">\n",
              "      <th></th>\n",
              "      <th>volumen</th>\n",
              "    </tr>\n",
              "    <tr>\n",
              "      <th>provincia</th>\n",
              "      <th></th>\n",
              "    </tr>\n",
              "  </thead>\n",
              "  <tbody>\n",
              "    <tr>\n",
              "      <th>Huanuco</th>\n",
              "      <td>25659.19</td>\n",
              "    </tr>\n",
              "    <tr>\n",
              "      <th>Andahuaylas</th>\n",
              "      <td>13443.85</td>\n",
              "    </tr>\n",
              "    <tr>\n",
              "      <th>Pasco</th>\n",
              "      <td>9153.10</td>\n",
              "    </tr>\n",
              "    <tr>\n",
              "      <th>Huancayo</th>\n",
              "      <td>3097.21</td>\n",
              "    </tr>\n",
              "    <tr>\n",
              "      <th>Ambo</th>\n",
              "      <td>2335.40</td>\n",
              "    </tr>\n",
              "    <tr>\n",
              "      <th>Procedencia Desconocida</th>\n",
              "      <td>1779.01</td>\n",
              "    </tr>\n",
              "    <tr>\n",
              "      <th>Huamanga</th>\n",
              "      <td>1276.44</td>\n",
              "    </tr>\n",
              "    <tr>\n",
              "      <th>Junin</th>\n",
              "      <td>1066.58</td>\n",
              "    </tr>\n",
              "    <tr>\n",
              "      <th>Tarma</th>\n",
              "      <td>355.51</td>\n",
              "    </tr>\n",
              "    <tr>\n",
              "      <th>Jauja</th>\n",
              "      <td>339.34</td>\n",
              "    </tr>\n",
              "    <tr>\n",
              "      <th>Huancavelica</th>\n",
              "      <td>300.70</td>\n",
              "    </tr>\n",
              "    <tr>\n",
              "      <th>Daniel Alcides Carrion</th>\n",
              "      <td>191.00</td>\n",
              "    </tr>\n",
              "    <tr>\n",
              "      <th>Pachitea</th>\n",
              "      <td>150.00</td>\n",
              "    </tr>\n",
              "    <tr>\n",
              "      <th>Abancay</th>\n",
              "      <td>132.90</td>\n",
              "    </tr>\n",
              "    <tr>\n",
              "      <th>Concepcion</th>\n",
              "      <td>106.68</td>\n",
              "    </tr>\n",
              "    <tr>\n",
              "      <th>Tayacaja</th>\n",
              "      <td>105.98</td>\n",
              "    </tr>\n",
              "    <tr>\n",
              "      <th>Barranca</th>\n",
              "      <td>95.00</td>\n",
              "    </tr>\n",
              "    <tr>\n",
              "      <th>Lima</th>\n",
              "      <td>80.00</td>\n",
              "    </tr>\n",
              "    <tr>\n",
              "      <th>Nazca</th>\n",
              "      <td>74.00</td>\n",
              "    </tr>\n",
              "    <tr>\n",
              "      <th>Cangallo</th>\n",
              "      <td>51.00</td>\n",
              "    </tr>\n",
              "  </tbody>\n",
              "</table>\n",
              "</div>\n",
              "      <button class=\"colab-df-convert\" onclick=\"convertToInteractive('df-b75d0c66-a38f-4aee-89fc-ce335443d590')\"\n",
              "              title=\"Convert this dataframe to an interactive table.\"\n",
              "              style=\"display:none;\">\n",
              "        \n",
              "  <svg xmlns=\"http://www.w3.org/2000/svg\" height=\"24px\"viewBox=\"0 0 24 24\"\n",
              "       width=\"24px\">\n",
              "    <path d=\"M0 0h24v24H0V0z\" fill=\"none\"/>\n",
              "    <path d=\"M18.56 5.44l.94 2.06.94-2.06 2.06-.94-2.06-.94-.94-2.06-.94 2.06-2.06.94zm-11 1L8.5 8.5l.94-2.06 2.06-.94-2.06-.94L8.5 2.5l-.94 2.06-2.06.94zm10 10l.94 2.06.94-2.06 2.06-.94-2.06-.94-.94-2.06-.94 2.06-2.06.94z\"/><path d=\"M17.41 7.96l-1.37-1.37c-.4-.4-.92-.59-1.43-.59-.52 0-1.04.2-1.43.59L10.3 9.45l-7.72 7.72c-.78.78-.78 2.05 0 2.83L4 21.41c.39.39.9.59 1.41.59.51 0 1.02-.2 1.41-.59l7.78-7.78 2.81-2.81c.8-.78.8-2.07 0-2.86zM5.41 20L4 18.59l7.72-7.72 1.47 1.35L5.41 20z\"/>\n",
              "  </svg>\n",
              "      </button>\n",
              "      \n",
              "  <style>\n",
              "    .colab-df-container {\n",
              "      display:flex;\n",
              "      flex-wrap:wrap;\n",
              "      gap: 12px;\n",
              "    }\n",
              "\n",
              "    .colab-df-convert {\n",
              "      background-color: #E8F0FE;\n",
              "      border: none;\n",
              "      border-radius: 50%;\n",
              "      cursor: pointer;\n",
              "      display: none;\n",
              "      fill: #1967D2;\n",
              "      height: 32px;\n",
              "      padding: 0 0 0 0;\n",
              "      width: 32px;\n",
              "    }\n",
              "\n",
              "    .colab-df-convert:hover {\n",
              "      background-color: #E2EBFA;\n",
              "      box-shadow: 0px 1px 2px rgba(60, 64, 67, 0.3), 0px 1px 3px 1px rgba(60, 64, 67, 0.15);\n",
              "      fill: #174EA6;\n",
              "    }\n",
              "\n",
              "    [theme=dark] .colab-df-convert {\n",
              "      background-color: #3B4455;\n",
              "      fill: #D2E3FC;\n",
              "    }\n",
              "\n",
              "    [theme=dark] .colab-df-convert:hover {\n",
              "      background-color: #434B5C;\n",
              "      box-shadow: 0px 1px 3px 1px rgba(0, 0, 0, 0.15);\n",
              "      filter: drop-shadow(0px 1px 2px rgba(0, 0, 0, 0.3));\n",
              "      fill: #FFFFFF;\n",
              "    }\n",
              "  </style>\n",
              "\n",
              "      <script>\n",
              "        const buttonEl =\n",
              "          document.querySelector('#df-b75d0c66-a38f-4aee-89fc-ce335443d590 button.colab-df-convert');\n",
              "        buttonEl.style.display =\n",
              "          google.colab.kernel.accessAllowed ? 'block' : 'none';\n",
              "\n",
              "        async function convertToInteractive(key) {\n",
              "          const element = document.querySelector('#df-b75d0c66-a38f-4aee-89fc-ce335443d590');\n",
              "          const dataTable =\n",
              "            await google.colab.kernel.invokeFunction('convertToInteractive',\n",
              "                                                     [key], {});\n",
              "          if (!dataTable) return;\n",
              "\n",
              "          const docLinkHtml = 'Like what you see? Visit the ' +\n",
              "            '<a target=\"_blank\" href=https://colab.research.google.com/notebooks/data_table.ipynb>data table notebook</a>'\n",
              "            + ' to learn more about interactive tables.';\n",
              "          element.innerHTML = '';\n",
              "          dataTable['output_type'] = 'display_data';\n",
              "          await google.colab.output.renderOutput(dataTable, element);\n",
              "          const docLink = document.createElement('div');\n",
              "          docLink.innerHTML = docLinkHtml;\n",
              "          element.appendChild(docLink);\n",
              "        }\n",
              "      </script>\n",
              "    </div>\n",
              "  </div>\n",
              "  "
            ]
          },
          "metadata": {},
          "execution_count": 85
        }
      ]
    },
    {
      "cell_type": "markdown",
      "source": [
        "### Papa Amarilla"
      ],
      "metadata": {
        "id": "jp4xHWVjUNLo"
      }
    },
    {
      "cell_type": "code",
      "source": [
        "prv_amarilla=df_base1[['provincia','volumen']][df_base1.variedad==\"Papa Amarilla\"].groupby('provincia').sum()\n",
        "prv_amarilla.sort_values(by='volumen', ascending=False).head(20)"
      ],
      "metadata": {
        "colab": {
          "base_uri": "https://localhost:8080/",
          "height": 707
        },
        "id": "tO1iXH9MHcXK",
        "outputId": "e0a2a1c6-6125-46be-9a76-aaa62874edc1"
      },
      "execution_count": null,
      "outputs": [
        {
          "output_type": "execute_result",
          "data": {
            "text/plain": [
              "                           volumen\n",
              "provincia                         \n",
              "Huanuco                  267630.58\n",
              "Ambo                     180330.73\n",
              "Pasco                     23203.96\n",
              "Huancayo                  22528.25\n",
              "Andahuaylas               22086.03\n",
              "Huamanga                  16293.65\n",
              "Tarma                      9092.56\n",
              "Procedencia Desconocida    6303.80\n",
              "Jauja                      3459.60\n",
              "Pachitea                   3407.96\n",
              "Otuzco                     1701.00\n",
              "Junin                      1563.94\n",
              "Huancavelica               1515.12\n",
              "Tayacaja                   1059.68\n",
              "Cangallo                    930.00\n",
              "Abancay                     839.28\n",
              "Dos De Mayo                 590.28\n",
              "Oxapampa                    508.67\n",
              "Huanta                      499.03\n",
              "Sin Especificacion          496.59"
            ],
            "text/html": [
              "\n",
              "  <div id=\"df-447454ea-db93-4b33-98cc-ba95e56b3577\">\n",
              "    <div class=\"colab-df-container\">\n",
              "      <div>\n",
              "<style scoped>\n",
              "    .dataframe tbody tr th:only-of-type {\n",
              "        vertical-align: middle;\n",
              "    }\n",
              "\n",
              "    .dataframe tbody tr th {\n",
              "        vertical-align: top;\n",
              "    }\n",
              "\n",
              "    .dataframe thead th {\n",
              "        text-align: right;\n",
              "    }\n",
              "</style>\n",
              "<table border=\"1\" class=\"dataframe\">\n",
              "  <thead>\n",
              "    <tr style=\"text-align: right;\">\n",
              "      <th></th>\n",
              "      <th>volumen</th>\n",
              "    </tr>\n",
              "    <tr>\n",
              "      <th>provincia</th>\n",
              "      <th></th>\n",
              "    </tr>\n",
              "  </thead>\n",
              "  <tbody>\n",
              "    <tr>\n",
              "      <th>Huanuco</th>\n",
              "      <td>267630.58</td>\n",
              "    </tr>\n",
              "    <tr>\n",
              "      <th>Ambo</th>\n",
              "      <td>180330.73</td>\n",
              "    </tr>\n",
              "    <tr>\n",
              "      <th>Pasco</th>\n",
              "      <td>23203.96</td>\n",
              "    </tr>\n",
              "    <tr>\n",
              "      <th>Huancayo</th>\n",
              "      <td>22528.25</td>\n",
              "    </tr>\n",
              "    <tr>\n",
              "      <th>Andahuaylas</th>\n",
              "      <td>22086.03</td>\n",
              "    </tr>\n",
              "    <tr>\n",
              "      <th>Huamanga</th>\n",
              "      <td>16293.65</td>\n",
              "    </tr>\n",
              "    <tr>\n",
              "      <th>Tarma</th>\n",
              "      <td>9092.56</td>\n",
              "    </tr>\n",
              "    <tr>\n",
              "      <th>Procedencia Desconocida</th>\n",
              "      <td>6303.80</td>\n",
              "    </tr>\n",
              "    <tr>\n",
              "      <th>Jauja</th>\n",
              "      <td>3459.60</td>\n",
              "    </tr>\n",
              "    <tr>\n",
              "      <th>Pachitea</th>\n",
              "      <td>3407.96</td>\n",
              "    </tr>\n",
              "    <tr>\n",
              "      <th>Otuzco</th>\n",
              "      <td>1701.00</td>\n",
              "    </tr>\n",
              "    <tr>\n",
              "      <th>Junin</th>\n",
              "      <td>1563.94</td>\n",
              "    </tr>\n",
              "    <tr>\n",
              "      <th>Huancavelica</th>\n",
              "      <td>1515.12</td>\n",
              "    </tr>\n",
              "    <tr>\n",
              "      <th>Tayacaja</th>\n",
              "      <td>1059.68</td>\n",
              "    </tr>\n",
              "    <tr>\n",
              "      <th>Cangallo</th>\n",
              "      <td>930.00</td>\n",
              "    </tr>\n",
              "    <tr>\n",
              "      <th>Abancay</th>\n",
              "      <td>839.28</td>\n",
              "    </tr>\n",
              "    <tr>\n",
              "      <th>Dos De Mayo</th>\n",
              "      <td>590.28</td>\n",
              "    </tr>\n",
              "    <tr>\n",
              "      <th>Oxapampa</th>\n",
              "      <td>508.67</td>\n",
              "    </tr>\n",
              "    <tr>\n",
              "      <th>Huanta</th>\n",
              "      <td>499.03</td>\n",
              "    </tr>\n",
              "    <tr>\n",
              "      <th>Sin Especificacion</th>\n",
              "      <td>496.59</td>\n",
              "    </tr>\n",
              "  </tbody>\n",
              "</table>\n",
              "</div>\n",
              "      <button class=\"colab-df-convert\" onclick=\"convertToInteractive('df-447454ea-db93-4b33-98cc-ba95e56b3577')\"\n",
              "              title=\"Convert this dataframe to an interactive table.\"\n",
              "              style=\"display:none;\">\n",
              "        \n",
              "  <svg xmlns=\"http://www.w3.org/2000/svg\" height=\"24px\"viewBox=\"0 0 24 24\"\n",
              "       width=\"24px\">\n",
              "    <path d=\"M0 0h24v24H0V0z\" fill=\"none\"/>\n",
              "    <path d=\"M18.56 5.44l.94 2.06.94-2.06 2.06-.94-2.06-.94-.94-2.06-.94 2.06-2.06.94zm-11 1L8.5 8.5l.94-2.06 2.06-.94-2.06-.94L8.5 2.5l-.94 2.06-2.06.94zm10 10l.94 2.06.94-2.06 2.06-.94-2.06-.94-.94-2.06-.94 2.06-2.06.94z\"/><path d=\"M17.41 7.96l-1.37-1.37c-.4-.4-.92-.59-1.43-.59-.52 0-1.04.2-1.43.59L10.3 9.45l-7.72 7.72c-.78.78-.78 2.05 0 2.83L4 21.41c.39.39.9.59 1.41.59.51 0 1.02-.2 1.41-.59l7.78-7.78 2.81-2.81c.8-.78.8-2.07 0-2.86zM5.41 20L4 18.59l7.72-7.72 1.47 1.35L5.41 20z\"/>\n",
              "  </svg>\n",
              "      </button>\n",
              "      \n",
              "  <style>\n",
              "    .colab-df-container {\n",
              "      display:flex;\n",
              "      flex-wrap:wrap;\n",
              "      gap: 12px;\n",
              "    }\n",
              "\n",
              "    .colab-df-convert {\n",
              "      background-color: #E8F0FE;\n",
              "      border: none;\n",
              "      border-radius: 50%;\n",
              "      cursor: pointer;\n",
              "      display: none;\n",
              "      fill: #1967D2;\n",
              "      height: 32px;\n",
              "      padding: 0 0 0 0;\n",
              "      width: 32px;\n",
              "    }\n",
              "\n",
              "    .colab-df-convert:hover {\n",
              "      background-color: #E2EBFA;\n",
              "      box-shadow: 0px 1px 2px rgba(60, 64, 67, 0.3), 0px 1px 3px 1px rgba(60, 64, 67, 0.15);\n",
              "      fill: #174EA6;\n",
              "    }\n",
              "\n",
              "    [theme=dark] .colab-df-convert {\n",
              "      background-color: #3B4455;\n",
              "      fill: #D2E3FC;\n",
              "    }\n",
              "\n",
              "    [theme=dark] .colab-df-convert:hover {\n",
              "      background-color: #434B5C;\n",
              "      box-shadow: 0px 1px 3px 1px rgba(0, 0, 0, 0.15);\n",
              "      filter: drop-shadow(0px 1px 2px rgba(0, 0, 0, 0.3));\n",
              "      fill: #FFFFFF;\n",
              "    }\n",
              "  </style>\n",
              "\n",
              "      <script>\n",
              "        const buttonEl =\n",
              "          document.querySelector('#df-447454ea-db93-4b33-98cc-ba95e56b3577 button.colab-df-convert');\n",
              "        buttonEl.style.display =\n",
              "          google.colab.kernel.accessAllowed ? 'block' : 'none';\n",
              "\n",
              "        async function convertToInteractive(key) {\n",
              "          const element = document.querySelector('#df-447454ea-db93-4b33-98cc-ba95e56b3577');\n",
              "          const dataTable =\n",
              "            await google.colab.kernel.invokeFunction('convertToInteractive',\n",
              "                                                     [key], {});\n",
              "          if (!dataTable) return;\n",
              "\n",
              "          const docLinkHtml = 'Like what you see? Visit the ' +\n",
              "            '<a target=\"_blank\" href=https://colab.research.google.com/notebooks/data_table.ipynb>data table notebook</a>'\n",
              "            + ' to learn more about interactive tables.';\n",
              "          element.innerHTML = '';\n",
              "          dataTable['output_type'] = 'display_data';\n",
              "          await google.colab.output.renderOutput(dataTable, element);\n",
              "          const docLink = document.createElement('div');\n",
              "          docLink.innerHTML = docLinkHtml;\n",
              "          element.appendChild(docLink);\n",
              "        }\n",
              "      </script>\n",
              "    </div>\n",
              "  </div>\n",
              "  "
            ]
          },
          "metadata": {},
          "execution_count": 81
        }
      ]
    },
    {
      "cell_type": "markdown",
      "source": [
        "### Papa Color"
      ],
      "metadata": {
        "id": "p9Mb6Wz8UP1B"
      }
    },
    {
      "cell_type": "code",
      "source": [
        "prv_color=df_base1[['provincia','volumen']][df_base1.variedad==\"Papa Color\"].groupby('provincia').sum()\n",
        "prv_color.sort_values(by='volumen', ascending=False).head(20)"
      ],
      "metadata": {
        "colab": {
          "base_uri": "https://localhost:8080/",
          "height": 707
        },
        "id": "5E_mrgdiJ_It",
        "outputId": "25817844-5e47-4e26-e37b-14439e6dd097"
      },
      "execution_count": null,
      "outputs": [
        {
          "output_type": "execute_result",
          "data": {
            "text/plain": [
              "                volumen\n",
              "provincia              \n",
              "Huanuco       504661.90\n",
              "Pasco         227303.03\n",
              "Huamanga      159766.66\n",
              "Huancayo      140268.71\n",
              "Andahuaylas   102378.62\n",
              "Barranca       81029.10\n",
              "Tarma          71427.46\n",
              "Ica            63855.36\n",
              "Jauja          62850.24\n",
              "Ambo           50789.32\n",
              "Nazca          47683.17\n",
              "Huaral         37784.96\n",
              "Arequipa       30975.68\n",
              "Canete         25965.56\n",
              "Junin          21790.10\n",
              "Huancavelica   19058.68\n",
              "Huaura         16130.04\n",
              "Trujillo       14956.29\n",
              "Tayacaja       13551.59\n",
              "Lima           12002.45"
            ],
            "text/html": [
              "\n",
              "  <div id=\"df-c7364e40-eb35-41b0-98f5-2e5c1c298408\">\n",
              "    <div class=\"colab-df-container\">\n",
              "      <div>\n",
              "<style scoped>\n",
              "    .dataframe tbody tr th:only-of-type {\n",
              "        vertical-align: middle;\n",
              "    }\n",
              "\n",
              "    .dataframe tbody tr th {\n",
              "        vertical-align: top;\n",
              "    }\n",
              "\n",
              "    .dataframe thead th {\n",
              "        text-align: right;\n",
              "    }\n",
              "</style>\n",
              "<table border=\"1\" class=\"dataframe\">\n",
              "  <thead>\n",
              "    <tr style=\"text-align: right;\">\n",
              "      <th></th>\n",
              "      <th>volumen</th>\n",
              "    </tr>\n",
              "    <tr>\n",
              "      <th>provincia</th>\n",
              "      <th></th>\n",
              "    </tr>\n",
              "  </thead>\n",
              "  <tbody>\n",
              "    <tr>\n",
              "      <th>Huanuco</th>\n",
              "      <td>504661.90</td>\n",
              "    </tr>\n",
              "    <tr>\n",
              "      <th>Pasco</th>\n",
              "      <td>227303.03</td>\n",
              "    </tr>\n",
              "    <tr>\n",
              "      <th>Huamanga</th>\n",
              "      <td>159766.66</td>\n",
              "    </tr>\n",
              "    <tr>\n",
              "      <th>Huancayo</th>\n",
              "      <td>140268.71</td>\n",
              "    </tr>\n",
              "    <tr>\n",
              "      <th>Andahuaylas</th>\n",
              "      <td>102378.62</td>\n",
              "    </tr>\n",
              "    <tr>\n",
              "      <th>Barranca</th>\n",
              "      <td>81029.10</td>\n",
              "    </tr>\n",
              "    <tr>\n",
              "      <th>Tarma</th>\n",
              "      <td>71427.46</td>\n",
              "    </tr>\n",
              "    <tr>\n",
              "      <th>Ica</th>\n",
              "      <td>63855.36</td>\n",
              "    </tr>\n",
              "    <tr>\n",
              "      <th>Jauja</th>\n",
              "      <td>62850.24</td>\n",
              "    </tr>\n",
              "    <tr>\n",
              "      <th>Ambo</th>\n",
              "      <td>50789.32</td>\n",
              "    </tr>\n",
              "    <tr>\n",
              "      <th>Nazca</th>\n",
              "      <td>47683.17</td>\n",
              "    </tr>\n",
              "    <tr>\n",
              "      <th>Huaral</th>\n",
              "      <td>37784.96</td>\n",
              "    </tr>\n",
              "    <tr>\n",
              "      <th>Arequipa</th>\n",
              "      <td>30975.68</td>\n",
              "    </tr>\n",
              "    <tr>\n",
              "      <th>Canete</th>\n",
              "      <td>25965.56</td>\n",
              "    </tr>\n",
              "    <tr>\n",
              "      <th>Junin</th>\n",
              "      <td>21790.10</td>\n",
              "    </tr>\n",
              "    <tr>\n",
              "      <th>Huancavelica</th>\n",
              "      <td>19058.68</td>\n",
              "    </tr>\n",
              "    <tr>\n",
              "      <th>Huaura</th>\n",
              "      <td>16130.04</td>\n",
              "    </tr>\n",
              "    <tr>\n",
              "      <th>Trujillo</th>\n",
              "      <td>14956.29</td>\n",
              "    </tr>\n",
              "    <tr>\n",
              "      <th>Tayacaja</th>\n",
              "      <td>13551.59</td>\n",
              "    </tr>\n",
              "    <tr>\n",
              "      <th>Lima</th>\n",
              "      <td>12002.45</td>\n",
              "    </tr>\n",
              "  </tbody>\n",
              "</table>\n",
              "</div>\n",
              "      <button class=\"colab-df-convert\" onclick=\"convertToInteractive('df-c7364e40-eb35-41b0-98f5-2e5c1c298408')\"\n",
              "              title=\"Convert this dataframe to an interactive table.\"\n",
              "              style=\"display:none;\">\n",
              "        \n",
              "  <svg xmlns=\"http://www.w3.org/2000/svg\" height=\"24px\"viewBox=\"0 0 24 24\"\n",
              "       width=\"24px\">\n",
              "    <path d=\"M0 0h24v24H0V0z\" fill=\"none\"/>\n",
              "    <path d=\"M18.56 5.44l.94 2.06.94-2.06 2.06-.94-2.06-.94-.94-2.06-.94 2.06-2.06.94zm-11 1L8.5 8.5l.94-2.06 2.06-.94-2.06-.94L8.5 2.5l-.94 2.06-2.06.94zm10 10l.94 2.06.94-2.06 2.06-.94-2.06-.94-.94-2.06-.94 2.06-2.06.94z\"/><path d=\"M17.41 7.96l-1.37-1.37c-.4-.4-.92-.59-1.43-.59-.52 0-1.04.2-1.43.59L10.3 9.45l-7.72 7.72c-.78.78-.78 2.05 0 2.83L4 21.41c.39.39.9.59 1.41.59.51 0 1.02-.2 1.41-.59l7.78-7.78 2.81-2.81c.8-.78.8-2.07 0-2.86zM5.41 20L4 18.59l7.72-7.72 1.47 1.35L5.41 20z\"/>\n",
              "  </svg>\n",
              "      </button>\n",
              "      \n",
              "  <style>\n",
              "    .colab-df-container {\n",
              "      display:flex;\n",
              "      flex-wrap:wrap;\n",
              "      gap: 12px;\n",
              "    }\n",
              "\n",
              "    .colab-df-convert {\n",
              "      background-color: #E8F0FE;\n",
              "      border: none;\n",
              "      border-radius: 50%;\n",
              "      cursor: pointer;\n",
              "      display: none;\n",
              "      fill: #1967D2;\n",
              "      height: 32px;\n",
              "      padding: 0 0 0 0;\n",
              "      width: 32px;\n",
              "    }\n",
              "\n",
              "    .colab-df-convert:hover {\n",
              "      background-color: #E2EBFA;\n",
              "      box-shadow: 0px 1px 2px rgba(60, 64, 67, 0.3), 0px 1px 3px 1px rgba(60, 64, 67, 0.15);\n",
              "      fill: #174EA6;\n",
              "    }\n",
              "\n",
              "    [theme=dark] .colab-df-convert {\n",
              "      background-color: #3B4455;\n",
              "      fill: #D2E3FC;\n",
              "    }\n",
              "\n",
              "    [theme=dark] .colab-df-convert:hover {\n",
              "      background-color: #434B5C;\n",
              "      box-shadow: 0px 1px 3px 1px rgba(0, 0, 0, 0.15);\n",
              "      filter: drop-shadow(0px 1px 2px rgba(0, 0, 0, 0.3));\n",
              "      fill: #FFFFFF;\n",
              "    }\n",
              "  </style>\n",
              "\n",
              "      <script>\n",
              "        const buttonEl =\n",
              "          document.querySelector('#df-c7364e40-eb35-41b0-98f5-2e5c1c298408 button.colab-df-convert');\n",
              "        buttonEl.style.display =\n",
              "          google.colab.kernel.accessAllowed ? 'block' : 'none';\n",
              "\n",
              "        async function convertToInteractive(key) {\n",
              "          const element = document.querySelector('#df-c7364e40-eb35-41b0-98f5-2e5c1c298408');\n",
              "          const dataTable =\n",
              "            await google.colab.kernel.invokeFunction('convertToInteractive',\n",
              "                                                     [key], {});\n",
              "          if (!dataTable) return;\n",
              "\n",
              "          const docLinkHtml = 'Like what you see? Visit the ' +\n",
              "            '<a target=\"_blank\" href=https://colab.research.google.com/notebooks/data_table.ipynb>data table notebook</a>'\n",
              "            + ' to learn more about interactive tables.';\n",
              "          element.innerHTML = '';\n",
              "          dataTable['output_type'] = 'display_data';\n",
              "          await google.colab.output.renderOutput(dataTable, element);\n",
              "          const docLink = document.createElement('div');\n",
              "          docLink.innerHTML = docLinkHtml;\n",
              "          element.appendChild(docLink);\n",
              "        }\n",
              "      </script>\n",
              "    </div>\n",
              "  </div>\n",
              "  "
            ]
          },
          "metadata": {},
          "execution_count": 86
        }
      ]
    },
    {
      "cell_type": "markdown",
      "source": [
        "### Papa Unica"
      ],
      "metadata": {
        "id": "Sq9qylEnbQwZ"
      }
    },
    {
      "cell_type": "code",
      "source": [
        "prv_unica=df_base1[['provincia','volumen']][df_base1.variedad==\"Papa Unica\"].groupby('provincia').sum()\n",
        "prv_unica.sort_values(by='volumen', ascending=False).head(20)"
      ],
      "metadata": {
        "colab": {
          "base_uri": "https://localhost:8080/",
          "height": 707
        },
        "id": "9aeIYCRubXXy",
        "outputId": "66d6cc04-2ffb-4558-e89e-102fb8b90ba1"
      },
      "execution_count": 82,
      "outputs": [
        {
          "output_type": "execute_result",
          "data": {
            "text/plain": [
              "                 volumen\n",
              "provincia               \n",
              "Arequipa         31016.0\n",
              "Barranca         27306.0\n",
              "Ica              24169.0\n",
              "Huaral           18174.0\n",
              "Nazca            14663.0\n",
              "Canete            8486.0\n",
              "Huaura            7834.0\n",
              "Huancayo          6080.0\n",
              "Huanuco           3868.0\n",
              "Jauja             3583.0\n",
              "Tarma             3368.0\n",
              "Lima              2782.0\n",
              "Huamanga          1994.0\n",
              "Huancavelica       526.0\n",
              "Ambo               480.0\n",
              "Pisco              449.0\n",
              "Andahuaylas        346.0\n",
              "Palpa              330.0\n",
              "Sanchez Carrion    310.0\n",
              "Pasco              269.0"
            ],
            "text/html": [
              "\n",
              "  <div id=\"df-11afa49a-71b4-486b-b4bc-ae5fabd98588\">\n",
              "    <div class=\"colab-df-container\">\n",
              "      <div>\n",
              "<style scoped>\n",
              "    .dataframe tbody tr th:only-of-type {\n",
              "        vertical-align: middle;\n",
              "    }\n",
              "\n",
              "    .dataframe tbody tr th {\n",
              "        vertical-align: top;\n",
              "    }\n",
              "\n",
              "    .dataframe thead th {\n",
              "        text-align: right;\n",
              "    }\n",
              "</style>\n",
              "<table border=\"1\" class=\"dataframe\">\n",
              "  <thead>\n",
              "    <tr style=\"text-align: right;\">\n",
              "      <th></th>\n",
              "      <th>volumen</th>\n",
              "    </tr>\n",
              "    <tr>\n",
              "      <th>provincia</th>\n",
              "      <th></th>\n",
              "    </tr>\n",
              "  </thead>\n",
              "  <tbody>\n",
              "    <tr>\n",
              "      <th>Arequipa</th>\n",
              "      <td>31016.0</td>\n",
              "    </tr>\n",
              "    <tr>\n",
              "      <th>Barranca</th>\n",
              "      <td>27306.0</td>\n",
              "    </tr>\n",
              "    <tr>\n",
              "      <th>Ica</th>\n",
              "      <td>24169.0</td>\n",
              "    </tr>\n",
              "    <tr>\n",
              "      <th>Huaral</th>\n",
              "      <td>18174.0</td>\n",
              "    </tr>\n",
              "    <tr>\n",
              "      <th>Nazca</th>\n",
              "      <td>14663.0</td>\n",
              "    </tr>\n",
              "    <tr>\n",
              "      <th>Canete</th>\n",
              "      <td>8486.0</td>\n",
              "    </tr>\n",
              "    <tr>\n",
              "      <th>Huaura</th>\n",
              "      <td>7834.0</td>\n",
              "    </tr>\n",
              "    <tr>\n",
              "      <th>Huancayo</th>\n",
              "      <td>6080.0</td>\n",
              "    </tr>\n",
              "    <tr>\n",
              "      <th>Huanuco</th>\n",
              "      <td>3868.0</td>\n",
              "    </tr>\n",
              "    <tr>\n",
              "      <th>Jauja</th>\n",
              "      <td>3583.0</td>\n",
              "    </tr>\n",
              "    <tr>\n",
              "      <th>Tarma</th>\n",
              "      <td>3368.0</td>\n",
              "    </tr>\n",
              "    <tr>\n",
              "      <th>Lima</th>\n",
              "      <td>2782.0</td>\n",
              "    </tr>\n",
              "    <tr>\n",
              "      <th>Huamanga</th>\n",
              "      <td>1994.0</td>\n",
              "    </tr>\n",
              "    <tr>\n",
              "      <th>Huancavelica</th>\n",
              "      <td>526.0</td>\n",
              "    </tr>\n",
              "    <tr>\n",
              "      <th>Ambo</th>\n",
              "      <td>480.0</td>\n",
              "    </tr>\n",
              "    <tr>\n",
              "      <th>Pisco</th>\n",
              "      <td>449.0</td>\n",
              "    </tr>\n",
              "    <tr>\n",
              "      <th>Andahuaylas</th>\n",
              "      <td>346.0</td>\n",
              "    </tr>\n",
              "    <tr>\n",
              "      <th>Palpa</th>\n",
              "      <td>330.0</td>\n",
              "    </tr>\n",
              "    <tr>\n",
              "      <th>Sanchez Carrion</th>\n",
              "      <td>310.0</td>\n",
              "    </tr>\n",
              "    <tr>\n",
              "      <th>Pasco</th>\n",
              "      <td>269.0</td>\n",
              "    </tr>\n",
              "  </tbody>\n",
              "</table>\n",
              "</div>\n",
              "      <button class=\"colab-df-convert\" onclick=\"convertToInteractive('df-11afa49a-71b4-486b-b4bc-ae5fabd98588')\"\n",
              "              title=\"Convert this dataframe to an interactive table.\"\n",
              "              style=\"display:none;\">\n",
              "        \n",
              "  <svg xmlns=\"http://www.w3.org/2000/svg\" height=\"24px\"viewBox=\"0 0 24 24\"\n",
              "       width=\"24px\">\n",
              "    <path d=\"M0 0h24v24H0V0z\" fill=\"none\"/>\n",
              "    <path d=\"M18.56 5.44l.94 2.06.94-2.06 2.06-.94-2.06-.94-.94-2.06-.94 2.06-2.06.94zm-11 1L8.5 8.5l.94-2.06 2.06-.94-2.06-.94L8.5 2.5l-.94 2.06-2.06.94zm10 10l.94 2.06.94-2.06 2.06-.94-2.06-.94-.94-2.06-.94 2.06-2.06.94z\"/><path d=\"M17.41 7.96l-1.37-1.37c-.4-.4-.92-.59-1.43-.59-.52 0-1.04.2-1.43.59L10.3 9.45l-7.72 7.72c-.78.78-.78 2.05 0 2.83L4 21.41c.39.39.9.59 1.41.59.51 0 1.02-.2 1.41-.59l7.78-7.78 2.81-2.81c.8-.78.8-2.07 0-2.86zM5.41 20L4 18.59l7.72-7.72 1.47 1.35L5.41 20z\"/>\n",
              "  </svg>\n",
              "      </button>\n",
              "      \n",
              "  <style>\n",
              "    .colab-df-container {\n",
              "      display:flex;\n",
              "      flex-wrap:wrap;\n",
              "      gap: 12px;\n",
              "    }\n",
              "\n",
              "    .colab-df-convert {\n",
              "      background-color: #E8F0FE;\n",
              "      border: none;\n",
              "      border-radius: 50%;\n",
              "      cursor: pointer;\n",
              "      display: none;\n",
              "      fill: #1967D2;\n",
              "      height: 32px;\n",
              "      padding: 0 0 0 0;\n",
              "      width: 32px;\n",
              "    }\n",
              "\n",
              "    .colab-df-convert:hover {\n",
              "      background-color: #E2EBFA;\n",
              "      box-shadow: 0px 1px 2px rgba(60, 64, 67, 0.3), 0px 1px 3px 1px rgba(60, 64, 67, 0.15);\n",
              "      fill: #174EA6;\n",
              "    }\n",
              "\n",
              "    [theme=dark] .colab-df-convert {\n",
              "      background-color: #3B4455;\n",
              "      fill: #D2E3FC;\n",
              "    }\n",
              "\n",
              "    [theme=dark] .colab-df-convert:hover {\n",
              "      background-color: #434B5C;\n",
              "      box-shadow: 0px 1px 3px 1px rgba(0, 0, 0, 0.15);\n",
              "      filter: drop-shadow(0px 1px 2px rgba(0, 0, 0, 0.3));\n",
              "      fill: #FFFFFF;\n",
              "    }\n",
              "  </style>\n",
              "\n",
              "      <script>\n",
              "        const buttonEl =\n",
              "          document.querySelector('#df-11afa49a-71b4-486b-b4bc-ae5fabd98588 button.colab-df-convert');\n",
              "        buttonEl.style.display =\n",
              "          google.colab.kernel.accessAllowed ? 'block' : 'none';\n",
              "\n",
              "        async function convertToInteractive(key) {\n",
              "          const element = document.querySelector('#df-11afa49a-71b4-486b-b4bc-ae5fabd98588');\n",
              "          const dataTable =\n",
              "            await google.colab.kernel.invokeFunction('convertToInteractive',\n",
              "                                                     [key], {});\n",
              "          if (!dataTable) return;\n",
              "\n",
              "          const docLinkHtml = 'Like what you see? Visit the ' +\n",
              "            '<a target=\"_blank\" href=https://colab.research.google.com/notebooks/data_table.ipynb>data table notebook</a>'\n",
              "            + ' to learn more about interactive tables.';\n",
              "          element.innerHTML = '';\n",
              "          dataTable['output_type'] = 'display_data';\n",
              "          await google.colab.output.renderOutput(dataTable, element);\n",
              "          const docLink = document.createElement('div');\n",
              "          docLink.innerHTML = docLinkHtml;\n",
              "          element.appendChild(docLink);\n",
              "        }\n",
              "      </script>\n",
              "    </div>\n",
              "  </div>\n",
              "  "
            ]
          },
          "metadata": {},
          "execution_count": 82
        }
      ]
    },
    {
      "cell_type": "markdown",
      "source": [
        "## Papa Peruanita"
      ],
      "metadata": {
        "id": "BMIGqQaxbjlM"
      }
    },
    {
      "cell_type": "code",
      "source": [
        "prv_peruanita=df_base1[['provincia','volumen']][df_base1.variedad==\"Papa Peruanita\"].groupby('provincia').sum()\n",
        "prv_peruanita.sort_values(by='volumen', ascending=False).head(20)"
      ],
      "metadata": {
        "colab": {
          "base_uri": "https://localhost:8080/",
          "height": 707
        },
        "id": "gKm7-N2dbnvZ",
        "outputId": "e07eb02c-b4c7-4bb4-e70d-6c173c005083"
      },
      "execution_count": 83,
      "outputs": [
        {
          "output_type": "execute_result",
          "data": {
            "text/plain": [
              "                   volumen\n",
              "provincia                 \n",
              "Andahuaylas         8719.0\n",
              "Huamanga            6667.0\n",
              "Huancayo            3490.0\n",
              "Huanuco             2429.0\n",
              "Pasco                322.0\n",
              "Ambo                 222.0\n",
              "Tarma                170.0\n",
              "Abancay              165.0\n",
              "Tayacaja             125.0\n",
              "Jauja                122.0\n",
              "Huancavelica         101.0\n",
              "Junin                 87.0\n",
              "Cangallo              85.0\n",
              "Pachitea              62.0\n",
              "Otuzco                57.0\n",
              "Santiago De Chuco     57.0\n",
              "Trujillo              36.0\n",
              "Huanta                35.0\n",
              "Ica                   30.0\n",
              "Aymaraes              29.0"
            ],
            "text/html": [
              "\n",
              "  <div id=\"df-78c4ebc5-d754-492f-8132-61c6aa478f77\">\n",
              "    <div class=\"colab-df-container\">\n",
              "      <div>\n",
              "<style scoped>\n",
              "    .dataframe tbody tr th:only-of-type {\n",
              "        vertical-align: middle;\n",
              "    }\n",
              "\n",
              "    .dataframe tbody tr th {\n",
              "        vertical-align: top;\n",
              "    }\n",
              "\n",
              "    .dataframe thead th {\n",
              "        text-align: right;\n",
              "    }\n",
              "</style>\n",
              "<table border=\"1\" class=\"dataframe\">\n",
              "  <thead>\n",
              "    <tr style=\"text-align: right;\">\n",
              "      <th></th>\n",
              "      <th>volumen</th>\n",
              "    </tr>\n",
              "    <tr>\n",
              "      <th>provincia</th>\n",
              "      <th></th>\n",
              "    </tr>\n",
              "  </thead>\n",
              "  <tbody>\n",
              "    <tr>\n",
              "      <th>Andahuaylas</th>\n",
              "      <td>8719.0</td>\n",
              "    </tr>\n",
              "    <tr>\n",
              "      <th>Huamanga</th>\n",
              "      <td>6667.0</td>\n",
              "    </tr>\n",
              "    <tr>\n",
              "      <th>Huancayo</th>\n",
              "      <td>3490.0</td>\n",
              "    </tr>\n",
              "    <tr>\n",
              "      <th>Huanuco</th>\n",
              "      <td>2429.0</td>\n",
              "    </tr>\n",
              "    <tr>\n",
              "      <th>Pasco</th>\n",
              "      <td>322.0</td>\n",
              "    </tr>\n",
              "    <tr>\n",
              "      <th>Ambo</th>\n",
              "      <td>222.0</td>\n",
              "    </tr>\n",
              "    <tr>\n",
              "      <th>Tarma</th>\n",
              "      <td>170.0</td>\n",
              "    </tr>\n",
              "    <tr>\n",
              "      <th>Abancay</th>\n",
              "      <td>165.0</td>\n",
              "    </tr>\n",
              "    <tr>\n",
              "      <th>Tayacaja</th>\n",
              "      <td>125.0</td>\n",
              "    </tr>\n",
              "    <tr>\n",
              "      <th>Jauja</th>\n",
              "      <td>122.0</td>\n",
              "    </tr>\n",
              "    <tr>\n",
              "      <th>Huancavelica</th>\n",
              "      <td>101.0</td>\n",
              "    </tr>\n",
              "    <tr>\n",
              "      <th>Junin</th>\n",
              "      <td>87.0</td>\n",
              "    </tr>\n",
              "    <tr>\n",
              "      <th>Cangallo</th>\n",
              "      <td>85.0</td>\n",
              "    </tr>\n",
              "    <tr>\n",
              "      <th>Pachitea</th>\n",
              "      <td>62.0</td>\n",
              "    </tr>\n",
              "    <tr>\n",
              "      <th>Otuzco</th>\n",
              "      <td>57.0</td>\n",
              "    </tr>\n",
              "    <tr>\n",
              "      <th>Santiago De Chuco</th>\n",
              "      <td>57.0</td>\n",
              "    </tr>\n",
              "    <tr>\n",
              "      <th>Trujillo</th>\n",
              "      <td>36.0</td>\n",
              "    </tr>\n",
              "    <tr>\n",
              "      <th>Huanta</th>\n",
              "      <td>35.0</td>\n",
              "    </tr>\n",
              "    <tr>\n",
              "      <th>Ica</th>\n",
              "      <td>30.0</td>\n",
              "    </tr>\n",
              "    <tr>\n",
              "      <th>Aymaraes</th>\n",
              "      <td>29.0</td>\n",
              "    </tr>\n",
              "  </tbody>\n",
              "</table>\n",
              "</div>\n",
              "      <button class=\"colab-df-convert\" onclick=\"convertToInteractive('df-78c4ebc5-d754-492f-8132-61c6aa478f77')\"\n",
              "              title=\"Convert this dataframe to an interactive table.\"\n",
              "              style=\"display:none;\">\n",
              "        \n",
              "  <svg xmlns=\"http://www.w3.org/2000/svg\" height=\"24px\"viewBox=\"0 0 24 24\"\n",
              "       width=\"24px\">\n",
              "    <path d=\"M0 0h24v24H0V0z\" fill=\"none\"/>\n",
              "    <path d=\"M18.56 5.44l.94 2.06.94-2.06 2.06-.94-2.06-.94-.94-2.06-.94 2.06-2.06.94zm-11 1L8.5 8.5l.94-2.06 2.06-.94-2.06-.94L8.5 2.5l-.94 2.06-2.06.94zm10 10l.94 2.06.94-2.06 2.06-.94-2.06-.94-.94-2.06-.94 2.06-2.06.94z\"/><path d=\"M17.41 7.96l-1.37-1.37c-.4-.4-.92-.59-1.43-.59-.52 0-1.04.2-1.43.59L10.3 9.45l-7.72 7.72c-.78.78-.78 2.05 0 2.83L4 21.41c.39.39.9.59 1.41.59.51 0 1.02-.2 1.41-.59l7.78-7.78 2.81-2.81c.8-.78.8-2.07 0-2.86zM5.41 20L4 18.59l7.72-7.72 1.47 1.35L5.41 20z\"/>\n",
              "  </svg>\n",
              "      </button>\n",
              "      \n",
              "  <style>\n",
              "    .colab-df-container {\n",
              "      display:flex;\n",
              "      flex-wrap:wrap;\n",
              "      gap: 12px;\n",
              "    }\n",
              "\n",
              "    .colab-df-convert {\n",
              "      background-color: #E8F0FE;\n",
              "      border: none;\n",
              "      border-radius: 50%;\n",
              "      cursor: pointer;\n",
              "      display: none;\n",
              "      fill: #1967D2;\n",
              "      height: 32px;\n",
              "      padding: 0 0 0 0;\n",
              "      width: 32px;\n",
              "    }\n",
              "\n",
              "    .colab-df-convert:hover {\n",
              "      background-color: #E2EBFA;\n",
              "      box-shadow: 0px 1px 2px rgba(60, 64, 67, 0.3), 0px 1px 3px 1px rgba(60, 64, 67, 0.15);\n",
              "      fill: #174EA6;\n",
              "    }\n",
              "\n",
              "    [theme=dark] .colab-df-convert {\n",
              "      background-color: #3B4455;\n",
              "      fill: #D2E3FC;\n",
              "    }\n",
              "\n",
              "    [theme=dark] .colab-df-convert:hover {\n",
              "      background-color: #434B5C;\n",
              "      box-shadow: 0px 1px 3px 1px rgba(0, 0, 0, 0.15);\n",
              "      filter: drop-shadow(0px 1px 2px rgba(0, 0, 0, 0.3));\n",
              "      fill: #FFFFFF;\n",
              "    }\n",
              "  </style>\n",
              "\n",
              "      <script>\n",
              "        const buttonEl =\n",
              "          document.querySelector('#df-78c4ebc5-d754-492f-8132-61c6aa478f77 button.colab-df-convert');\n",
              "        buttonEl.style.display =\n",
              "          google.colab.kernel.accessAllowed ? 'block' : 'none';\n",
              "\n",
              "        async function convertToInteractive(key) {\n",
              "          const element = document.querySelector('#df-78c4ebc5-d754-492f-8132-61c6aa478f77');\n",
              "          const dataTable =\n",
              "            await google.colab.kernel.invokeFunction('convertToInteractive',\n",
              "                                                     [key], {});\n",
              "          if (!dataTable) return;\n",
              "\n",
              "          const docLinkHtml = 'Like what you see? Visit the ' +\n",
              "            '<a target=\"_blank\" href=https://colab.research.google.com/notebooks/data_table.ipynb>data table notebook</a>'\n",
              "            + ' to learn more about interactive tables.';\n",
              "          element.innerHTML = '';\n",
              "          dataTable['output_type'] = 'display_data';\n",
              "          await google.colab.output.renderOutput(dataTable, element);\n",
              "          const docLink = document.createElement('div');\n",
              "          docLink.innerHTML = docLinkHtml;\n",
              "          element.appendChild(docLink);\n",
              "        }\n",
              "      </script>\n",
              "    </div>\n",
              "  </div>\n",
              "  "
            ]
          },
          "metadata": {},
          "execution_count": 83
        }
      ]
    },
    {
      "cell_type": "markdown",
      "source": [
        "Vemos que en las variedades Blanca, Yungay, Canchan, Color y Unica la sierra compite con la costa.  En variedades como Huayro, Amarilla y Peruanita la oferta sólo proviene de la sierra."
      ],
      "metadata": {
        "id": "o4U3ugb_kfFH"
      }
    },
    {
      "cell_type": "markdown",
      "source": [
        "## 3.3. Peso relativo de las provincias"
      ],
      "metadata": {
        "id": "p1986stZeuyx"
      }
    },
    {
      "cell_type": "markdown",
      "source": [
        "Creamos variable de valor (precio*volumen) para cada observación. Esta variable está en millones de soles"
      ],
      "metadata": {
        "id": "2FEAYM8hUmn_"
      }
    },
    {
      "cell_type": "code",
      "source": [
        "df_base1['valor']=(df_base1['volumen']*df_base1['precio'])/1000"
      ],
      "metadata": {
        "colab": {
          "base_uri": "https://localhost:8080/"
        },
        "id": "Hw4LBHQ6e4Fg",
        "outputId": "745e214d-97d2-4341-aef5-499eb20c18b9"
      },
      "execution_count": 88,
      "outputs": [
        {
          "output_type": "stream",
          "name": "stderr",
          "text": [
            "<ipython-input-88-7307ac343a81>:1: SettingWithCopyWarning: \n",
            "A value is trying to be set on a copy of a slice from a DataFrame.\n",
            "Try using .loc[row_indexer,col_indexer] = value instead\n",
            "\n",
            "See the caveats in the documentation: https://pandas.pydata.org/pandas-docs/stable/user_guide/indexing.html#returning-a-view-versus-a-copy\n",
            "  df_base1['valor']=(df_base1['volumen']*df_base1['precio'])/1000\n"
          ]
        }
      ]
    },
    {
      "cell_type": "code",
      "source": [
        "df_base1.valor.describe()"
      ],
      "metadata": {
        "colab": {
          "base_uri": "https://localhost:8080/"
        },
        "id": "buR5kft0fJSP",
        "outputId": "3f0c5aad-a25f-434f-f81a-6d6de7376bd5"
      },
      "execution_count": 89,
      "outputs": [
        {
          "output_type": "execute_result",
          "data": {
            "text/plain": [
              "count    49181.000000\n",
              "mean         0.188129\n",
              "std          0.732305\n",
              "min          0.000000\n",
              "25%          0.000000\n",
              "50%          0.000000\n",
              "75%          0.037410\n",
              "max         17.654500\n",
              "Name: valor, dtype: float64"
            ]
          },
          "metadata": {},
          "execution_count": 89
        }
      ]
    },
    {
      "cell_type": "markdown",
      "source": [
        "Generamos ranking de provincias de acuerdo a valor total de papa enviada a Lima entre 1997 y mayo 2021"
      ],
      "metadata": {
        "id": "DJpmspLlfNe4"
      }
    },
    {
      "cell_type": "code",
      "source": [
        "rank_prov=df_base1.groupby(df_base.provincia)['valor'].sum()"
      ],
      "metadata": {
        "id": "EyiQq2dBfWP3"
      },
      "execution_count": 90,
      "outputs": []
    },
    {
      "cell_type": "code",
      "source": [
        "prov_19=rank_prov.sort_values(ascending=False)[0:19].sum()"
      ],
      "metadata": {
        "id": "vcC9Qd-Df8Fr"
      },
      "execution_count": 93,
      "outputs": []
    },
    {
      "cell_type": "code",
      "source": [
        "prov_resto=rank_prov.sort_values(ascending=False)[19:121].sum()"
      ],
      "metadata": {
        "id": "Djud9xjUgg8L"
      },
      "execution_count": 94,
      "outputs": []
    },
    {
      "cell_type": "code",
      "source": [
        "prov_19/(prov_19+prov_resto)\n"
      ],
      "metadata": {
        "colab": {
          "base_uri": "https://localhost:8080/"
        },
        "id": "PviqgXGygmea",
        "outputId": "c1dfeff9-3aea-4be5-801e-85a134b0de97"
      },
      "execution_count": 95,
      "outputs": [
        {
          "output_type": "execute_result",
          "data": {
            "text/plain": [
              "0.9641109874444748"
            ]
          },
          "metadata": {},
          "execution_count": 95
        }
      ]
    },
    {
      "cell_type": "markdown",
      "source": [
        "19 provincias generan el 96.4% del valor total de la papa enviada a Lima, entonces tiene sentido acotar la base solamente a esas 20 provincias"
      ],
      "metadata": {
        "id": "goz7lBgWg0GQ"
      }
    },
    {
      "cell_type": "code",
      "source": [
        "rank_prov.sort_values(ascending=False)[0:19]"
      ],
      "metadata": {
        "colab": {
          "base_uri": "https://localhost:8080/"
        },
        "id": "WOYmnh7-hIs9",
        "outputId": "6d7b193f-c422-4cc1-9ad4-5e7c95558e62"
      },
      "execution_count": 96,
      "outputs": [
        {
          "output_type": "execute_result",
          "data": {
            "text/plain": [
              "provincia\n",
              "Huanuco         1960.775207\n",
              "Huamanga        1026.134496\n",
              "Huancayo         988.441447\n",
              "Tarma            585.896933\n",
              "Ambo             550.784248\n",
              "Pasco            518.783818\n",
              "Jauja            458.873311\n",
              "Barranca         456.123681\n",
              "Huaral           403.905902\n",
              "Ica              360.219732\n",
              "Nazca            320.245712\n",
              "Arequipa         308.419819\n",
              "Andahuaylas      302.172962\n",
              "Canete           219.975414\n",
              "Huaura           137.658777\n",
              "Lima              91.960116\n",
              "Huancavelica      89.124340\n",
              "Tayacaja          72.771886\n",
              "Junin             68.027331\n",
              "Name: valor, dtype: float64"
            ]
          },
          "metadata": {},
          "execution_count": 96
        }
      ]
    },
    {
      "cell_type": "code",
      "source": [
        "df_base2=df_base1[df_base1[\"provincia\"].isin(['Huanuco','Huamanga','Huancayo','Tarma','Ambo','Pasco','Jauja',\n",
        "          'Barranca','Huaral','Ica','Nazca','Arequipa','Andahuaylas','Canete', 'Huaura', 'Lima', \n",
        "          'Huancavelica', 'Tayacaja', 'Junin'])]"
      ],
      "metadata": {
        "id": "Xroq36dQh6Ej"
      },
      "execution_count": 97,
      "outputs": []
    },
    {
      "cell_type": "code",
      "source": [
        "df_base2.provincia.unique()"
      ],
      "metadata": {
        "colab": {
          "base_uri": "https://localhost:8080/"
        },
        "id": "Kvv7RDatlnnh",
        "outputId": "c2bb69c4-4bfa-4077-bb15-7198079ee466"
      },
      "execution_count": 98,
      "outputs": [
        {
          "output_type": "execute_result",
          "data": {
            "text/plain": [
              "array(['Ambo', 'Andahuaylas', 'Arequipa', 'Canete', 'Huamanga',\n",
              "       'Huancavelica', 'Huancayo', 'Huanuco', 'Jauja', 'Junin', 'Lima',\n",
              "       'Pasco', 'Tarma', 'Tayacaja', 'Barranca', 'Huaral', 'Huaura',\n",
              "       'Ica', 'Nazca'], dtype=object)"
            ]
          },
          "metadata": {},
          "execution_count": 98
        }
      ]
    },
    {
      "cell_type": "code",
      "source": [
        "df_base2.describe(include='all')"
      ],
      "metadata": {
        "colab": {
          "base_uri": "https://localhost:8080/",
          "height": 438
        },
        "id": "7WAu4JUkkmmM",
        "outputId": "0336fa5a-394e-437e-f3dd-d07e1c83b6fa"
      },
      "execution_count": 99,
      "outputs": [
        {
          "output_type": "execute_result",
          "data": {
            "text/plain": [
              "           variedad          year provincia    mes       volumen  \\\n",
              "count         27038  27038.000000     27038  27038  27038.000000   \n",
              "unique           11           NaN        19     12           NaN   \n",
              "top     Papa Blanca           NaN  Huancayo   m_05           NaN   \n",
              "freq           5524           NaN      1993   2338           NaN   \n",
              "mean            NaN   2011.343960       NaN    NaN    437.335518   \n",
              "std             NaN      6.808921       NaN    NaN   1279.957867   \n",
              "min             NaN   1997.000000       NaN    NaN      0.000000   \n",
              "25%             NaN   2006.000000       NaN    NaN      0.000000   \n",
              "50%             NaN   2013.000000       NaN    NaN     14.400000   \n",
              "75%             NaN   2017.000000       NaN    NaN    193.000000   \n",
              "max             NaN   2021.000000       NaN    NaN  16033.000000   \n",
              "\n",
              "              precio        ym         valor  \n",
              "count   27038.000000     27038  27038.000000  \n",
              "unique           NaN       291           NaN  \n",
              "top              NaN  2019m_02           NaN  \n",
              "freq             NaN       154           NaN  \n",
              "mean        0.943954       NaN      0.329917  \n",
              "std         0.449100       NaN      0.962372  \n",
              "min         0.280000       NaN      0.000000  \n",
              "25%         0.630000       NaN      0.000000  \n",
              "50%         0.820000       NaN      0.012000  \n",
              "75%         1.150000       NaN      0.161061  \n",
              "max         3.320000       NaN     17.654500  "
            ],
            "text/html": [
              "\n",
              "  <div id=\"df-6b72fd68-d774-46d8-a18c-6f327694ecac\">\n",
              "    <div class=\"colab-df-container\">\n",
              "      <div>\n",
              "<style scoped>\n",
              "    .dataframe tbody tr th:only-of-type {\n",
              "        vertical-align: middle;\n",
              "    }\n",
              "\n",
              "    .dataframe tbody tr th {\n",
              "        vertical-align: top;\n",
              "    }\n",
              "\n",
              "    .dataframe thead th {\n",
              "        text-align: right;\n",
              "    }\n",
              "</style>\n",
              "<table border=\"1\" class=\"dataframe\">\n",
              "  <thead>\n",
              "    <tr style=\"text-align: right;\">\n",
              "      <th></th>\n",
              "      <th>variedad</th>\n",
              "      <th>year</th>\n",
              "      <th>provincia</th>\n",
              "      <th>mes</th>\n",
              "      <th>volumen</th>\n",
              "      <th>precio</th>\n",
              "      <th>ym</th>\n",
              "      <th>valor</th>\n",
              "    </tr>\n",
              "  </thead>\n",
              "  <tbody>\n",
              "    <tr>\n",
              "      <th>count</th>\n",
              "      <td>27038</td>\n",
              "      <td>27038.000000</td>\n",
              "      <td>27038</td>\n",
              "      <td>27038</td>\n",
              "      <td>27038.000000</td>\n",
              "      <td>27038.000000</td>\n",
              "      <td>27038</td>\n",
              "      <td>27038.000000</td>\n",
              "    </tr>\n",
              "    <tr>\n",
              "      <th>unique</th>\n",
              "      <td>11</td>\n",
              "      <td>NaN</td>\n",
              "      <td>19</td>\n",
              "      <td>12</td>\n",
              "      <td>NaN</td>\n",
              "      <td>NaN</td>\n",
              "      <td>291</td>\n",
              "      <td>NaN</td>\n",
              "    </tr>\n",
              "    <tr>\n",
              "      <th>top</th>\n",
              "      <td>Papa Blanca</td>\n",
              "      <td>NaN</td>\n",
              "      <td>Huancayo</td>\n",
              "      <td>m_05</td>\n",
              "      <td>NaN</td>\n",
              "      <td>NaN</td>\n",
              "      <td>2019m_02</td>\n",
              "      <td>NaN</td>\n",
              "    </tr>\n",
              "    <tr>\n",
              "      <th>freq</th>\n",
              "      <td>5524</td>\n",
              "      <td>NaN</td>\n",
              "      <td>1993</td>\n",
              "      <td>2338</td>\n",
              "      <td>NaN</td>\n",
              "      <td>NaN</td>\n",
              "      <td>154</td>\n",
              "      <td>NaN</td>\n",
              "    </tr>\n",
              "    <tr>\n",
              "      <th>mean</th>\n",
              "      <td>NaN</td>\n",
              "      <td>2011.343960</td>\n",
              "      <td>NaN</td>\n",
              "      <td>NaN</td>\n",
              "      <td>437.335518</td>\n",
              "      <td>0.943954</td>\n",
              "      <td>NaN</td>\n",
              "      <td>0.329917</td>\n",
              "    </tr>\n",
              "    <tr>\n",
              "      <th>std</th>\n",
              "      <td>NaN</td>\n",
              "      <td>6.808921</td>\n",
              "      <td>NaN</td>\n",
              "      <td>NaN</td>\n",
              "      <td>1279.957867</td>\n",
              "      <td>0.449100</td>\n",
              "      <td>NaN</td>\n",
              "      <td>0.962372</td>\n",
              "    </tr>\n",
              "    <tr>\n",
              "      <th>min</th>\n",
              "      <td>NaN</td>\n",
              "      <td>1997.000000</td>\n",
              "      <td>NaN</td>\n",
              "      <td>NaN</td>\n",
              "      <td>0.000000</td>\n",
              "      <td>0.280000</td>\n",
              "      <td>NaN</td>\n",
              "      <td>0.000000</td>\n",
              "    </tr>\n",
              "    <tr>\n",
              "      <th>25%</th>\n",
              "      <td>NaN</td>\n",
              "      <td>2006.000000</td>\n",
              "      <td>NaN</td>\n",
              "      <td>NaN</td>\n",
              "      <td>0.000000</td>\n",
              "      <td>0.630000</td>\n",
              "      <td>NaN</td>\n",
              "      <td>0.000000</td>\n",
              "    </tr>\n",
              "    <tr>\n",
              "      <th>50%</th>\n",
              "      <td>NaN</td>\n",
              "      <td>2013.000000</td>\n",
              "      <td>NaN</td>\n",
              "      <td>NaN</td>\n",
              "      <td>14.400000</td>\n",
              "      <td>0.820000</td>\n",
              "      <td>NaN</td>\n",
              "      <td>0.012000</td>\n",
              "    </tr>\n",
              "    <tr>\n",
              "      <th>75%</th>\n",
              "      <td>NaN</td>\n",
              "      <td>2017.000000</td>\n",
              "      <td>NaN</td>\n",
              "      <td>NaN</td>\n",
              "      <td>193.000000</td>\n",
              "      <td>1.150000</td>\n",
              "      <td>NaN</td>\n",
              "      <td>0.161061</td>\n",
              "    </tr>\n",
              "    <tr>\n",
              "      <th>max</th>\n",
              "      <td>NaN</td>\n",
              "      <td>2021.000000</td>\n",
              "      <td>NaN</td>\n",
              "      <td>NaN</td>\n",
              "      <td>16033.000000</td>\n",
              "      <td>3.320000</td>\n",
              "      <td>NaN</td>\n",
              "      <td>17.654500</td>\n",
              "    </tr>\n",
              "  </tbody>\n",
              "</table>\n",
              "</div>\n",
              "      <button class=\"colab-df-convert\" onclick=\"convertToInteractive('df-6b72fd68-d774-46d8-a18c-6f327694ecac')\"\n",
              "              title=\"Convert this dataframe to an interactive table.\"\n",
              "              style=\"display:none;\">\n",
              "        \n",
              "  <svg xmlns=\"http://www.w3.org/2000/svg\" height=\"24px\"viewBox=\"0 0 24 24\"\n",
              "       width=\"24px\">\n",
              "    <path d=\"M0 0h24v24H0V0z\" fill=\"none\"/>\n",
              "    <path d=\"M18.56 5.44l.94 2.06.94-2.06 2.06-.94-2.06-.94-.94-2.06-.94 2.06-2.06.94zm-11 1L8.5 8.5l.94-2.06 2.06-.94-2.06-.94L8.5 2.5l-.94 2.06-2.06.94zm10 10l.94 2.06.94-2.06 2.06-.94-2.06-.94-.94-2.06-.94 2.06-2.06.94z\"/><path d=\"M17.41 7.96l-1.37-1.37c-.4-.4-.92-.59-1.43-.59-.52 0-1.04.2-1.43.59L10.3 9.45l-7.72 7.72c-.78.78-.78 2.05 0 2.83L4 21.41c.39.39.9.59 1.41.59.51 0 1.02-.2 1.41-.59l7.78-7.78 2.81-2.81c.8-.78.8-2.07 0-2.86zM5.41 20L4 18.59l7.72-7.72 1.47 1.35L5.41 20z\"/>\n",
              "  </svg>\n",
              "      </button>\n",
              "      \n",
              "  <style>\n",
              "    .colab-df-container {\n",
              "      display:flex;\n",
              "      flex-wrap:wrap;\n",
              "      gap: 12px;\n",
              "    }\n",
              "\n",
              "    .colab-df-convert {\n",
              "      background-color: #E8F0FE;\n",
              "      border: none;\n",
              "      border-radius: 50%;\n",
              "      cursor: pointer;\n",
              "      display: none;\n",
              "      fill: #1967D2;\n",
              "      height: 32px;\n",
              "      padding: 0 0 0 0;\n",
              "      width: 32px;\n",
              "    }\n",
              "\n",
              "    .colab-df-convert:hover {\n",
              "      background-color: #E2EBFA;\n",
              "      box-shadow: 0px 1px 2px rgba(60, 64, 67, 0.3), 0px 1px 3px 1px rgba(60, 64, 67, 0.15);\n",
              "      fill: #174EA6;\n",
              "    }\n",
              "\n",
              "    [theme=dark] .colab-df-convert {\n",
              "      background-color: #3B4455;\n",
              "      fill: #D2E3FC;\n",
              "    }\n",
              "\n",
              "    [theme=dark] .colab-df-convert:hover {\n",
              "      background-color: #434B5C;\n",
              "      box-shadow: 0px 1px 3px 1px rgba(0, 0, 0, 0.15);\n",
              "      filter: drop-shadow(0px 1px 2px rgba(0, 0, 0, 0.3));\n",
              "      fill: #FFFFFF;\n",
              "    }\n",
              "  </style>\n",
              "\n",
              "      <script>\n",
              "        const buttonEl =\n",
              "          document.querySelector('#df-6b72fd68-d774-46d8-a18c-6f327694ecac button.colab-df-convert');\n",
              "        buttonEl.style.display =\n",
              "          google.colab.kernel.accessAllowed ? 'block' : 'none';\n",
              "\n",
              "        async function convertToInteractive(key) {\n",
              "          const element = document.querySelector('#df-6b72fd68-d774-46d8-a18c-6f327694ecac');\n",
              "          const dataTable =\n",
              "            await google.colab.kernel.invokeFunction('convertToInteractive',\n",
              "                                                     [key], {});\n",
              "          if (!dataTable) return;\n",
              "\n",
              "          const docLinkHtml = 'Like what you see? Visit the ' +\n",
              "            '<a target=\"_blank\" href=https://colab.research.google.com/notebooks/data_table.ipynb>data table notebook</a>'\n",
              "            + ' to learn more about interactive tables.';\n",
              "          element.innerHTML = '';\n",
              "          dataTable['output_type'] = 'display_data';\n",
              "          await google.colab.output.renderOutput(dataTable, element);\n",
              "          const docLink = document.createElement('div');\n",
              "          docLink.innerHTML = docLinkHtml;\n",
              "          element.appendChild(docLink);\n",
              "        }\n",
              "      </script>\n",
              "    </div>\n",
              "  </div>\n",
              "  "
            ]
          },
          "metadata": {},
          "execution_count": 99
        }
      ]
    },
    {
      "cell_type": "markdown",
      "source": [
        "La base **df_base2** puede ser utilizada para el modelamiento y análisis del mercado de papa (en sus distintas variedades) de Lima Metropolitana."
      ],
      "metadata": {
        "id": "4q472PfQiQdf"
      }
    },
    {
      "cell_type": "code",
      "source": [
        "df_base2.to_excel('df_base2.xlsx')"
      ],
      "metadata": {
        "id": "PzNtzNV32zIR"
      },
      "execution_count": 100,
      "outputs": []
    }
  ]
}