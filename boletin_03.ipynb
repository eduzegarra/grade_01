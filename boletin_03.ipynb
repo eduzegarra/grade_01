{
  "nbformat": 4,
  "nbformat_minor": 0,
  "metadata": {
    "colab": {
      "provenance": [],
      "toc_visible": true,
      "authorship_tag": "ABX9TyPb/fHBC895K62viccjMrtt",
      "include_colab_link": true
    },
    "kernelspec": {
      "name": "python3",
      "display_name": "Python 3"
    },
    "language_info": {
      "name": "python"
    }
  },
  "cells": [
    {
      "cell_type": "markdown",
      "metadata": {
        "id": "view-in-github",
        "colab_type": "text"
      },
      "source": [
        "<a href=\"https://colab.research.google.com/github/eduzegarra/grade_01/blob/main/boletin_03.ipynb\" target=\"_parent\"><img src=\"https://colab.research.google.com/assets/colab-badge.svg\" alt=\"Open In Colab\"/></a>"
      ]
    },
    {
      "cell_type": "markdown",
      "source": [
        "# Análisis del mercado de papa en Lima 2019-2023"
      ],
      "metadata": {
        "id": "0a_ntbZEYo52"
      }
    },
    {
      "cell_type": "code",
      "execution_count": 20,
      "metadata": {
        "id": "_60zxowRYhS8"
      },
      "outputs": [],
      "source": [
        "import pandas as pd\n",
        "import numpy as np\n",
        "import matplotlib.pyplot as plt\n",
        "import seaborn as sns"
      ]
    },
    {
      "cell_type": "code",
      "source": [
        "vol=pd.read_excel('/content/sample_data/base_completa_1997_2023febrero.xls', sheet_name='volumen')"
      ],
      "metadata": {
        "id": "OCvmGdBwZcab"
      },
      "execution_count": 3,
      "outputs": []
    },
    {
      "cell_type": "code",
      "source": [
        "pre=pd.read_excel('/content/sample_data/base_completa_1997_2023febrero.xls', sheet_name='precio')"
      ],
      "metadata": {
        "id": "7dEcIhEraBjJ"
      },
      "execution_count": 4,
      "outputs": []
    },
    {
      "cell_type": "code",
      "source": [
        "vol.columns"
      ],
      "metadata": {
        "colab": {
          "base_uri": "https://localhost:8080/"
        },
        "id": "RaLBNnfNavU3",
        "outputId": "4721b87c-f052-4616-ef37-a8ed034e5b25"
      },
      "execution_count": 5,
      "outputs": [
        {
          "output_type": "execute_result",
          "data": {
            "text/plain": [
              "Index(['producto', 'year', 'Variable', 'm_01', 'm_02', 'm_03', 'm_04', 'm_05',\n",
              "       'm_06', 'm_07', 'm_08', 'm_09', 'm_10', 'm_11', 'm_12'],\n",
              "      dtype='object')"
            ]
          },
          "metadata": {},
          "execution_count": 5
        }
      ]
    },
    {
      "cell_type": "code",
      "source": [
        "vol_long=pd.melt(vol,id_vars=['year','producto','Variable'], var_name='mes', value_name='volumen')"
      ],
      "metadata": {
        "id": "9vyWyPxNaNpY"
      },
      "execution_count": 6,
      "outputs": []
    },
    {
      "cell_type": "code",
      "source": [
        "pre_long=pd.melt(pre,id_vars=['year','producto'], var_name='mes', value_name='precio')"
      ],
      "metadata": {
        "id": "lXtp3ht2bFjM"
      },
      "execution_count": 7,
      "outputs": []
    },
    {
      "cell_type": "code",
      "source": [
        "vol_long.dropna(inplace=True)\n",
        "pre_long.dropna(inplace=True)"
      ],
      "metadata": {
        "id": "TdvViIE1bR7r"
      },
      "execution_count": 8,
      "outputs": []
    },
    {
      "cell_type": "code",
      "source": [
        "vol_long.rename(columns={'producto':'variedad', 'Variable':'provincia'}, inplace=True)\n",
        "pre_long.rename(columns={'producto': 'variedad'}, inplace=True)"
      ],
      "metadata": {
        "id": "XHrvXwntberq"
      },
      "execution_count": 9,
      "outputs": []
    },
    {
      "cell_type": "code",
      "source": [
        "vol_long.columns"
      ],
      "metadata": {
        "colab": {
          "base_uri": "https://localhost:8080/"
        },
        "id": "MeBL3ENeciE_",
        "outputId": "01ee0f4d-8c48-43cd-8c6f-232cfe7ca8a4"
      },
      "execution_count": 10,
      "outputs": [
        {
          "output_type": "execute_result",
          "data": {
            "text/plain": [
              "Index(['year', 'variedad', 'provincia', 'mes', 'volumen'], dtype='object')"
            ]
          },
          "metadata": {},
          "execution_count": 10
        }
      ]
    },
    {
      "cell_type": "code",
      "source": [
        "df_base=vol_long.merge(pre_long, how='inner',on=['year','mes','variedad'])"
      ],
      "metadata": {
        "id": "yu7aprQ4b9Ch"
      },
      "execution_count": 11,
      "outputs": []
    },
    {
      "cell_type": "code",
      "source": [
        "df_base['ym']=df_base.year.astype('str')+df_base.mes"
      ],
      "metadata": {
        "id": "3jX3csgicsd_"
      },
      "execution_count": 12,
      "outputs": []
    },
    {
      "cell_type": "code",
      "source": [
        "df_base.sort_values('ym',ascending=True)"
      ],
      "metadata": {
        "id": "Nc_pJ1Lbdt-E"
      },
      "execution_count": null,
      "outputs": []
    },
    {
      "cell_type": "code",
      "source": [
        "df_base1=df_base[df_base['year']>=2019]"
      ],
      "metadata": {
        "id": "Hu1TE27ncxAX"
      },
      "execution_count": 14,
      "outputs": []
    },
    {
      "cell_type": "code",
      "source": [
        "df_base1['valor']=df_base1.precio*df_base1.volumen/1000"
      ],
      "metadata": {
        "id": "q-n8sUO71ML3"
      },
      "execution_count": null,
      "outputs": []
    },
    {
      "cell_type": "code",
      "source": [
        "df_base1.valor.describe()"
      ],
      "metadata": {
        "id": "pEmjefKI1amm"
      },
      "execution_count": null,
      "outputs": []
    },
    {
      "cell_type": "code",
      "source": [
        "df_base1.describe(include='all')"
      ],
      "metadata": {
        "id": "nmfGG4yVebOp"
      },
      "execution_count": null,
      "outputs": []
    },
    {
      "cell_type": "code",
      "source": [
        "plt.figure(figsize=(8,5))\n",
        "pp_pre=df_base1.groupby('ym')['precio'].mean()\n",
        "pp_pre.plot()\n",
        "plt.xticks(range(len(pp_pre)),labels=pp_pre.index, rotation=90, fontsize='x-small')\n",
        "plt.xlabel('')\n",
        "plt.yticks(np.arange(0.2,2.7,.2))\n",
        "plt.suptitle('Precio promedio de papa en GMML 2019-2023', fontsize='x-large')\n",
        "plt.title(\"Soles por Kg\")\n",
        "plt.show()"
      ],
      "metadata": {
        "id": "PgT6e-kBe_9H"
      },
      "execution_count": null,
      "outputs": []
    },
    {
      "cell_type": "code",
      "source": [
        "pp_preD=df_base1.groupby('ym', as_index=False)['precio'].mean()"
      ],
      "metadata": {
        "id": "RtPCXSsZuFC-"
      },
      "execution_count": 117,
      "outputs": []
    },
    {
      "cell_type": "code",
      "source": [
        "pp_preD['mm']=np.arange(len(pp_preD))"
      ],
      "metadata": {
        "id": "hNdJICVBukse"
      },
      "execution_count": 118,
      "outputs": []
    },
    {
      "cell_type": "code",
      "source": [
        "plt.figure(figsize=(9,5))\n",
        "# sns.scatterplot(data=df_base1, x='ym', y='precio', s=17, label='Observaciones')\n",
        "sns.regplot(x='mm', y='precio', data=pp_preD, lowess=True, scatter=False, color='blue', label='Tendencia')\n",
        "sns.lineplot(x='ym', y='precio',data=pp_preD, color='red', label='Promedio', linewidth=2)\n",
        "plt.legend()\n",
        "plt.xticks(rotation=90, fontsize='x-small')\n",
        "plt.yticks(np.arange(.1,2.8,.2))\n",
        "plt.suptitle('Evolución de precio promedio de papa', fontsize='x-large')\n",
        "plt.title('Enero-2019-Febrero 2023')\n",
        "plt.xlabel('')\n",
        "plt.show()"
      ],
      "metadata": {
        "id": "-w40Lu5KgL4s"
      },
      "execution_count": null,
      "outputs": []
    },
    {
      "cell_type": "code",
      "source": [
        "plt.figure(figsize=(9,5))\n",
        "vv_vol=df_base1.groupby('ym', as_index=False)['volumen'].sum()\n",
        "vv_vol['mm']=np.arange(len(vv_vol))\n",
        "sns.lineplot(x='ym', y='volumen', data=vv_vol, color='red', label='Promedio', linewidth=2)\n",
        "sns.regplot(x='mm', y='volumen', data=vv_vol, lowess=True, scatter=False, color='blue', label='Tendencia')\n",
        "plt.xticks(rotation=90, fontsize='x-small')\n",
        "plt.xlabel('')\n",
        "plt.yticks(np.arange(45000,65000,5000))\n",
        "plt.title('Volumen total ingreso de papa a GMML 2019-2023 (t)', fontsize='x-large')\n",
        "plt.legend()\n",
        "plt.show()"
      ],
      "metadata": {
        "id": "cV-3CzeogQ27"
      },
      "execution_count": null,
      "outputs": []
    },
    {
      "cell_type": "code",
      "source": [
        "plt.figure(figsize=(8,5))\n",
        "vv_valor=df_base1.groupby('ym')['valor'].sum()\n",
        "vv_valor.plot.bar()\n",
        "plt.xticks(range(len(vv_valor)),labels=vv_valor.index, rotation=90, fontsize='x-small')\n",
        "plt.xlabel('')\n",
        "plt.yticks()\n",
        "plt.title('Valor de papa en GMML 2019-2023 (Millones S/)', fontsize='x-large')\n",
        "plt.show()"
      ],
      "metadata": {
        "id": "f8EowVi01s2W"
      },
      "execution_count": null,
      "outputs": []
    },
    {
      "cell_type": "code",
      "source": [
        "p_blanca=df_base1[df_base1.variedad=='Papa Blanca'].groupby('ym')['precio'].mean()\n",
        "p_amarilla=df_base1[df_base1.variedad=='Papa Amarilla'].groupby('ym')['precio'].mean()\n",
        "p_huayro=df_base1[df_base1.variedad=='Papa Huayro'].groupby('ym')['precio'].mean()\n",
        "p_yungay=df_base1[df_base1.variedad=='Papa Yungay'].groupby('ym')['precio'].mean()"
      ],
      "metadata": {
        "id": "mafb9oCBhtXv"
      },
      "execution_count": 175,
      "outputs": []
    },
    {
      "cell_type": "code",
      "source": [
        "plt.figure(figsize=(8,5))\n",
        "p_blanca.plot(label='Blanca',color='red', linewidth=2.5)\n",
        "p_amarilla.plot(label='Amarilla', color='green', linewidth=2.5)\n",
        "p_huayro.plot(label='Huayro', color='brown', linewidth=2.5)\n",
        "plt.xticks(range(len(p_blanca.index)),labels=p_blanca.index, rotation=90, fontsize='x-small')\n",
        "plt.yticks(np.arange(0,6,.5))\n",
        "plt.legend()\n",
        "plt.title(\"Precio promedio mensual principales variedades\", fontsize='x-large')\n",
        "plt.xlabel('')\n",
        "plt.show()"
      ],
      "metadata": {
        "id": "xcVT5Dd8i3bb"
      },
      "execution_count": null,
      "outputs": []
    },
    {
      "cell_type": "code",
      "source": [
        "v_blanca=df_base1[df_base1.variedad=='Papa Blanca'].groupby('ym')['volumen'].sum()\n",
        "v_amarilla=df_base1[df_base1.variedad=='Papa Amarilla'].groupby('ym')['volumen'].sum()\n",
        "v_huayro=df_base1[df_base1.variedad=='Papa Huayro'].groupby('ym')['volumen'].sum()\n",
        "v_yungay=df_base1[df_base1.variedad=='Papa Yungay'].groupby('ym')['volumen'].sum()"
      ],
      "metadata": {
        "id": "VF-AC5kFnSl2"
      },
      "execution_count": 190,
      "outputs": []
    },
    {
      "cell_type": "code",
      "source": [
        "plt.figure(figsize=(8,5))\n",
        "v_blanca.plot(label='Blanca',color='red', linewidth=2.5)\n",
        "v_amarilla.plot(label='Amarilla', linewidth=2.5)\n",
        "v_huayro.plot(label='Huayro', linewidth=2.5)\n",
        "v_yungay.plot(label='Yungay', color='gray', linewidth=2.5)\n",
        "plt.xticks(range(len(p_blanca.index)),labels=p_blanca.index, rotation=90, fontsize='x-small')\n",
        "plt.xlabel('')\n",
        "plt.legend()\n",
        "plt.show()"
      ],
      "metadata": {
        "id": "QX5ETNH_nJj1"
      },
      "execution_count": null,
      "outputs": []
    },
    {
      "cell_type": "code",
      "source": [
        "df_base1.groupby(df_base1.provincia)['valor'].sum().sort_values(ascending=False)[0:19]"
      ],
      "metadata": {
        "id": "vyISuqL80xaY"
      },
      "execution_count": null,
      "outputs": []
    },
    {
      "cell_type": "code",
      "source": [
        "prov19=df_base1.groupby(df_base1.provincia)['valor'].sum().sort_values(ascending=False)[0:19]"
      ],
      "metadata": {
        "id": "6MS76OuS2e1L"
      },
      "execution_count": 195,
      "outputs": []
    },
    {
      "cell_type": "code",
      "source": [
        "prov_resto=df_base1.groupby(df_base1.provincia)['valor'].sum().sort_values(ascending=False)[19:]"
      ],
      "metadata": {
        "id": "TpNWNmuO20UC"
      },
      "execution_count": 196,
      "outputs": []
    },
    {
      "cell_type": "code",
      "source": [
        "prov19.sum()/(prov_resto.sum()+prov19.sum())"
      ],
      "metadata": {
        "colab": {
          "base_uri": "https://localhost:8080/"
        },
        "id": "xabgesJm25pa",
        "outputId": "66ad9b9a-cbfc-4725-b785-5440f16ada28"
      },
      "execution_count": 197,
      "outputs": [
        {
          "output_type": "execute_result",
          "data": {
            "text/plain": [
              "0.9813756870033274"
            ]
          },
          "metadata": {},
          "execution_count": 197
        }
      ]
    },
    {
      "cell_type": "code",
      "source": [
        "df_base2=df_base1[df_base1['provincia'].isin(prov19.index)]"
      ],
      "metadata": {
        "id": "G5ZwzrvN3KzZ"
      },
      "execution_count": 198,
      "outputs": []
    },
    {
      "cell_type": "code",
      "source": [
        "prov19"
      ],
      "metadata": {
        "id": "H4XpreKF4e3z"
      },
      "execution_count": null,
      "outputs": []
    },
    {
      "cell_type": "code",
      "source": [
        "cc=['Arequipa','Barranca','Nazca','Ica','Huaral','Lima','Canete','Huara'] "
      ],
      "metadata": {
        "id": "Oqj0Ycfn3qyf"
      },
      "execution_count": 200,
      "outputs": []
    },
    {
      "cell_type": "code",
      "source": [
        "df_base2['costa']=df_base2['provincia'].isin(cc).astype('int')"
      ],
      "metadata": {
        "id": "t_zRw7mP42TL"
      },
      "execution_count": null,
      "outputs": []
    },
    {
      "cell_type": "code",
      "source": [
        "v_costa=df_base2[(df_base2.costa==1) & (df_base2.year<=2022)].groupby('year')['volumen'].sum()\n",
        "v_sierra=df_base2[(df_base2.costa==0) & (df_base.year<=2022)].groupby('year')['volumen'].sum()"
      ],
      "metadata": {
        "id": "q3Aw-Ms0At7H"
      },
      "execution_count": null,
      "outputs": []
    },
    {
      "cell_type": "code",
      "source": [
        "plt.figure(figsize=(8,5))\n",
        "v_costa.plot(label='Costa', marker='D')\n",
        "v_sierra.plot(label='Sierra', marker='s')\n",
        "plt.xticks(np.arange(2019,2023,1))\n",
        "plt.yticks(np.arange(0,650000,100000))\n",
        "plt.legend()\n",
        "plt.title('Volumen de papa por región de origen', fontsize='xx-large')\n",
        "plt.show()"
      ],
      "metadata": {
        "id": "XIGAzgawBiv4"
      },
      "execution_count": null,
      "outputs": []
    },
    {
      "cell_type": "code",
      "source": [
        "b_costa=df_base2[(df_base2.variedad=='Papa Blanca') & (df_base2.costa==1) & (df_base2.year<=2022)].groupby('year')['volumen'].sum()\n",
        "b_sierra=df_base2[(df_base2.variedad=='Papa Blanca') & (df_base2.costa==0) & (df_base.year<=2022)].groupby('year')['volumen'].sum()\n",
        "y_costa=df_base2[(df_base2.variedad=='Papa Yungay') & (df_base2.costa==1) & (df_base2.year<=2022)].groupby('year')['volumen'].sum()\n",
        "y_sierra=df_base2[(df_base2.variedad=='Papa Yungay') & (df_base2.costa==0) & (df_base.year<=2022)].groupby('year')['volumen'].sum()\n",
        "a_sierra=df_base2[(df_base2.variedad=='Papa Amarilla') & (df_base2.costa==0) & (df_base.year<=2022)].groupby('year')['volumen'].sum()\n",
        "h_sierra=df_base2[(df_base2.variedad=='Papa Huayro') & (df_base2.costa==0) & (df_base.year<=2022)].groupby('year')['volumen'].sum()\n",
        "c_sierra=df_base2[(df_base2.variedad=='Papa Canchan') & (df_base2.costa==0) & (df_base.year<=2022)].groupby('year')['volumen'].sum()\n",
        "c_costa=df_base2[(df_base2.variedad=='Papa Canchan') & (df_base2.costa==1) & (df_base.year<=2022)].groupby('year')['volumen'].sum()\n",
        "\n"
      ],
      "metadata": {
        "id": "9LI5po8gFmQq"
      },
      "execution_count": null,
      "outputs": []
    },
    {
      "cell_type": "code",
      "source": [
        "plt.figure(figsize=(8,5))\n",
        "b_costa.plot(label='Costa', marker='D')\n",
        "b_sierra.plot(label='Sierra', marker='s')\n",
        "plt.xticks(np.arange(2019,2023,1))\n",
        "plt.yticks(np.arange(0,500000,100000))\n",
        "plt.legend()\n",
        "plt.title('Volumen de papa blanca por región de origen', fontsize='xx-large')\n",
        "plt.show()"
      ],
      "metadata": {
        "id": "_T8QDCyoF4VA"
      },
      "execution_count": null,
      "outputs": []
    },
    {
      "cell_type": "code",
      "source": [
        "plt.figure(figsize=(8,5))\n",
        "y_costa.plot(label='Costa', marker='D')\n",
        "y_sierra.plot(label='Sierra', marker='s')\n",
        "plt.xticks(np.arange(2019,2023,1))\n",
        "plt.yticks(np.arange(0,90000,10000))\n",
        "plt.legend()\n",
        "plt.title('Volumen de papa Yungay por región de origen', fontsize='xx-large')\n",
        "plt.show()"
      ],
      "metadata": {
        "id": "Fx6fk5GZGUE2"
      },
      "execution_count": null,
      "outputs": []
    },
    {
      "cell_type": "code",
      "source": [
        "plt.figure(figsize=(8,5))\n",
        "c_costa.plot(label='Costa', marker='D')\n",
        "c_sierra.plot(label='Sierra', marker='s')\n",
        "plt.xticks(np.arange(2019,2023,1))\n",
        "plt.yticks(np.arange(0,50000,10000))\n",
        "plt.legend()\n",
        "plt.title('Volumen de papa Canchan por región de origen', fontsize='xx-large')\n",
        "plt.show()"
      ],
      "metadata": {
        "id": "WqZ3nFbkHv79"
      },
      "execution_count": null,
      "outputs": []
    },
    {
      "cell_type": "code",
      "source": [
        "plt.figure(figsize=(8,5))\n",
        "a_sierra.plot(label=\"Amarilla\",marker='s')\n",
        "h_sierra.plot(label=\"Huayro\",marker='D')\n",
        "plt.xticks(np.arange(2019,2023,1))\n",
        "plt.yticks(np.arange(0,70000,10000))\n",
        "plt.legend()\n",
        "plt.title('Volumen de papa Amarilla y Huayro', fontsize='xx-large')\n",
        "plt.show()"
      ],
      "metadata": {
        "id": "-w01JPXdGzHP"
      },
      "execution_count": null,
      "outputs": []
    }
  ]
}