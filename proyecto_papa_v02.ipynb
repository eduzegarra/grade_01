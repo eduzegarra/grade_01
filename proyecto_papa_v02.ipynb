{
  "nbformat": 4,
  "nbformat_minor": 0,
  "metadata": {
    "colab": {
      "provenance": [],
      "toc_visible": true,
      "include_colab_link": true
    },
    "kernelspec": {
      "name": "python3",
      "display_name": "Python 3"
    }
  },
  "cells": [
    {
      "cell_type": "markdown",
      "metadata": {
        "id": "view-in-github",
        "colab_type": "text"
      },
      "source": [
        "<a href=\"https://colab.research.google.com/github/eduzegarra/grade_01/blob/main/proyecto_papa_v02.ipynb\" target=\"_parent\"><img src=\"https://colab.research.google.com/assets/colab-badge.svg\" alt=\"Open In Colab\"/></a>"
      ]
    },
    {
      "cell_type": "markdown",
      "metadata": {
        "id": "yg9Q9HZ7KQxe"
      },
      "source": [
        "# **Proyecto Papa Sostenible: Integración, Limpieza y Análisis Exploratorio**\n"
      ]
    },
    {
      "cell_type": "markdown",
      "metadata": {
        "id": "B26euJKsNP68"
      },
      "source": [
        "Librerías externas necesarias"
      ]
    },
    {
      "cell_type": "code",
      "metadata": {
        "id": "Szi61mHXNTJ2"
      },
      "source": [
        "import pandas as pd\n",
        "import numpy as np\n",
        "import matplotlib.pyplot as plt"
      ],
      "execution_count": 1,
      "outputs": []
    },
    {
      "cell_type": "markdown",
      "source": [
        "## **1. Lectura, limpieza e integración de base de datos**"
      ],
      "metadata": {
        "id": "z8K6bNd-uDSU"
      }
    },
    {
      "cell_type": "markdown",
      "source": [
        "### 1.1. Lectura de base de datos original en Excel"
      ],
      "metadata": {
        "id": "Vrho2zlQs0vZ"
      }
    },
    {
      "cell_type": "markdown",
      "source": [
        "Leemos primer libro del archivo Excel (volumen) asignado a objeto \"vol\" (en este caso subimos primero el archivo al entorno para leerlo)"
      ],
      "metadata": {
        "id": "M6DW4sWCvSx5"
      }
    },
    {
      "cell_type": "code",
      "metadata": {
        "id": "NRgAostfKJOR"
      },
      "source": [
        "vol = pd.read_excel('/content/sample_data/base_completa_1997_2021.xls', sheet_name='volumen')"
      ],
      "execution_count": null,
      "outputs": []
    },
    {
      "cell_type": "code",
      "source": [
        "vol"
      ],
      "metadata": {
        "id": "fIQrw-5xOpSI"
      },
      "execution_count": null,
      "outputs": []
    },
    {
      "cell_type": "code",
      "source": [
        "vol.columns"
      ],
      "metadata": {
        "id": "sem1WswoOtQ8"
      },
      "execution_count": null,
      "outputs": []
    },
    {
      "cell_type": "code",
      "source": [
        "vol.shape"
      ],
      "metadata": {
        "id": "A4GwcLljOzFN"
      },
      "execution_count": null,
      "outputs": []
    },
    {
      "cell_type": "code",
      "source": [
        "vol.isna().sum()"
      ],
      "metadata": {
        "id": "x87KdI9V9hlj"
      },
      "execution_count": null,
      "outputs": []
    },
    {
      "cell_type": "markdown",
      "source": [
        "Cambiamos nombres de variables de meses para consistencia"
      ],
      "metadata": {
        "id": "M57wNcEIO8Xb"
      }
    },
    {
      "cell_type": "code",
      "source": [
        "vol.rename(columns={'m_1':'m_01','m_2':'m_02','m_3':'m_03','m_4':'m_04','m_5':'m_05','m_6':'m_06',\n",
        "                    'm_7':'m_07','m_8':'m_08', 'm_9':'m_09'}, inplace=True)"
      ],
      "metadata": {
        "id": "u-vPTQRdDONP"
      },
      "execution_count": 7,
      "outputs": []
    },
    {
      "cell_type": "markdown",
      "source": [
        "Notar opción \"inplace=True\" implica que se cambia la base de datos \"vol\" con los nuevos nombres de las variables"
      ],
      "metadata": {
        "id": "W9kjMP1fPFuk"
      }
    },
    {
      "cell_type": "markdown",
      "source": [
        "Leemos segundo libro (precios) del archivo excel y asignamos a objeto \"pre\""
      ],
      "metadata": {
        "id": "yQF0NR11vfuC"
      }
    },
    {
      "cell_type": "code",
      "source": [
        "pre = pd.read_excel('/content/sample_data/base_completa_1997_2021.xls', sheet_name='precio')"
      ],
      "metadata": {
        "id": "mcWKaOGWvMCb"
      },
      "execution_count": 9,
      "outputs": []
    },
    {
      "cell_type": "code",
      "source": [
        "pre.shape"
      ],
      "metadata": {
        "id": "UtcoF9UYPb3J"
      },
      "execution_count": null,
      "outputs": []
    },
    {
      "cell_type": "code",
      "source": [
        "pre.columns"
      ],
      "metadata": {
        "id": "wcf6npEFPe3p"
      },
      "execution_count": null,
      "outputs": []
    },
    {
      "cell_type": "code",
      "source": [
        "pre.isna().sum()"
      ],
      "metadata": {
        "id": "H_rZx6D3-ZmY"
      },
      "execution_count": null,
      "outputs": []
    },
    {
      "cell_type": "code",
      "source": [
        "pre.rename(columns={'m_1':'m_01','m_2':'m_02','m_3':'m_03','m_4':'m_04','m_5':'m_05','m_6':'m_06',\n",
        "                    'm_7':'m_07','m_8':'m_08', 'm_9':'m_09'}, inplace=True)"
      ],
      "metadata": {
        "id": "YCMjpl63EF_e"
      },
      "execution_count": 13,
      "outputs": []
    },
    {
      "cell_type": "markdown",
      "source": [
        "Las columnas 'Variable' y 'producto' identifican a la provincia y la variedad, cambiamos los nombres"
      ],
      "metadata": {
        "id": "cK7VYI3kxt_M"
      }
    },
    {
      "cell_type": "code",
      "source": [
        "vol.rename(columns={'Variable':'provincia', 'producto': 'variedad'}, inplace=True)"
      ],
      "metadata": {
        "id": "bSVLpWrex2-9"
      },
      "execution_count": 15,
      "outputs": []
    },
    {
      "cell_type": "code",
      "source": [
        "pre.rename(columns={'producto':'variedad'}, inplace=True)"
      ],
      "metadata": {
        "id": "91unfuf7QPOH"
      },
      "execution_count": 17,
      "outputs": []
    },
    {
      "cell_type": "markdown",
      "source": [
        "Las columnas m_01 a m_12 denotan meses. Necesitamos convertir al mes como una variable, para tener en cada fila una observacion, pasar base en formato ancho a largo (wide to long) usando el método **melt**"
      ],
      "metadata": {
        "id": "pcNDR3q5yVFq"
      }
    },
    {
      "cell_type": "code",
      "source": [
        "vol_long=pd.melt(vol,id_vars=['variedad','year','provincia'], \n",
        "                var_name='mes', value_name='volumen')"
      ],
      "metadata": {
        "id": "shDIIsM5yOSL"
      },
      "execution_count": 18,
      "outputs": []
    },
    {
      "cell_type": "markdown",
      "source": [
        "Lo mismo con la base de precios"
      ],
      "metadata": {
        "id": "FskgpqnQzHMo"
      }
    },
    {
      "cell_type": "code",
      "source": [
        "pre_long=pd.melt(pre,id_vars=['variedad','year'], \n",
        "                var_name='mes', value_name='precio')"
      ],
      "metadata": {
        "id": "xVmW7svSzCfi"
      },
      "execution_count": 20,
      "outputs": []
    },
    {
      "cell_type": "markdown",
      "source": [
        "### 1.2. Limpieza datos originales"
      ],
      "metadata": {
        "id": "BudB5exKOsSA"
      }
    },
    {
      "cell_type": "markdown",
      "source": [
        "Damos una mirada a cada una de estas bases de datos\n",
        "\n",
        "primero el asunto de los valores \"missing\" (sin información)"
      ],
      "metadata": {
        "id": "jtzyXMhOHhZE"
      }
    },
    {
      "cell_type": "code",
      "source": [
        "vol_long.isna().groupby(vol_long.year)['volumen'].sum().plot()\n",
        "plt.title('Observaciones missing in base volumen')"
      ],
      "metadata": {
        "id": "GErIkzglCTAM"
      },
      "execution_count": null,
      "outputs": []
    },
    {
      "cell_type": "code",
      "source": [
        "pre_long.isna().groupby(pre_long.year)['precio'].sum().plot()\n",
        "plt.title('Observacione smissing in base precios')"
      ],
      "metadata": {
        "id": "7GvKhn8c-yEH"
      },
      "execution_count": null,
      "outputs": []
    },
    {
      "cell_type": "markdown",
      "source": [
        "Eliminamos observaciones con valores missing (NaN) en ambas bases"
      ],
      "metadata": {
        "id": "ESDwE9aM_UMl"
      }
    },
    {
      "cell_type": "code",
      "source": [
        "pre_long.dropna(inplace=True)\n",
        "vol_long.dropna(inplace=True)"
      ],
      "metadata": {
        "id": "2KvDy24x_SYJ"
      },
      "execution_count": 25,
      "outputs": []
    },
    {
      "cell_type": "code",
      "source": [
        "vol_long.isna().sum()"
      ],
      "metadata": {
        "id": "7Cz-uCVID6fO"
      },
      "execution_count": null,
      "outputs": []
    },
    {
      "cell_type": "code",
      "source": [
        "pre_long.isna().sum()"
      ],
      "metadata": {
        "id": "SmC5ulgpEDV2"
      },
      "execution_count": null,
      "outputs": []
    },
    {
      "cell_type": "markdown",
      "source": [
        "### 1.3. Evolución de variables y número de observaciones"
      ],
      "metadata": {
        "id": "4w_c65mcO35v"
      }
    },
    {
      "cell_type": "code",
      "source": [
        "pre_long.groupby(pre_long.year)['precio'].mean().plot()\n",
        "plt.title('Evolución de precio promedio')"
      ],
      "metadata": {
        "id": "tC9J_59Wq5CG"
      },
      "execution_count": null,
      "outputs": []
    },
    {
      "cell_type": "code",
      "source": [
        "vol_long.groupby(vol_long.year)['volumen'].sum().plot.bar()\n",
        "plt.title('Evolución de volumen promedio')"
      ],
      "metadata": {
        "id": "pY5ugfM_rQIk"
      },
      "execution_count": null,
      "outputs": []
    },
    {
      "cell_type": "code",
      "source": [
        "vol_long.groupby(vol_long.year).agg({'provincia':'nunique', 'variedad':'nunique', 'mes':['nunique','count']})"
      ],
      "metadata": {
        "id": "Oc4P_hp4E2-b"
      },
      "execution_count": null,
      "outputs": []
    },
    {
      "cell_type": "code",
      "source": [
        "plt.figure(figsize=(9,5))\n",
        "vol_long.groupby(vol_long.year)['volumen'].count().plot()\n",
        "plt.xticks(np.arange(1997,2022,1),rotation=45, fontsize='small')\n",
        "plt.yticks(np.arange(0,1600,200))\n",
        "plt.title('Número de observaciones por año de volumen', fontsize='xx-large')\n",
        "plt.xlabel('')\n",
        "plt.show()"
      ],
      "metadata": {
        "id": "mAWfmiu2EXyE"
      },
      "execution_count": null,
      "outputs": []
    },
    {
      "cell_type": "code",
      "source": [
        "pre_long.groupby(pre_long.year).agg({'variedad':'nunique', 'mes':['nunique','count']})"
      ],
      "metadata": {
        "id": "qMKSkKcjI4Cn"
      },
      "execution_count": null,
      "outputs": []
    },
    {
      "cell_type": "code",
      "source": [
        "plt.figure(figsize=(9,5))\n",
        "pre_long.groupby(pre_long.year)['precio'].count().plot()\n",
        "rr=np.arange(1997,2022,1)\n",
        "plt.xticks(rr,rotation=45, fontsize='small')\n",
        "plt.yticks(np.arange(20,150,20))\n",
        "plt.title('Número de observaciones por año en base precios', fontsize='xx-large')\n",
        "plt.show()"
      ],
      "metadata": {
        "id": "207cAcy0MDsb"
      },
      "execution_count": null,
      "outputs": []
    },
    {
      "cell_type": "markdown",
      "source": [
        "### 1.4. Merge de archivos"
      ],
      "metadata": {
        "id": "9M_6ThB6e2VD"
      }
    },
    {
      "cell_type": "markdown",
      "source": [
        "Bases 'vol_long' y 'pre_long' tienen una estructura similar y variables en comun y pueden ser integradas (usando método **merge**, con parámetro 'inner')"
      ],
      "metadata": {
        "id": "RilO3fD9zSj4"
      }
    },
    {
      "cell_type": "code",
      "source": [
        "df_base=vol_long.merge(pre_long, on=['variedad','year','mes'], how='inner')"
      ],
      "metadata": {
        "id": "XDggS3jA0Dyu"
      },
      "execution_count": 38,
      "outputs": []
    },
    {
      "cell_type": "code",
      "source": [
        "df_base.shape"
      ],
      "metadata": {
        "id": "OBAYhM3sPSFZ"
      },
      "execution_count": null,
      "outputs": []
    },
    {
      "cell_type": "code",
      "source": [
        "df_base.columns"
      ],
      "metadata": {
        "id": "8VvRYM1FP7b3"
      },
      "execution_count": null,
      "outputs": []
    },
    {
      "cell_type": "code",
      "source": [
        "df_base.describe(include='all')"
      ],
      "metadata": {
        "id": "u5B6EYiiQA3Q"
      },
      "execution_count": null,
      "outputs": []
    },
    {
      "cell_type": "markdown",
      "source": [
        "En objeto generado como **df_base** en cada fila tenemos una observación que identifica la variedad, el año, la provincia, el mes así como el volumen y precio"
      ],
      "metadata": {
        "id": "i9A9m5-a0Vqm"
      }
    },
    {
      "cell_type": "markdown",
      "source": [
        "Notar que la variable precio corresponde a la variedad y mes, pero no varía por provincia de origen (el precio se forma en MML)"
      ],
      "metadata": {
        "id": "ez2gZpU4V8eP"
      }
    },
    {
      "cell_type": "markdown",
      "source": [
        "Se pueden generar subconjuntos de la base de datos utilizando varios métodos y condiciones"
      ],
      "metadata": {
        "id": "31zoWBItwXBz"
      }
    },
    {
      "cell_type": "code",
      "source": [
        "huanuco=df_base[df_base.provincia=='Huanuco']"
      ],
      "metadata": {
        "id": "gXfWswOPQMmn"
      },
      "execution_count": 42,
      "outputs": []
    },
    {
      "cell_type": "code",
      "source": [
        "huanuco"
      ],
      "metadata": {
        "id": "szzpiX-LTSAF"
      },
      "execution_count": null,
      "outputs": []
    },
    {
      "cell_type": "code",
      "source": [
        "df_base[df_base.provincia.isin(['Huanuco'])]"
      ],
      "metadata": {
        "id": "KXvgYpzyw3km"
      },
      "execution_count": null,
      "outputs": []
    },
    {
      "cell_type": "code",
      "source": [
        "hh='Huanuco'\n",
        "df_base.query('provincia==@hh')"
      ],
      "metadata": {
        "id": "Btsekx8pwf6T"
      },
      "execution_count": null,
      "outputs": []
    },
    {
      "cell_type": "code",
      "source": [
        "df_base.query('`precio` >= 1.5 and `precio` <= 2.5')"
      ],
      "metadata": {
        "id": "cWfvANkcT2R0"
      },
      "execution_count": null,
      "outputs": []
    },
    {
      "cell_type": "markdown",
      "source": [
        "Podemos borrar el objeto 'huanuco' usando 'del'"
      ],
      "metadata": {
        "id": "QArtSQRcVQ5i"
      }
    },
    {
      "cell_type": "code",
      "source": [
        "del huanuco"
      ],
      "metadata": {
        "id": "4yvBjqF9U69Q"
      },
      "execution_count": 71,
      "outputs": []
    },
    {
      "cell_type": "markdown",
      "source": [
        "Creamos variable 'ym' que identifica año y mes por observacion"
      ],
      "metadata": {
        "id": "pClbSlQcH1MS"
      }
    },
    {
      "cell_type": "code",
      "source": [
        "df_base['ym']=df_base['year'].astype(str)+df_base['mes']"
      ],
      "metadata": {
        "id": "hq0JP_cxG7h1"
      },
      "execution_count": 72,
      "outputs": []
    },
    {
      "cell_type": "markdown",
      "source": [
        "Esto sirve para ordenar la base por fecha (mes)"
      ],
      "metadata": {
        "id": "3Hr-xKgIVheG"
      }
    },
    {
      "cell_type": "code",
      "source": [
        "df_base.sort_values('ym', ascending=True)"
      ],
      "metadata": {
        "id": "HxEsNwnTHkDl"
      },
      "execution_count": null,
      "outputs": []
    },
    {
      "cell_type": "markdown",
      "source": [
        "Resumen: la base creada 'df_base' (integrada) ha pasado por un primer proceso de limpieza y ordenamiento.\n",
        "    \n",
        "    (i) convertimos bases en formato ancho a largo\n",
        "    \n",
        "    (ii) eliminamos valores NaN en bases de volumen y precios\n",
        "    \n",
        "    (iii) juntamos bases de volumen y precios\n",
        "    \n",
        "    (iv) cambiamos algunos nombres de variables"
      ],
      "metadata": {
        "id": "lFcxtg28ykm2"
      }
    },
    {
      "cell_type": "code",
      "source": [
        "df_base.describe(include='all')"
      ],
      "metadata": {
        "id": "JDph1ClvX8Oo"
      },
      "execution_count": null,
      "outputs": []
    },
    {
      "cell_type": "markdown",
      "source": [
        "Esta es una primera base \"limpia\" y \"ordenada\" con la que se puede iniciar el análisis exploratorio.\n",
        "\n",
        "Tiene 21,333 observaciones con valores para precios y volúmenes de 11 variedades de papa"
      ],
      "metadata": {
        "id": "X6tF89tynlCp"
      }
    },
    {
      "cell_type": "markdown",
      "source": [
        "## **2. Primer análisis exploratorio**"
      ],
      "metadata": {
        "id": "tIaA-k7EmVnM"
      }
    },
    {
      "cell_type": "markdown",
      "source": [
        "## 2.1. Mirada general"
      ],
      "metadata": {
        "id": "vIz4N_stSSU_"
      }
    },
    {
      "cell_type": "markdown",
      "source": [
        "\n",
        "Vemos a las variedades en sus diferencias. Esto requiere 'agrupar' las bases por variedad.  El método groupby es central para este proceso."
      ],
      "metadata": {
        "id": "TOx_7TwEzI4C"
      }
    },
    {
      "cell_type": "code",
      "source": [
        "df_base.groupby(df_base['variedad'])['volumen'].sum().sort_values(ascending=False)"
      ],
      "metadata": {
        "id": "p63vsXkPSkyW"
      },
      "execution_count": null,
      "outputs": []
    },
    {
      "cell_type": "code",
      "source": [
        "df_base.groupby(df_base['variedad'])['precio'].mean().sort_values(ascending=False)"
      ],
      "metadata": {
        "id": "KUzDlxR-TAmN"
      },
      "execution_count": null,
      "outputs": []
    },
    {
      "cell_type": "code",
      "source": [
        "df_base.groupby(df_base['variedad']).agg({'volumen':['count','mean', 'min','max'],'precio':['mean','min','max'], 'year':['min','max'], 'provincia':'nunique'})"
      ],
      "metadata": {
        "id": "qkyURgXQ5SRj"
      },
      "execution_count": null,
      "outputs": []
    },
    {
      "cell_type": "code",
      "source": [
        "df_base.groupby(df_base['variedad']).agg({'provincia':'nunique'}).plot.bar()"
      ],
      "metadata": {
        "id": "3FZVzZFmTLd1"
      },
      "execution_count": null,
      "outputs": []
    },
    {
      "cell_type": "markdown",
      "source": [
        "## 2.2.  Dinámica de oferta y precios por variedad"
      ],
      "metadata": {
        "id": "Xq6OLH3VTjYb"
      }
    },
    {
      "cell_type": "markdown",
      "source": [
        "Observar la dinámica de las variables en tiempo es muy importante.  Podemos agrupar los datos por año y visualizar"
      ],
      "metadata": {
        "id": "U-ERFY19aMlf"
      }
    },
    {
      "cell_type": "markdown",
      "source": [
        "### Papa Blanca"
      ],
      "metadata": {
        "id": "hrU7KL1bR6DP"
      }
    },
    {
      "cell_type": "code",
      "source": [
        "plt.figure(figsize=(8,5))\n",
        "vol_blanca=df_base[['year','volumen']][df_base.variedad==\"Papa Blanca\"].groupby('year').sum()\n",
        "plt.bar(vol_blanca.index,vol_blanca.volumen)\n",
        "plt.title(\"Papa Blanca: Volumen\", fontsize='xx-large')\n",
        "plt.xticks(vol_blanca.index,rotation=45, fontsize='small')\n",
        "plt.show()"
      ],
      "metadata": {
        "id": "q9YmrmTMPynE"
      },
      "execution_count": null,
      "outputs": []
    },
    {
      "cell_type": "code",
      "source": [
        "plt.figure(figsize=(8,5))\n",
        "pre_blanca=df_base[['year','precio']][df_base.variedad==\"Papa Blanca\"].groupby('year').mean()\n",
        "plt.plot(pre_blanca.index,pre_blanca.precio)\n",
        "plt.title(\"Papa Blanca: Precio\", fontsize='xx-large')\n",
        "plt.xticks(pre_blanca.index,rotation=45, fontsize='small')\n",
        "plt.show()"
      ],
      "metadata": {
        "id": "lUJSOmeZQSDq"
      },
      "execution_count": null,
      "outputs": []
    },
    {
      "cell_type": "markdown",
      "source": [
        "### Papa Yungay"
      ],
      "metadata": {
        "id": "hdhGxPiIR_9O"
      }
    },
    {
      "cell_type": "code",
      "source": [
        "plt.figure(figsize=(8,5))\n",
        "vol_yungay=df_base[['year','volumen']][df_base.variedad==\"Papa Yungay\"].groupby('year').sum()\n",
        "plt.bar(vol_yungay.index,vol_yungay.volumen)\n",
        "plt.title(\"Papa Yungay: Volumen\", fontsize='xx-large')\n",
        "plt.xticks(vol_blanca.index,rotation=45, fontsize='small')\n",
        "plt.show()"
      ],
      "metadata": {
        "id": "mcIFwtSODaku"
      },
      "execution_count": null,
      "outputs": []
    },
    {
      "cell_type": "code",
      "source": [
        "plt.figure(figsize=(8,5))\n",
        "pre_yungay=df_base[['year','precio']][df_base.variedad==\"Papa Yungay\"].groupby('year').mean()\n",
        "plt.plot(pre_yungay.index,pre_yungay.precio)\n",
        "plt.title(\"Papa Yungay: Precio\", fontsize='xx-large')\n",
        "plt.xticks(pre_blanca.index,rotation=45, fontsize='small')\n",
        "plt.yticks(np.arange(0.1,1.7,.1))\n",
        "plt.show()"
      ],
      "metadata": {
        "id": "WkXmKkSPHKrC"
      },
      "execution_count": null,
      "outputs": []
    },
    {
      "cell_type": "code",
      "source": [
        "plt.figure(figsize=(8,5))\n",
        "pre_yungay=df_base[['year','precio']][df_base.variedad==\"Papa Yungay\"].groupby('year').mean()\n",
        "plt.plot(pre_yungay.index,pre_yungay.precio)\n",
        "plt.plot(pre_blanca.index,pre_blanca.precio)\n",
        "plt.title(\"Papa Blanca y Yungay: Precio\", fontsize='xx-large')\n",
        "plt.xticks(pre_blanca.index,rotation=45, fontsize='small')\n",
        "plt.yticks(np.arange(0.1,1.7,.1))\n",
        "plt.show()"
      ],
      "metadata": {
        "id": "rwK91-L5UaBU"
      },
      "execution_count": null,
      "outputs": []
    },
    {
      "cell_type": "markdown",
      "source": [
        "### Papa Huayro"
      ],
      "metadata": {
        "id": "TheHwpYgSDiO"
      }
    },
    {
      "cell_type": "code",
      "source": [
        "plt.figure(figsize=(8,5))\n",
        "vol_huayro=df_base[['year','volumen']][df_base.variedad==\"Papa Huayro\"].groupby('year').sum()\n",
        "plt.bar(vol_huayro.index,vol_huayro.volumen)\n",
        "plt.title(\"Papa Huayro: Volumen\")\n",
        "plt.xticks(vol_huayro.index,rotation=45, fontsize='small')\n",
        "plt.show()"
      ],
      "metadata": {
        "id": "IvVtHJx3A45S"
      },
      "execution_count": null,
      "outputs": []
    },
    {
      "cell_type": "code",
      "source": [
        "plt.figure(figsize=(8,5))\n",
        "pre_huayro=df_base[['year','precio']][df_base.variedad==\"Papa Huayro\"].groupby('year').mean()\n",
        "plt.plot(pre_huayro.index,pre_huayro.precio)\n",
        "plt.title(\"Papa Huayro: Precio\", fontsize='xx-large')\n",
        "plt.xticks(pre_huayro.index,rotation=45, fontsize='small')\n",
        "plt.yticks(np.arange(0.1,1.7,.2))\n",
        "plt.show()"
      ],
      "metadata": {
        "id": "4J6yQlA0HCTy"
      },
      "execution_count": null,
      "outputs": []
    },
    {
      "cell_type": "markdown",
      "source": [
        "### Papa Canchan"
      ],
      "metadata": {
        "id": "4Y6xbz1LSHt9"
      }
    },
    {
      "cell_type": "code",
      "source": [
        "plt.figure(figsize=(8,5))\n",
        "vol_canchan=df_base[['year','volumen']][df_base.variedad==\"Papa Canchan\"].groupby('year').sum()\n",
        "plt.bar(vol_canchan.index,vol_canchan.volumen)\n",
        "plt.title(\"Papa Canchan: Volumen\", fontsize='xx-large')\n",
        "plt.xticks(vol_blanca.index,rotation=45, fontsize='small')\n",
        "plt.show()"
      ],
      "metadata": {
        "id": "e08fU7PuRQNO"
      },
      "execution_count": null,
      "outputs": []
    },
    {
      "cell_type": "code",
      "source": [
        "plt.figure(figsize=(8,5))\n",
        "pre_canchan=df_base[['year','precio']][df_base.variedad==\"Papa Canchan\"].groupby('year').mean()\n",
        "plt.plot(pre_canchan.index,pre_canchan.precio)\n",
        "plt.title(\"Papa Canchan: Precio\", fontsize='xx-large')\n",
        "plt.xticks(pre_blanca.index,rotation=45, fontsize='small')\n",
        "plt.yticks(np.arange(.1,1.7,.2))\n",
        "plt.show()"
      ],
      "metadata": {
        "id": "euH-Ni2hj7g6"
      },
      "execution_count": null,
      "outputs": []
    },
    {
      "cell_type": "markdown",
      "source": [
        "### Papa Amarilla"
      ],
      "metadata": {
        "id": "gG7vWS14SOz3"
      }
    },
    {
      "cell_type": "code",
      "source": [
        "plt.figure(figsize=(8,5))\n",
        "vol_amarilla=df_base[['year','volumen']][df_base.variedad==\"Papa Amarilla\"].groupby('year').sum()\n",
        "plt.bar(vol_amarilla.index,vol_amarilla.volumen)\n",
        "plt.title(\"Papa Amarilla: Volumen\", fontsize='xx-large')\n",
        "plt.xticks(vol_amarilla.index,rotation=45, fontsize='small')\n",
        "plt.show()"
      ],
      "metadata": {
        "id": "r9uIKBLZEa_9"
      },
      "execution_count": null,
      "outputs": []
    },
    {
      "cell_type": "code",
      "source": [
        "plt.figure(figsize=(8,5))\n",
        "pre_amarilla=df_base[['year','precio']][df_base.variedad==\"Papa Amarilla\"].groupby('year').mean()\n",
        "plt.plot(pre_amarilla.index,pre_amarilla.precio)\n",
        "plt.title(\"Papa Amarilla: Precio\", fontsize='xx-large')\n",
        "plt.xticks(pre_amarilla.index,rotation=45, fontsize='small')\n",
        "plt.yticks(np.arange(.1,2.4,.2))\n",
        "plt.show()"
      ],
      "metadata": {
        "id": "Fpbf320gGzjO"
      },
      "execution_count": null,
      "outputs": []
    },
    {
      "cell_type": "markdown",
      "source": [
        "### Papa Color"
      ],
      "metadata": {
        "id": "peOy1KQqTCHO"
      }
    },
    {
      "cell_type": "code",
      "source": [
        "plt.figure(figsize=(8,5))\n",
        "vol_color=df_base[['year','volumen']][df_base.variedad==\"Papa Color\"].groupby('year').sum()\n",
        "plt.bar(vol_color.index,vol_color.volumen)\n",
        "plt.title(\"Papa Color: Volumen\", fontsize='xx-large')\n",
        "plt.xticks(vol_color.index,rotation=45, fontsize='small')\n",
        "plt.show()"
      ],
      "metadata": {
        "id": "yYM0cCDQErfB"
      },
      "execution_count": null,
      "outputs": []
    },
    {
      "cell_type": "code",
      "source": [
        "plt.figure(figsize=(8,5))\n",
        "pre_color=df_base[['year','precio']][df_base.variedad==\"Papa Color\"].groupby('year').mean()\n",
        "plt.plot(pre_color.index,pre_color.precio)\n",
        "plt.title(\"Papa Color: Precio\", fontsize='xx-large')\n",
        "plt.xticks(pre_color.index,rotation=45, fontsize='small')\n",
        "plt.yticks(np.arange(.1,1.6,.2))\n",
        "plt.show()"
      ],
      "metadata": {
        "id": "N_kOVL_8GMUT"
      },
      "execution_count": null,
      "outputs": []
    },
    {
      "cell_type": "markdown",
      "source": [
        "### Papa Unica"
      ],
      "metadata": {
        "id": "5p3InaPsZ80d"
      }
    },
    {
      "cell_type": "code",
      "source": [
        "plt.figure(figsize=(8,5))\n",
        "vol_unica=df_base[['year','volumen']][df_base.variedad==\"Papa Unica\"].groupby('year').sum()\n",
        "plt.bar(vol_unica.index,vol_unica.volumen)\n",
        "plt.title(\"Papa Unica: Volumen\", fontsize='xx-large')\n",
        "plt.xticks(vol_color.index,rotation=45, fontsize='small')\n",
        "plt.show()"
      ],
      "metadata": {
        "id": "q4ymTYMNZ5c6"
      },
      "execution_count": null,
      "outputs": []
    },
    {
      "cell_type": "code",
      "source": [
        "plt.figure(figsize=(8,5))\n",
        "pre_unica=df_base[['year','precio']][df_base.variedad==\"Papa Unica\"].groupby('year').mean()\n",
        "plt.plot(pre_unica.index,pre_unica.precio)\n",
        "plt.title(\"Papa Unica: Precio\", fontsize='xx-large')\n",
        "plt.xticks(pre_color.index,rotation=45, fontsize='small')\n",
        "plt.yticks(np.arange(.1,1.6,.2))\n",
        "plt.show()"
      ],
      "metadata": {
        "id": "AZeUXv2_aKsN"
      },
      "execution_count": null,
      "outputs": []
    },
    {
      "cell_type": "markdown",
      "source": [
        "### Papa Peruanita"
      ],
      "metadata": {
        "id": "HARAAKVeailV"
      }
    },
    {
      "cell_type": "code",
      "source": [
        "plt.figure(figsize=(8,5))\n",
        "vol_peruanita=df_base[['year','volumen']][df_base.variedad==\"Papa Peruanita\"].groupby('year').sum()\n",
        "plt.bar(vol_peruanita.index,vol_peruanita.volumen)\n",
        "plt.title(\"Papa Peruanita: Volumen\", fontsize='xx-large')\n",
        "plt.xticks(vol_color.index,rotation=45, fontsize='small')\n",
        "plt.show()"
      ],
      "metadata": {
        "id": "t-1zXWPeaoWI"
      },
      "execution_count": null,
      "outputs": []
    },
    {
      "cell_type": "code",
      "source": [
        "plt.figure(figsize=(8,5))\n",
        "pre_peruanita=df_base[['year','precio']][df_base.variedad==\"Papa Peruanita\"].groupby('year').mean()\n",
        "plt.plot(pre_peruanita.index,pre_peruanita.precio)\n",
        "plt.title(\"Papa Peruanita: Precio\", fontsize='xx-large')\n",
        "plt.xticks(pre_color.index,rotation=45, fontsize='small')\n",
        "plt.yticks(np.arange(.1,2.4,.2))\n",
        "plt.show()"
      ],
      "metadata": {
        "id": "_5fZEmIVa1hL"
      },
      "execution_count": null,
      "outputs": []
    },
    {
      "cell_type": "markdown",
      "source": [
        "### Papa Perricholi"
      ],
      "metadata": {
        "id": "6KxFSfEM98PZ"
      }
    },
    {
      "cell_type": "code",
      "source": [
        "plt.figure(figsize=(8,5))\n",
        "vol_perricholi=df_base[['year','volumen']][df_base.variedad==\"Papa Perricholi\"].groupby('year').sum()\n",
        "plt.bar(vol_perricholi.index,vol_perricholi.volumen)\n",
        "plt.title(\"Papa Perricholi: Volumen\", fontsize='xx-large')\n",
        "plt.xticks(vol_color.index,rotation=45, fontsize='small')\n",
        "plt.show()"
      ],
      "metadata": {
        "id": "9w5CYxe294XR"
      },
      "execution_count": null,
      "outputs": []
    },
    {
      "cell_type": "code",
      "source": [
        "plt.figure(figsize=(8,5))\n",
        "pre_perricholi=df_base[['year','precio']][df_base.variedad==\"Papa Perricholi\"].groupby('year').mean()\n",
        "plt.plot(pre_perricholi.index,pre_perricholi.precio)\n",
        "plt.title(\"Papa Perricholi: Precio\", fontsize='xx-large')\n",
        "plt.xticks(pre_color.index,rotation=45, fontsize='small')\n",
        "plt.yticks(np.arange(.1,1.6,.2))\n",
        "plt.show()"
      ],
      "metadata": {
        "id": "cRVI6F8B-Sq5"
      },
      "execution_count": null,
      "outputs": []
    },
    {
      "cell_type": "markdown",
      "source": [
        "### Papa Huamantanga"
      ],
      "metadata": {
        "id": "RPquP4Xm-_Wj"
      }
    },
    {
      "cell_type": "code",
      "source": [
        "plt.figure(figsize=(8,5))\n",
        "vol_huamantanga=df_base[['year','volumen']][df_base.variedad==\"Papa Huamantanga\"].groupby('year').sum()\n",
        "plt.bar(vol_huamantanga.index,vol_huamantanga.volumen)\n",
        "plt.title(\"Papa Huamantanga: Volumen\", fontsize='xx-large')\n",
        "plt.xticks(vol_color.index,rotation=45, fontsize='small')\n",
        "plt.show()"
      ],
      "metadata": {
        "id": "g0b7OKcn-uY4"
      },
      "execution_count": null,
      "outputs": []
    },
    {
      "cell_type": "code",
      "source": [
        "plt.figure(figsize=(8,5))\n",
        "pre_huamantanga=df_base[['year','precio']][df_base.variedad==\"Papa Huamantanga\"].groupby('year').mean()\n",
        "plt.plot(pre_huamantanga.index,pre_huamantanga.precio)\n",
        "plt.title(\"Papa Huamantanga: Precio\", fontsize='xx-large')\n",
        "plt.xticks(pre_color.index,rotation=45, fontsize='small')\n",
        "plt.yticks(np.arange(.1,2.4,.2))\n",
        "plt.show()"
      ],
      "metadata": {
        "id": "Kv4Rg6kd_E36"
      },
      "execution_count": null,
      "outputs": []
    },
    {
      "cell_type": "markdown",
      "source": [
        "### Papa Negra Andina"
      ],
      "metadata": {
        "id": "7hY-i21DFSmm"
      }
    },
    {
      "cell_type": "code",
      "source": [
        "plt.figure(figsize=(8,5))\n",
        "vol_negra=df_base[['year','volumen']][df_base.variedad==\"Papa Negra Andina\"].groupby('year').sum()\n",
        "plt.bar(vol_negra.index,vol_negra.volumen)\n",
        "plt.title(\"Papa Negra Andina: Volumen\", fontsize='xx-large')\n",
        "plt.xticks(vol_color.index,rotation=45, fontsize='small')\n",
        "plt.show()"
      ],
      "metadata": {
        "id": "uzr5fX_0Fmy1"
      },
      "execution_count": null,
      "outputs": []
    },
    {
      "cell_type": "code",
      "source": [
        "plt.figure(figsize=(8,5))\n",
        "pre_negra=df_base[['year','precio']][df_base.variedad==\"Papa Negra Andina\"].groupby('year').mean()\n",
        "plt.plot(pre_negra.index,pre_negra.precio)\n",
        "plt.title(\"Papa Negra Andina: Precio\", fontsize='xx-large')\n",
        "plt.xticks(pre_color.index,rotation=45, fontsize='small')\n",
        "plt.yticks(np.arange(.1,1.8,.2))\n",
        "plt.show()"
      ],
      "metadata": {
        "id": "68FbTnq_F3T_"
      },
      "execution_count": null,
      "outputs": []
    },
    {
      "cell_type": "markdown",
      "source": [
        "### Papas con precios similares a Papa Blanca"
      ],
      "metadata": {
        "id": "upWjXX35gzsF"
      }
    },
    {
      "cell_type": "code",
      "source": [
        "plt.figure(figsize=(8,5))\n",
        "plt.plot(pre_yungay.index,pre_yungay.precio,label='Yungay')\n",
        "plt.plot(pre_blanca.index,pre_blanca.precio, label='Blanca')\n",
        "plt.plot(pre_canchan.index,pre_canchan.precio, label='Canchan')\n",
        "plt.plot(pre_color.index,pre_color.precio, label='Color')\n",
        "plt.plot(pre_perricholi.index,pre_perricholi.precio, label='Perricholi')\n",
        "plt.title(\"Papa Blanca, Yungay, Canchan, Color, Perricholi: Precio\", fontsize='large')\n",
        "plt.xticks(pre_blanca.index,rotation=45, fontsize='small')\n",
        "plt.legend()\n",
        "plt.show()"
      ],
      "metadata": {
        "id": "SGRVIfmXXZXA"
      },
      "execution_count": null,
      "outputs": []
    },
    {
      "cell_type": "markdown",
      "source": [
        "### Papas con precios similares a papa amarilla"
      ],
      "metadata": {
        "id": "Gy_oR4cWg5t0"
      }
    },
    {
      "cell_type": "code",
      "source": [
        "plt.figure(figsize=(8,5))\n",
        "plt.plot(pre_amarilla.index,pre_amarilla.precio, label='Amarilla')\n",
        "plt.plot(pre_peruanita.index,pre_peruanita.precio, label='Peruanita')\n",
        "plt.plot(pre_huamantanga.index,pre_huamantanga.precio, label='Huamantanga')\n",
        "plt.title(\"Papa Amarilla, Peruanita, Huamantanga\", fontsize='large')\n",
        "plt.xticks(pre_blanca.index,rotation=45, fontsize='small')\n",
        "plt.legend()\n",
        "plt.show()"
      ],
      "metadata": {
        "id": "BwwR6NUIYz9Z"
      },
      "execution_count": null,
      "outputs": []
    },
    {
      "cell_type": "markdown",
      "source": [
        "### Precios de huayro y negra andina"
      ],
      "metadata": {
        "id": "spIcGifzjDxG"
      }
    },
    {
      "cell_type": "code",
      "source": [
        "plt.figure(figsize=(8,5))\n",
        "plt.plot(pre_huayro.index,pre_huayro.precio, label='Huayro')\n",
        "plt.plot(pre_negra.index,pre_negra.precio, label='Negra Andina')\n",
        "plt.title(\"Papa Huayro, Negra Andina\", fontsize='large')\n",
        "plt.xticks(pre_blanca.index,rotation=45, fontsize='small')\n",
        "plt.legend()\n",
        "plt.show()"
      ],
      "metadata": {
        "id": "vFJ7Ff2Lith1"
      },
      "execution_count": null,
      "outputs": []
    },
    {
      "cell_type": "code",
      "source": [
        "plt.figure(figsize=(8,5))\n",
        "plt.plot(pre_blanca.index,pre_blanca.precio, label='Blanca', color='gray')\n",
        "plt.plot(pre_amarilla.index,pre_amarilla.precio, label='Amarilla')\n",
        "plt.plot(pre_huayro.index,pre_huayro.precio, label='Huayro')\n",
        "plt.title(\"Papa Blanca, Amarilla y Huayro\", fontsize='x-large')\n",
        "plt.xticks(pre_blanca.index,rotation=45, fontsize='small')\n",
        "plt.legend()\n",
        "plt.show()"
      ],
      "metadata": {
        "id": "h4kMDin9bCkC"
      },
      "execution_count": null,
      "outputs": []
    },
    {
      "cell_type": "markdown",
      "source": [
        "## 2.3. Análisis de las provincias de origen y su peso en la producción"
      ],
      "metadata": {
        "id": "Cjkx3ZHeeMFM"
      }
    },
    {
      "cell_type": "markdown",
      "source": [
        "Creamos variable de valor (precio*volumen) para cada observación. Esta variable está en millones de soles"
      ],
      "metadata": {
        "id": "2FEAYM8hUmn_"
      }
    },
    {
      "cell_type": "code",
      "source": [
        "df_base['valor']=(df_base['volumen']*df_base['precio'])/1000"
      ],
      "metadata": {
        "id": "Hw4LBHQ6e4Fg"
      },
      "execution_count": 85,
      "outputs": []
    },
    {
      "cell_type": "code",
      "source": [
        "df_base.valor.describe()"
      ],
      "metadata": {
        "id": "buR5kft0fJSP"
      },
      "execution_count": null,
      "outputs": []
    },
    {
      "cell_type": "code",
      "source": [
        "vv_valor=pd.DataFrame(df_base.groupby('year')['valor'].sum())\n"
      ],
      "metadata": {
        "id": "mqQRvtGfDV41"
      },
      "execution_count": 87,
      "outputs": []
    },
    {
      "cell_type": "code",
      "source": [
        "plt.figure(figsize=(8,5))\n",
        "plt.bar(vv_valor.index,vv_valor.valor)\n",
        "plt.suptitle(\"Valor de transacciones de Papa 1997-2020\",fontsize='x-large')\n",
        "plt.title(\"Millones de soles\")\n",
        "plt.xticks(vv_valor.index,rotation=45, fontsize='small')\n",
        "plt.show()"
      ],
      "metadata": {
        "id": "IX_U2nAwEM3k"
      },
      "execution_count": null,
      "outputs": []
    },
    {
      "cell_type": "markdown",
      "source": [
        "Generamos ranking de provincias de acuerdo a valor total de papa enviada a Lima entre 1997 y mayo 2021"
      ],
      "metadata": {
        "id": "DJpmspLlfNe4"
      }
    },
    {
      "cell_type": "code",
      "source": [
        "rank_prov=df_base.groupby(df_base.provincia)['valor'].sum()"
      ],
      "metadata": {
        "id": "EyiQq2dBfWP3"
      },
      "execution_count": 89,
      "outputs": []
    },
    {
      "cell_type": "code",
      "source": [
        "prov_19=rank_prov.sort_values(ascending=False)[0:19].sum()"
      ],
      "metadata": {
        "id": "vcC9Qd-Df8Fr"
      },
      "execution_count": 90,
      "outputs": []
    },
    {
      "cell_type": "code",
      "source": [
        "prov_resto=rank_prov.sort_values(ascending=False)[19:len(rank_prov)].sum()"
      ],
      "metadata": {
        "id": "Djud9xjUgg8L"
      },
      "execution_count": 93,
      "outputs": []
    },
    {
      "cell_type": "code",
      "source": [
        "prov_19/(prov_19+prov_resto)\n"
      ],
      "metadata": {
        "id": "PviqgXGygmea"
      },
      "execution_count": null,
      "outputs": []
    },
    {
      "cell_type": "markdown",
      "source": [
        "Las primeras 19 provincias del ranking generan el 96.4% del valor total de la papa enviada a Lima. Tiene sentido acotar la base solamente a esas 19 provincias para analizar el mercado de papas en general (pero ojo con variedades específicas donde pocas provincias son importantes como Negra Andina o Huamantanga)"
      ],
      "metadata": {
        "id": "goz7lBgWg0GQ"
      }
    },
    {
      "cell_type": "code",
      "source": [
        "r19=rank_prov.sort_values(ascending=False)[0:19]"
      ],
      "metadata": {
        "id": "WOYmnh7-hIs9"
      },
      "execution_count": 98,
      "outputs": []
    },
    {
      "cell_type": "code",
      "source": [
        "r19.sort_values(ascending=False)"
      ],
      "metadata": {
        "id": "SPeOCixLcHH4"
      },
      "execution_count": null,
      "outputs": []
    },
    {
      "cell_type": "code",
      "source": [
        "r19"
      ],
      "metadata": {
        "id": "RmJHHETxlOSZ"
      },
      "execution_count": null,
      "outputs": []
    },
    {
      "cell_type": "code",
      "source": [
        "df_base2=df_base[df_base[\"provincia\"].isin(r19.index)]"
      ],
      "metadata": {
        "id": "Xroq36dQh6Ej"
      },
      "execution_count": 101,
      "outputs": []
    },
    {
      "cell_type": "code",
      "source": [
        "df_base2.provincia.value_counts()"
      ],
      "metadata": {
        "id": "Kvv7RDatlnnh"
      },
      "execution_count": null,
      "outputs": []
    },
    {
      "cell_type": "markdown",
      "source": [
        "## 2.4. Análisis por región natural de origen"
      ],
      "metadata": {
        "id": "5crFw4nQPXT3"
      }
    },
    {
      "cell_type": "markdown",
      "source": [
        "Creamos variable 'costa' que identifica provincias de la costa"
      ],
      "metadata": {
        "id": "QplArrd5cb7P"
      }
    },
    {
      "cell_type": "code",
      "source": [
        "df_base2['costa']=df_base2['provincia'].isin(['Huaral','Lima','Barranca',\n",
        "                'Nazca','Canete','Huaura','Arequipa','Ica']).astype('int')"
      ],
      "metadata": {
        "id": "oI5qTEe9PhOp"
      },
      "execution_count": null,
      "outputs": []
    },
    {
      "cell_type": "markdown",
      "source": [
        "Peso de cada región en valor de producción por variedad"
      ],
      "metadata": {
        "id": "c1NROR8vD9lI"
      }
    },
    {
      "cell_type": "code",
      "source": [
        "v_costa=df_base2[df_base2['costa']==1].groupby('variedad')['valor'].sum()\n",
        "v_sierra=df_base2[df_base2['costa']==0].groupby('variedad')['valor'].sum()\n",
        "v_total=v_costa+v_sierra\n",
        "r_sierra=(v_sierra/v_total)*100"
      ],
      "metadata": {
        "id": "iq8aCAvIB0Yo"
      },
      "execution_count": 109,
      "outputs": []
    },
    {
      "cell_type": "code",
      "source": [
        "plt.figure(figsize=(9,5))\n",
        "plt.bar(r_sierra.index,r_sierra)\n",
        "plt.xticks(rotation=90)\n",
        "plt.title(\"Porcentaje valor de oferta proveniente de sierra\")\n",
        "plt.show()"
      ],
      "metadata": {
        "colab": {
          "base_uri": "https://localhost:8080/",
          "height": 424
        },
        "id": "74ajdNTtcsC3",
        "outputId": "8f41af99-c1a9-4d52-fb79-7e3935d8c6f0"
      },
      "execution_count": 114,
      "outputs": [
        {
          "output_type": "display_data",
          "data": {
            "text/plain": [
              "<Figure size 648x360 with 1 Axes>"
            ],
            "image/png": "[encoded data removed]"
          },
          "metadata": {
            "needs_background": "light"
          }
        }
      ]
    },
    {
      "cell_type": "code",
      "source": [
        "plt.figure(figsize=(9,5))\n",
        "ll_costa=df_base2[(df_base2.costa==1) & (df_base2.year<=2020)].groupby('year')['valor'].sum()\n",
        "ll_sierra=df_base2[(df_base2.costa==0) & (df_base2.year<=2020)].groupby('year')['valor'].sum()\n",
        "plt.plot(ll_costa.index, ll_costa, label='Costa')\n",
        "plt.plot(ll_sierra.index, ll_sierra, label='Sierra')\n",
        "plt.legend(fontsize='large')\n",
        "plt.suptitle('Valor de transacciones 1997-2020 por region natural', fontsize='xx-large')\n",
        "plt.title('Millones de soles por año')\n",
        "plt.xticks(ll_costa.index, rotation=45)\n",
        "plt.show"
      ],
      "metadata": {
        "id": "BYUQ8hiuRZd2",
        "colab": {
          "base_uri": "https://localhost:8080/",
          "height": 389
        },
        "outputId": "16223c34-7145-40f2-a74c-1ec5669e95d9"
      },
      "execution_count": 115,
      "outputs": [
        {
          "output_type": "execute_result",
          "data": {
            "text/plain": [
              "<function matplotlib.pyplot.show(close=None, block=None)>"
            ]
          },
          "metadata": {},
          "execution_count": 115
        },
        {
          "output_type": "display_data",
          "data": {
            "text/plain": [
              "<Figure size 648x360 with 1 Axes>"
            ],
            "image/png": "[encoded data removed]"
          },
          "metadata": {
            "needs_background": "light"
          }
        }
      ]
    },
    {
      "cell_type": "code",
      "source": [
        "kk_costa=ll_costa/(ll_costa+ll_sierra)*100"
      ],
      "metadata": {
        "id": "ZmLoHfN_dO7d"
      },
      "execution_count": 120,
      "outputs": []
    },
    {
      "cell_type": "code",
      "source": [
        "plt.figure(figsize=(9,5))\n",
        "plt.bar(kk_costa.index, kk_costa)\n",
        "plt.xticks(np.arange(1997,2021,1), rotation=45)\n",
        "plt.title(\"Participación de costa en valor de producción\")"
      ],
      "metadata": {
        "colab": {
          "base_uri": "https://localhost:8080/",
          "height": 369
        },
        "id": "NYUazEwTdWIs",
        "outputId": "25721c95-9bcb-4692-cdfa-c5e21542f0ef"
      },
      "execution_count": 129,
      "outputs": [
        {
          "output_type": "execute_result",
          "data": {
            "text/plain": [
              "Text(0.5, 1.0, 'Participación de costa en valor de producción')"
            ]
          },
          "metadata": {},
          "execution_count": 129
        },
        {
          "output_type": "display_data",
          "data": {
            "text/plain": [
              "<Figure size 648x360 with 1 Axes>"
            ],
            "image/png": "[encoded data removed]"
          },
          "metadata": {
            "needs_background": "light"
          }
        }
      ]
    },
    {
      "cell_type": "code",
      "source": [
        "plt.figure(figsize=(12,5))\n",
        "mm_costa=df_base2[df_base2.costa==1].groupby('ym')['valor'].sum()\n",
        "mm_sierra=df_base2[df_base2.costa==0].groupby('ym')['valor'].sum()\n",
        "plt.plot(mm_costa.index, mm_costa, label='Costa')\n",
        "plt.plot(mm_sierra.index, mm_sierra, label='Sierra')\n",
        "plt.legend(fontsize='large')\n",
        "plt.suptitle('Valor de transacciones 1997-2020 por region natural', fontsize='xx-large')\n",
        "plt.title('Millones de soles por mes')\n",
        "rr=mm_costa.index[np.arange(0,len(mm_costa),11)]\n",
        "plt.xticks(rr, rotation=90, fontsize='small')\n",
        "plt.show"
      ],
      "metadata": {
        "id": "KitIrES0adtR",
        "colab": {
          "base_uri": "https://localhost:8080/",
          "height": 408
        },
        "outputId": "8f98a7fa-5b7f-43d3-f855-a293fe180c28"
      },
      "execution_count": 130,
      "outputs": [
        {
          "output_type": "execute_result",
          "data": {
            "text/plain": [
              "<function matplotlib.pyplot.show(close=None, block=None)>"
            ]
          },
          "metadata": {},
          "execution_count": 130
        },
        {
          "output_type": "display_data",
          "data": {
            "text/plain": [
              "<Figure size 864x360 with 1 Axes>"
            ],
            "image/png": "[encoded data removed]"
          },
          "metadata": {
            "needs_background": "light"
          }
        }
      ]
    },
    {
      "cell_type": "markdown",
      "source": [
        "La base **df_base2** puede ser utilizada para el modelamiento y análisis del mercado de papa (en sus distintas variedades) de Lima Metropolitana."
      ],
      "metadata": {
        "id": "4q472PfQiQdf"
      }
    },
    {
      "cell_type": "code",
      "source": [
        "df_base2.describe(include='all')"
      ],
      "metadata": {
        "id": "yID2kBAPFHOO",
        "colab": {
          "base_uri": "https://localhost:8080/",
          "height": 438
        },
        "outputId": "e5fa6c63-815a-43c9-853a-975faeb5a9a9"
      },
      "execution_count": 131,
      "outputs": [
        {
          "output_type": "execute_result",
          "data": {
            "text/plain": [
              "           variedad          year provincia    mes       volumen  \\\n",
              "count         15549  15549.000000     15549  15549  15549.000000   \n",
              "unique           11           NaN        19     12           NaN   \n",
              "top     Papa Blanca           NaN  Huancayo   m_08           NaN   \n",
              "freq           4838           NaN      1397   1455           NaN   \n",
              "mean            NaN   2011.149849       NaN    NaN    760.478341   \n",
              "std             NaN      7.110863       NaN    NaN   1613.421424   \n",
              "min             NaN   1997.000000       NaN    NaN      0.090000   \n",
              "25%             NaN   2005.000000       NaN    NaN     29.000000   \n",
              "50%             NaN   2013.000000       NaN    NaN    127.860000   \n",
              "75%             NaN   2017.000000       NaN    NaN    651.920000   \n",
              "max             NaN   2021.000000       NaN    NaN  16033.000000   \n",
              "\n",
              "              precio        ym         valor         costa  \n",
              "count   15549.000000     15549  15549.000000  15549.000000  \n",
              "unique           NaN       291           NaN           NaN  \n",
              "top              NaN  2018m_08           NaN           NaN  \n",
              "freq             NaN       112           NaN           NaN  \n",
              "mean        0.902209       NaN      0.573689      0.292302  \n",
              "std         0.439640       NaN      1.212714      0.454835  \n",
              "min         0.280000       NaN      0.000065      0.000000  \n",
              "25%         0.610000       NaN      0.025000      0.000000  \n",
              "50%         0.770000       NaN      0.108778      0.000000  \n",
              "75%         1.090000       NaN      0.509960      1.000000  \n",
              "max         3.320000       NaN     17.654500      1.000000  "
            ],
            "text/html": [
              "\n",
              "  <div id=\"df-fe5cb470-fea3-4667-9978-e946fecc7746\">\n",
              "    <div class=\"colab-df-container\">\n",
              "      <div>\n",
              "<style scoped>\n",
              "    .dataframe tbody tr th:only-of-type {\n",
              "        vertical-align: middle;\n",
              "    }\n",
              "\n",
              "    .dataframe tbody tr th {\n",
              "        vertical-align: top;\n",
              "    }\n",
              "\n",
              "    .dataframe thead th {\n",
              "        text-align: right;\n",
              "    }\n",
              "</style>\n",
              "<table border=\"1\" class=\"dataframe\">\n",
              "  <thead>\n",
              "    <tr style=\"text-align: right;\">\n",
              "      <th></th>\n",
              "      <th>variedad</th>\n",
              "      <th>year</th>\n",
              "      <th>provincia</th>\n",
              "      <th>mes</th>\n",
              "      <th>volumen</th>\n",
              "      <th>precio</th>\n",
              "      <th>ym</th>\n",
              "      <th>valor</th>\n",
              "      <th>costa</th>\n",
              "    </tr>\n",
              "  </thead>\n",
              "  <tbody>\n",
              "    <tr>\n",
              "      <th>count</th>\n",
              "      <td>15549</td>\n",
              "      <td>15549.000000</td>\n",
              "      <td>15549</td>\n",
              "      <td>15549</td>\n",
              "      <td>15549.000000</td>\n",
              "      <td>15549.000000</td>\n",
              "      <td>15549</td>\n",
              "      <td>15549.000000</td>\n",
              "      <td>15549.000000</td>\n",
              "    </tr>\n",
              "    <tr>\n",
              "      <th>unique</th>\n",
              "      <td>11</td>\n",
              "      <td>NaN</td>\n",
              "      <td>19</td>\n",
              "      <td>12</td>\n",
              "      <td>NaN</td>\n",
              "      <td>NaN</td>\n",
              "      <td>291</td>\n",
              "      <td>NaN</td>\n",
              "      <td>NaN</td>\n",
              "    </tr>\n",
              "    <tr>\n",
              "      <th>top</th>\n",
              "      <td>Papa Blanca</td>\n",
              "      <td>NaN</td>\n",
              "      <td>Huancayo</td>\n",
              "      <td>m_08</td>\n",
              "      <td>NaN</td>\n",
              "      <td>NaN</td>\n",
              "      <td>2018m_08</td>\n",
              "      <td>NaN</td>\n",
              "      <td>NaN</td>\n",
              "    </tr>\n",
              "    <tr>\n",
              "      <th>freq</th>\n",
              "      <td>4838</td>\n",
              "      <td>NaN</td>\n",
              "      <td>1397</td>\n",
              "      <td>1455</td>\n",
              "      <td>NaN</td>\n",
              "      <td>NaN</td>\n",
              "      <td>112</td>\n",
              "      <td>NaN</td>\n",
              "      <td>NaN</td>\n",
              "    </tr>\n",
              "    <tr>\n",
              "      <th>mean</th>\n",
              "      <td>NaN</td>\n",
              "      <td>2011.149849</td>\n",
              "      <td>NaN</td>\n",
              "      <td>NaN</td>\n",
              "      <td>760.478341</td>\n",
              "      <td>0.902209</td>\n",
              "      <td>NaN</td>\n",
              "      <td>0.573689</td>\n",
              "      <td>0.292302</td>\n",
              "    </tr>\n",
              "    <tr>\n",
              "      <th>std</th>\n",
              "      <td>NaN</td>\n",
              "      <td>7.110863</td>\n",
              "      <td>NaN</td>\n",
              "      <td>NaN</td>\n",
              "      <td>1613.421424</td>\n",
              "      <td>0.439640</td>\n",
              "      <td>NaN</td>\n",
              "      <td>1.212714</td>\n",
              "      <td>0.454835</td>\n",
              "    </tr>\n",
              "    <tr>\n",
              "      <th>min</th>\n",
              "      <td>NaN</td>\n",
              "      <td>1997.000000</td>\n",
              "      <td>NaN</td>\n",
              "      <td>NaN</td>\n",
              "      <td>0.090000</td>\n",
              "      <td>0.280000</td>\n",
              "      <td>NaN</td>\n",
              "      <td>0.000065</td>\n",
              "      <td>0.000000</td>\n",
              "    </tr>\n",
              "    <tr>\n",
              "      <th>25%</th>\n",
              "      <td>NaN</td>\n",
              "      <td>2005.000000</td>\n",
              "      <td>NaN</td>\n",
              "      <td>NaN</td>\n",
              "      <td>29.000000</td>\n",
              "      <td>0.610000</td>\n",
              "      <td>NaN</td>\n",
              "      <td>0.025000</td>\n",
              "      <td>0.000000</td>\n",
              "    </tr>\n",
              "    <tr>\n",
              "      <th>50%</th>\n",
              "      <td>NaN</td>\n",
              "      <td>2013.000000</td>\n",
              "      <td>NaN</td>\n",
              "      <td>NaN</td>\n",
              "      <td>127.860000</td>\n",
              "      <td>0.770000</td>\n",
              "      <td>NaN</td>\n",
              "      <td>0.108778</td>\n",
              "      <td>0.000000</td>\n",
              "    </tr>\n",
              "    <tr>\n",
              "      <th>75%</th>\n",
              "      <td>NaN</td>\n",
              "      <td>2017.000000</td>\n",
              "      <td>NaN</td>\n",
              "      <td>NaN</td>\n",
              "      <td>651.920000</td>\n",
              "      <td>1.090000</td>\n",
              "      <td>NaN</td>\n",
              "      <td>0.509960</td>\n",
              "      <td>1.000000</td>\n",
              "    </tr>\n",
              "    <tr>\n",
              "      <th>max</th>\n",
              "      <td>NaN</td>\n",
              "      <td>2021.000000</td>\n",
              "      <td>NaN</td>\n",
              "      <td>NaN</td>\n",
              "      <td>16033.000000</td>\n",
              "      <td>3.320000</td>\n",
              "      <td>NaN</td>\n",
              "      <td>17.654500</td>\n",
              "      <td>1.000000</td>\n",
              "    </tr>\n",
              "  </tbody>\n",
              "</table>\n",
              "</div>\n",
              "      <button class=\"colab-df-convert\" onclick=\"convertToInteractive('df-fe5cb470-fea3-4667-9978-e946fecc7746')\"\n",
              "              title=\"Convert this dataframe to an interactive table.\"\n",
              "              style=\"display:none;\">\n",
              "        \n",
              "  <svg xmlns=\"http://www.w3.org/2000/svg\" height=\"24px\"viewBox=\"0 0 24 24\"\n",
              "       width=\"24px\">\n",
              "    <path d=\"M0 0h24v24H0V0z\" fill=\"none\"/>\n",
              "    <path d=\"M18.56 5.44l.94 2.06.94-2.06 2.06-.94-2.06-.94-.94-2.06-.94 2.06-2.06.94zm-11 1L8.5 8.5l.94-2.06 2.06-.94-2.06-.94L8.5 2.5l-.94 2.06-2.06.94zm10 10l.94 2.06.94-2.06 2.06-.94-2.06-.94-.94-2.06-.94 2.06-2.06.94z\"/><path d=\"M17.41 7.96l-1.37-1.37c-.4-.4-.92-.59-1.43-.59-.52 0-1.04.2-1.43.59L10.3 9.45l-7.72 7.72c-.78.78-.78 2.05 0 2.83L4 21.41c.39.39.9.59 1.41.59.51 0 1.02-.2 1.41-.59l7.78-7.78 2.81-2.81c.8-.78.8-2.07 0-2.86zM5.41 20L4 18.59l7.72-7.72 1.47 1.35L5.41 20z\"/>\n",
              "  </svg>\n",
              "      </button>\n",
              "      \n",
              "  <style>\n",
              "    .colab-df-container {\n",
              "      display:flex;\n",
              "      flex-wrap:wrap;\n",
              "      gap: 12px;\n",
              "    }\n",
              "\n",
              "    .colab-df-convert {\n",
              "      background-color: #E8F0FE;\n",
              "      border: none;\n",
              "      border-radius: 50%;\n",
              "      cursor: pointer;\n",
              "      display: none;\n",
              "      fill: #1967D2;\n",
              "      height: 32px;\n",
              "      padding: 0 0 0 0;\n",
              "      width: 32px;\n",
              "    }\n",
              "\n",
              "    .colab-df-convert:hover {\n",
              "      background-color: #E2EBFA;\n",
              "      box-shadow: 0px 1px 2px rgba(60, 64, 67, 0.3), 0px 1px 3px 1px rgba(60, 64, 67, 0.15);\n",
              "      fill: #174EA6;\n",
              "    }\n",
              "\n",
              "    [theme=dark] .colab-df-convert {\n",
              "      background-color: #3B4455;\n",
              "      fill: #D2E3FC;\n",
              "    }\n",
              "\n",
              "    [theme=dark] .colab-df-convert:hover {\n",
              "      background-color: #434B5C;\n",
              "      box-shadow: 0px 1px 3px 1px rgba(0, 0, 0, 0.15);\n",
              "      filter: drop-shadow(0px 1px 2px rgba(0, 0, 0, 0.3));\n",
              "      fill: #FFFFFF;\n",
              "    }\n",
              "  </style>\n",
              "\n",
              "      <script>\n",
              "        const buttonEl =\n",
              "          document.querySelector('#df-fe5cb470-fea3-4667-9978-e946fecc7746 button.colab-df-convert');\n",
              "        buttonEl.style.display =\n",
              "          google.colab.kernel.accessAllowed ? 'block' : 'none';\n",
              "\n",
              "        async function convertToInteractive(key) {\n",
              "          const element = document.querySelector('#df-fe5cb470-fea3-4667-9978-e946fecc7746');\n",
              "          const dataTable =\n",
              "            await google.colab.kernel.invokeFunction('convertToInteractive',\n",
              "                                                     [key], {});\n",
              "          if (!dataTable) return;\n",
              "\n",
              "          const docLinkHtml = 'Like what you see? Visit the ' +\n",
              "            '<a target=\"_blank\" href=https://colab.research.google.com/notebooks/data_table.ipynb>data table notebook</a>'\n",
              "            + ' to learn more about interactive tables.';\n",
              "          element.innerHTML = '';\n",
              "          dataTable['output_type'] = 'display_data';\n",
              "          await google.colab.output.renderOutput(dataTable, element);\n",
              "          const docLink = document.createElement('div');\n",
              "          docLink.innerHTML = docLinkHtml;\n",
              "          element.appendChild(docLink);\n",
              "        }\n",
              "      </script>\n",
              "    </div>\n",
              "  </div>\n",
              "  "
            ]
          },
          "metadata": {},
          "execution_count": 131
        }
      ]
    },
    {
      "cell_type": "markdown",
      "source": [
        "Tenemos 15,549 observaciones en la base final, 11 variedades, 19 provincias, 291 meses"
      ],
      "metadata": {
        "id": "0pGPQeLwLkZd"
      }
    },
    {
      "cell_type": "code",
      "source": [
        "df_base2.variedad.value_counts()"
      ],
      "metadata": {
        "id": "suMCM7LvLz_j",
        "colab": {
          "base_uri": "https://localhost:8080/"
        },
        "outputId": "c95ab32b-87be-49f2-c6d4-17dff6ee5109"
      },
      "execution_count": 132,
      "outputs": [
        {
          "output_type": "execute_result",
          "data": {
            "text/plain": [
              "Papa Blanca          4838\n",
              "Papa Color           4012\n",
              "Papa Amarilla        2018\n",
              "Papa Yungay          1215\n",
              "Papa Canchan         1045\n",
              "Papa Unica            806\n",
              "Papa Huayro           717\n",
              "Papa Peruanita        371\n",
              "Papa Perricholi       339\n",
              "Papa Negra Andina     131\n",
              "Papa Huamantanga       57\n",
              "Name: variedad, dtype: int64"
            ]
          },
          "metadata": {},
          "execution_count": 132
        }
      ]
    },
    {
      "cell_type": "code",
      "source": [
        "df_base2.to_excel('/content/sample_data/df_base2.xlsx')"
      ],
      "metadata": {
        "id": "PzNtzNV32zIR"
      },
      "execution_count": null,
      "outputs": []
    }
  ]
}