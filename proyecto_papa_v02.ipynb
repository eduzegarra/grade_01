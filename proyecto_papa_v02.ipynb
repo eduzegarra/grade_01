{
  "nbformat": 4,
  "nbformat_minor": 0,
  "metadata": {
    "colab": {
      "provenance": [],
      "toc_visible": true,
      "include_colab_link": true
    },
    "kernelspec": {
      "name": "python3",
      "display_name": "Python 3"
    }
  },
  "cells": [
    {
      "cell_type": "markdown",
      "metadata": {
        "id": "view-in-github",
        "colab_type": "text"
      },
      "source": [
        "<a href=\"https://colab.research.google.com/github/eduzegarra/grade_01/blob/main/proyecto_papa_v02.ipynb\" target=\"_parent\"><img src=\"https://colab.research.google.com/assets/colab-badge.svg\" alt=\"Open In Colab\"/></a>"
      ]
    },
    {
      "cell_type": "markdown",
      "metadata": {
        "id": "yg9Q9HZ7KQxe"
      },
      "source": [
        "# **Proyecto Papa Sostenible: Integración, Limpieza y Análisis Exploratorio**\n"
      ]
    },
    {
      "cell_type": "markdown",
      "metadata": {
        "id": "B26euJKsNP68"
      },
      "source": [
        "Librerías externas necesarias"
      ]
    },
    {
      "cell_type": "code",
      "metadata": {
        "id": "Szi61mHXNTJ2"
      },
      "source": [
        "import pandas as pd\n",
        "import numpy as np\n",
        "import matplotlib.pyplot as plt"
      ],
      "execution_count": 1,
      "outputs": []
    },
    {
      "cell_type": "markdown",
      "source": [
        "## **1. Lectura, limpieza e integración de base de datos**"
      ],
      "metadata": {
        "id": "z8K6bNd-uDSU"
      }
    },
    {
      "cell_type": "markdown",
      "source": [
        "### 1.1. Lectura de base de datos original en Excel"
      ],
      "metadata": {
        "id": "Vrho2zlQs0vZ"
      }
    },
    {
      "cell_type": "markdown",
      "source": [
        "Leemos primer libro del archivo Excel (volumen) asignado a objeto \"vol\" (en este caso subimos primero el archivo al entorno para leerlo)"
      ],
      "metadata": {
        "id": "M6DW4sWCvSx5"
      }
    },
    {
      "cell_type": "code",
      "metadata": {
        "id": "NRgAostfKJOR"
      },
      "source": [
        "vol = pd.read_excel('/content/sample_data/base_completa_1997_2021.xls', sheet_name='volumen')\n",
        "vol"
      ],
      "execution_count": null,
      "outputs": []
    },
    {
      "cell_type": "code",
      "source": [
        "vol.rename(columns={'m_1':'m_01','m_2':'m_02','m_3':'m_03','m_4':'m_04','m_5':'m_05','m_6':'m_06',\n",
        "                    'm_7':'m_07','m_8':'m_08', 'm_9':'m_09'}, inplace=True)"
      ],
      "metadata": {
        "id": "u-vPTQRdDONP"
      },
      "execution_count": 11,
      "outputs": []
    },
    {
      "cell_type": "code",
      "source": [
        "vol.isna().sum().sum()"
      ],
      "metadata": {
        "id": "x87KdI9V9hlj"
      },
      "execution_count": null,
      "outputs": []
    },
    {
      "cell_type": "markdown",
      "source": [
        "Leemos segundo libro (precios) asignado a objeto \"pre\""
      ],
      "metadata": {
        "id": "yQF0NR11vfuC"
      }
    },
    {
      "cell_type": "code",
      "source": [
        "pre = pd.read_excel('/content/sample_data/base_completa_1997_2021.xls', sheet_name='precio')\n",
        "pre.head()"
      ],
      "metadata": {
        "id": "mcWKaOGWvMCb"
      },
      "execution_count": null,
      "outputs": []
    },
    {
      "cell_type": "code",
      "source": [
        "pre.rename(columns={'m_1':'m_01','m_2':'m_02','m_3':'m_03','m_4':'m_04','m_5':'m_05','m_6':'m_06',\n",
        "                    'm_7':'m_07','m_8':'m_08', 'm_9':'m_09'}, inplace=True)"
      ],
      "metadata": {
        "id": "YCMjpl63EF_e"
      },
      "execution_count": 14,
      "outputs": []
    },
    {
      "cell_type": "code",
      "source": [
        "pre.isna().sum().sum()"
      ],
      "metadata": {
        "id": "H_rZx6D3-ZmY"
      },
      "execution_count": null,
      "outputs": []
    },
    {
      "cell_type": "markdown",
      "source": [
        "La columna 'Variable' identifica la provincia, cambiamos el nombre de la columna a 'provincia'"
      ],
      "metadata": {
        "id": "cK7VYI3kxt_M"
      }
    },
    {
      "cell_type": "code",
      "source": [
        "vol.rename(columns={'Variable':'provincia'}, inplace=True)"
      ],
      "metadata": {
        "id": "bSVLpWrex2-9"
      },
      "execution_count": 16,
      "outputs": []
    },
    {
      "cell_type": "markdown",
      "source": [
        "Las columnas m_01 a m_12 denotan meses. Necesitamos convertir al mes como una variable, para tener en cada fila una observacion, pasar base en formato ancho a largo (wide to long) usando el método **melt**"
      ],
      "metadata": {
        "id": "pcNDR3q5yVFq"
      }
    },
    {
      "cell_type": "code",
      "source": [
        "vol_long=pd.melt(vol,id_vars=['producto','year','provincia'], \n",
        "                var_name='mes', value_name='volumen')"
      ],
      "metadata": {
        "id": "shDIIsM5yOSL"
      },
      "execution_count": 53,
      "outputs": []
    },
    {
      "cell_type": "markdown",
      "source": [
        "Lo mismo con la base de precios"
      ],
      "metadata": {
        "id": "FskgpqnQzHMo"
      }
    },
    {
      "cell_type": "code",
      "source": [
        "pre_long=pd.melt(pre,id_vars=['producto','year'], \n",
        "                var_name='mes', value_name='precio')"
      ],
      "metadata": {
        "id": "xVmW7svSzCfi"
      },
      "execution_count": 43,
      "outputs": []
    },
    {
      "cell_type": "markdown",
      "source": [
        "### 1.2. Limpieza datos originales"
      ],
      "metadata": {
        "id": "BudB5exKOsSA"
      }
    },
    {
      "cell_type": "markdown",
      "source": [
        "Damos una mirada a cada una de estas bases de datos\n",
        "\n",
        "primero el asunto de los valores \"missing\" (sin información)"
      ],
      "metadata": {
        "id": "jtzyXMhOHhZE"
      }
    },
    {
      "cell_type": "code",
      "source": [
        "vol_long.isna().groupby(vol_long.year)['volumen'].sum().plot()"
      ],
      "metadata": {
        "id": "GErIkzglCTAM"
      },
      "execution_count": null,
      "outputs": []
    },
    {
      "cell_type": "code",
      "source": [
        "pre_long.isna().groupby(pre_long.year)['precio'].sum().plot()\n",
        "## 963 valores missing"
      ],
      "metadata": {
        "id": "7GvKhn8c-yEH"
      },
      "execution_count": null,
      "outputs": []
    },
    {
      "cell_type": "markdown",
      "source": [
        "Eliminamos observaciones con valores missing (NaN) en ambas bases"
      ],
      "metadata": {
        "id": "ESDwE9aM_UMl"
      }
    },
    {
      "cell_type": "code",
      "source": [
        "pre_long.dropna(inplace=True)\n",
        "vol_long.dropna(inplace=True)"
      ],
      "metadata": {
        "id": "2KvDy24x_SYJ"
      },
      "execution_count": 70,
      "outputs": []
    },
    {
      "cell_type": "code",
      "source": [
        "vol_long.isna().sum()"
      ],
      "metadata": {
        "id": "7Cz-uCVID6fO"
      },
      "execution_count": null,
      "outputs": []
    },
    {
      "cell_type": "code",
      "source": [
        "pre_long.isna().sum()"
      ],
      "metadata": {
        "colab": {
          "base_uri": "https://localhost:8080/"
        },
        "id": "SmC5ulgpEDV2",
        "outputId": "c30f92de-7654-4811-c2a2-848866a44b6c"
      },
      "execution_count": 73,
      "outputs": [
        {
          "output_type": "execute_result",
          "data": {
            "text/plain": [
              "producto    0\n",
              "year        0\n",
              "mes         0\n",
              "precio      0\n",
              "dtype: int64"
            ]
          },
          "metadata": {},
          "execution_count": 73
        }
      ]
    },
    {
      "cell_type": "markdown",
      "source": [
        "### 1.3. Evolución de variables y número de observaciones"
      ],
      "metadata": {
        "id": "4w_c65mcO35v"
      }
    },
    {
      "cell_type": "code",
      "source": [
        "vol_long.groupby(vol_long.year).agg({'provincia':'nunique', 'producto':'nunique', 'mes':['nunique','count']})"
      ],
      "metadata": {
        "id": "Oc4P_hp4E2-b"
      },
      "execution_count": null,
      "outputs": []
    },
    {
      "cell_type": "code",
      "source": [
        "plt.figure(figsize=(9,5))\n",
        "vol_long.groupby(vol_long.year)['volumen'].sum().plot()\n",
        "plt.xticks(np.arange(1997,2022,1),rotation=45, fontsize='small')\n",
        "plt.yticks(np.arange(50000,800000,50000), fontsize='small')\n",
        "plt.title('Volumen transado por año (t)', fontsize='xx-large')\n",
        "plt.xlabel('')\n",
        "plt.show()"
      ],
      "metadata": {
        "id": "PmrRn7G5FSDe"
      },
      "execution_count": null,
      "outputs": []
    },
    {
      "cell_type": "code",
      "source": [
        "plt.figure(figsize=(9,5))\n",
        "vol_long.groupby(vol_long.year)['volumen'].count().plot()\n",
        "plt.xticks(np.arange(1997,2022,1),rotation=45, fontsize='small')\n",
        "plt.yticks(np.arange(0,1600,200))\n",
        "plt.title('Número de observaciones por año de volumen', fontsize='xx-large')\n",
        "plt.xlabel('')\n",
        "plt.show()"
      ],
      "metadata": {
        "id": "mAWfmiu2EXyE"
      },
      "execution_count": null,
      "outputs": []
    },
    {
      "cell_type": "code",
      "source": [
        "pre_long.groupby(pre_long.year).agg({'producto':'nunique', 'mes':['nunique','count']})"
      ],
      "metadata": {
        "id": "qMKSkKcjI4Cn"
      },
      "execution_count": null,
      "outputs": []
    },
    {
      "cell_type": "code",
      "source": [
        "plt.figure(figsize=(9,5))\n",
        "pre_long[pre_long['year']<=2020].groupby(pre_long.year)['precio'].count().plot()\n",
        "rr=np.arange(1997,2022,1)\n",
        "plt.xticks(rr,rotation=45, fontsize='small')\n",
        "plt.yticks(np.arange(20,150,20))\n",
        "plt.title('Número de observaciones por año en base precios', fontsize='xx-large')\n",
        "plt.show()"
      ],
      "metadata": {
        "id": "207cAcy0MDsb"
      },
      "execution_count": null,
      "outputs": []
    },
    {
      "cell_type": "markdown",
      "source": [
        "### 1.4. Merge de archivos"
      ],
      "metadata": {
        "id": "9M_6ThB6e2VD"
      }
    },
    {
      "cell_type": "markdown",
      "source": [
        "Bases 'vol_long' y 'pre_long' tienen una estructura similar y variables en comun y pueden ser integradas (usando método **merge**, con parámetro 'inner')"
      ],
      "metadata": {
        "id": "RilO3fD9zSj4"
      }
    },
    {
      "cell_type": "code",
      "source": [
        "df_base=vol_long.merge(pre_long, on=['producto','year','mes'], how='inner')"
      ],
      "metadata": {
        "id": "XDggS3jA0Dyu"
      },
      "execution_count": 144,
      "outputs": []
    },
    {
      "cell_type": "code",
      "source": [
        "df_base.shape"
      ],
      "metadata": {
        "id": "OBAYhM3sPSFZ"
      },
      "execution_count": null,
      "outputs": []
    },
    {
      "cell_type": "code",
      "source": [
        "df_base.columns"
      ],
      "metadata": {
        "id": "8VvRYM1FP7b3"
      },
      "execution_count": null,
      "outputs": []
    },
    {
      "cell_type": "code",
      "source": [
        "df_base.describe(include='all')"
      ],
      "metadata": {
        "id": "u5B6EYiiQA3Q"
      },
      "execution_count": null,
      "outputs": []
    },
    {
      "cell_type": "code",
      "source": [
        "df_base"
      ],
      "metadata": {
        "id": "gXfWswOPQMmn"
      },
      "execution_count": null,
      "outputs": []
    },
    {
      "cell_type": "markdown",
      "source": [
        "En objeto generado como **df_base** en cada fila tenemos una observación que identifica la variedad, el año, la provincia, el mes así como el volumen y precio"
      ],
      "metadata": {
        "id": "i9A9m5-a0Vqm"
      }
    },
    {
      "cell_type": "markdown",
      "source": [
        "Notar que la variable precio corresponde a la variedad y mes, pero no varía por provincia de origen (el precio se forma en MML)"
      ],
      "metadata": {
        "id": "ez2gZpU4V8eP"
      }
    },
    {
      "cell_type": "markdown",
      "source": [
        "Creamos variable 'ym' que identifica año y mes por observacion"
      ],
      "metadata": {
        "id": "pClbSlQcH1MS"
      }
    },
    {
      "cell_type": "code",
      "source": [
        "df_base['ym']=df_base['year'].astype(str)+df_base['mes']"
      ],
      "metadata": {
        "id": "hq0JP_cxG7h1"
      },
      "execution_count": 150,
      "outputs": []
    },
    {
      "cell_type": "code",
      "source": [
        "df_base.sort_values('ym', ascending=True)"
      ],
      "metadata": {
        "id": "HxEsNwnTHkDl"
      },
      "execution_count": null,
      "outputs": []
    },
    {
      "cell_type": "markdown",
      "source": [
        "La base df_base ha pasado por un primer proceso de limpieza e integración: \n",
        "    \n",
        "    (i) convertimos bases en formato ancho a largo\n",
        "    \n",
        "    (ii) eliminamos valores NaN en bases de volumen y precios\n",
        "    \n",
        "    (iii) juntamos bases de volumen y precios\n",
        "    \n",
        "    (iv) cambiamos algunos nombres de variables"
      ],
      "metadata": {
        "id": "lFcxtg28ykm2"
      }
    },
    {
      "cell_type": "markdown",
      "source": [
        "Esta es una primera base \"limpia\" y \"ordenada\" con la que se puede iniciar el análisis exploratorio.\n",
        "\n",
        "Tiene 21,333 observaciones con valores para precios y volúmenes de 11 variedades de papa"
      ],
      "metadata": {
        "id": "X6tF89tynlCp"
      }
    },
    {
      "cell_type": "markdown",
      "source": [
        "## **2. Primer análisis exploratorio**"
      ],
      "metadata": {
        "id": "tIaA-k7EmVnM"
      }
    },
    {
      "cell_type": "markdown",
      "source": [
        "## 2.1. Mirada general"
      ],
      "metadata": {
        "id": "vIz4N_stSSU_"
      }
    },
    {
      "cell_type": "markdown",
      "source": [
        "\n",
        "Veremos el comportamiento de las variedades (su dinámica), primero cambiamos el nombre de la columna 'producto' por 'variedad'"
      ],
      "metadata": {
        "id": "TOx_7TwEzI4C"
      }
    },
    {
      "cell_type": "markdown",
      "source": [
        "Renombramos variable 'producto' por 'variedad'"
      ],
      "metadata": {
        "id": "6GmDeH4FAxhB"
      }
    },
    {
      "cell_type": "code",
      "source": [
        "df_base.rename(columns={'producto':'variedad'}, inplace=True)"
      ],
      "metadata": {
        "id": "v27Fq620zTPZ"
      },
      "execution_count": 152,
      "outputs": []
    },
    {
      "cell_type": "markdown",
      "source": [
        "Miramos las variables de volumen, precio, años y provincias de origen por variedad usando **groupby**"
      ],
      "metadata": {
        "id": "XeUAKJW2Arwy"
      }
    },
    {
      "cell_type": "code",
      "source": [
        "df_base.groupby(df_base['variedad']).agg({'volumen':['count','mean', 'min','max'],'precio':['mean','min','max'], 'year':['min','max'], 'provincia':'nunique'})"
      ],
      "metadata": {
        "id": "qkyURgXQ5SRj"
      },
      "execution_count": null,
      "outputs": []
    },
    {
      "cell_type": "code",
      "source": [
        "df_base.groupby(df_base['variedad'])['volumen'].mean().plot.bar()"
      ],
      "metadata": {
        "id": "p63vsXkPSkyW"
      },
      "execution_count": null,
      "outputs": []
    },
    {
      "cell_type": "code",
      "source": [
        "df_base.groupby(df_base['variedad'])['precio'].mean().plot.bar()"
      ],
      "metadata": {
        "id": "KUzDlxR-TAmN"
      },
      "execution_count": null,
      "outputs": []
    },
    {
      "cell_type": "code",
      "source": [
        "df_base.groupby(df_base['variedad']).agg({'provincia':'nunique'}).plot.bar()"
      ],
      "metadata": {
        "id": "3FZVzZFmTLd1"
      },
      "execution_count": null,
      "outputs": []
    },
    {
      "cell_type": "markdown",
      "source": [
        "## 2.2.  Dinámica de oferta y precios por variedad"
      ],
      "metadata": {
        "id": "Xq6OLH3VTjYb"
      }
    },
    {
      "cell_type": "markdown",
      "source": [
        "### Papa Blanca"
      ],
      "metadata": {
        "id": "hrU7KL1bR6DP"
      }
    },
    {
      "cell_type": "code",
      "source": [
        "plt.figure(figsize=(8,5))\n",
        "vol_blanca=df_base[['year','volumen']][df_base.variedad==\"Papa Blanca\"].groupby('year').sum()\n",
        "plt.bar(vol_blanca.index,vol_blanca.volumen)\n",
        "plt.title(\"Papa Blanca: Volumen\", fontsize='xx-large')\n",
        "plt.xticks(vol_blanca.index,rotation=45, fontsize='small')\n",
        "plt.show()"
      ],
      "metadata": {
        "id": "q9YmrmTMPynE"
      },
      "execution_count": null,
      "outputs": []
    },
    {
      "cell_type": "code",
      "source": [
        "plt.figure(figsize=(8,5))\n",
        "pre_blanca=df_base[['year','precio']][df_base.variedad==\"Papa Blanca\"].groupby('year').mean()\n",
        "plt.plot(pre_blanca.index,pre_blanca.precio)\n",
        "plt.title(\"Papa Blanca: Precio\", fontsize='xx-large')\n",
        "plt.xticks(pre_blanca.index,rotation=45, fontsize='small')\n",
        "plt.show()"
      ],
      "metadata": {
        "id": "lUJSOmeZQSDq"
      },
      "execution_count": null,
      "outputs": []
    },
    {
      "cell_type": "markdown",
      "source": [
        "### Papa Yungay"
      ],
      "metadata": {
        "id": "hdhGxPiIR_9O"
      }
    },
    {
      "cell_type": "code",
      "source": [
        "plt.figure(figsize=(8,5))\n",
        "vol_yungay=df_base[['year','volumen']][df_base.variedad==\"Papa Yungay\"].groupby('year').sum()\n",
        "plt.bar(vol_yungay.index,vol_yungay.volumen)\n",
        "plt.title(\"Papa Yungay: Volumen\", fontsize='xx-large')\n",
        "plt.xticks(vol_blanca.index,rotation=45, fontsize='small')\n",
        "plt.show()"
      ],
      "metadata": {
        "id": "mcIFwtSODaku"
      },
      "execution_count": null,
      "outputs": []
    },
    {
      "cell_type": "code",
      "source": [
        "plt.figure(figsize=(8,5))\n",
        "pre_yungay=df_base[['year','precio']][df_base.variedad==\"Papa Yungay\"].groupby('year').mean()\n",
        "plt.plot(pre_yungay.index,pre_yungay.precio)\n",
        "plt.title(\"Papa Yungay: Precio\", fontsize='xx-large')\n",
        "plt.xticks(pre_blanca.index,rotation=45, fontsize='small')\n",
        "plt.yticks(np.arange(0.1,1.7,.1))\n",
        "plt.show()"
      ],
      "metadata": {
        "id": "WkXmKkSPHKrC"
      },
      "execution_count": null,
      "outputs": []
    },
    {
      "cell_type": "code",
      "source": [
        "plt.figure(figsize=(8,5))\n",
        "pre_yungay=df_base[['year','precio']][df_base.variedad==\"Papa Yungay\"].groupby('year').mean()\n",
        "plt.plot(pre_yungay.index,pre_yungay.precio)\n",
        "plt.plot(pre_blanca.index,pre_blanca.precio)\n",
        "plt.title(\"Papa Blanca y Yungay: Precio\", fontsize='xx-large')\n",
        "plt.xticks(pre_blanca.index,rotation=45, fontsize='small')\n",
        "plt.yticks(np.arange(0.1,1.7,.1))\n",
        "plt.show()"
      ],
      "metadata": {
        "id": "rwK91-L5UaBU"
      },
      "execution_count": null,
      "outputs": []
    },
    {
      "cell_type": "markdown",
      "source": [
        "### Papa Huayro"
      ],
      "metadata": {
        "id": "TheHwpYgSDiO"
      }
    },
    {
      "cell_type": "code",
      "source": [
        "plt.figure(figsize=(8,5))\n",
        "vol_huayro=df_base[['year','volumen']][df_base.variedad==\"Papa Huayro\"].groupby('year').sum()\n",
        "plt.bar(vol_huayro.index,vol_huayro.volumen)\n",
        "plt.title(\"Papa Huayro: Volumen\")\n",
        "plt.xticks(vol_huayro.index,rotation=45, fontsize='small')\n",
        "plt.show()"
      ],
      "metadata": {
        "id": "IvVtHJx3A45S"
      },
      "execution_count": null,
      "outputs": []
    },
    {
      "cell_type": "code",
      "source": [
        "plt.figure(figsize=(8,5))\n",
        "pre_huayro=df_base[['year','precio']][df_base.variedad==\"Papa Huayro\"].groupby('year').mean()\n",
        "plt.plot(pre_huayro.index,pre_huayro.precio)\n",
        "plt.title(\"Papa Huayro: Precio\", fontsize='xx-large')\n",
        "plt.xticks(pre_huayro.index,rotation=45, fontsize='small')\n",
        "plt.yticks(np.arange(0.1,1.7,.2))\n",
        "plt.show()"
      ],
      "metadata": {
        "id": "4J6yQlA0HCTy"
      },
      "execution_count": null,
      "outputs": []
    },
    {
      "cell_type": "markdown",
      "source": [
        "### Papa Canchan"
      ],
      "metadata": {
        "id": "4Y6xbz1LSHt9"
      }
    },
    {
      "cell_type": "code",
      "source": [
        "plt.figure(figsize=(8,5))\n",
        "vol_canchan=df_base[['year','volumen']][df_base.variedad==\"Papa Canchan\"].groupby('year').sum()\n",
        "plt.bar(vol_canchan.index,vol_canchan.volumen)\n",
        "plt.title(\"Papa Canchan: Volumen\", fontsize='xx-large')\n",
        "plt.xticks(vol_blanca.index,rotation=45, fontsize='small')\n",
        "plt.show()"
      ],
      "metadata": {
        "id": "e08fU7PuRQNO"
      },
      "execution_count": null,
      "outputs": []
    },
    {
      "cell_type": "code",
      "source": [
        "plt.figure(figsize=(8,5))\n",
        "pre_canchan=df_base[['year','precio']][df_base.variedad==\"Papa Canchan\"].groupby('year').mean()\n",
        "plt.plot(pre_canchan.index,pre_canchan.precio)\n",
        "plt.title(\"Papa Canchan: Precio\", fontsize='xx-large')\n",
        "plt.xticks(pre_blanca.index,rotation=45, fontsize='small')\n",
        "plt.yticks(np.arange(.1,1.7,.2))\n",
        "plt.show()"
      ],
      "metadata": {
        "id": "euH-Ni2hj7g6"
      },
      "execution_count": null,
      "outputs": []
    },
    {
      "cell_type": "markdown",
      "source": [
        "### Papa Amarilla"
      ],
      "metadata": {
        "id": "gG7vWS14SOz3"
      }
    },
    {
      "cell_type": "code",
      "source": [
        "plt.figure(figsize=(8,5))\n",
        "vol_amarilla=df_base[['year','volumen']][df_base.variedad==\"Papa Amarilla\"].groupby('year').sum()\n",
        "plt.bar(vol_amarilla.index,vol_amarilla.volumen)\n",
        "plt.title(\"Papa Amarilla: Volumen\", fontsize='xx-large')\n",
        "plt.xticks(vol_amarilla.index,rotation=45, fontsize='small')\n",
        "plt.show()"
      ],
      "metadata": {
        "id": "r9uIKBLZEa_9"
      },
      "execution_count": null,
      "outputs": []
    },
    {
      "cell_type": "code",
      "source": [
        "plt.figure(figsize=(8,5))\n",
        "pre_amarilla=df_base[['year','precio']][df_base.variedad==\"Papa Amarilla\"].groupby('year').mean()\n",
        "plt.plot(pre_amarilla.index,pre_amarilla.precio)\n",
        "plt.title(\"Papa Amarilla: Precio\", fontsize='xx-large')\n",
        "plt.xticks(pre_amarilla.index,rotation=45, fontsize='small')\n",
        "plt.yticks(np.arange(.1,2.4,.2))\n",
        "plt.show()"
      ],
      "metadata": {
        "id": "Fpbf320gGzjO"
      },
      "execution_count": null,
      "outputs": []
    },
    {
      "cell_type": "markdown",
      "source": [
        "### Papa Color"
      ],
      "metadata": {
        "id": "peOy1KQqTCHO"
      }
    },
    {
      "cell_type": "code",
      "source": [
        "plt.figure(figsize=(8,5))\n",
        "vol_color=df_base[['year','volumen']][df_base.variedad==\"Papa Color\"].groupby('year').sum()\n",
        "plt.bar(vol_color.index,vol_color.volumen)\n",
        "plt.title(\"Papa Color: Volumen\", fontsize='xx-large')\n",
        "plt.xticks(vol_color.index,rotation=45, fontsize='small')\n",
        "plt.show()"
      ],
      "metadata": {
        "id": "yYM0cCDQErfB"
      },
      "execution_count": null,
      "outputs": []
    },
    {
      "cell_type": "code",
      "source": [
        "plt.figure(figsize=(8,5))\n",
        "pre_color=df_base[['year','precio']][df_base.variedad==\"Papa Color\"].groupby('year').mean()\n",
        "plt.plot(pre_color.index,pre_color.precio)\n",
        "plt.title(\"Papa Color: Precio\", fontsize='xx-large')\n",
        "plt.xticks(pre_color.index,rotation=45, fontsize='small')\n",
        "plt.yticks(np.arange(.1,1.6,.2))\n",
        "plt.show()"
      ],
      "metadata": {
        "id": "N_kOVL_8GMUT"
      },
      "execution_count": null,
      "outputs": []
    },
    {
      "cell_type": "markdown",
      "source": [
        "### Papa Unica"
      ],
      "metadata": {
        "id": "5p3InaPsZ80d"
      }
    },
    {
      "cell_type": "code",
      "source": [
        "plt.figure(figsize=(8,5))\n",
        "vol_unica=df_base[['year','volumen']][df_base.variedad==\"Papa Unica\"].groupby('year').sum()\n",
        "plt.bar(vol_unica.index,vol_unica.volumen)\n",
        "plt.title(\"Papa Unica: Volumen\", fontsize='xx-large')\n",
        "plt.xticks(vol_color.index,rotation=45, fontsize='small')\n",
        "plt.show()"
      ],
      "metadata": {
        "id": "q4ymTYMNZ5c6"
      },
      "execution_count": null,
      "outputs": []
    },
    {
      "cell_type": "code",
      "source": [
        "plt.figure(figsize=(8,5))\n",
        "pre_unica=df_base[['year','precio']][df_base.variedad==\"Papa Unica\"].groupby('year').mean()\n",
        "plt.plot(pre_unica.index,pre_unica.precio)\n",
        "plt.title(\"Papa Unica: Precio\", fontsize='xx-large')\n",
        "plt.xticks(pre_color.index,rotation=45, fontsize='small')\n",
        "plt.yticks(np.arange(.1,1.6,.2))\n",
        "plt.show()"
      ],
      "metadata": {
        "id": "AZeUXv2_aKsN"
      },
      "execution_count": null,
      "outputs": []
    },
    {
      "cell_type": "markdown",
      "source": [
        "### Papa Peruanita"
      ],
      "metadata": {
        "id": "HARAAKVeailV"
      }
    },
    {
      "cell_type": "code",
      "source": [
        "plt.figure(figsize=(8,5))\n",
        "vol_peruanita=df_base[['year','volumen']][df_base.variedad==\"Papa Peruanita\"].groupby('year').sum()\n",
        "plt.bar(vol_peruanita.index,vol_peruanita.volumen)\n",
        "plt.title(\"Papa Peruanita: Volumen\", fontsize='xx-large')\n",
        "plt.xticks(vol_color.index,rotation=45, fontsize='small')\n",
        "plt.show()"
      ],
      "metadata": {
        "id": "t-1zXWPeaoWI"
      },
      "execution_count": null,
      "outputs": []
    },
    {
      "cell_type": "code",
      "source": [
        "plt.figure(figsize=(8,5))\n",
        "pre_peruanita=df_base[['year','precio']][df_base.variedad==\"Papa Peruanita\"].groupby('year').mean()\n",
        "plt.plot(pre_peruanita.index,pre_peruanita.precio)\n",
        "plt.title(\"Papa Peruanita: Precio\", fontsize='xx-large')\n",
        "plt.xticks(pre_color.index,rotation=45, fontsize='small')\n",
        "plt.yticks(np.arange(.1,2.4,.2))\n",
        "plt.show()"
      ],
      "metadata": {
        "id": "_5fZEmIVa1hL"
      },
      "execution_count": null,
      "outputs": []
    },
    {
      "cell_type": "markdown",
      "source": [
        "### Papa Perricholi"
      ],
      "metadata": {
        "id": "6KxFSfEM98PZ"
      }
    },
    {
      "cell_type": "code",
      "source": [
        "plt.figure(figsize=(8,5))\n",
        "vol_perricholi=df_base[['year','volumen']][df_base.variedad==\"Papa Perricholi\"].groupby('year').sum()\n",
        "plt.bar(vol_perricholi.index,vol_perricholi.volumen)\n",
        "plt.title(\"Papa Perricholi: Volumen\", fontsize='xx-large')\n",
        "plt.xticks(vol_color.index,rotation=45, fontsize='small')\n",
        "plt.show()"
      ],
      "metadata": {
        "id": "9w5CYxe294XR"
      },
      "execution_count": null,
      "outputs": []
    },
    {
      "cell_type": "code",
      "source": [
        "plt.figure(figsize=(8,5))\n",
        "pre_perricholi=df_base[['year','precio']][df_base.variedad==\"Papa Perricholi\"].groupby('year').mean()\n",
        "plt.plot(pre_perricholi.index,pre_perricholi.precio)\n",
        "plt.title(\"Papa Perricholi: Precio\", fontsize='xx-large')\n",
        "plt.xticks(pre_color.index,rotation=45, fontsize='small')\n",
        "plt.yticks(np.arange(.1,1.6,.2))\n",
        "plt.show()"
      ],
      "metadata": {
        "id": "cRVI6F8B-Sq5"
      },
      "execution_count": null,
      "outputs": []
    },
    {
      "cell_type": "markdown",
      "source": [
        "### Papa Huamantanga"
      ],
      "metadata": {
        "id": "RPquP4Xm-_Wj"
      }
    },
    {
      "cell_type": "code",
      "source": [
        "plt.figure(figsize=(8,5))\n",
        "vol_huamantanga=df_base[['year','volumen']][df_base.variedad==\"Papa Huamantanga\"].groupby('year').sum()\n",
        "plt.bar(vol_huamantanga.index,vol_huamantanga.volumen)\n",
        "plt.title(\"Papa Huamantanga: Volumen\", fontsize='xx-large')\n",
        "plt.xticks(vol_color.index,rotation=45, fontsize='small')\n",
        "plt.show()"
      ],
      "metadata": {
        "id": "g0b7OKcn-uY4"
      },
      "execution_count": null,
      "outputs": []
    },
    {
      "cell_type": "code",
      "source": [
        "plt.figure(figsize=(8,5))\n",
        "pre_huamantanga=df_base[['year','precio']][df_base.variedad==\"Papa Huamantanga\"].groupby('year').mean()\n",
        "plt.plot(pre_huamantanga.index,pre_huamantanga.precio)\n",
        "plt.title(\"Papa Huamantanga: Precio\", fontsize='xx-large')\n",
        "plt.xticks(pre_color.index,rotation=45, fontsize='small')\n",
        "plt.yticks(np.arange(.1,2.4,.2))\n",
        "plt.show()"
      ],
      "metadata": {
        "id": "Kv4Rg6kd_E36"
      },
      "execution_count": null,
      "outputs": []
    },
    {
      "cell_type": "markdown",
      "source": [
        "### Papa Negra Andina"
      ],
      "metadata": {
        "id": "7hY-i21DFSmm"
      }
    },
    {
      "cell_type": "code",
      "source": [
        "plt.figure(figsize=(8,5))\n",
        "vol_negra=df_base[['year','volumen']][df_base.variedad==\"Papa Negra Andina\"].groupby('year').sum()\n",
        "plt.bar(vol_negra.index,vol_negra.volumen)\n",
        "plt.title(\"Papa Negra Andina: Volumen\", fontsize='xx-large')\n",
        "plt.xticks(vol_color.index,rotation=45, fontsize='small')\n",
        "plt.show()"
      ],
      "metadata": {
        "id": "uzr5fX_0Fmy1"
      },
      "execution_count": null,
      "outputs": []
    },
    {
      "cell_type": "code",
      "source": [
        "plt.figure(figsize=(8,5))\n",
        "pre_negra=df_base[['year','precio']][df_base.variedad==\"Papa Negra Andina\"].groupby('year').mean()\n",
        "plt.plot(pre_negra.index,pre_negra.precio)\n",
        "plt.title(\"Papa Negra Andina: Precio\", fontsize='xx-large')\n",
        "plt.xticks(pre_color.index,rotation=45, fontsize='small')\n",
        "plt.yticks(np.arange(.1,1.8,.2))\n",
        "plt.show()"
      ],
      "metadata": {
        "id": "68FbTnq_F3T_"
      },
      "execution_count": null,
      "outputs": []
    },
    {
      "cell_type": "markdown",
      "source": [
        "### Papas con precios similares a Papa Blanca"
      ],
      "metadata": {
        "id": "upWjXX35gzsF"
      }
    },
    {
      "cell_type": "code",
      "source": [
        "plt.figure(figsize=(8,5))\n",
        "plt.plot(pre_yungay.index,pre_yungay.precio,label='Yungay')\n",
        "plt.plot(pre_blanca.index,pre_blanca.precio, label='Blanca')\n",
        "plt.plot(pre_canchan.index,pre_canchan.precio, label='Canchan')\n",
        "plt.plot(pre_color.index,pre_color.precio, label='Color')\n",
        "plt.plot(pre_perricholi.index,pre_perricholi.precio, label='Perricholi')\n",
        "plt.title(\"Papa Blanca, Yungay, Canchan, Color, Perricholi: Precio\", fontsize='large')\n",
        "plt.xticks(pre_blanca.index,rotation=45, fontsize='small')\n",
        "plt.legend()\n",
        "plt.show()"
      ],
      "metadata": {
        "id": "SGRVIfmXXZXA"
      },
      "execution_count": null,
      "outputs": []
    },
    {
      "cell_type": "markdown",
      "source": [
        "### Papas con precios similares a papa amarilla"
      ],
      "metadata": {
        "id": "Gy_oR4cWg5t0"
      }
    },
    {
      "cell_type": "code",
      "source": [
        "plt.figure(figsize=(8,5))\n",
        "plt.plot(pre_amarilla.index,pre_amarilla.precio, label='Amarilla')\n",
        "plt.plot(pre_peruanita.index,pre_peruanita.precio, label='Peruanita')\n",
        "plt.plot(pre_huamantanga.index,pre_huamantanga.precio, label='Huamantanga')\n",
        "plt.title(\"Papa Amarilla, Peruanita, Huamantanga\", fontsize='large')\n",
        "plt.xticks(pre_blanca.index,rotation=45, fontsize='small')\n",
        "plt.legend()\n",
        "plt.show()"
      ],
      "metadata": {
        "id": "BwwR6NUIYz9Z"
      },
      "execution_count": null,
      "outputs": []
    },
    {
      "cell_type": "markdown",
      "source": [
        "### Precios de huayro y negra andina"
      ],
      "metadata": {
        "id": "spIcGifzjDxG"
      }
    },
    {
      "cell_type": "code",
      "source": [
        "plt.figure(figsize=(8,5))\n",
        "plt.plot(pre_huayro.index,pre_huayro.precio, label='Huayro')\n",
        "plt.plot(pre_negra.index,pre_negra.precio, label='Negra Andina')\n",
        "plt.title(\"Papa Huayro, Negra Andina\", fontsize='large')\n",
        "plt.xticks(pre_blanca.index,rotation=45, fontsize='small')\n",
        "plt.legend()\n",
        "plt.show()"
      ],
      "metadata": {
        "id": "vFJ7Ff2Lith1"
      },
      "execution_count": null,
      "outputs": []
    },
    {
      "cell_type": "code",
      "source": [
        "plt.figure(figsize=(8,5))\n",
        "plt.plot(pre_blanca.index,pre_blanca.precio, label='Blanca', color='gray')\n",
        "plt.plot(pre_amarilla.index,pre_amarilla.precio, label='Amarilla')\n",
        "plt.plot(pre_huayro.index,pre_huayro.precio, label='Huayro')\n",
        "plt.title(\"Papa Blanca, Amarilla y Huayro\", fontsize='x-large')\n",
        "plt.xticks(pre_blanca.index,rotation=45, fontsize='small')\n",
        "plt.legend()\n",
        "plt.show()"
      ],
      "metadata": {
        "id": "h4kMDin9bCkC"
      },
      "execution_count": null,
      "outputs": []
    },
    {
      "cell_type": "markdown",
      "source": [
        "## 2.3. Análisis de provincias de origen"
      ],
      "metadata": {
        "id": "Cjkx3ZHeeMFM"
      }
    },
    {
      "cell_type": "markdown",
      "source": [
        "### Papa Blanca"
      ],
      "metadata": {
        "id": "FZ1b_OAeUBUg"
      }
    },
    {
      "cell_type": "code",
      "source": [
        "prv_blanca=df_base[['provincia','volumen']][df_base.variedad==\"Papa Blanca\"].groupby('provincia').sum()\n",
        "prv_blanca.sort_values(by='volumen', ascending=False).head(20)"
      ],
      "metadata": {
        "id": "jzNQ1F4aI1HP"
      },
      "execution_count": null,
      "outputs": []
    },
    {
      "cell_type": "markdown",
      "source": [
        "### Papa Amarilla"
      ],
      "metadata": {
        "id": "jp4xHWVjUNLo"
      }
    },
    {
      "cell_type": "code",
      "source": [
        "prv_amarilla=df_base[['provincia','volumen']][df_base.variedad==\"Papa Amarilla\"].groupby('provincia').sum()\n",
        "prv_amarilla.sort_values(by='volumen', ascending=False).head(20)"
      ],
      "metadata": {
        "id": "tO1iXH9MHcXK"
      },
      "execution_count": null,
      "outputs": []
    },
    {
      "cell_type": "markdown",
      "source": [
        "### Papa Huayro"
      ],
      "metadata": {
        "id": "Ms88dopvj7pM"
      }
    },
    {
      "cell_type": "code",
      "source": [
        "prv_huayro=df_base[['provincia','volumen']][df_base.variedad==\"Papa Huayro\"].groupby('provincia').sum()\n",
        "prv_huayro.sort_values(by='volumen', ascending=False).head(20)"
      ],
      "metadata": {
        "id": "LmhHBMptj_q3"
      },
      "execution_count": null,
      "outputs": []
    },
    {
      "cell_type": "code",
      "source": [
        "prv_yungay=df_base[['provincia','volumen']][df_base.variedad==\"Papa Yungay\"].groupby('provincia').sum()\n",
        "prv_yungay.sort_values(by='volumen', ascending=False).head(20)"
      ],
      "metadata": {
        "id": "fIOFHDHWkac7"
      },
      "execution_count": null,
      "outputs": []
    },
    {
      "cell_type": "markdown",
      "source": [
        "## 2.4. Peso relativo de las provincias"
      ],
      "metadata": {
        "id": "p1986stZeuyx"
      }
    },
    {
      "cell_type": "markdown",
      "source": [
        "Creamos variable de valor (precio*volumen) para cada observación. Esta variable está en millones de soles"
      ],
      "metadata": {
        "id": "2FEAYM8hUmn_"
      }
    },
    {
      "cell_type": "code",
      "source": [
        "df_base['valor']=(df_base['volumen']*df_base['precio'])/1000"
      ],
      "metadata": {
        "id": "Hw4LBHQ6e4Fg"
      },
      "execution_count": 231,
      "outputs": []
    },
    {
      "cell_type": "code",
      "source": [
        "df_base.valor.describe()"
      ],
      "metadata": {
        "id": "buR5kft0fJSP"
      },
      "execution_count": null,
      "outputs": []
    },
    {
      "cell_type": "code",
      "source": [
        "vv_valor=pd.DataFrame(df_base.groupby('year')['valor'].sum())\n"
      ],
      "metadata": {
        "id": "mqQRvtGfDV41"
      },
      "execution_count": 235,
      "outputs": []
    },
    {
      "cell_type": "code",
      "source": [
        "plt.figure(figsize=(8,5))\n",
        "plt.bar(vv_valor.index,vv_valor.valor)\n",
        "plt.suptitle(\"Valor de transacciones de Papa 1997-2020\",fontsize='x-large')\n",
        "plt.title(\"Millones de soles\")\n",
        "plt.xticks(vv_valor.index,rotation=45, fontsize='small')\n",
        "plt.show()"
      ],
      "metadata": {
        "id": "IX_U2nAwEM3k"
      },
      "execution_count": null,
      "outputs": []
    },
    {
      "cell_type": "markdown",
      "source": [
        "Generamos ranking de provincias de acuerdo a valor total de papa enviada a Lima entre 1997 y mayo 2021"
      ],
      "metadata": {
        "id": "DJpmspLlfNe4"
      }
    },
    {
      "cell_type": "code",
      "source": [
        "rank_prov=df_base.groupby(df_base.provincia)['valor'].sum()"
      ],
      "metadata": {
        "id": "EyiQq2dBfWP3"
      },
      "execution_count": 237,
      "outputs": []
    },
    {
      "cell_type": "code",
      "source": [
        "prov_19=rank_prov.sort_values(ascending=False)[0:19].sum()"
      ],
      "metadata": {
        "id": "vcC9Qd-Df8Fr"
      },
      "execution_count": 238,
      "outputs": []
    },
    {
      "cell_type": "code",
      "source": [
        "prov_resto=rank_prov.sort_values(ascending=False)[19:121].sum()"
      ],
      "metadata": {
        "id": "Djud9xjUgg8L"
      },
      "execution_count": 239,
      "outputs": []
    },
    {
      "cell_type": "code",
      "source": [
        "prov_19/(prov_19+prov_resto)\n"
      ],
      "metadata": {
        "id": "PviqgXGygmea"
      },
      "execution_count": null,
      "outputs": []
    },
    {
      "cell_type": "markdown",
      "source": [
        "19 provincias generan el 96.4% del valor total de la papa enviada a Lima, entonces tiene sentido acotar la base solamente a esas 20 provincias"
      ],
      "metadata": {
        "id": "goz7lBgWg0GQ"
      }
    },
    {
      "cell_type": "code",
      "source": [
        "r19=rank_prov.sort_values(ascending=False)[0:19]"
      ],
      "metadata": {
        "id": "WOYmnh7-hIs9"
      },
      "execution_count": 245,
      "outputs": []
    },
    {
      "cell_type": "code",
      "source": [
        "r19.index"
      ],
      "metadata": {
        "id": "RmJHHETxlOSZ"
      },
      "execution_count": null,
      "outputs": []
    },
    {
      "cell_type": "code",
      "source": [
        "df_base2=df_base[df_base[\"provincia\"].isin(r19.index)]"
      ],
      "metadata": {
        "id": "Xroq36dQh6Ej"
      },
      "execution_count": 255,
      "outputs": []
    },
    {
      "cell_type": "code",
      "source": [
        "df_base2.provincia.value_counts()"
      ],
      "metadata": {
        "id": "Kvv7RDatlnnh"
      },
      "execution_count": null,
      "outputs": []
    },
    {
      "cell_type": "code",
      "source": [
        "df_base2.describe(include='all')"
      ],
      "metadata": {
        "id": "7WAu4JUkkmmM"
      },
      "execution_count": null,
      "outputs": []
    },
    {
      "cell_type": "markdown",
      "source": [
        "## 2.4. Análisis por región natural de origen"
      ],
      "metadata": {
        "id": "5crFw4nQPXT3"
      }
    },
    {
      "cell_type": "code",
      "source": [
        "df_base2['costa']=df_base2['provincia'].isin(['Huaral','Lima','Barranca',\n",
        "                'Nazca','Canete','Huaura','Arequipa','Ica']).astype('int')"
      ],
      "metadata": {
        "id": "oI5qTEe9PhOp"
      },
      "execution_count": null,
      "outputs": []
    },
    {
      "cell_type": "markdown",
      "source": [
        "Peso de cada región en valor de producción por variedad"
      ],
      "metadata": {
        "id": "c1NROR8vD9lI"
      }
    },
    {
      "cell_type": "code",
      "source": [
        "v_costa=df_base2[df_base2['costa']==1].groupby('variedad')['valor'].sum()\n",
        "v_sierra=df_base2[df_base2['costa']==0].groupby('variedad')['valor'].sum()\n",
        "v_total=v_costa+v_sierra\n",
        "r_sierra=(v_sierra/v_total)*100\n",
        "plt.bar(r_sierra.index,r_sierra)\n",
        "plt.xticks(rotation=90)\n",
        "plt.title(\"Porcentaje valor de oferta proveniente de sierra\")\n",
        "plt.show()"
      ],
      "metadata": {
        "id": "iq8aCAvIB0Yo"
      },
      "execution_count": null,
      "outputs": []
    },
    {
      "cell_type": "code",
      "source": [
        "plt.figure(figsize=(9,5))\n",
        "ll_costa=df_base2[(df_base2.costa==1) & (df_base2.year<=2020)].groupby('year')['valor'].sum()\n",
        "ll_sierra=df_base2[(df_base2.costa==0) & (df_base2.year<=2020)].groupby('year')['valor'].sum()\n",
        "plt.plot(ll_costa.index, ll_costa, label='Costa')\n",
        "plt.plot(ll_sierra.index, ll_sierra, label='Sierra')\n",
        "plt.legend(fontsize='large')\n",
        "plt.suptitle('Valor de transacciones 1997-2020 por region natural', fontsize='xx-large')\n",
        "plt.title('Millones de soles por año')\n",
        "plt.xticks(ll_costa.index, rotation=45)\n",
        "plt.show"
      ],
      "metadata": {
        "id": "BYUQ8hiuRZd2"
      },
      "execution_count": null,
      "outputs": []
    },
    {
      "cell_type": "code",
      "source": [
        "plt.figure(figsize=(12,5))\n",
        "mm_costa=df_base2[df_base2.costa==1].groupby('ym')['valor'].sum()\n",
        "mm_sierra=df_base2[df_base2.costa==0].groupby('ym')['valor'].sum()\n",
        "plt.plot(mm_costa.index, mm_costa, label='Costa')\n",
        "plt.plot(mm_sierra.index, mm_sierra, label='Sierra')\n",
        "plt.legend(fontsize='large')\n",
        "plt.suptitle('Valor de transacciones 1997-2020 por region natural', fontsize='xx-large')\n",
        "plt.title('Millones de soles por mes')\n",
        "rr=mm_costa.index[np.arange(0,len(mm_costa),11)]\n",
        "plt.xticks(rr, rotation=90, fontsize='small')\n",
        "plt.show"
      ],
      "metadata": {
        "id": "KitIrES0adtR"
      },
      "execution_count": null,
      "outputs": []
    },
    {
      "cell_type": "markdown",
      "source": [
        "La base **df_base2** puede ser utilizada para el modelamiento y análisis del mercado de papa (en sus distintas variedades) de Lima Metropolitana."
      ],
      "metadata": {
        "id": "4q472PfQiQdf"
      }
    },
    {
      "cell_type": "code",
      "source": [
        "df_base2.describe(include='all')"
      ],
      "metadata": {
        "id": "yID2kBAPFHOO"
      },
      "execution_count": null,
      "outputs": []
    },
    {
      "cell_type": "markdown",
      "source": [
        "Tenemos 15,549 observaciones en la base final, 11 variedades, 19 provincias, 291 meses"
      ],
      "metadata": {
        "id": "0pGPQeLwLkZd"
      }
    },
    {
      "cell_type": "code",
      "source": [
        "df_base2.variedad.value_counts()"
      ],
      "metadata": {
        "id": "suMCM7LvLz_j"
      },
      "execution_count": null,
      "outputs": []
    },
    {
      "cell_type": "code",
      "source": [
        "df_base2.to_excel('/content/sample_data/df_base2.xlsx')"
      ],
      "metadata": {
        "id": "PzNtzNV32zIR"
      },
      "execution_count": 266,
      "outputs": []
    }
  ]
}