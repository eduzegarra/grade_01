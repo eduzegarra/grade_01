{
  "nbformat": 4,
  "nbformat_minor": 0,
  "metadata": {
    "colab": {
      "provenance": [],
      "toc_visible": true,
      "authorship_tag": "ABX9TyNH/v3LDmfxYFTGN7WmnPgw",
      "include_colab_link": true
    },
    "kernelspec": {
      "name": "python3",
      "display_name": "Python 3"
    },
    "language_info": {
      "name": "python"
    }
  },
  "cells": [
    {
      "cell_type": "markdown",
      "metadata": {
        "id": "view-in-github",
        "colab_type": "text"
      },
      "source": [
        "<a href=\"https://colab.research.google.com/github/eduzegarra/grade_01/blob/main/papa_lineal.ipynb\" target=\"_parent\"><img src=\"https://colab.research.google.com/assets/colab-badge.svg\" alt=\"Open In Colab\"/></a>"
      ]
    },
    {
      "cell_type": "code",
      "execution_count": null,
      "metadata": {
        "id": "s0aO9UMPxXec"
      },
      "outputs": [],
      "source": [
        "import pandas as pd\n",
        "import numpy as np\n",
        "import matplotlib.pyplot as plt"
      ]
    },
    {
      "cell_type": "code",
      "source": [
        "data = pd.read_excel('/content/sample_data/df_base2.xlsx')"
      ],
      "metadata": {
        "id": "7huiq555xqPT"
      },
      "execution_count": null,
      "outputs": []
    },
    {
      "cell_type": "code",
      "source": [
        "dt=data[data.variedad=='Papa Blanca']"
      ],
      "metadata": {
        "id": "7zepoiDwyI7a"
      },
      "execution_count": null,
      "outputs": []
    },
    {
      "cell_type": "code",
      "source": [
        "dt['p_norm']=(dt.precio-dt.precio.min())/(dt.precio.max()-dt.precio.min())\n",
        "dt['v_norm']=(dt.volumen-dt.volumen.min())/(dt.volumen.max()-dt.volumen.min())\n",
        "dt['yr_norm']=(data.year-data.year.min())/(data.year.max()-data.year.min())"
      ],
      "metadata": {
        "id": "Z24QrixmzT2m"
      },
      "execution_count": null,
      "outputs": []
    },
    {
      "cell_type": "code",
      "source": [
        "plt.hist(dt.v_norm)"
      ],
      "metadata": {
        "id": "zxYhpOLXzpaV"
      },
      "execution_count": null,
      "outputs": []
    },
    {
      "cell_type": "code",
      "source": [
        "import statsmodels.formula.api as smf"
      ],
      "metadata": {
        "id": "KuNF6bp6z2FR"
      },
      "execution_count": null,
      "outputs": []
    },
    {
      "cell_type": "code",
      "source": [
        "model = smf.ols(formula='p_norm ~ v_norm + yr_norm + C(mes) + C(provincia)', data=dt)\n",
        "results=model.fit()\n",
        "results.summary()"
      ],
      "metadata": {
        "id": "cFOexP-Kz4pI",
        "outputId": "71465b17-18f7-4291-9f00-0355ed55c18b",
        "colab": {
          "base_uri": "https://localhost:8080/",
          "height": 1000
        }
      },
      "execution_count": null,
      "outputs": [
        {
          "output_type": "execute_result",
          "data": {
            "text/plain": [
              "<class 'statsmodels.iolib.summary.Summary'>\n",
              "\"\"\"\n",
              "                            OLS Regression Results                            \n",
              "==============================================================================\n",
              "Dep. Variable:                 p_norm   R-squared:                       0.199\n",
              "Model:                            OLS   Adj. R-squared:                  0.194\n",
              "Method:                 Least Squares   F-statistic:                     38.45\n",
              "Date:                Tue, 28 Feb 2023   Prob (F-statistic):          1.45e-204\n",
              "Time:                        16:42:12   Log-Likelihood:                 2496.0\n",
              "No. Observations:                4838   AIC:                            -4928.\n",
              "Df Residuals:                    4806   BIC:                            -4720.\n",
              "Df Model:                          31                                         \n",
              "Covariance Type:            nonrobust                                         \n",
              "================================================================================================\n",
              "                                   coef    std err          t      P>|t|      [0.025      0.975]\n",
              "------------------------------------------------------------------------------------------------\n",
              "Intercept                        0.1203      0.012     10.140      0.000       0.097       0.144\n",
              "C(mes)[T.m_02]                   0.0099      0.010      0.983      0.326      -0.010       0.030\n",
              "C(mes)[T.m_03]                  -0.0071      0.010     -0.692      0.489      -0.027       0.013\n",
              "C(mes)[T.m_04]                  -0.0323      0.010     -3.090      0.002      -0.053      -0.012\n",
              "C(mes)[T.m_05]                  -0.0432      0.010     -4.141      0.000      -0.064      -0.023\n",
              "C(mes)[T.m_06]                  -0.0249      0.010     -2.380      0.017      -0.045      -0.004\n",
              "C(mes)[T.m_07]                   0.0073      0.010      0.729      0.466      -0.012       0.027\n",
              "C(mes)[T.m_08]                   0.0175      0.010      1.765      0.078      -0.002       0.037\n",
              "C(mes)[T.m_09]                   0.0353      0.010      3.540      0.000       0.016       0.055\n",
              "C(mes)[T.m_10]                   0.0184      0.010      1.866      0.062      -0.001       0.038\n",
              "C(mes)[T.m_11]                   0.0003      0.010      0.033      0.974      -0.019       0.020\n",
              "C(mes)[T.m_12]                   0.0018      0.010      0.176      0.861      -0.018       0.022\n",
              "C(provincia)[T.Andahuaylas]      0.0022      0.013      0.174      0.862      -0.022       0.027\n",
              "C(provincia)[T.Arequipa]         0.0054      0.013      0.431      0.666      -0.019       0.030\n",
              "C(provincia)[T.Barranca]         0.0068      0.013      0.510      0.610      -0.019       0.033\n",
              "C(provincia)[T.Canete]           0.0046      0.013      0.358      0.720      -0.021       0.030\n",
              "C(provincia)[T.Huamanga]         0.0147      0.013      1.142      0.254      -0.011       0.040\n",
              "C(provincia)[T.Huancavelica]     0.0022      0.012      0.174      0.862      -0.022       0.027\n",
              "C(provincia)[T.Huancayo]         0.0146      0.013      1.151      0.250      -0.010       0.039\n",
              "C(provincia)[T.Huanuco]          0.0209      0.013      1.593      0.111      -0.005       0.047\n",
              "C(provincia)[T.Huaral]           0.0098      0.013      0.750      0.453      -0.016       0.036\n",
              "C(provincia)[T.Huaura]           0.0078      0.014      0.578      0.564      -0.019       0.034\n",
              "C(provincia)[T.Ica]              0.0066      0.014      0.461      0.645      -0.022       0.035\n",
              "C(provincia)[T.Jauja]            0.0099      0.013      0.789      0.430      -0.015       0.034\n",
              "C(provincia)[T.Junin]           -0.0019      0.013     -0.155      0.877      -0.026       0.023\n",
              "C(provincia)[T.Lima]            -0.0006      0.013     -0.043      0.966      -0.026       0.025\n",
              "C(provincia)[T.Nazca]            0.0047      0.015      0.305      0.760      -0.026       0.035\n",
              "C(provincia)[T.Pasco]            0.0060      0.012      0.483      0.629      -0.018       0.030\n",
              "C(provincia)[T.Tarma]            0.0078      0.012      0.628      0.530      -0.017       0.032\n",
              "C(provincia)[T.Tayacaja]        -0.0015      0.012     -0.123      0.902      -0.026       0.023\n",
              "v_norm                          -0.0670      0.016     -4.084      0.000      -0.099      -0.035\n",
              "yr_norm                          0.2306      0.007     32.749      0.000       0.217       0.244\n",
              "==============================================================================\n",
              "Omnibus:                     1345.259   Durbin-Watson:                   0.144\n",
              "Prob(Omnibus):                  0.000   Jarque-Bera (JB):             3936.954\n",
              "Skew:                           1.444   Prob(JB):                         0.00\n",
              "Kurtosis:                       6.346   Cond. No.                         23.0\n",
              "==============================================================================\n",
              "\n",
              "Notes:\n",
              "[1] Standard Errors assume that the covariance matrix of the errors is correctly specified.\n",
              "\"\"\""
            ],
            "text/html": [
              "<table class=\"simpletable\">\n",
              "<caption>OLS Regression Results</caption>\n",
              "<tr>\n",
              "  <th>Dep. Variable:</th>         <td>p_norm</td>      <th>  R-squared:         </th> <td>   0.199</td> \n",
              "</tr>\n",
              "<tr>\n",
              "  <th>Model:</th>                   <td>OLS</td>       <th>  Adj. R-squared:    </th> <td>   0.194</td> \n",
              "</tr>\n",
              "<tr>\n",
              "  <th>Method:</th>             <td>Least Squares</td>  <th>  F-statistic:       </th> <td>   38.45</td> \n",
              "</tr>\n",
              "<tr>\n",
              "  <th>Date:</th>             <td>Tue, 28 Feb 2023</td> <th>  Prob (F-statistic):</th> <td>1.45e-204</td>\n",
              "</tr>\n",
              "<tr>\n",
              "  <th>Time:</th>                 <td>16:42:12</td>     <th>  Log-Likelihood:    </th> <td>  2496.0</td> \n",
              "</tr>\n",
              "<tr>\n",
              "  <th>No. Observations:</th>      <td>  4838</td>      <th>  AIC:               </th> <td>  -4928.</td> \n",
              "</tr>\n",
              "<tr>\n",
              "  <th>Df Residuals:</th>          <td>  4806</td>      <th>  BIC:               </th> <td>  -4720.</td> \n",
              "</tr>\n",
              "<tr>\n",
              "  <th>Df Model:</th>              <td>    31</td>      <th>                     </th>     <td> </td>    \n",
              "</tr>\n",
              "<tr>\n",
              "  <th>Covariance Type:</th>      <td>nonrobust</td>    <th>                     </th>     <td> </td>    \n",
              "</tr>\n",
              "</table>\n",
              "<table class=\"simpletable\">\n",
              "<tr>\n",
              "                <td></td>                  <th>coef</th>     <th>std err</th>      <th>t</th>      <th>P>|t|</th>  <th>[0.025</th>    <th>0.975]</th>  \n",
              "</tr>\n",
              "<tr>\n",
              "  <th>Intercept</th>                    <td>    0.1203</td> <td>    0.012</td> <td>   10.140</td> <td> 0.000</td> <td>    0.097</td> <td>    0.144</td>\n",
              "</tr>\n",
              "<tr>\n",
              "  <th>C(mes)[T.m_02]</th>               <td>    0.0099</td> <td>    0.010</td> <td>    0.983</td> <td> 0.326</td> <td>   -0.010</td> <td>    0.030</td>\n",
              "</tr>\n",
              "<tr>\n",
              "  <th>C(mes)[T.m_03]</th>               <td>   -0.0071</td> <td>    0.010</td> <td>   -0.692</td> <td> 0.489</td> <td>   -0.027</td> <td>    0.013</td>\n",
              "</tr>\n",
              "<tr>\n",
              "  <th>C(mes)[T.m_04]</th>               <td>   -0.0323</td> <td>    0.010</td> <td>   -3.090</td> <td> 0.002</td> <td>   -0.053</td> <td>   -0.012</td>\n",
              "</tr>\n",
              "<tr>\n",
              "  <th>C(mes)[T.m_05]</th>               <td>   -0.0432</td> <td>    0.010</td> <td>   -4.141</td> <td> 0.000</td> <td>   -0.064</td> <td>   -0.023</td>\n",
              "</tr>\n",
              "<tr>\n",
              "  <th>C(mes)[T.m_06]</th>               <td>   -0.0249</td> <td>    0.010</td> <td>   -2.380</td> <td> 0.017</td> <td>   -0.045</td> <td>   -0.004</td>\n",
              "</tr>\n",
              "<tr>\n",
              "  <th>C(mes)[T.m_07]</th>               <td>    0.0073</td> <td>    0.010</td> <td>    0.729</td> <td> 0.466</td> <td>   -0.012</td> <td>    0.027</td>\n",
              "</tr>\n",
              "<tr>\n",
              "  <th>C(mes)[T.m_08]</th>               <td>    0.0175</td> <td>    0.010</td> <td>    1.765</td> <td> 0.078</td> <td>   -0.002</td> <td>    0.037</td>\n",
              "</tr>\n",
              "<tr>\n",
              "  <th>C(mes)[T.m_09]</th>               <td>    0.0353</td> <td>    0.010</td> <td>    3.540</td> <td> 0.000</td> <td>    0.016</td> <td>    0.055</td>\n",
              "</tr>\n",
              "<tr>\n",
              "  <th>C(mes)[T.m_10]</th>               <td>    0.0184</td> <td>    0.010</td> <td>    1.866</td> <td> 0.062</td> <td>   -0.001</td> <td>    0.038</td>\n",
              "</tr>\n",
              "<tr>\n",
              "  <th>C(mes)[T.m_11]</th>               <td>    0.0003</td> <td>    0.010</td> <td>    0.033</td> <td> 0.974</td> <td>   -0.019</td> <td>    0.020</td>\n",
              "</tr>\n",
              "<tr>\n",
              "  <th>C(mes)[T.m_12]</th>               <td>    0.0018</td> <td>    0.010</td> <td>    0.176</td> <td> 0.861</td> <td>   -0.018</td> <td>    0.022</td>\n",
              "</tr>\n",
              "<tr>\n",
              "  <th>C(provincia)[T.Andahuaylas]</th>  <td>    0.0022</td> <td>    0.013</td> <td>    0.174</td> <td> 0.862</td> <td>   -0.022</td> <td>    0.027</td>\n",
              "</tr>\n",
              "<tr>\n",
              "  <th>C(provincia)[T.Arequipa]</th>     <td>    0.0054</td> <td>    0.013</td> <td>    0.431</td> <td> 0.666</td> <td>   -0.019</td> <td>    0.030</td>\n",
              "</tr>\n",
              "<tr>\n",
              "  <th>C(provincia)[T.Barranca]</th>     <td>    0.0068</td> <td>    0.013</td> <td>    0.510</td> <td> 0.610</td> <td>   -0.019</td> <td>    0.033</td>\n",
              "</tr>\n",
              "<tr>\n",
              "  <th>C(provincia)[T.Canete]</th>       <td>    0.0046</td> <td>    0.013</td> <td>    0.358</td> <td> 0.720</td> <td>   -0.021</td> <td>    0.030</td>\n",
              "</tr>\n",
              "<tr>\n",
              "  <th>C(provincia)[T.Huamanga]</th>     <td>    0.0147</td> <td>    0.013</td> <td>    1.142</td> <td> 0.254</td> <td>   -0.011</td> <td>    0.040</td>\n",
              "</tr>\n",
              "<tr>\n",
              "  <th>C(provincia)[T.Huancavelica]</th> <td>    0.0022</td> <td>    0.012</td> <td>    0.174</td> <td> 0.862</td> <td>   -0.022</td> <td>    0.027</td>\n",
              "</tr>\n",
              "<tr>\n",
              "  <th>C(provincia)[T.Huancayo]</th>     <td>    0.0146</td> <td>    0.013</td> <td>    1.151</td> <td> 0.250</td> <td>   -0.010</td> <td>    0.039</td>\n",
              "</tr>\n",
              "<tr>\n",
              "  <th>C(provincia)[T.Huanuco]</th>      <td>    0.0209</td> <td>    0.013</td> <td>    1.593</td> <td> 0.111</td> <td>   -0.005</td> <td>    0.047</td>\n",
              "</tr>\n",
              "<tr>\n",
              "  <th>C(provincia)[T.Huaral]</th>       <td>    0.0098</td> <td>    0.013</td> <td>    0.750</td> <td> 0.453</td> <td>   -0.016</td> <td>    0.036</td>\n",
              "</tr>\n",
              "<tr>\n",
              "  <th>C(provincia)[T.Huaura]</th>       <td>    0.0078</td> <td>    0.014</td> <td>    0.578</td> <td> 0.564</td> <td>   -0.019</td> <td>    0.034</td>\n",
              "</tr>\n",
              "<tr>\n",
              "  <th>C(provincia)[T.Ica]</th>          <td>    0.0066</td> <td>    0.014</td> <td>    0.461</td> <td> 0.645</td> <td>   -0.022</td> <td>    0.035</td>\n",
              "</tr>\n",
              "<tr>\n",
              "  <th>C(provincia)[T.Jauja]</th>        <td>    0.0099</td> <td>    0.013</td> <td>    0.789</td> <td> 0.430</td> <td>   -0.015</td> <td>    0.034</td>\n",
              "</tr>\n",
              "<tr>\n",
              "  <th>C(provincia)[T.Junin]</th>        <td>   -0.0019</td> <td>    0.013</td> <td>   -0.155</td> <td> 0.877</td> <td>   -0.026</td> <td>    0.023</td>\n",
              "</tr>\n",
              "<tr>\n",
              "  <th>C(provincia)[T.Lima]</th>         <td>   -0.0006</td> <td>    0.013</td> <td>   -0.043</td> <td> 0.966</td> <td>   -0.026</td> <td>    0.025</td>\n",
              "</tr>\n",
              "<tr>\n",
              "  <th>C(provincia)[T.Nazca]</th>        <td>    0.0047</td> <td>    0.015</td> <td>    0.305</td> <td> 0.760</td> <td>   -0.026</td> <td>    0.035</td>\n",
              "</tr>\n",
              "<tr>\n",
              "  <th>C(provincia)[T.Pasco]</th>        <td>    0.0060</td> <td>    0.012</td> <td>    0.483</td> <td> 0.629</td> <td>   -0.018</td> <td>    0.030</td>\n",
              "</tr>\n",
              "<tr>\n",
              "  <th>C(provincia)[T.Tarma]</th>        <td>    0.0078</td> <td>    0.012</td> <td>    0.628</td> <td> 0.530</td> <td>   -0.017</td> <td>    0.032</td>\n",
              "</tr>\n",
              "<tr>\n",
              "  <th>C(provincia)[T.Tayacaja]</th>     <td>   -0.0015</td> <td>    0.012</td> <td>   -0.123</td> <td> 0.902</td> <td>   -0.026</td> <td>    0.023</td>\n",
              "</tr>\n",
              "<tr>\n",
              "  <th>v_norm</th>                       <td>   -0.0670</td> <td>    0.016</td> <td>   -4.084</td> <td> 0.000</td> <td>   -0.099</td> <td>   -0.035</td>\n",
              "</tr>\n",
              "<tr>\n",
              "  <th>yr_norm</th>                      <td>    0.2306</td> <td>    0.007</td> <td>   32.749</td> <td> 0.000</td> <td>    0.217</td> <td>    0.244</td>\n",
              "</tr>\n",
              "</table>\n",
              "<table class=\"simpletable\">\n",
              "<tr>\n",
              "  <th>Omnibus:</th>       <td>1345.259</td> <th>  Durbin-Watson:     </th> <td>   0.144</td>\n",
              "</tr>\n",
              "<tr>\n",
              "  <th>Prob(Omnibus):</th>  <td> 0.000</td>  <th>  Jarque-Bera (JB):  </th> <td>3936.954</td>\n",
              "</tr>\n",
              "<tr>\n",
              "  <th>Skew:</th>           <td> 1.444</td>  <th>  Prob(JB):          </th> <td>    0.00</td>\n",
              "</tr>\n",
              "<tr>\n",
              "  <th>Kurtosis:</th>       <td> 6.346</td>  <th>  Cond. No.          </th> <td>    23.0</td>\n",
              "</tr>\n",
              "</table><br/><br/>Notes:<br/>[1] Standard Errors assume that the covariance matrix of the errors is correctly specified."
            ]
          },
          "metadata": {},
          "execution_count": 9
        }
      ]
    },
    {
      "cell_type": "code",
      "source": [
        "dt['yy_hat']=results.fittedvalues\n",
        "\n",
        "fig=plt.figure(figsize=(8,8))\n",
        "ax=fig.add_subplot(1,1,1)\n",
        "plt.axline([0, 0], [1, 1])\n",
        "plt.scatter(dt.p_norm,dt.yy_hat)\n",
        "ll=np.arange(0,1.1,.1)\n",
        "plt.xticks(ticks=ll)\n",
        "plt.yticks(ticks=ll)\n",
        "fig.show()"
      ],
      "metadata": {
        "id": "W4vIVVA8z9d4"
      },
      "execution_count": null,
      "outputs": []
    },
    {
      "cell_type": "code",
      "source": [
        "plt.figure(figsize=(8,5))\n",
        "dt.groupby('ym')['p_norm'].mean().plot(label='precio')\n",
        "dt.groupby('ym')['yy_hat'].mean().plot(label='precio_hat', linestyle='--')\n",
        "plt.xticks(rotation=45, fontsize='small')\n",
        "plt.yticks(np.arange(0,1.2,.1))\n",
        "plt.xlabel('')\n",
        "plt.legend()\n",
        "plt.show"
      ],
      "metadata": {
        "id": "64cqOqR10cgZ"
      },
      "execution_count": null,
      "outputs": []
    },
    {
      "cell_type": "code",
      "source": [
        "dt_dum = pd.get_dummies(dt[['v_norm','yr_norm','mes','provincia']])\n",
        "dt_dum.shape\n",
        "dt_dum.columns"
      ],
      "metadata": {
        "id": "hc6WoOu_0neR",
        "outputId": "64392b87-3af6-49ff-9382-3ce960af1668",
        "colab": {
          "base_uri": "https://localhost:8080/"
        }
      },
      "execution_count": null,
      "outputs": [
        {
          "output_type": "execute_result",
          "data": {
            "text/plain": [
              "Index(['v_norm', 'yr_norm', 'mes_m_01', 'mes_m_02', 'mes_m_03', 'mes_m_04',\n",
              "       'mes_m_05', 'mes_m_06', 'mes_m_07', 'mes_m_08', 'mes_m_09', 'mes_m_10',\n",
              "       'mes_m_11', 'mes_m_12', 'provincia_Ambo', 'provincia_Andahuaylas',\n",
              "       'provincia_Arequipa', 'provincia_Barranca', 'provincia_Canete',\n",
              "       'provincia_Huamanga', 'provincia_Huancavelica', 'provincia_Huancayo',\n",
              "       'provincia_Huanuco', 'provincia_Huaral', 'provincia_Huaura',\n",
              "       'provincia_Ica', 'provincia_Jauja', 'provincia_Junin', 'provincia_Lima',\n",
              "       'provincia_Nazca', 'provincia_Pasco', 'provincia_Tarma',\n",
              "       'provincia_Tayacaja'],\n",
              "      dtype='object')"
            ]
          },
          "metadata": {},
          "execution_count": 15
        }
      ]
    },
    {
      "cell_type": "code",
      "source": [
        "dt_dum.drop(['mes_m_01','provincia_Ambo'], axis=1, inplace=True)\n"
      ],
      "metadata": {
        "id": "0_EyNfHT0weo"
      },
      "execution_count": null,
      "outputs": []
    },
    {
      "cell_type": "code",
      "source": [
        "X = np.array(dt_dum)\n",
        "XX=pd.DataFrame(X)\n",
        "y = np.array(dt.p_norm).reshape(-1,1)"
      ],
      "metadata": {
        "id": "e2z1CBMn1Rq_"
      },
      "execution_count": null,
      "outputs": []
    },
    {
      "cell_type": "code",
      "source": [
        "from sklearn.linear_model import LinearRegression\n",
        "\n",
        "lm = LinearRegression()\n",
        "lm.fit(X, y)\n",
        "y_hat = lm.predict(X)\n",
        "y_hat.shape\n",
        "\n",
        "lm.coef_.reshape(-1,1).shape, XX.columns.shape\n",
        "coefs = pd.DataFrame()\n",
        "coefs['lab'] = dt_dum.columns\n",
        "coefs['coef'] = lm.coef_.reshape(-1,1)\n",
        "coefs    "
      ],
      "metadata": {
        "id": "T18cRibC1bvG"
      },
      "execution_count": null,
      "outputs": []
    },
    {
      "cell_type": "code",
      "source": [
        "results.params"
      ],
      "metadata": {
        "id": "7WzX0Z621k3H"
      },
      "execution_count": null,
      "outputs": []
    },
    {
      "cell_type": "code",
      "source": [
        "coefs"
      ],
      "metadata": {
        "id": "5bzfK47B2KBs"
      },
      "execution_count": null,
      "outputs": []
    }
  ]
}