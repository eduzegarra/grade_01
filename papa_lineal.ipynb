{
  "nbformat": 4,
  "nbformat_minor": 0,
  "metadata": {
    "colab": {
      "provenance": [],
      "authorship_tag": "ABX9TyN0FzKv3f1IHsTyLT2FqiWD",
      "include_colab_link": true
    },
    "kernelspec": {
      "name": "python3",
      "display_name": "Python 3"
    },
    "language_info": {
      "name": "python"
    }
  },
  "cells": [
    {
      "cell_type": "markdown",
      "metadata": {
        "id": "view-in-github",
        "colab_type": "text"
      },
      "source": [
        "<a href=\"https://colab.research.google.com/github/eduzegarra/grade_01/blob/main/papa_lineal.ipynb\" target=\"_parent\"><img src=\"https://colab.research.google.com/assets/colab-badge.svg\" alt=\"Open In Colab\"/></a>"
      ]
    },
    {
      "cell_type": "code",
      "execution_count": 1,
      "metadata": {
        "id": "s0aO9UMPxXec"
      },
      "outputs": [],
      "source": [
        "import pandas as pd\n",
        "import numpy as np\n",
        "import matplotlib.pyplot as plt"
      ]
    },
    {
      "cell_type": "code",
      "source": [
        "data = pd.read_excel('/content/sample_data/df_base2.xlsx')"
      ],
      "metadata": {
        "id": "7huiq555xqPT"
      },
      "execution_count": 3,
      "outputs": []
    },
    {
      "cell_type": "code",
      "source": [
        "dt=data[data.variedad=='Papa Blanca']"
      ],
      "metadata": {
        "id": "7zepoiDwyI7a"
      },
      "execution_count": 21,
      "outputs": []
    },
    {
      "cell_type": "code",
      "source": [
        "dt['p_norm']=(dt.precio-dt.precio.min())/(dt.precio.max()-dt.precio.min())\n",
        "dt['v_norm']=(dt.volumen-dt.volumen.min())/(dt.volumen.max()-dt.volumen.min())"
      ],
      "metadata": {
        "id": "Z24QrixmzT2m"
      },
      "execution_count": null,
      "outputs": []
    },
    {
      "cell_type": "code",
      "source": [
        "plt.hist(dt.v_norm)"
      ],
      "metadata": {
        "id": "zxYhpOLXzpaV"
      },
      "execution_count": null,
      "outputs": []
    },
    {
      "cell_type": "code",
      "source": [
        "import statsmodels.formula.api as smf"
      ],
      "metadata": {
        "id": "KuNF6bp6z2FR"
      },
      "execution_count": 28,
      "outputs": []
    },
    {
      "cell_type": "code",
      "source": [
        "model = smf.ols(formula='p_norm ~ v_norm + year + C(mes) + C(provincia)', data=dt)\n",
        "results=model.fit()\n",
        "results.summary()"
      ],
      "metadata": {
        "id": "cFOexP-Kz4pI"
      },
      "execution_count": null,
      "outputs": []
    },
    {
      "cell_type": "code",
      "source": [
        "dt['yy_hat']=results.fittedvalues\n",
        "\n",
        "fig=plt.figure(figsize=(8,8))\n",
        "ax=fig.add_subplot(1,1,1)\n",
        "plt.axline([0, 0], [1, 1])\n",
        "plt.scatter(dt.p_norm,dt.yy_hat)\n",
        "ll=np.arange(0,1.1,.1)\n",
        "plt.xticks(ticks=ll)\n",
        "plt.yticks(ticks=ll)\n",
        "fig.show()"
      ],
      "metadata": {
        "id": "W4vIVVA8z9d4"
      },
      "execution_count": null,
      "outputs": []
    },
    {
      "cell_type": "code",
      "source": [
        "plt.figure(figsize=(8,5))\n",
        "dt.groupby('ym')['p_norm'].mean().plot(label='precio')\n",
        "dt.groupby('ym')['yy_hat'].mean().plot(label='precio_hat', linestyle='--')\n",
        "plt.xticks(rotation=45, fontsize='small')\n",
        "plt.yticks(np.arange(0,1.2,.1))\n",
        "plt.xlabel('')\n",
        "plt.legend()\n",
        "plt.show"
      ],
      "metadata": {
        "id": "64cqOqR10cgZ"
      },
      "execution_count": null,
      "outputs": []
    },
    {
      "cell_type": "code",
      "source": [
        "dt_dum = pd.get_dummies(dt[['v_norm','year','mes','provincia']])\n",
        "dt_dum.shape\n",
        "dt_dum.columns"
      ],
      "metadata": {
        "id": "hc6WoOu_0neR"
      },
      "execution_count": null,
      "outputs": []
    },
    {
      "cell_type": "code",
      "source": [
        "dt_dum.drop(['mes_m_01','provincia_Ambo'], axis=1, inplace=True)\n"
      ],
      "metadata": {
        "id": "0_EyNfHT0weo"
      },
      "execution_count": 44,
      "outputs": []
    },
    {
      "cell_type": "code",
      "source": [
        "X = np.array(dt_dum)\n",
        "XX=pd.DataFrame(X)\n",
        "y = np.array(dt.p_norm).reshape(-1,1)"
      ],
      "metadata": {
        "id": "e2z1CBMn1Rq_"
      },
      "execution_count": 46,
      "outputs": []
    },
    {
      "cell_type": "code",
      "source": [
        "from sklearn.linear_model import LinearRegression\n",
        "\n",
        "lm = LinearRegression()\n",
        "lm.fit(X, y)\n",
        "y_hat = lm.predict(X)\n",
        "y_hat.shape\n",
        "\n",
        "lm.coef_.reshape(-1,1).shape, XX.columns.shape\n",
        "coefs = pd.DataFrame()\n",
        "coefs['lab'] = dt_dum.columns\n",
        "coefs['coef'] = lm.coef_.reshape(-1,1)\n",
        "coefs    "
      ],
      "metadata": {
        "id": "T18cRibC1bvG"
      },
      "execution_count": null,
      "outputs": []
    },
    {
      "cell_type": "code",
      "source": [
        "results.params"
      ],
      "metadata": {
        "colab": {
          "base_uri": "https://localhost:8080/"
        },
        "id": "7WzX0Z621k3H",
        "outputId": "85c7eaf9-1afd-4bfd-f3da-4d6192ee356d"
      },
      "execution_count": 54,
      "outputs": [
        {
          "output_type": "execute_result",
          "data": {
            "text/plain": [
              "Intercept                      -19.063565\n",
              "C(mes)[T.m_02]                   0.009900\n",
              "C(mes)[T.m_03]                  -0.007097\n",
              "C(mes)[T.m_04]                  -0.032289\n",
              "C(mes)[T.m_05]                  -0.043180\n",
              "C(mes)[T.m_06]                  -0.024947\n",
              "C(mes)[T.m_07]                   0.007323\n",
              "C(mes)[T.m_08]                   0.017514\n",
              "C(mes)[T.m_09]                   0.035329\n",
              "C(mes)[T.m_10]                   0.018418\n",
              "C(mes)[T.m_11]                   0.000331\n",
              "C(mes)[T.m_12]                   0.001811\n",
              "C(provincia)[T.Andahuaylas]      0.002187\n",
              "C(provincia)[T.Arequipa]         0.005407\n",
              "C(provincia)[T.Barranca]         0.006818\n",
              "C(provincia)[T.Canete]           0.004599\n",
              "C(provincia)[T.Huamanga]         0.014724\n",
              "C(provincia)[T.Huancavelica]     0.002163\n",
              "C(provincia)[T.Huancayo]         0.014592\n",
              "C(provincia)[T.Huanuco]          0.020863\n",
              "C(provincia)[T.Huaral]           0.009835\n",
              "C(provincia)[T.Huaura]           0.007818\n",
              "C(provincia)[T.Ica]              0.006631\n",
              "C(provincia)[T.Jauja]            0.009874\n",
              "C(provincia)[T.Junin]           -0.001944\n",
              "C(provincia)[T.Lima]            -0.000557\n",
              "C(provincia)[T.Nazca]            0.004726\n",
              "C(provincia)[T.Pasco]            0.005984\n",
              "C(provincia)[T.Tarma]            0.007803\n",
              "C(provincia)[T.Tayacaja]        -0.001530\n",
              "v_norm                          -0.066967\n",
              "year                             0.009606\n",
              "dtype: float64"
            ]
          },
          "metadata": {},
          "execution_count": 54
        }
      ]
    },
    {
      "cell_type": "code",
      "source": [
        "coefs"
      ],
      "metadata": {
        "colab": {
          "base_uri": "https://localhost:8080/",
          "height": 1000
        },
        "id": "5bzfK47B2KBs",
        "outputId": "4849d223-b8dd-4421-a2bb-d9d6bb4964d6"
      },
      "execution_count": 55,
      "outputs": [
        {
          "output_type": "execute_result",
          "data": {
            "text/plain": [
              "                       lab      coef\n",
              "0                   v_norm -0.066967\n",
              "1                     year  0.009606\n",
              "2                 mes_m_02  0.009900\n",
              "3                 mes_m_03 -0.007097\n",
              "4                 mes_m_04 -0.032289\n",
              "5                 mes_m_05 -0.043180\n",
              "6                 mes_m_06 -0.024947\n",
              "7                 mes_m_07  0.007323\n",
              "8                 mes_m_08  0.017514\n",
              "9                 mes_m_09  0.035329\n",
              "10                mes_m_10  0.018418\n",
              "11                mes_m_11  0.000331\n",
              "12                mes_m_12  0.001811\n",
              "13   provincia_Andahuaylas  0.002187\n",
              "14      provincia_Arequipa  0.005407\n",
              "15      provincia_Barranca  0.006818\n",
              "16        provincia_Canete  0.004599\n",
              "17      provincia_Huamanga  0.014724\n",
              "18  provincia_Huancavelica  0.002163\n",
              "19      provincia_Huancayo  0.014592\n",
              "20       provincia_Huanuco  0.020863\n",
              "21        provincia_Huaral  0.009835\n",
              "22        provincia_Huaura  0.007818\n",
              "23           provincia_Ica  0.006631\n",
              "24         provincia_Jauja  0.009874\n",
              "25         provincia_Junin -0.001944\n",
              "26          provincia_Lima -0.000557\n",
              "27         provincia_Nazca  0.004726\n",
              "28         provincia_Pasco  0.005984\n",
              "29         provincia_Tarma  0.007803\n",
              "30      provincia_Tayacaja -0.001530"
            ],
            "text/html": [
              "\n",
              "  <div id=\"df-25019a83-cb6c-4999-a866-48a26fe73bd6\">\n",
              "    <div class=\"colab-df-container\">\n",
              "      <div>\n",
              "<style scoped>\n",
              "    .dataframe tbody tr th:only-of-type {\n",
              "        vertical-align: middle;\n",
              "    }\n",
              "\n",
              "    .dataframe tbody tr th {\n",
              "        vertical-align: top;\n",
              "    }\n",
              "\n",
              "    .dataframe thead th {\n",
              "        text-align: right;\n",
              "    }\n",
              "</style>\n",
              "<table border=\"1\" class=\"dataframe\">\n",
              "  <thead>\n",
              "    <tr style=\"text-align: right;\">\n",
              "      <th></th>\n",
              "      <th>lab</th>\n",
              "      <th>coef</th>\n",
              "    </tr>\n",
              "  </thead>\n",
              "  <tbody>\n",
              "    <tr>\n",
              "      <th>0</th>\n",
              "      <td>v_norm</td>\n",
              "      <td>-0.066967</td>\n",
              "    </tr>\n",
              "    <tr>\n",
              "      <th>1</th>\n",
              "      <td>year</td>\n",
              "      <td>0.009606</td>\n",
              "    </tr>\n",
              "    <tr>\n",
              "      <th>2</th>\n",
              "      <td>mes_m_02</td>\n",
              "      <td>0.009900</td>\n",
              "    </tr>\n",
              "    <tr>\n",
              "      <th>3</th>\n",
              "      <td>mes_m_03</td>\n",
              "      <td>-0.007097</td>\n",
              "    </tr>\n",
              "    <tr>\n",
              "      <th>4</th>\n",
              "      <td>mes_m_04</td>\n",
              "      <td>-0.032289</td>\n",
              "    </tr>\n",
              "    <tr>\n",
              "      <th>5</th>\n",
              "      <td>mes_m_05</td>\n",
              "      <td>-0.043180</td>\n",
              "    </tr>\n",
              "    <tr>\n",
              "      <th>6</th>\n",
              "      <td>mes_m_06</td>\n",
              "      <td>-0.024947</td>\n",
              "    </tr>\n",
              "    <tr>\n",
              "      <th>7</th>\n",
              "      <td>mes_m_07</td>\n",
              "      <td>0.007323</td>\n",
              "    </tr>\n",
              "    <tr>\n",
              "      <th>8</th>\n",
              "      <td>mes_m_08</td>\n",
              "      <td>0.017514</td>\n",
              "    </tr>\n",
              "    <tr>\n",
              "      <th>9</th>\n",
              "      <td>mes_m_09</td>\n",
              "      <td>0.035329</td>\n",
              "    </tr>\n",
              "    <tr>\n",
              "      <th>10</th>\n",
              "      <td>mes_m_10</td>\n",
              "      <td>0.018418</td>\n",
              "    </tr>\n",
              "    <tr>\n",
              "      <th>11</th>\n",
              "      <td>mes_m_11</td>\n",
              "      <td>0.000331</td>\n",
              "    </tr>\n",
              "    <tr>\n",
              "      <th>12</th>\n",
              "      <td>mes_m_12</td>\n",
              "      <td>0.001811</td>\n",
              "    </tr>\n",
              "    <tr>\n",
              "      <th>13</th>\n",
              "      <td>provincia_Andahuaylas</td>\n",
              "      <td>0.002187</td>\n",
              "    </tr>\n",
              "    <tr>\n",
              "      <th>14</th>\n",
              "      <td>provincia_Arequipa</td>\n",
              "      <td>0.005407</td>\n",
              "    </tr>\n",
              "    <tr>\n",
              "      <th>15</th>\n",
              "      <td>provincia_Barranca</td>\n",
              "      <td>0.006818</td>\n",
              "    </tr>\n",
              "    <tr>\n",
              "      <th>16</th>\n",
              "      <td>provincia_Canete</td>\n",
              "      <td>0.004599</td>\n",
              "    </tr>\n",
              "    <tr>\n",
              "      <th>17</th>\n",
              "      <td>provincia_Huamanga</td>\n",
              "      <td>0.014724</td>\n",
              "    </tr>\n",
              "    <tr>\n",
              "      <th>18</th>\n",
              "      <td>provincia_Huancavelica</td>\n",
              "      <td>0.002163</td>\n",
              "    </tr>\n",
              "    <tr>\n",
              "      <th>19</th>\n",
              "      <td>provincia_Huancayo</td>\n",
              "      <td>0.014592</td>\n",
              "    </tr>\n",
              "    <tr>\n",
              "      <th>20</th>\n",
              "      <td>provincia_Huanuco</td>\n",
              "      <td>0.020863</td>\n",
              "    </tr>\n",
              "    <tr>\n",
              "      <th>21</th>\n",
              "      <td>provincia_Huaral</td>\n",
              "      <td>0.009835</td>\n",
              "    </tr>\n",
              "    <tr>\n",
              "      <th>22</th>\n",
              "      <td>provincia_Huaura</td>\n",
              "      <td>0.007818</td>\n",
              "    </tr>\n",
              "    <tr>\n",
              "      <th>23</th>\n",
              "      <td>provincia_Ica</td>\n",
              "      <td>0.006631</td>\n",
              "    </tr>\n",
              "    <tr>\n",
              "      <th>24</th>\n",
              "      <td>provincia_Jauja</td>\n",
              "      <td>0.009874</td>\n",
              "    </tr>\n",
              "    <tr>\n",
              "      <th>25</th>\n",
              "      <td>provincia_Junin</td>\n",
              "      <td>-0.001944</td>\n",
              "    </tr>\n",
              "    <tr>\n",
              "      <th>26</th>\n",
              "      <td>provincia_Lima</td>\n",
              "      <td>-0.000557</td>\n",
              "    </tr>\n",
              "    <tr>\n",
              "      <th>27</th>\n",
              "      <td>provincia_Nazca</td>\n",
              "      <td>0.004726</td>\n",
              "    </tr>\n",
              "    <tr>\n",
              "      <th>28</th>\n",
              "      <td>provincia_Pasco</td>\n",
              "      <td>0.005984</td>\n",
              "    </tr>\n",
              "    <tr>\n",
              "      <th>29</th>\n",
              "      <td>provincia_Tarma</td>\n",
              "      <td>0.007803</td>\n",
              "    </tr>\n",
              "    <tr>\n",
              "      <th>30</th>\n",
              "      <td>provincia_Tayacaja</td>\n",
              "      <td>-0.001530</td>\n",
              "    </tr>\n",
              "  </tbody>\n",
              "</table>\n",
              "</div>\n",
              "      <button class=\"colab-df-convert\" onclick=\"convertToInteractive('df-25019a83-cb6c-4999-a866-48a26fe73bd6')\"\n",
              "              title=\"Convert this dataframe to an interactive table.\"\n",
              "              style=\"display:none;\">\n",
              "        \n",
              "  <svg xmlns=\"http://www.w3.org/2000/svg\" height=\"24px\"viewBox=\"0 0 24 24\"\n",
              "       width=\"24px\">\n",
              "    <path d=\"M0 0h24v24H0V0z\" fill=\"none\"/>\n",
              "    <path d=\"M18.56 5.44l.94 2.06.94-2.06 2.06-.94-2.06-.94-.94-2.06-.94 2.06-2.06.94zm-11 1L8.5 8.5l.94-2.06 2.06-.94-2.06-.94L8.5 2.5l-.94 2.06-2.06.94zm10 10l.94 2.06.94-2.06 2.06-.94-2.06-.94-.94-2.06-.94 2.06-2.06.94z\"/><path d=\"M17.41 7.96l-1.37-1.37c-.4-.4-.92-.59-1.43-.59-.52 0-1.04.2-1.43.59L10.3 9.45l-7.72 7.72c-.78.78-.78 2.05 0 2.83L4 21.41c.39.39.9.59 1.41.59.51 0 1.02-.2 1.41-.59l7.78-7.78 2.81-2.81c.8-.78.8-2.07 0-2.86zM5.41 20L4 18.59l7.72-7.72 1.47 1.35L5.41 20z\"/>\n",
              "  </svg>\n",
              "      </button>\n",
              "      \n",
              "  <style>\n",
              "    .colab-df-container {\n",
              "      display:flex;\n",
              "      flex-wrap:wrap;\n",
              "      gap: 12px;\n",
              "    }\n",
              "\n",
              "    .colab-df-convert {\n",
              "      background-color: #E8F0FE;\n",
              "      border: none;\n",
              "      border-radius: 50%;\n",
              "      cursor: pointer;\n",
              "      display: none;\n",
              "      fill: #1967D2;\n",
              "      height: 32px;\n",
              "      padding: 0 0 0 0;\n",
              "      width: 32px;\n",
              "    }\n",
              "\n",
              "    .colab-df-convert:hover {\n",
              "      background-color: #E2EBFA;\n",
              "      box-shadow: 0px 1px 2px rgba(60, 64, 67, 0.3), 0px 1px 3px 1px rgba(60, 64, 67, 0.15);\n",
              "      fill: #174EA6;\n",
              "    }\n",
              "\n",
              "    [theme=dark] .colab-df-convert {\n",
              "      background-color: #3B4455;\n",
              "      fill: #D2E3FC;\n",
              "    }\n",
              "\n",
              "    [theme=dark] .colab-df-convert:hover {\n",
              "      background-color: #434B5C;\n",
              "      box-shadow: 0px 1px 3px 1px rgba(0, 0, 0, 0.15);\n",
              "      filter: drop-shadow(0px 1px 2px rgba(0, 0, 0, 0.3));\n",
              "      fill: #FFFFFF;\n",
              "    }\n",
              "  </style>\n",
              "\n",
              "      <script>\n",
              "        const buttonEl =\n",
              "          document.querySelector('#df-25019a83-cb6c-4999-a866-48a26fe73bd6 button.colab-df-convert');\n",
              "        buttonEl.style.display =\n",
              "          google.colab.kernel.accessAllowed ? 'block' : 'none';\n",
              "\n",
              "        async function convertToInteractive(key) {\n",
              "          const element = document.querySelector('#df-25019a83-cb6c-4999-a866-48a26fe73bd6');\n",
              "          const dataTable =\n",
              "            await google.colab.kernel.invokeFunction('convertToInteractive',\n",
              "                                                     [key], {});\n",
              "          if (!dataTable) return;\n",
              "\n",
              "          const docLinkHtml = 'Like what you see? Visit the ' +\n",
              "            '<a target=\"_blank\" href=https://colab.research.google.com/notebooks/data_table.ipynb>data table notebook</a>'\n",
              "            + ' to learn more about interactive tables.';\n",
              "          element.innerHTML = '';\n",
              "          dataTable['output_type'] = 'display_data';\n",
              "          await google.colab.output.renderOutput(dataTable, element);\n",
              "          const docLink = document.createElement('div');\n",
              "          docLink.innerHTML = docLinkHtml;\n",
              "          element.appendChild(docLink);\n",
              "        }\n",
              "      </script>\n",
              "    </div>\n",
              "  </div>\n",
              "  "
            ]
          },
          "metadata": {},
          "execution_count": 55
        }
      ]
    }
  ]
}