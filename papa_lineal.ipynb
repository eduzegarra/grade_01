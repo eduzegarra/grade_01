{
  "nbformat": 4,
  "nbformat_minor": 0,
  "metadata": {
    "colab": {
      "provenance": [],
      "authorship_tag": "ABX9TyPajIiOykXWNrv/yfGQF9BS",
      "include_colab_link": true
    },
    "kernelspec": {
      "name": "python3",
      "display_name": "Python 3"
    },
    "language_info": {
      "name": "python"
    }
  },
  "cells": [
    {
      "cell_type": "markdown",
      "metadata": {
        "id": "view-in-github",
        "colab_type": "text"
      },
      "source": [
        "<a href=\"https://colab.research.google.com/github/eduzegarra/grade_01/blob/main/papa_lineal.ipynb\" target=\"_parent\"><img src=\"https://colab.research.google.com/assets/colab-badge.svg\" alt=\"Open In Colab\"/></a>"
      ]
    },
    {
      "cell_type": "code",
      "execution_count": 1,
      "metadata": {
        "id": "s0aO9UMPxXec"
      },
      "outputs": [],
      "source": [
        "import pandas as pd\n",
        "import numpy as np\n",
        "import matplotlib.pyplot as plt"
      ]
    },
    {
      "cell_type": "code",
      "source": [
        "data = pd.read_excel('/content/sample_data/df_base2.xlsx')"
      ],
      "metadata": {
        "id": "7huiq555xqPT"
      },
      "execution_count": 2,
      "outputs": []
    },
    {
      "cell_type": "markdown",
      "source": [
        "Nos quedamos solamente con papa blanca"
      ],
      "metadata": {
        "id": "AsNjJNz5uafB"
      }
    },
    {
      "cell_type": "code",
      "source": [
        "dt=data[data.variedad=='Papa Blanca']"
      ],
      "metadata": {
        "id": "7zepoiDwyI7a"
      },
      "execution_count": 3,
      "outputs": []
    },
    {
      "cell_type": "code",
      "source": [
        "dt"
      ],
      "metadata": {
        "id": "adzAvkPUuMzR"
      },
      "execution_count": null,
      "outputs": []
    },
    {
      "cell_type": "markdown",
      "source": [
        "Normalizamos las variables continuas ´precio', 'año' y 'volumen'"
      ],
      "metadata": {
        "id": "7r9FVveauTlN"
      }
    },
    {
      "cell_type": "code",
      "source": [
        "dt['p_norm']=(dt.precio-dt.precio.min())/(dt.precio.max()-dt.precio.min())\n",
        "dt['v_norm']=(dt.volumen-dt.volumen.min())/(dt.volumen.max()-dt.volumen.min())\n",
        "dt['yr_norm']=(data.year-data.year.min())/(data.year.max()-data.year.min())"
      ],
      "metadata": {
        "id": "Z24QrixmzT2m"
      },
      "execution_count": null,
      "outputs": []
    },
    {
      "cell_type": "code",
      "source": [
        "plt.hist(dt.v_norm)"
      ],
      "metadata": {
        "id": "zxYhpOLXzpaV"
      },
      "execution_count": null,
      "outputs": []
    },
    {
      "cell_type": "code",
      "source": [
        "import statsmodels.formula.api as smf"
      ],
      "metadata": {
        "id": "KuNF6bp6z2FR"
      },
      "execution_count": 12,
      "outputs": []
    },
    {
      "cell_type": "code",
      "source": [
        "model = smf.ols(formula=\"p_norm ~ v_norm + yr_norm + C(mes) + C(provincia)\", data=dt)"
      ],
      "metadata": {
        "id": "cFOexP-Kz4pI"
      },
      "execution_count": 13,
      "outputs": []
    },
    {
      "cell_type": "code",
      "source": [
        "resultado=model.fit()"
      ],
      "metadata": {
        "id": "VY0dmnjawUg6"
      },
      "execution_count": 15,
      "outputs": []
    },
    {
      "cell_type": "code",
      "source": [
        "resultado.summary()"
      ],
      "metadata": {
        "id": "Ri_-LRljwe-B",
        "outputId": "440abd74-77fe-4521-bf7a-536a3e32c990",
        "colab": {
          "base_uri": "https://localhost:8080/",
          "height": 1000
        }
      },
      "execution_count": 16,
      "outputs": [
        {
          "output_type": "execute_result",
          "data": {
            "text/plain": [
              "<class 'statsmodels.iolib.summary.Summary'>\n",
              "\"\"\"\n",
              "                            OLS Regression Results                            \n",
              "==============================================================================\n",
              "Dep. Variable:                 p_norm   R-squared:                       0.199\n",
              "Model:                            OLS   Adj. R-squared:                  0.194\n",
              "Method:                 Least Squares   F-statistic:                     38.45\n",
              "Date:                Fri, 03 Mar 2023   Prob (F-statistic):          1.45e-204\n",
              "Time:                        00:01:22   Log-Likelihood:                 2496.0\n",
              "No. Observations:                4838   AIC:                            -4928.\n",
              "Df Residuals:                    4806   BIC:                            -4720.\n",
              "Df Model:                          31                                         \n",
              "Covariance Type:            nonrobust                                         \n",
              "================================================================================================\n",
              "                                   coef    std err          t      P>|t|      [0.025      0.975]\n",
              "------------------------------------------------------------------------------------------------\n",
              "Intercept                        0.1203      0.012     10.140      0.000       0.097       0.144\n",
              "C(mes)[T.m_02]                   0.0099      0.010      0.983      0.326      -0.010       0.030\n",
              "C(mes)[T.m_03]                  -0.0071      0.010     -0.692      0.489      -0.027       0.013\n",
              "C(mes)[T.m_04]                  -0.0323      0.010     -3.090      0.002      -0.053      -0.012\n",
              "C(mes)[T.m_05]                  -0.0432      0.010     -4.141      0.000      -0.064      -0.023\n",
              "C(mes)[T.m_06]                  -0.0249      0.010     -2.380      0.017      -0.045      -0.004\n",
              "C(mes)[T.m_07]                   0.0073      0.010      0.729      0.466      -0.012       0.027\n",
              "C(mes)[T.m_08]                   0.0175      0.010      1.765      0.078      -0.002       0.037\n",
              "C(mes)[T.m_09]                   0.0353      0.010      3.540      0.000       0.016       0.055\n",
              "C(mes)[T.m_10]                   0.0184      0.010      1.866      0.062      -0.001       0.038\n",
              "C(mes)[T.m_11]                   0.0003      0.010      0.033      0.974      -0.019       0.020\n",
              "C(mes)[T.m_12]                   0.0018      0.010      0.176      0.861      -0.018       0.022\n",
              "C(provincia)[T.Andahuaylas]      0.0022      0.013      0.174      0.862      -0.022       0.027\n",
              "C(provincia)[T.Arequipa]         0.0054      0.013      0.431      0.666      -0.019       0.030\n",
              "C(provincia)[T.Barranca]         0.0068      0.013      0.510      0.610      -0.019       0.033\n",
              "C(provincia)[T.Canete]           0.0046      0.013      0.358      0.720      -0.021       0.030\n",
              "C(provincia)[T.Huamanga]         0.0147      0.013      1.142      0.254      -0.011       0.040\n",
              "C(provincia)[T.Huancavelica]     0.0022      0.012      0.174      0.862      -0.022       0.027\n",
              "C(provincia)[T.Huancayo]         0.0146      0.013      1.151      0.250      -0.010       0.039\n",
              "C(provincia)[T.Huanuco]          0.0209      0.013      1.593      0.111      -0.005       0.047\n",
              "C(provincia)[T.Huaral]           0.0098      0.013      0.750      0.453      -0.016       0.036\n",
              "C(provincia)[T.Huaura]           0.0078      0.014      0.578      0.564      -0.019       0.034\n",
              "C(provincia)[T.Ica]              0.0066      0.014      0.461      0.645      -0.022       0.035\n",
              "C(provincia)[T.Jauja]            0.0099      0.013      0.789      0.430      -0.015       0.034\n",
              "C(provincia)[T.Junin]           -0.0019      0.013     -0.155      0.877      -0.026       0.023\n",
              "C(provincia)[T.Lima]            -0.0006      0.013     -0.043      0.966      -0.026       0.025\n",
              "C(provincia)[T.Nazca]            0.0047      0.015      0.305      0.760      -0.026       0.035\n",
              "C(provincia)[T.Pasco]            0.0060      0.012      0.483      0.629      -0.018       0.030\n",
              "C(provincia)[T.Tarma]            0.0078      0.012      0.628      0.530      -0.017       0.032\n",
              "C(provincia)[T.Tayacaja]        -0.0015      0.012     -0.123      0.902      -0.026       0.023\n",
              "v_norm                          -0.0670      0.016     -4.084      0.000      -0.099      -0.035\n",
              "yr_norm                          0.2306      0.007     32.749      0.000       0.217       0.244\n",
              "==============================================================================\n",
              "Omnibus:                     1345.259   Durbin-Watson:                   0.144\n",
              "Prob(Omnibus):                  0.000   Jarque-Bera (JB):             3936.954\n",
              "Skew:                           1.444   Prob(JB):                         0.00\n",
              "Kurtosis:                       6.346   Cond. No.                         23.0\n",
              "==============================================================================\n",
              "\n",
              "Notes:\n",
              "[1] Standard Errors assume that the covariance matrix of the errors is correctly specified.\n",
              "\"\"\""
            ],
            "text/html": [
              "<table class=\"simpletable\">\n",
              "<caption>OLS Regression Results</caption>\n",
              "<tr>\n",
              "  <th>Dep. Variable:</th>         <td>p_norm</td>      <th>  R-squared:         </th> <td>   0.199</td> \n",
              "</tr>\n",
              "<tr>\n",
              "  <th>Model:</th>                   <td>OLS</td>       <th>  Adj. R-squared:    </th> <td>   0.194</td> \n",
              "</tr>\n",
              "<tr>\n",
              "  <th>Method:</th>             <td>Least Squares</td>  <th>  F-statistic:       </th> <td>   38.45</td> \n",
              "</tr>\n",
              "<tr>\n",
              "  <th>Date:</th>             <td>Fri, 03 Mar 2023</td> <th>  Prob (F-statistic):</th> <td>1.45e-204</td>\n",
              "</tr>\n",
              "<tr>\n",
              "  <th>Time:</th>                 <td>00:01:22</td>     <th>  Log-Likelihood:    </th> <td>  2496.0</td> \n",
              "</tr>\n",
              "<tr>\n",
              "  <th>No. Observations:</th>      <td>  4838</td>      <th>  AIC:               </th> <td>  -4928.</td> \n",
              "</tr>\n",
              "<tr>\n",
              "  <th>Df Residuals:</th>          <td>  4806</td>      <th>  BIC:               </th> <td>  -4720.</td> \n",
              "</tr>\n",
              "<tr>\n",
              "  <th>Df Model:</th>              <td>    31</td>      <th>                     </th>     <td> </td>    \n",
              "</tr>\n",
              "<tr>\n",
              "  <th>Covariance Type:</th>      <td>nonrobust</td>    <th>                     </th>     <td> </td>    \n",
              "</tr>\n",
              "</table>\n",
              "<table class=\"simpletable\">\n",
              "<tr>\n",
              "                <td></td>                  <th>coef</th>     <th>std err</th>      <th>t</th>      <th>P>|t|</th>  <th>[0.025</th>    <th>0.975]</th>  \n",
              "</tr>\n",
              "<tr>\n",
              "  <th>Intercept</th>                    <td>    0.1203</td> <td>    0.012</td> <td>   10.140</td> <td> 0.000</td> <td>    0.097</td> <td>    0.144</td>\n",
              "</tr>\n",
              "<tr>\n",
              "  <th>C(mes)[T.m_02]</th>               <td>    0.0099</td> <td>    0.010</td> <td>    0.983</td> <td> 0.326</td> <td>   -0.010</td> <td>    0.030</td>\n",
              "</tr>\n",
              "<tr>\n",
              "  <th>C(mes)[T.m_03]</th>               <td>   -0.0071</td> <td>    0.010</td> <td>   -0.692</td> <td> 0.489</td> <td>   -0.027</td> <td>    0.013</td>\n",
              "</tr>\n",
              "<tr>\n",
              "  <th>C(mes)[T.m_04]</th>               <td>   -0.0323</td> <td>    0.010</td> <td>   -3.090</td> <td> 0.002</td> <td>   -0.053</td> <td>   -0.012</td>\n",
              "</tr>\n",
              "<tr>\n",
              "  <th>C(mes)[T.m_05]</th>               <td>   -0.0432</td> <td>    0.010</td> <td>   -4.141</td> <td> 0.000</td> <td>   -0.064</td> <td>   -0.023</td>\n",
              "</tr>\n",
              "<tr>\n",
              "  <th>C(mes)[T.m_06]</th>               <td>   -0.0249</td> <td>    0.010</td> <td>   -2.380</td> <td> 0.017</td> <td>   -0.045</td> <td>   -0.004</td>\n",
              "</tr>\n",
              "<tr>\n",
              "  <th>C(mes)[T.m_07]</th>               <td>    0.0073</td> <td>    0.010</td> <td>    0.729</td> <td> 0.466</td> <td>   -0.012</td> <td>    0.027</td>\n",
              "</tr>\n",
              "<tr>\n",
              "  <th>C(mes)[T.m_08]</th>               <td>    0.0175</td> <td>    0.010</td> <td>    1.765</td> <td> 0.078</td> <td>   -0.002</td> <td>    0.037</td>\n",
              "</tr>\n",
              "<tr>\n",
              "  <th>C(mes)[T.m_09]</th>               <td>    0.0353</td> <td>    0.010</td> <td>    3.540</td> <td> 0.000</td> <td>    0.016</td> <td>    0.055</td>\n",
              "</tr>\n",
              "<tr>\n",
              "  <th>C(mes)[T.m_10]</th>               <td>    0.0184</td> <td>    0.010</td> <td>    1.866</td> <td> 0.062</td> <td>   -0.001</td> <td>    0.038</td>\n",
              "</tr>\n",
              "<tr>\n",
              "  <th>C(mes)[T.m_11]</th>               <td>    0.0003</td> <td>    0.010</td> <td>    0.033</td> <td> 0.974</td> <td>   -0.019</td> <td>    0.020</td>\n",
              "</tr>\n",
              "<tr>\n",
              "  <th>C(mes)[T.m_12]</th>               <td>    0.0018</td> <td>    0.010</td> <td>    0.176</td> <td> 0.861</td> <td>   -0.018</td> <td>    0.022</td>\n",
              "</tr>\n",
              "<tr>\n",
              "  <th>C(provincia)[T.Andahuaylas]</th>  <td>    0.0022</td> <td>    0.013</td> <td>    0.174</td> <td> 0.862</td> <td>   -0.022</td> <td>    0.027</td>\n",
              "</tr>\n",
              "<tr>\n",
              "  <th>C(provincia)[T.Arequipa]</th>     <td>    0.0054</td> <td>    0.013</td> <td>    0.431</td> <td> 0.666</td> <td>   -0.019</td> <td>    0.030</td>\n",
              "</tr>\n",
              "<tr>\n",
              "  <th>C(provincia)[T.Barranca]</th>     <td>    0.0068</td> <td>    0.013</td> <td>    0.510</td> <td> 0.610</td> <td>   -0.019</td> <td>    0.033</td>\n",
              "</tr>\n",
              "<tr>\n",
              "  <th>C(provincia)[T.Canete]</th>       <td>    0.0046</td> <td>    0.013</td> <td>    0.358</td> <td> 0.720</td> <td>   -0.021</td> <td>    0.030</td>\n",
              "</tr>\n",
              "<tr>\n",
              "  <th>C(provincia)[T.Huamanga]</th>     <td>    0.0147</td> <td>    0.013</td> <td>    1.142</td> <td> 0.254</td> <td>   -0.011</td> <td>    0.040</td>\n",
              "</tr>\n",
              "<tr>\n",
              "  <th>C(provincia)[T.Huancavelica]</th> <td>    0.0022</td> <td>    0.012</td> <td>    0.174</td> <td> 0.862</td> <td>   -0.022</td> <td>    0.027</td>\n",
              "</tr>\n",
              "<tr>\n",
              "  <th>C(provincia)[T.Huancayo]</th>     <td>    0.0146</td> <td>    0.013</td> <td>    1.151</td> <td> 0.250</td> <td>   -0.010</td> <td>    0.039</td>\n",
              "</tr>\n",
              "<tr>\n",
              "  <th>C(provincia)[T.Huanuco]</th>      <td>    0.0209</td> <td>    0.013</td> <td>    1.593</td> <td> 0.111</td> <td>   -0.005</td> <td>    0.047</td>\n",
              "</tr>\n",
              "<tr>\n",
              "  <th>C(provincia)[T.Huaral]</th>       <td>    0.0098</td> <td>    0.013</td> <td>    0.750</td> <td> 0.453</td> <td>   -0.016</td> <td>    0.036</td>\n",
              "</tr>\n",
              "<tr>\n",
              "  <th>C(provincia)[T.Huaura]</th>       <td>    0.0078</td> <td>    0.014</td> <td>    0.578</td> <td> 0.564</td> <td>   -0.019</td> <td>    0.034</td>\n",
              "</tr>\n",
              "<tr>\n",
              "  <th>C(provincia)[T.Ica]</th>          <td>    0.0066</td> <td>    0.014</td> <td>    0.461</td> <td> 0.645</td> <td>   -0.022</td> <td>    0.035</td>\n",
              "</tr>\n",
              "<tr>\n",
              "  <th>C(provincia)[T.Jauja]</th>        <td>    0.0099</td> <td>    0.013</td> <td>    0.789</td> <td> 0.430</td> <td>   -0.015</td> <td>    0.034</td>\n",
              "</tr>\n",
              "<tr>\n",
              "  <th>C(provincia)[T.Junin]</th>        <td>   -0.0019</td> <td>    0.013</td> <td>   -0.155</td> <td> 0.877</td> <td>   -0.026</td> <td>    0.023</td>\n",
              "</tr>\n",
              "<tr>\n",
              "  <th>C(provincia)[T.Lima]</th>         <td>   -0.0006</td> <td>    0.013</td> <td>   -0.043</td> <td> 0.966</td> <td>   -0.026</td> <td>    0.025</td>\n",
              "</tr>\n",
              "<tr>\n",
              "  <th>C(provincia)[T.Nazca]</th>        <td>    0.0047</td> <td>    0.015</td> <td>    0.305</td> <td> 0.760</td> <td>   -0.026</td> <td>    0.035</td>\n",
              "</tr>\n",
              "<tr>\n",
              "  <th>C(provincia)[T.Pasco]</th>        <td>    0.0060</td> <td>    0.012</td> <td>    0.483</td> <td> 0.629</td> <td>   -0.018</td> <td>    0.030</td>\n",
              "</tr>\n",
              "<tr>\n",
              "  <th>C(provincia)[T.Tarma]</th>        <td>    0.0078</td> <td>    0.012</td> <td>    0.628</td> <td> 0.530</td> <td>   -0.017</td> <td>    0.032</td>\n",
              "</tr>\n",
              "<tr>\n",
              "  <th>C(provincia)[T.Tayacaja]</th>     <td>   -0.0015</td> <td>    0.012</td> <td>   -0.123</td> <td> 0.902</td> <td>   -0.026</td> <td>    0.023</td>\n",
              "</tr>\n",
              "<tr>\n",
              "  <th>v_norm</th>                       <td>   -0.0670</td> <td>    0.016</td> <td>   -4.084</td> <td> 0.000</td> <td>   -0.099</td> <td>   -0.035</td>\n",
              "</tr>\n",
              "<tr>\n",
              "  <th>yr_norm</th>                      <td>    0.2306</td> <td>    0.007</td> <td>   32.749</td> <td> 0.000</td> <td>    0.217</td> <td>    0.244</td>\n",
              "</tr>\n",
              "</table>\n",
              "<table class=\"simpletable\">\n",
              "<tr>\n",
              "  <th>Omnibus:</th>       <td>1345.259</td> <th>  Durbin-Watson:     </th> <td>   0.144</td>\n",
              "</tr>\n",
              "<tr>\n",
              "  <th>Prob(Omnibus):</th>  <td> 0.000</td>  <th>  Jarque-Bera (JB):  </th> <td>3936.954</td>\n",
              "</tr>\n",
              "<tr>\n",
              "  <th>Skew:</th>           <td> 1.444</td>  <th>  Prob(JB):          </th> <td>    0.00</td>\n",
              "</tr>\n",
              "<tr>\n",
              "  <th>Kurtosis:</th>       <td> 6.346</td>  <th>  Cond. No.          </th> <td>    23.0</td>\n",
              "</tr>\n",
              "</table><br/><br/>Notes:<br/>[1] Standard Errors assume that the covariance matrix of the errors is correctly specified."
            ]
          },
          "metadata": {},
          "execution_count": 16
        }
      ]
    },
    {
      "cell_type": "code",
      "source": [
        "dt['yy_hat']=resultado.fittedvalues\n",
        "\n",
        "fig=plt.figure(figsize=(8,8))\n",
        "ax=fig.add_subplot(1,1,1)\n",
        "plt.axline([0, 0], [1, 1])\n",
        "plt.scatter(dt.p_norm,dt.yy_hat)\n",
        "ll=np.arange(0,1.1,.1)\n",
        "plt.xticks(ticks=ll)\n",
        "plt.yticks(ticks=ll)\n",
        "fig.show()"
      ],
      "metadata": {
        "id": "W4vIVVA8z9d4",
        "outputId": "bf6e9d38-a64c-4796-9b45-0d6c6f2a2cd6",
        "colab": {
          "base_uri": "https://localhost:8080/",
          "height": 607
        }
      },
      "execution_count": 17,
      "outputs": [
        {
          "output_type": "stream",
          "name": "stderr",
          "text": [
            "<ipython-input-17-6381b76b5504>:1: SettingWithCopyWarning: \n",
            "A value is trying to be set on a copy of a slice from a DataFrame.\n",
            "Try using .loc[row_indexer,col_indexer] = value instead\n",
            "\n",
            "See the caveats in the documentation: https://pandas.pydata.org/pandas-docs/stable/user_guide/indexing.html#returning-a-view-versus-a-copy\n",
            "  dt['yy_hat']=resultado.fittedvalues\n"
          ]
        },
        {
          "output_type": "display_data",
          "data": {
            "text/plain": [
              "<Figure size 576x576 with 1 Axes>"
            ],
            "image/png": "[encoded data removed]"
          },
          "metadata": {
            "needs_background": "light"
          }
        }
      ]
    },
    {
      "cell_type": "code",
      "source": [
        "plt.figure(figsize=(8,5))\n",
        "dt.groupby('ym')['p_norm'].mean().plot(label='precio')\n",
        "dt.groupby('ym')['yy_hat'].mean().plot(label='precio_hat', linestyle='--')\n",
        "plt.xticks(rotation=45, fontsize='small')\n",
        "plt.yticks(np.arange(0,1.2,.1))\n",
        "plt.xlabel('')\n",
        "plt.legend()\n",
        "plt.show"
      ],
      "metadata": {
        "id": "64cqOqR10cgZ",
        "outputId": "e123d259-7f6c-4bbc-b8d6-c459affa2f22",
        "colab": {
          "base_uri": "https://localhost:8080/",
          "height": 368
        }
      },
      "execution_count": 18,
      "outputs": [
        {
          "output_type": "execute_result",
          "data": {
            "text/plain": [
              "<function matplotlib.pyplot.show(close=None, block=None)>"
            ]
          },
          "metadata": {},
          "execution_count": 18
        },
        {
          "output_type": "display_data",
          "data": {
            "text/plain": [
              "<Figure size 576x360 with 1 Axes>"
            ],
            "image/png": "[encoded data removed]"
          },
          "metadata": {
            "needs_background": "light"
          }
        }
      ]
    },
    {
      "cell_type": "markdown",
      "source": [
        "Segunda forma de estimar modelo de regresión lineal"
      ],
      "metadata": {
        "id": "Beoft3sT1lf6"
      }
    },
    {
      "cell_type": "code",
      "source": [
        "dt_dum = pd.get_dummies(dt[['v_norm','yr_norm','mes','provincia']])\n",
        "dt_dum.shape\n",
        "dt_dum.columns"
      ],
      "metadata": {
        "id": "hc6WoOu_0neR",
        "outputId": "3d462ceb-7b07-45c3-c9dc-508ea8b2cec2",
        "colab": {
          "base_uri": "https://localhost:8080/"
        }
      },
      "execution_count": 19,
      "outputs": [
        {
          "output_type": "execute_result",
          "data": {
            "text/plain": [
              "Index(['v_norm', 'yr_norm', 'mes_m_01', 'mes_m_02', 'mes_m_03', 'mes_m_04',\n",
              "       'mes_m_05', 'mes_m_06', 'mes_m_07', 'mes_m_08', 'mes_m_09', 'mes_m_10',\n",
              "       'mes_m_11', 'mes_m_12', 'provincia_Ambo', 'provincia_Andahuaylas',\n",
              "       'provincia_Arequipa', 'provincia_Barranca', 'provincia_Canete',\n",
              "       'provincia_Huamanga', 'provincia_Huancavelica', 'provincia_Huancayo',\n",
              "       'provincia_Huanuco', 'provincia_Huaral', 'provincia_Huaura',\n",
              "       'provincia_Ica', 'provincia_Jauja', 'provincia_Junin', 'provincia_Lima',\n",
              "       'provincia_Nazca', 'provincia_Pasco', 'provincia_Tarma',\n",
              "       'provincia_Tayacaja'],\n",
              "      dtype='object')"
            ]
          },
          "metadata": {},
          "execution_count": 19
        }
      ]
    },
    {
      "cell_type": "code",
      "source": [
        "dt_dum.drop(['mes_m_01','provincia_Ambo'], axis=1, inplace=True)\n"
      ],
      "metadata": {
        "id": "0_EyNfHT0weo"
      },
      "execution_count": 20,
      "outputs": []
    },
    {
      "cell_type": "code",
      "source": [
        "X = np.array(dt_dum)\n",
        "XX=pd.DataFrame(X)\n",
        "y = np.array(dt.p_norm).reshape(-1,1)"
      ],
      "metadata": {
        "id": "e2z1CBMn1Rq_"
      },
      "execution_count": 21,
      "outputs": []
    },
    {
      "cell_type": "code",
      "source": [
        "from sklearn.linear_model import LinearRegression\n",
        "\n",
        "lm = LinearRegression()\n",
        "lm.fit(X, y)\n",
        "y_hat = lm.predict(X)\n",
        "y_hat.shape\n",
        "\n",
        "lm.coef_.reshape(-1,1).shape, XX.columns.shape\n",
        "coefs = pd.DataFrame()\n",
        "coefs['lab'] = dt_dum.columns\n",
        "coefs['coef'] = lm.coef_.reshape(-1,1)\n",
        "coefs    "
      ],
      "metadata": {
        "id": "T18cRibC1bvG",
        "outputId": "3cd75af7-15df-4f5e-f4d3-592f074450a7",
        "colab": {
          "base_uri": "https://localhost:8080/",
          "height": 1000
        }
      },
      "execution_count": 22,
      "outputs": [
        {
          "output_type": "execute_result",
          "data": {
            "text/plain": [
              "                       lab      coef\n",
              "0                   v_norm -0.066967\n",
              "1                  yr_norm  0.230552\n",
              "2                 mes_m_02  0.009900\n",
              "3                 mes_m_03 -0.007097\n",
              "4                 mes_m_04 -0.032289\n",
              "5                 mes_m_05 -0.043180\n",
              "6                 mes_m_06 -0.024947\n",
              "7                 mes_m_07  0.007323\n",
              "8                 mes_m_08  0.017514\n",
              "9                 mes_m_09  0.035329\n",
              "10                mes_m_10  0.018418\n",
              "11                mes_m_11  0.000331\n",
              "12                mes_m_12  0.001811\n",
              "13   provincia_Andahuaylas  0.002187\n",
              "14      provincia_Arequipa  0.005407\n",
              "15      provincia_Barranca  0.006818\n",
              "16        provincia_Canete  0.004599\n",
              "17      provincia_Huamanga  0.014724\n",
              "18  provincia_Huancavelica  0.002163\n",
              "19      provincia_Huancayo  0.014592\n",
              "20       provincia_Huanuco  0.020863\n",
              "21        provincia_Huaral  0.009835\n",
              "22        provincia_Huaura  0.007818\n",
              "23           provincia_Ica  0.006631\n",
              "24         provincia_Jauja  0.009874\n",
              "25         provincia_Junin -0.001944\n",
              "26          provincia_Lima -0.000557\n",
              "27         provincia_Nazca  0.004726\n",
              "28         provincia_Pasco  0.005984\n",
              "29         provincia_Tarma  0.007803\n",
              "30      provincia_Tayacaja -0.001530"
            ],
            "text/html": [
              "\n",
              "  <div id=\"df-2ef68c97-bf10-422d-b93d-563db98177b8\">\n",
              "    <div class=\"colab-df-container\">\n",
              "      <div>\n",
              "<style scoped>\n",
              "    .dataframe tbody tr th:only-of-type {\n",
              "        vertical-align: middle;\n",
              "    }\n",
              "\n",
              "    .dataframe tbody tr th {\n",
              "        vertical-align: top;\n",
              "    }\n",
              "\n",
              "    .dataframe thead th {\n",
              "        text-align: right;\n",
              "    }\n",
              "</style>\n",
              "<table border=\"1\" class=\"dataframe\">\n",
              "  <thead>\n",
              "    <tr style=\"text-align: right;\">\n",
              "      <th></th>\n",
              "      <th>lab</th>\n",
              "      <th>coef</th>\n",
              "    </tr>\n",
              "  </thead>\n",
              "  <tbody>\n",
              "    <tr>\n",
              "      <th>0</th>\n",
              "      <td>v_norm</td>\n",
              "      <td>-0.066967</td>\n",
              "    </tr>\n",
              "    <tr>\n",
              "      <th>1</th>\n",
              "      <td>yr_norm</td>\n",
              "      <td>0.230552</td>\n",
              "    </tr>\n",
              "    <tr>\n",
              "      <th>2</th>\n",
              "      <td>mes_m_02</td>\n",
              "      <td>0.009900</td>\n",
              "    </tr>\n",
              "    <tr>\n",
              "      <th>3</th>\n",
              "      <td>mes_m_03</td>\n",
              "      <td>-0.007097</td>\n",
              "    </tr>\n",
              "    <tr>\n",
              "      <th>4</th>\n",
              "      <td>mes_m_04</td>\n",
              "      <td>-0.032289</td>\n",
              "    </tr>\n",
              "    <tr>\n",
              "      <th>5</th>\n",
              "      <td>mes_m_05</td>\n",
              "      <td>-0.043180</td>\n",
              "    </tr>\n",
              "    <tr>\n",
              "      <th>6</th>\n",
              "      <td>mes_m_06</td>\n",
              "      <td>-0.024947</td>\n",
              "    </tr>\n",
              "    <tr>\n",
              "      <th>7</th>\n",
              "      <td>mes_m_07</td>\n",
              "      <td>0.007323</td>\n",
              "    </tr>\n",
              "    <tr>\n",
              "      <th>8</th>\n",
              "      <td>mes_m_08</td>\n",
              "      <td>0.017514</td>\n",
              "    </tr>\n",
              "    <tr>\n",
              "      <th>9</th>\n",
              "      <td>mes_m_09</td>\n",
              "      <td>0.035329</td>\n",
              "    </tr>\n",
              "    <tr>\n",
              "      <th>10</th>\n",
              "      <td>mes_m_10</td>\n",
              "      <td>0.018418</td>\n",
              "    </tr>\n",
              "    <tr>\n",
              "      <th>11</th>\n",
              "      <td>mes_m_11</td>\n",
              "      <td>0.000331</td>\n",
              "    </tr>\n",
              "    <tr>\n",
              "      <th>12</th>\n",
              "      <td>mes_m_12</td>\n",
              "      <td>0.001811</td>\n",
              "    </tr>\n",
              "    <tr>\n",
              "      <th>13</th>\n",
              "      <td>provincia_Andahuaylas</td>\n",
              "      <td>0.002187</td>\n",
              "    </tr>\n",
              "    <tr>\n",
              "      <th>14</th>\n",
              "      <td>provincia_Arequipa</td>\n",
              "      <td>0.005407</td>\n",
              "    </tr>\n",
              "    <tr>\n",
              "      <th>15</th>\n",
              "      <td>provincia_Barranca</td>\n",
              "      <td>0.006818</td>\n",
              "    </tr>\n",
              "    <tr>\n",
              "      <th>16</th>\n",
              "      <td>provincia_Canete</td>\n",
              "      <td>0.004599</td>\n",
              "    </tr>\n",
              "    <tr>\n",
              "      <th>17</th>\n",
              "      <td>provincia_Huamanga</td>\n",
              "      <td>0.014724</td>\n",
              "    </tr>\n",
              "    <tr>\n",
              "      <th>18</th>\n",
              "      <td>provincia_Huancavelica</td>\n",
              "      <td>0.002163</td>\n",
              "    </tr>\n",
              "    <tr>\n",
              "      <th>19</th>\n",
              "      <td>provincia_Huancayo</td>\n",
              "      <td>0.014592</td>\n",
              "    </tr>\n",
              "    <tr>\n",
              "      <th>20</th>\n",
              "      <td>provincia_Huanuco</td>\n",
              "      <td>0.020863</td>\n",
              "    </tr>\n",
              "    <tr>\n",
              "      <th>21</th>\n",
              "      <td>provincia_Huaral</td>\n",
              "      <td>0.009835</td>\n",
              "    </tr>\n",
              "    <tr>\n",
              "      <th>22</th>\n",
              "      <td>provincia_Huaura</td>\n",
              "      <td>0.007818</td>\n",
              "    </tr>\n",
              "    <tr>\n",
              "      <th>23</th>\n",
              "      <td>provincia_Ica</td>\n",
              "      <td>0.006631</td>\n",
              "    </tr>\n",
              "    <tr>\n",
              "      <th>24</th>\n",
              "      <td>provincia_Jauja</td>\n",
              "      <td>0.009874</td>\n",
              "    </tr>\n",
              "    <tr>\n",
              "      <th>25</th>\n",
              "      <td>provincia_Junin</td>\n",
              "      <td>-0.001944</td>\n",
              "    </tr>\n",
              "    <tr>\n",
              "      <th>26</th>\n",
              "      <td>provincia_Lima</td>\n",
              "      <td>-0.000557</td>\n",
              "    </tr>\n",
              "    <tr>\n",
              "      <th>27</th>\n",
              "      <td>provincia_Nazca</td>\n",
              "      <td>0.004726</td>\n",
              "    </tr>\n",
              "    <tr>\n",
              "      <th>28</th>\n",
              "      <td>provincia_Pasco</td>\n",
              "      <td>0.005984</td>\n",
              "    </tr>\n",
              "    <tr>\n",
              "      <th>29</th>\n",
              "      <td>provincia_Tarma</td>\n",
              "      <td>0.007803</td>\n",
              "    </tr>\n",
              "    <tr>\n",
              "      <th>30</th>\n",
              "      <td>provincia_Tayacaja</td>\n",
              "      <td>-0.001530</td>\n",
              "    </tr>\n",
              "  </tbody>\n",
              "</table>\n",
              "</div>\n",
              "      <button class=\"colab-df-convert\" onclick=\"convertToInteractive('df-2ef68c97-bf10-422d-b93d-563db98177b8')\"\n",
              "              title=\"Convert this dataframe to an interactive table.\"\n",
              "              style=\"display:none;\">\n",
              "        \n",
              "  <svg xmlns=\"http://www.w3.org/2000/svg\" height=\"24px\"viewBox=\"0 0 24 24\"\n",
              "       width=\"24px\">\n",
              "    <path d=\"M0 0h24v24H0V0z\" fill=\"none\"/>\n",
              "    <path d=\"M18.56 5.44l.94 2.06.94-2.06 2.06-.94-2.06-.94-.94-2.06-.94 2.06-2.06.94zm-11 1L8.5 8.5l.94-2.06 2.06-.94-2.06-.94L8.5 2.5l-.94 2.06-2.06.94zm10 10l.94 2.06.94-2.06 2.06-.94-2.06-.94-.94-2.06-.94 2.06-2.06.94z\"/><path d=\"M17.41 7.96l-1.37-1.37c-.4-.4-.92-.59-1.43-.59-.52 0-1.04.2-1.43.59L10.3 9.45l-7.72 7.72c-.78.78-.78 2.05 0 2.83L4 21.41c.39.39.9.59 1.41.59.51 0 1.02-.2 1.41-.59l7.78-7.78 2.81-2.81c.8-.78.8-2.07 0-2.86zM5.41 20L4 18.59l7.72-7.72 1.47 1.35L5.41 20z\"/>\n",
              "  </svg>\n",
              "      </button>\n",
              "      \n",
              "  <style>\n",
              "    .colab-df-container {\n",
              "      display:flex;\n",
              "      flex-wrap:wrap;\n",
              "      gap: 12px;\n",
              "    }\n",
              "\n",
              "    .colab-df-convert {\n",
              "      background-color: #E8F0FE;\n",
              "      border: none;\n",
              "      border-radius: 50%;\n",
              "      cursor: pointer;\n",
              "      display: none;\n",
              "      fill: #1967D2;\n",
              "      height: 32px;\n",
              "      padding: 0 0 0 0;\n",
              "      width: 32px;\n",
              "    }\n",
              "\n",
              "    .colab-df-convert:hover {\n",
              "      background-color: #E2EBFA;\n",
              "      box-shadow: 0px 1px 2px rgba(60, 64, 67, 0.3), 0px 1px 3px 1px rgba(60, 64, 67, 0.15);\n",
              "      fill: #174EA6;\n",
              "    }\n",
              "\n",
              "    [theme=dark] .colab-df-convert {\n",
              "      background-color: #3B4455;\n",
              "      fill: #D2E3FC;\n",
              "    }\n",
              "\n",
              "    [theme=dark] .colab-df-convert:hover {\n",
              "      background-color: #434B5C;\n",
              "      box-shadow: 0px 1px 3px 1px rgba(0, 0, 0, 0.15);\n",
              "      filter: drop-shadow(0px 1px 2px rgba(0, 0, 0, 0.3));\n",
              "      fill: #FFFFFF;\n",
              "    }\n",
              "  </style>\n",
              "\n",
              "      <script>\n",
              "        const buttonEl =\n",
              "          document.querySelector('#df-2ef68c97-bf10-422d-b93d-563db98177b8 button.colab-df-convert');\n",
              "        buttonEl.style.display =\n",
              "          google.colab.kernel.accessAllowed ? 'block' : 'none';\n",
              "\n",
              "        async function convertToInteractive(key) {\n",
              "          const element = document.querySelector('#df-2ef68c97-bf10-422d-b93d-563db98177b8');\n",
              "          const dataTable =\n",
              "            await google.colab.kernel.invokeFunction('convertToInteractive',\n",
              "                                                     [key], {});\n",
              "          if (!dataTable) return;\n",
              "\n",
              "          const docLinkHtml = 'Like what you see? Visit the ' +\n",
              "            '<a target=\"_blank\" href=https://colab.research.google.com/notebooks/data_table.ipynb>data table notebook</a>'\n",
              "            + ' to learn more about interactive tables.';\n",
              "          element.innerHTML = '';\n",
              "          dataTable['output_type'] = 'display_data';\n",
              "          await google.colab.output.renderOutput(dataTable, element);\n",
              "          const docLink = document.createElement('div');\n",
              "          docLink.innerHTML = docLinkHtml;\n",
              "          element.appendChild(docLink);\n",
              "        }\n",
              "      </script>\n",
              "    </div>\n",
              "  </div>\n",
              "  "
            ]
          },
          "metadata": {},
          "execution_count": 22
        }
      ]
    },
    {
      "cell_type": "code",
      "source": [
        "resultado.params"
      ],
      "metadata": {
        "id": "7WzX0Z621k3H",
        "outputId": "dffbbff2-ebcd-4718-b82d-ac8f113cfcea",
        "colab": {
          "base_uri": "https://localhost:8080/"
        }
      },
      "execution_count": 23,
      "outputs": [
        {
          "output_type": "execute_result",
          "data": {
            "text/plain": [
              "Intercept                       0.120251\n",
              "C(mes)[T.m_02]                  0.009900\n",
              "C(mes)[T.m_03]                 -0.007097\n",
              "C(mes)[T.m_04]                 -0.032289\n",
              "C(mes)[T.m_05]                 -0.043180\n",
              "C(mes)[T.m_06]                 -0.024947\n",
              "C(mes)[T.m_07]                  0.007323\n",
              "C(mes)[T.m_08]                  0.017514\n",
              "C(mes)[T.m_09]                  0.035329\n",
              "C(mes)[T.m_10]                  0.018418\n",
              "C(mes)[T.m_11]                  0.000331\n",
              "C(mes)[T.m_12]                  0.001811\n",
              "C(provincia)[T.Andahuaylas]     0.002187\n",
              "C(provincia)[T.Arequipa]        0.005407\n",
              "C(provincia)[T.Barranca]        0.006818\n",
              "C(provincia)[T.Canete]          0.004599\n",
              "C(provincia)[T.Huamanga]        0.014724\n",
              "C(provincia)[T.Huancavelica]    0.002163\n",
              "C(provincia)[T.Huancayo]        0.014592\n",
              "C(provincia)[T.Huanuco]         0.020863\n",
              "C(provincia)[T.Huaral]          0.009835\n",
              "C(provincia)[T.Huaura]          0.007818\n",
              "C(provincia)[T.Ica]             0.006631\n",
              "C(provincia)[T.Jauja]           0.009874\n",
              "C(provincia)[T.Junin]          -0.001944\n",
              "C(provincia)[T.Lima]           -0.000557\n",
              "C(provincia)[T.Nazca]           0.004726\n",
              "C(provincia)[T.Pasco]           0.005984\n",
              "C(provincia)[T.Tarma]           0.007803\n",
              "C(provincia)[T.Tayacaja]       -0.001530\n",
              "v_norm                         -0.066967\n",
              "yr_norm                         0.230552\n",
              "dtype: float64"
            ]
          },
          "metadata": {},
          "execution_count": 23
        }
      ]
    },
    {
      "cell_type": "code",
      "source": [
        "coefs"
      ],
      "metadata": {
        "id": "5bzfK47B2KBs"
      },
      "execution_count": null,
      "outputs": []
    }
  ]
}